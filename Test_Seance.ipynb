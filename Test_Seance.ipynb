{
  "nbformat": 4,
  "nbformat_minor": 0,
  "metadata": {
    "colab": {
      "provenance": []
    },
    "kernelspec": {
      "name": "python3",
      "display_name": "Python 3"
    },
    "language_info": {
      "name": "python"
    }
  },
  "cells": [
    {
      "cell_type": "code",
      "source": [
        "pip install Seance"
      ],
      "metadata": {
        "colab": {
          "base_uri": "https://localhost:8080/"
        },
        "id": "SQL8f2mjVv02",
        "outputId": "e2430fd5-554d-4a90-ff99-33999cd5d387"
      },
      "execution_count": 1,
      "outputs": [
        {
          "output_type": "stream",
          "name": "stdout",
          "text": [
            "Collecting Seance\n",
            "  Downloading Seance-0.0.4-py3-none-any.whl (15 kB)\n",
            "Requirement already satisfied: numpy in /usr/local/lib/python3.10/dist-packages (from Seance) (1.22.4)\n",
            "Requirement already satisfied: pandas in /usr/local/lib/python3.10/dist-packages (from Seance) (1.5.3)\n",
            "Collecting optuna (from Seance)\n",
            "  Downloading optuna-3.2.0-py3-none-any.whl (390 kB)\n",
            "\u001b[2K     \u001b[90m━━━━━━━━━━━━━━━━━━━━━━━━━━━━━━━━━━━━━━━\u001b[0m \u001b[32m390.6/390.6 kB\u001b[0m \u001b[31m4.5 MB/s\u001b[0m eta \u001b[36m0:00:00\u001b[0m\n",
            "\u001b[?25hCollecting mlforecast (from Seance)\n",
            "  Downloading mlforecast-0.8.1-py3-none-any.whl (45 kB)\n",
            "\u001b[2K     \u001b[90m━━━━━━━━━━━━━━━━━━━━━━━━━━━━━━━━━━━━━━━━\u001b[0m \u001b[32m45.4/45.4 kB\u001b[0m \u001b[31m3.5 MB/s\u001b[0m eta \u001b[36m0:00:00\u001b[0m\n",
            "\u001b[?25hRequirement already satisfied: numba in /usr/local/lib/python3.10/dist-packages (from mlforecast->Seance) (0.56.4)\n",
            "Requirement already satisfied: scikit-learn in /usr/local/lib/python3.10/dist-packages (from mlforecast->Seance) (1.2.2)\n",
            "Collecting window-ops (from mlforecast->Seance)\n",
            "  Downloading window_ops-0.0.14-py3-none-any.whl (14 kB)\n",
            "Collecting alembic>=1.5.0 (from optuna->Seance)\n",
            "  Downloading alembic-1.11.1-py3-none-any.whl (224 kB)\n",
            "\u001b[2K     \u001b[90m━━━━━━━━━━━━━━━━━━━━━━━━━━━━━━━━━━━━━━━\u001b[0m \u001b[32m224.5/224.5 kB\u001b[0m \u001b[31m5.3 MB/s\u001b[0m eta \u001b[36m0:00:00\u001b[0m\n",
            "\u001b[?25hCollecting cmaes>=0.9.1 (from optuna->Seance)\n",
            "  Downloading cmaes-0.10.0-py3-none-any.whl (29 kB)\n",
            "Collecting colorlog (from optuna->Seance)\n",
            "  Downloading colorlog-6.7.0-py2.py3-none-any.whl (11 kB)\n",
            "Requirement already satisfied: packaging>=20.0 in /usr/local/lib/python3.10/dist-packages (from optuna->Seance) (23.1)\n",
            "Requirement already satisfied: sqlalchemy>=1.3.0 in /usr/local/lib/python3.10/dist-packages (from optuna->Seance) (2.0.19)\n",
            "Requirement already satisfied: tqdm in /usr/local/lib/python3.10/dist-packages (from optuna->Seance) (4.65.0)\n",
            "Requirement already satisfied: PyYAML in /usr/local/lib/python3.10/dist-packages (from optuna->Seance) (6.0.1)\n",
            "Requirement already satisfied: python-dateutil>=2.8.1 in /usr/local/lib/python3.10/dist-packages (from pandas->Seance) (2.8.2)\n",
            "Requirement already satisfied: pytz>=2020.1 in /usr/local/lib/python3.10/dist-packages (from pandas->Seance) (2022.7.1)\n",
            "Collecting Mako (from alembic>=1.5.0->optuna->Seance)\n",
            "  Downloading Mako-1.2.4-py3-none-any.whl (78 kB)\n",
            "\u001b[2K     \u001b[90m━━━━━━━━━━━━━━━━━━━━━━━━━━━━━━━━━━━━━━━━\u001b[0m \u001b[32m78.7/78.7 kB\u001b[0m \u001b[31m3.7 MB/s\u001b[0m eta \u001b[36m0:00:00\u001b[0m\n",
            "\u001b[?25hRequirement already satisfied: typing-extensions>=4 in /usr/local/lib/python3.10/dist-packages (from alembic>=1.5.0->optuna->Seance) (4.7.1)\n",
            "Requirement already satisfied: six>=1.5 in /usr/local/lib/python3.10/dist-packages (from python-dateutil>=2.8.1->pandas->Seance) (1.16.0)\n",
            "Requirement already satisfied: greenlet!=0.4.17 in /usr/local/lib/python3.10/dist-packages (from sqlalchemy>=1.3.0->optuna->Seance) (2.0.2)\n",
            "Requirement already satisfied: llvmlite<0.40,>=0.39.0dev0 in /usr/local/lib/python3.10/dist-packages (from numba->mlforecast->Seance) (0.39.1)\n",
            "Requirement already satisfied: setuptools in /usr/local/lib/python3.10/dist-packages (from numba->mlforecast->Seance) (67.7.2)\n",
            "Requirement already satisfied: scipy>=1.3.2 in /usr/local/lib/python3.10/dist-packages (from scikit-learn->mlforecast->Seance) (1.10.1)\n",
            "Requirement already satisfied: joblib>=1.1.1 in /usr/local/lib/python3.10/dist-packages (from scikit-learn->mlforecast->Seance) (1.3.1)\n",
            "Requirement already satisfied: threadpoolctl>=2.0.0 in /usr/local/lib/python3.10/dist-packages (from scikit-learn->mlforecast->Seance) (3.2.0)\n",
            "Requirement already satisfied: MarkupSafe>=0.9.2 in /usr/local/lib/python3.10/dist-packages (from Mako->alembic>=1.5.0->optuna->Seance) (2.1.3)\n",
            "Installing collected packages: Mako, colorlog, cmaes, window-ops, alembic, optuna, mlforecast, Seance\n",
            "Successfully installed Mako-1.2.4 Seance-0.0.4 alembic-1.11.1 cmaes-0.10.0 colorlog-6.7.0 mlforecast-0.8.1 optuna-3.2.0 window-ops-0.0.14\n"
          ]
        }
      ]
    },
    {
      "cell_type": "code",
      "execution_count": 2,
      "metadata": {
        "id": "ioCAZfBZVrD_"
      },
      "outputs": [],
      "source": [
        "import pandas as pd\n",
        "weekly_train = pd.read_csv(\"https://raw.githubusercontent.com/tblume1992/Functime-Benchmark/main/m4_data/weekly_m4_train.csv\")\n",
        "weekly_test = pd.read_csv(\"https://raw.githubusercontent.com/tblume1992/Functime-Benchmark/main/m4_data/weekly_m4_test.csv\")\n",
        "\n",
        "yearly_train = pd.read_csv(\"https://raw.githubusercontent.com/tblume1992/Functime-Benchmark/main/m4_data/yearly_m4_train.csv\")\n",
        "yearly_test = pd.read_csv(\"https://raw.githubusercontent.com/tblume1992/Functime-Benchmark/main/m4_data/yearly_m4_test.csv\")"
      ]
    },
    {
      "cell_type": "code",
      "source": [
        "from Seance.Optimizer import Optimize\n",
        "from Seance.Forecaster import Forecaster\n",
        "import time"
      ],
      "metadata": {
        "id": "Md6_o3tkV6H6"
      },
      "execution_count": 6,
      "outputs": []
    },
    {
      "cell_type": "code",
      "source": [
        "weekly_train['Datetime'] = pd.to_datetime(weekly_train['Datetime'])\n",
        "weekly_test['Datetime'] = pd.to_datetime(weekly_test['Datetime'])\n",
        "\n",
        "yearly_train['Datetime'] = pd.to_datetime(yearly_train['Datetime'])\n",
        "yearly_test['Datetime'] = pd.to_datetime(yearly_test['Datetime'])"
      ],
      "metadata": {
        "id": "1IohEWysV6wX"
      },
      "execution_count": 4,
      "outputs": []
    },
    {
      "cell_type": "code",
      "source": [
        "tic = time.perf_counter()\n",
        "opt = Optimize(weekly_train[['V', 'Datetime', 'ID']],\n",
        "              target_column='V',\n",
        "              date_column='Datetime',\n",
        "              id_column='ID',\n",
        "              freq='W',\n",
        "              metric='smape',\n",
        "              seasonal_period=[52],\n",
        "              test_size=26,\n",
        "              n_trials=50)\n",
        "best_params, study = opt.fit(seed=1)\n",
        "toc = time.perf_counter()"
      ],
      "metadata": {
        "colab": {
          "base_uri": "https://localhost:8080/"
        },
        "id": "rFdNRFgSWQE3",
        "outputId": "f7cd216a-28b7-4ac3-83cd-ed7b9f7dbc43"
      },
      "execution_count": 11,
      "outputs": [
        {
          "output_type": "stream",
          "name": "stderr",
          "text": [
            "[I 2023-07-24 20:27:24,253] A new study created in memory with name: no-name-78e72ad4-2841-4bcc-8182-8018392aedfa\n",
            "/usr/local/lib/python3.10/dist-packages/optuna/distributions.py:524: UserWarning: Choices for a categorical distribution should be a tuple of None, bool, int, float and str for persistent storage but contains [52] which is of type list.\n",
            "  warnings.warn(message)\n",
            "/usr/local/lib/python3.10/dist-packages/Seance/Builder/PreProcess.py:81: FutureWarning: Not prepending group keys to the result index of transform-like apply. In the future, the group keys will be included in the index, regardless of whether the applied function returns a like-indexed object.\n",
            "To preserve the previous behavior, use\n",
            "\n",
            "\t>>> .groupby(..., group_keys=False)\n",
            "\n",
            "To adopt the future behavior and silence this warning, use \n",
            "\n",
            "\t>>> .groupby(..., group_keys=True)\n",
            "  df = df.groupby('Seance ID').apply(self.trans)\n",
            "/usr/local/lib/python3.10/dist-packages/Seance/Forecaster.py:145: FutureWarning: Not prepending group keys to the result index of transform-like apply. In the future, the group keys will be included in the index, regardless of whether the applied function returns a like-indexed object.\n",
            "To preserve the previous behavior, use\n",
            "\n",
            "\t>>> .groupby(..., group_keys=False)\n",
            "\n",
            "To adopt the future behavior and silence this warning, use \n",
            "\n",
            "\t>>> .groupby(..., group_keys=True)\n",
            "  basis = self.processed_df.groupby('Seance ID')[target_column].apply(self.linear_basis)\n"
          ]
        },
        {
          "output_type": "stream",
          "name": "stdout",
          "text": [
            "[LightGBM] [Warning] lambda_l1 is set=7.203244937218336, reg_alpha=0.0 will be ignored. Current value: lambda_l1=7.203244937218336\n",
            "[LightGBM] [Warning] num_threads is set=1, n_jobs=-1 will be ignored. Current value: num_threads=1\n",
            "[LightGBM] [Warning] bagging_fraction is set=0.636935437907519, subsample=1.0 will be ignored. Current value: bagging_fraction=0.636935437907519\n",
            "[LightGBM] [Warning] lambda_l2 is set=0.001143758172305118, reg_lambda=0.0 will be ignored. Current value: lambda_l2=0.001143758172305118\n",
            "[LightGBM] [Warning] feature_fraction is set=0.6587023563268452, colsample_bytree=1.0 will be ignored. Current value: feature_fraction=0.6587023563268452\n",
            "[LightGBM] [Warning] bagging_freq is set=2, subsample_freq=0 will be ignored. Current value: bagging_freq=2\n"
          ]
        },
        {
          "output_type": "stream",
          "name": "stderr",
          "text": [
            "/usr/local/lib/python3.10/dist-packages/Seance/Forecaster.py:227: FutureWarning: Not prepending group keys to the result index of transform-like apply. In the future, the group keys will be included in the index, regardless of whether the applied function returns a like-indexed object.\n",
            "To preserve the previous behavior, use\n",
            "\n",
            "\t>>> .groupby(..., group_keys=False)\n",
            "\n",
            "To adopt the future behavior and silence this warning, use \n",
            "\n",
            "\t>>> .groupby(..., group_keys=True)\n",
            "  basis = pred_X.groupby('Seance ID').apply(self.future_linear_basis)\n",
            "/usr/local/lib/python3.10/dist-packages/Seance/Forecaster.py:239: FutureWarning: Not prepending group keys to the result index of transform-like apply. In the future, the group keys will be included in the index, regardless of whether the applied function returns a like-indexed object.\n",
            "To preserve the previous behavior, use\n",
            "\n",
            "\t>>> .groupby(..., group_keys=False)\n",
            "\n",
            "To adopt the future behavior and silence this warning, use \n",
            "\n",
            "\t>>> .groupby(..., group_keys=True)\n",
            "  predicted = predicted.groupby('Seance ID').apply(self.inverse_transform)\n",
            "/usr/local/lib/python3.10/dist-packages/Seance/Optimizer.py:105: SettingWithCopyWarning: \n",
            "A value is trying to be set on a copy of a slice from a DataFrame.\n",
            "Try using .loc[row_indexer,col_indexer] = value instead\n",
            "\n",
            "See the caveats in the documentation: https://pandas.pydata.org/pandas-docs/stable/user_guide/indexing.html#returning-a-view-versus-a-copy\n",
            "  self.test_df[self.date_column] = self.test_df[self.date_column].dt.tz_localize(None)\n",
            "[I 2023-07-24 20:27:55,820] Trial 0 finished with value: 13.058619093262507 and parameters: {'n_estimators': 238, 'lambda_l1': 7.203244937218336, 'lambda_l2': 0.001143758172305118, 'num_leaves': 156, 'feature_fraction': 0.6587023563268452, 'bagging_fraction': 0.636935437907519, 'bagging_freq': 2, 'min_child_samples': 35, 'use_id': False, 'objective': 'regression_l1', 'n_basis': 5, 'differences': None, 'decay': 0.9, 'scale_type': 'minmax', 'seasonal_period': [52], 'lags': 6}. Best is trial 0 with value: 13.058619093262507.\n",
            "/usr/local/lib/python3.10/dist-packages/optuna/distributions.py:524: UserWarning: Choices for a categorical distribution should be a tuple of None, bool, int, float and str for persistent storage but contains [52] which is of type list.\n",
            "  warnings.warn(message)\n",
            "/usr/local/lib/python3.10/dist-packages/Seance/Forecaster.py:145: FutureWarning: Not prepending group keys to the result index of transform-like apply. In the future, the group keys will be included in the index, regardless of whether the applied function returns a like-indexed object.\n",
            "To preserve the previous behavior, use\n",
            "\n",
            "\t>>> .groupby(..., group_keys=False)\n",
            "\n",
            "To adopt the future behavior and silence this warning, use \n",
            "\n",
            "\t>>> .groupby(..., group_keys=True)\n",
            "  basis = self.processed_df.groupby('Seance ID')[target_column].apply(self.linear_basis)\n",
            "/usr/local/lib/python3.10/dist-packages/mlforecast/core.py:151: UserWarning: The differences argument is deprecated and will be removed in a future version.\n",
            "Please pass an `mlforecast.target_transforms.Differences` instance to the `target_transforms` argument instead.\n",
            "  warnings.warn(\n"
          ]
        },
        {
          "output_type": "stream",
          "name": "stdout",
          "text": [
            "[LightGBM] [Warning] lambda_l1 is set=9.578895301926124, reg_alpha=0.0 will be ignored. Current value: lambda_l1=9.578895301926124\n",
            "[LightGBM] [Warning] num_threads is set=1, n_jobs=-1 will be ignored. Current value: num_threads=1\n",
            "[LightGBM] [Warning] bagging_fraction is set=0.8746003710726334, subsample=1.0 will be ignored. Current value: bagging_fraction=0.8746003710726334\n",
            "[LightGBM] [Warning] lambda_l2 is set=5.331652854398517, reg_lambda=0.0 will be ignored. Current value: lambda_l2=5.331652854398517\n",
            "[LightGBM] [Warning] feature_fraction is set=0.7262062524024252, colsample_bytree=1.0 will be ignored. Current value: feature_fraction=0.7262062524024252\n",
            "[LightGBM] [Warning] bagging_freq is set=13, subsample_freq=0 will be ignored. Current value: bagging_freq=13\n"
          ]
        },
        {
          "output_type": "stream",
          "name": "stderr",
          "text": [
            "/usr/local/lib/python3.10/dist-packages/Seance/Forecaster.py:227: FutureWarning: Not prepending group keys to the result index of transform-like apply. In the future, the group keys will be included in the index, regardless of whether the applied function returns a like-indexed object.\n",
            "To preserve the previous behavior, use\n",
            "\n",
            "\t>>> .groupby(..., group_keys=False)\n",
            "\n",
            "To adopt the future behavior and silence this warning, use \n",
            "\n",
            "\t>>> .groupby(..., group_keys=True)\n",
            "  basis = pred_X.groupby('Seance ID').apply(self.future_linear_basis)\n",
            "/usr/local/lib/python3.10/dist-packages/Seance/Optimizer.py:105: SettingWithCopyWarning: \n",
            "A value is trying to be set on a copy of a slice from a DataFrame.\n",
            "Try using .loc[row_indexer,col_indexer] = value instead\n",
            "\n",
            "See the caveats in the documentation: https://pandas.pydata.org/pandas-docs/stable/user_guide/indexing.html#returning-a-view-versus-a-copy\n",
            "  self.test_df[self.date_column] = self.test_df[self.date_column].dt.tz_localize(None)\n",
            "[I 2023-07-24 20:28:35,795] Trial 1 finished with value: 12.891796965061118 and parameters: {'n_estimators': 239, 'lambda_l1': 9.578895301926124, 'lambda_l2': 5.331652854398517, 'num_leaves': 355, 'feature_fraction': 0.7262062524024252, 'bagging_fraction': 0.8746003710726334, 'bagging_freq': 13, 'min_child_samples': 2, 'use_id': False, 'objective': 'regression', 'n_basis': 20, 'differences': 1, 'decay': -1, 'scale_type': 'none', 'seasonal_period': None, 'lags': 22}. Best is trial 1 with value: 12.891796965061118.\n",
            "/usr/local/lib/python3.10/dist-packages/optuna/distributions.py:524: UserWarning: Choices for a categorical distribution should be a tuple of None, bool, int, float and str for persistent storage but contains [52] which is of type list.\n",
            "  warnings.warn(message)\n",
            "/usr/local/lib/python3.10/dist-packages/Seance/Builder/PreProcess.py:81: FutureWarning: Not prepending group keys to the result index of transform-like apply. In the future, the group keys will be included in the index, regardless of whether the applied function returns a like-indexed object.\n",
            "To preserve the previous behavior, use\n",
            "\n",
            "\t>>> .groupby(..., group_keys=False)\n",
            "\n",
            "To adopt the future behavior and silence this warning, use \n",
            "\n",
            "\t>>> .groupby(..., group_keys=True)\n",
            "  df = df.groupby('Seance ID').apply(self.trans)\n",
            "/usr/local/lib/python3.10/dist-packages/Seance/Forecaster.py:145: FutureWarning: Not prepending group keys to the result index of transform-like apply. In the future, the group keys will be included in the index, regardless of whether the applied function returns a like-indexed object.\n",
            "To preserve the previous behavior, use\n",
            "\n",
            "\t>>> .groupby(..., group_keys=False)\n",
            "\n",
            "To adopt the future behavior and silence this warning, use \n",
            "\n",
            "\t>>> .groupby(..., group_keys=True)\n",
            "  basis = self.processed_df.groupby('Seance ID')[target_column].apply(self.linear_basis)\n",
            "/usr/local/lib/python3.10/dist-packages/mlforecast/core.py:151: UserWarning: The differences argument is deprecated and will be removed in a future version.\n",
            "Please pass an `mlforecast.target_transforms.Differences` instance to the `target_transforms` argument instead.\n",
            "  warnings.warn(\n"
          ]
        },
        {
          "output_type": "stream",
          "name": "stdout",
          "text": [
            "[LightGBM] [Warning] feature_fraction is set=0.8655178580879155, colsample_bytree=1.0 will be ignored. Current value: feature_fraction=0.8655178580879155\n",
            "[LightGBM] [Warning] lambda_l1 is set=4.141792701127233, reg_alpha=0.0 will be ignored. Current value: lambda_l1=4.141792701127233\n",
            "[LightGBM] [Warning] num_threads is set=1, n_jobs=-1 will be ignored. Current value: num_threads=1\n",
            "[LightGBM] [Warning] bagging_fraction is set=0.8059556448233234, subsample=1.0 will be ignored. Current value: bagging_fraction=0.8059556448233234\n",
            "[LightGBM] [Warning] lambda_l2 is set=0.49953459896133695, reg_lambda=0.0 will be ignored. Current value: lambda_l2=0.49953459896133695\n",
            "[LightGBM] [Warning] bagging_freq is set=15, subsample_freq=0 will be ignored. Current value: bagging_freq=15\n"
          ]
        },
        {
          "output_type": "stream",
          "name": "stderr",
          "text": [
            "/usr/local/lib/python3.10/dist-packages/Seance/Forecaster.py:227: FutureWarning: Not prepending group keys to the result index of transform-like apply. In the future, the group keys will be included in the index, regardless of whether the applied function returns a like-indexed object.\n",
            "To preserve the previous behavior, use\n",
            "\n",
            "\t>>> .groupby(..., group_keys=False)\n",
            "\n",
            "To adopt the future behavior and silence this warning, use \n",
            "\n",
            "\t>>> .groupby(..., group_keys=True)\n",
            "  basis = pred_X.groupby('Seance ID').apply(self.future_linear_basis)\n",
            "/usr/local/lib/python3.10/dist-packages/Seance/Forecaster.py:239: FutureWarning: Not prepending group keys to the result index of transform-like apply. In the future, the group keys will be included in the index, regardless of whether the applied function returns a like-indexed object.\n",
            "To preserve the previous behavior, use\n",
            "\n",
            "\t>>> .groupby(..., group_keys=False)\n",
            "\n",
            "To adopt the future behavior and silence this warning, use \n",
            "\n",
            "\t>>> .groupby(..., group_keys=True)\n",
            "  predicted = predicted.groupby('Seance ID').apply(self.inverse_transform)\n",
            "/usr/local/lib/python3.10/dist-packages/Seance/Optimizer.py:105: SettingWithCopyWarning: \n",
            "A value is trying to be set on a copy of a slice from a DataFrame.\n",
            "Try using .loc[row_indexer,col_indexer] = value instead\n",
            "\n",
            "See the caveats in the documentation: https://pandas.pydata.org/pandas-docs/stable/user_guide/indexing.html#returning-a-view-versus-a-copy\n",
            "  self.test_df[self.date_column] = self.test_df[self.date_column].dt.tz_localize(None)\n",
            "[I 2023-07-24 20:30:16,854] Trial 2 finished with value: 9.64864401287232 and parameters: {'n_estimators': 363, 'lambda_l1': 4.141792701127233, 'lambda_l2': 0.49953459896133695, 'num_leaves': 275, 'feature_fraction': 0.8655178580879155, 'bagging_fraction': 0.8059556448233234, 'bagging_freq': 15, 'min_child_samples': 59, 'use_id': True, 'objective': 'regression_l1', 'n_basis': 10, 'differences': 1, 'decay': 0.25, 'scale_type': 'minmax', 'seasonal_period': [52], 'lags': 24}. Best is trial 2 with value: 9.64864401287232.\n",
            "/usr/local/lib/python3.10/dist-packages/optuna/distributions.py:524: UserWarning: Choices for a categorical distribution should be a tuple of None, bool, int, float and str for persistent storage but contains [52] which is of type list.\n",
            "  warnings.warn(message)\n",
            "/usr/local/lib/python3.10/dist-packages/Seance/Builder/PreProcess.py:81: FutureWarning: Not prepending group keys to the result index of transform-like apply. In the future, the group keys will be included in the index, regardless of whether the applied function returns a like-indexed object.\n",
            "To preserve the previous behavior, use\n",
            "\n",
            "\t>>> .groupby(..., group_keys=False)\n",
            "\n",
            "To adopt the future behavior and silence this warning, use \n",
            "\n",
            "\t>>> .groupby(..., group_keys=True)\n",
            "  df = df.groupby('Seance ID').apply(self.trans)\n",
            "/usr/local/lib/python3.10/dist-packages/Seance/Forecaster.py:145: FutureWarning: Not prepending group keys to the result index of transform-like apply. In the future, the group keys will be included in the index, regardless of whether the applied function returns a like-indexed object.\n",
            "To preserve the previous behavior, use\n",
            "\n",
            "\t>>> .groupby(..., group_keys=False)\n",
            "\n",
            "To adopt the future behavior and silence this warning, use \n",
            "\n",
            "\t>>> .groupby(..., group_keys=True)\n",
            "  basis = self.processed_df.groupby('Seance ID')[target_column].apply(self.linear_basis)\n",
            "/usr/local/lib/python3.10/dist-packages/mlforecast/core.py:151: UserWarning: The differences argument is deprecated and will be removed in a future version.\n",
            "Please pass an `mlforecast.target_transforms.Differences` instance to the `target_transforms` argument instead.\n",
            "  warnings.warn(\n"
          ]
        },
        {
          "output_type": "stream",
          "name": "stdout",
          "text": [
            "[LightGBM] [Warning] lambda_l1 is set=4.081368033531443, reg_alpha=0.0 will be ignored. Current value: lambda_l1=4.081368033531443\n",
            "[LightGBM] [Warning] num_threads is set=1, n_jobs=-1 will be ignored. Current value: num_threads=1\n",
            "[LightGBM] [Warning] bagging_fraction is set=0.6011481308124635, subsample=1.0 will be ignored. Current value: bagging_fraction=0.6011481308124635\n",
            "[LightGBM] [Warning] lambda_l2 is set=2.370269810060007, reg_lambda=0.0 will be ignored. Current value: lambda_l2=2.370269810060007\n",
            "[LightGBM] [Warning] feature_fraction is set=0.8294717946689143, colsample_bytree=1.0 will be ignored. Current value: feature_fraction=0.8294717946689143\n",
            "[LightGBM] [Warning] bagging_freq is set=9, subsample_freq=0 will be ignored. Current value: bagging_freq=9\n"
          ]
        },
        {
          "output_type": "stream",
          "name": "stderr",
          "text": [
            "/usr/local/lib/python3.10/dist-packages/Seance/Forecaster.py:227: FutureWarning: Not prepending group keys to the result index of transform-like apply. In the future, the group keys will be included in the index, regardless of whether the applied function returns a like-indexed object.\n",
            "To preserve the previous behavior, use\n",
            "\n",
            "\t>>> .groupby(..., group_keys=False)\n",
            "\n",
            "To adopt the future behavior and silence this warning, use \n",
            "\n",
            "\t>>> .groupby(..., group_keys=True)\n",
            "  basis = pred_X.groupby('Seance ID').apply(self.future_linear_basis)\n",
            "/usr/local/lib/python3.10/dist-packages/Seance/Forecaster.py:239: FutureWarning: Not prepending group keys to the result index of transform-like apply. In the future, the group keys will be included in the index, regardless of whether the applied function returns a like-indexed object.\n",
            "To preserve the previous behavior, use\n",
            "\n",
            "\t>>> .groupby(..., group_keys=False)\n",
            "\n",
            "To adopt the future behavior and silence this warning, use \n",
            "\n",
            "\t>>> .groupby(..., group_keys=True)\n",
            "  predicted = predicted.groupby('Seance ID').apply(self.inverse_transform)\n",
            "/usr/local/lib/python3.10/dist-packages/Seance/Optimizer.py:105: SettingWithCopyWarning: \n",
            "A value is trying to be set on a copy of a slice from a DataFrame.\n",
            "Try using .loc[row_indexer,col_indexer] = value instead\n",
            "\n",
            "See the caveats in the documentation: https://pandas.pydata.org/pandas-docs/stable/user_guide/indexing.html#returning-a-view-versus-a-copy\n",
            "  self.test_df[self.date_column] = self.test_df[self.date_column].dt.tz_localize(None)\n",
            "[I 2023-07-24 20:31:41,732] Trial 3 finished with value: 10.005390923342931 and parameters: {'n_estimators': 310, 'lambda_l1': 4.081368033531443, 'lambda_l2': 2.370269810060007, 'num_leaves': 463, 'feature_fraction': 0.8294717946689143, 'bagging_fraction': 0.6011481308124635, 'bagging_freq': 9, 'min_child_samples': 33, 'use_id': False, 'objective': 'regression_l1', 'n_basis': 16, 'differences': 1, 'decay': 0.05, 'scale_type': 'standard', 'seasonal_period': [52], 'lags': 14}. Best is trial 2 with value: 9.64864401287232.\n",
            "/usr/local/lib/python3.10/dist-packages/optuna/distributions.py:524: UserWarning: Choices for a categorical distribution should be a tuple of None, bool, int, float and str for persistent storage but contains [52] which is of type list.\n",
            "  warnings.warn(message)\n",
            "/usr/local/lib/python3.10/dist-packages/Seance/Forecaster.py:145: FutureWarning: Not prepending group keys to the result index of transform-like apply. In the future, the group keys will be included in the index, regardless of whether the applied function returns a like-indexed object.\n",
            "To preserve the previous behavior, use\n",
            "\n",
            "\t>>> .groupby(..., group_keys=False)\n",
            "\n",
            "To adopt the future behavior and silence this warning, use \n",
            "\n",
            "\t>>> .groupby(..., group_keys=True)\n",
            "  basis = self.processed_df.groupby('Seance ID')[target_column].apply(self.linear_basis)\n",
            "/usr/local/lib/python3.10/dist-packages/mlforecast/core.py:151: UserWarning: The differences argument is deprecated and will be removed in a future version.\n",
            "Please pass an `mlforecast.target_transforms.Differences` instance to the `target_transforms` argument instead.\n",
            "  warnings.warn(\n"
          ]
        },
        {
          "output_type": "stream",
          "name": "stdout",
          "text": [
            "[LightGBM] [Warning] feature_fraction is set=0.6496693260479645, colsample_bytree=1.0 will be ignored. Current value: feature_fraction=0.6496693260479645\n",
            "[LightGBM] [Warning] lambda_l1 is set=5.3883106480282175, reg_alpha=0.0 will be ignored. Current value: lambda_l1=5.3883106480282175\n",
            "[LightGBM] [Warning] num_threads is set=1, n_jobs=-1 will be ignored. Current value: num_threads=1\n",
            "[LightGBM] [Warning] bagging_fraction is set=0.7116734716044558, subsample=1.0 will be ignored. Current value: bagging_fraction=0.7116734716044558\n",
            "[LightGBM] [Warning] lambda_l2 is set=5.528219791329438, reg_lambda=0.0 will be ignored. Current value: lambda_l2=5.528219791329438\n",
            "[LightGBM] [Warning] bagging_freq is set=9, subsample_freq=0 will be ignored. Current value: bagging_freq=9\n"
          ]
        },
        {
          "output_type": "stream",
          "name": "stderr",
          "text": [
            "/usr/local/lib/python3.10/dist-packages/Seance/Forecaster.py:227: FutureWarning: Not prepending group keys to the result index of transform-like apply. In the future, the group keys will be included in the index, regardless of whether the applied function returns a like-indexed object.\n",
            "To preserve the previous behavior, use\n",
            "\n",
            "\t>>> .groupby(..., group_keys=False)\n",
            "\n",
            "To adopt the future behavior and silence this warning, use \n",
            "\n",
            "\t>>> .groupby(..., group_keys=True)\n",
            "  basis = pred_X.groupby('Seance ID').apply(self.future_linear_basis)\n",
            "/usr/local/lib/python3.10/dist-packages/Seance/Optimizer.py:105: SettingWithCopyWarning: \n",
            "A value is trying to be set on a copy of a slice from a DataFrame.\n",
            "Try using .loc[row_indexer,col_indexer] = value instead\n",
            "\n",
            "See the caveats in the documentation: https://pandas.pydata.org/pandas-docs/stable/user_guide/indexing.html#returning-a-view-versus-a-copy\n",
            "  self.test_df[self.date_column] = self.test_df[self.date_column].dt.tz_localize(None)\n",
            "[I 2023-07-24 20:33:18,382] Trial 4 finished with value: 15.272745564569865 and parameters: {'n_estimators': 437, 'lambda_l1': 5.3883106480282175, 'lambda_l2': 5.528219791329438, 'num_leaves': 432, 'feature_fraction': 0.6496693260479645, 'bagging_fraction': 0.7116734716044558, 'bagging_freq': 9, 'min_child_samples': 97, 'use_id': True, 'objective': 'regression', 'n_basis': 20, 'differences': 1, 'decay': -1, 'scale_type': 'none', 'seasonal_period': None, 'lags': 14}. Best is trial 2 with value: 9.64864401287232.\n",
            "/usr/local/lib/python3.10/dist-packages/optuna/distributions.py:524: UserWarning: Choices for a categorical distribution should be a tuple of None, bool, int, float and str for persistent storage but contains [52] which is of type list.\n",
            "  warnings.warn(message)\n",
            "/usr/local/lib/python3.10/dist-packages/Seance/Forecaster.py:145: FutureWarning: Not prepending group keys to the result index of transform-like apply. In the future, the group keys will be included in the index, regardless of whether the applied function returns a like-indexed object.\n",
            "To preserve the previous behavior, use\n",
            "\n",
            "\t>>> .groupby(..., group_keys=False)\n",
            "\n",
            "To adopt the future behavior and silence this warning, use \n",
            "\n",
            "\t>>> .groupby(..., group_keys=True)\n",
            "  basis = self.processed_df.groupby('Seance ID')[target_column].apply(self.linear_basis)\n"
          ]
        },
        {
          "output_type": "stream",
          "name": "stdout",
          "text": [
            "[LightGBM] [Warning] feature_fraction is set=0.9387315205960141, colsample_bytree=1.0 will be ignored. Current value: feature_fraction=0.9387315205960141\n",
            "[LightGBM] [Warning] lambda_l1 is set=1.954294819138893, reg_alpha=0.0 will be ignored. Current value: lambda_l1=1.954294819138893\n",
            "[LightGBM] [Warning] num_threads is set=1, n_jobs=-1 will be ignored. Current value: num_threads=1\n",
            "[LightGBM] [Warning] bagging_fraction is set=0.6959391036590344, subsample=1.0 will be ignored. Current value: bagging_fraction=0.6959391036590344\n",
            "[LightGBM] [Warning] lambda_l2 is set=5.813589276918988, reg_lambda=0.0 will be ignored. Current value: lambda_l2=5.813589276918988\n",
            "[LightGBM] [Warning] bagging_freq is set=7, subsample_freq=0 will be ignored. Current value: bagging_freq=7\n"
          ]
        },
        {
          "output_type": "stream",
          "name": "stderr",
          "text": [
            "/usr/local/lib/python3.10/dist-packages/Seance/Forecaster.py:227: FutureWarning: Not prepending group keys to the result index of transform-like apply. In the future, the group keys will be included in the index, regardless of whether the applied function returns a like-indexed object.\n",
            "To preserve the previous behavior, use\n",
            "\n",
            "\t>>> .groupby(..., group_keys=False)\n",
            "\n",
            "To adopt the future behavior and silence this warning, use \n",
            "\n",
            "\t>>> .groupby(..., group_keys=True)\n",
            "  basis = pred_X.groupby('Seance ID').apply(self.future_linear_basis)\n",
            "/usr/local/lib/python3.10/dist-packages/Seance/Optimizer.py:105: SettingWithCopyWarning: \n",
            "A value is trying to be set on a copy of a slice from a DataFrame.\n",
            "Try using .loc[row_indexer,col_indexer] = value instead\n",
            "\n",
            "See the caveats in the documentation: https://pandas.pydata.org/pandas-docs/stable/user_guide/indexing.html#returning-a-view-versus-a-copy\n",
            "  self.test_df[self.date_column] = self.test_df[self.date_column].dt.tz_localize(None)\n",
            "[I 2023-07-24 20:36:20,373] Trial 5 finished with value: 10.193381434278034 and parameters: {'n_estimators': 385, 'lambda_l1': 1.954294819138893, 'lambda_l2': 5.813589276918988, 'num_leaves': 497, 'feature_fraction': 0.9387315205960141, 'bagging_fraction': 0.6959391036590344, 'bagging_freq': 7, 'min_child_samples': 62, 'use_id': True, 'objective': 'regression_l1', 'n_basis': 12, 'differences': None, 'decay': 0.05, 'scale_type': 'none', 'seasonal_period': [52], 'lags': 43}. Best is trial 2 with value: 9.64864401287232.\n",
            "/usr/local/lib/python3.10/dist-packages/optuna/distributions.py:524: UserWarning: Choices for a categorical distribution should be a tuple of None, bool, int, float and str for persistent storage but contains [52] which is of type list.\n",
            "  warnings.warn(message)\n",
            "/usr/local/lib/python3.10/dist-packages/Seance/Builder/PreProcess.py:81: FutureWarning: Not prepending group keys to the result index of transform-like apply. In the future, the group keys will be included in the index, regardless of whether the applied function returns a like-indexed object.\n",
            "To preserve the previous behavior, use\n",
            "\n",
            "\t>>> .groupby(..., group_keys=False)\n",
            "\n",
            "To adopt the future behavior and silence this warning, use \n",
            "\n",
            "\t>>> .groupby(..., group_keys=True)\n",
            "  df = df.groupby('Seance ID').apply(self.trans)\n",
            "/usr/local/lib/python3.10/dist-packages/Seance/Forecaster.py:145: FutureWarning: Not prepending group keys to the result index of transform-like apply. In the future, the group keys will be included in the index, regardless of whether the applied function returns a like-indexed object.\n",
            "To preserve the previous behavior, use\n",
            "\n",
            "\t>>> .groupby(..., group_keys=False)\n",
            "\n",
            "To adopt the future behavior and silence this warning, use \n",
            "\n",
            "\t>>> .groupby(..., group_keys=True)\n",
            "  basis = self.processed_df.groupby('Seance ID')[target_column].apply(self.linear_basis)\n",
            "/usr/local/lib/python3.10/dist-packages/mlforecast/core.py:151: UserWarning: The differences argument is deprecated and will be removed in a future version.\n",
            "Please pass an `mlforecast.target_transforms.Differences` instance to the `target_transforms` argument instead.\n",
            "  warnings.warn(\n"
          ]
        },
        {
          "output_type": "stream",
          "name": "stdout",
          "text": [
            "[LightGBM] [Warning] lambda_l1 is set=6.394608812404792, reg_alpha=0.0 will be ignored. Current value: lambda_l1=6.394608812404792\n",
            "[LightGBM] [Warning] num_threads is set=1, n_jobs=-1 will be ignored. Current value: num_threads=1\n",
            "[LightGBM] [Warning] bagging_fraction is set=0.6263844362736095, subsample=1.0 will be ignored. Current value: bagging_fraction=0.6263844362736095\n",
            "[LightGBM] [Warning] lambda_l2 is set=5.246703095990633, reg_lambda=0.0 will be ignored. Current value: lambda_l2=5.246703095990633\n",
            "[LightGBM] [Warning] feature_fraction is set=0.7053187081948444, colsample_bytree=1.0 will be ignored. Current value: feature_fraction=0.7053187081948444\n",
            "[LightGBM] [Warning] bagging_freq is set=11, subsample_freq=0 will be ignored. Current value: bagging_freq=11\n"
          ]
        },
        {
          "output_type": "stream",
          "name": "stderr",
          "text": [
            "/usr/local/lib/python3.10/dist-packages/Seance/Forecaster.py:227: FutureWarning: Not prepending group keys to the result index of transform-like apply. In the future, the group keys will be included in the index, regardless of whether the applied function returns a like-indexed object.\n",
            "To preserve the previous behavior, use\n",
            "\n",
            "\t>>> .groupby(..., group_keys=False)\n",
            "\n",
            "To adopt the future behavior and silence this warning, use \n",
            "\n",
            "\t>>> .groupby(..., group_keys=True)\n",
            "  basis = pred_X.groupby('Seance ID').apply(self.future_linear_basis)\n",
            "/usr/local/lib/python3.10/dist-packages/Seance/Forecaster.py:239: FutureWarning: Not prepending group keys to the result index of transform-like apply. In the future, the group keys will be included in the index, regardless of whether the applied function returns a like-indexed object.\n",
            "To preserve the previous behavior, use\n",
            "\n",
            "\t>>> .groupby(..., group_keys=False)\n",
            "\n",
            "To adopt the future behavior and silence this warning, use \n",
            "\n",
            "\t>>> .groupby(..., group_keys=True)\n",
            "  predicted = predicted.groupby('Seance ID').apply(self.inverse_transform)\n",
            "/usr/local/lib/python3.10/dist-packages/Seance/Optimizer.py:105: SettingWithCopyWarning: \n",
            "A value is trying to be set on a copy of a slice from a DataFrame.\n",
            "Try using .loc[row_indexer,col_indexer] = value instead\n",
            "\n",
            "See the caveats in the documentation: https://pandas.pydata.org/pandas-docs/stable/user_guide/indexing.html#returning-a-view-versus-a-copy\n",
            "  self.test_df[self.date_column] = self.test_df[self.date_column].dt.tz_localize(None)\n",
            "[I 2023-07-24 20:36:51,617] Trial 6 finished with value: 12.982873307118373 and parameters: {'n_estimators': 137, 'lambda_l1': 6.394608812404792, 'lambda_l2': 5.246703095990633, 'num_leaves': 474, 'feature_fraction': 0.7053187081948444, 'bagging_fraction': 0.6263844362736095, 'bagging_freq': 11, 'min_child_samples': 78, 'use_id': False, 'objective': 'regression_l1', 'n_basis': 16, 'differences': 1, 'decay': 0.99, 'scale_type': 'minmax', 'seasonal_period': [52], 'lags': 2}. Best is trial 2 with value: 9.64864401287232.\n",
            "/usr/local/lib/python3.10/dist-packages/optuna/distributions.py:524: UserWarning: Choices for a categorical distribution should be a tuple of None, bool, int, float and str for persistent storage but contains [52] which is of type list.\n",
            "  warnings.warn(message)\n",
            "/usr/local/lib/python3.10/dist-packages/Seance/Builder/PreProcess.py:81: FutureWarning: Not prepending group keys to the result index of transform-like apply. In the future, the group keys will be included in the index, regardless of whether the applied function returns a like-indexed object.\n",
            "To preserve the previous behavior, use\n",
            "\n",
            "\t>>> .groupby(..., group_keys=False)\n",
            "\n",
            "To adopt the future behavior and silence this warning, use \n",
            "\n",
            "\t>>> .groupby(..., group_keys=True)\n",
            "  df = df.groupby('Seance ID').apply(self.trans)\n",
            "/usr/local/lib/python3.10/dist-packages/Seance/Forecaster.py:145: FutureWarning: Not prepending group keys to the result index of transform-like apply. In the future, the group keys will be included in the index, regardless of whether the applied function returns a like-indexed object.\n",
            "To preserve the previous behavior, use\n",
            "\n",
            "\t>>> .groupby(..., group_keys=False)\n",
            "\n",
            "To adopt the future behavior and silence this warning, use \n",
            "\n",
            "\t>>> .groupby(..., group_keys=True)\n",
            "  basis = self.processed_df.groupby('Seance ID')[target_column].apply(self.linear_basis)\n",
            "/usr/local/lib/python3.10/dist-packages/mlforecast/core.py:151: UserWarning: The differences argument is deprecated and will be removed in a future version.\n",
            "Please pass an `mlforecast.target_transforms.Differences` instance to the `target_transforms` argument instead.\n",
            "  warnings.warn(\n"
          ]
        },
        {
          "output_type": "stream",
          "name": "stdout",
          "text": [
            "[LightGBM] [Warning] feature_fraction is set=0.7328254297467348, colsample_bytree=1.0 will be ignored. Current value: feature_fraction=0.7328254297467348\n",
            "[LightGBM] [Warning] lambda_l1 is set=8.27115471343617, reg_alpha=0.0 will be ignored. Current value: lambda_l1=8.27115471343617\n",
            "[LightGBM] [Warning] num_threads is set=1, n_jobs=-1 will be ignored. Current value: num_threads=1\n",
            "[LightGBM] [Warning] bagging_fraction is set=0.6523987379243668, subsample=1.0 will be ignored. Current value: bagging_fraction=0.6523987379243668\n",
            "[LightGBM] [Warning] lambda_l2 is set=0.15018981727103395, reg_lambda=0.0 will be ignored. Current value: lambda_l2=0.15018981727103395\n",
            "[LightGBM] [Warning] bagging_freq is set=12, subsample_freq=0 will be ignored. Current value: bagging_freq=12\n"
          ]
        },
        {
          "output_type": "stream",
          "name": "stderr",
          "text": [
            "/usr/local/lib/python3.10/dist-packages/Seance/Forecaster.py:227: FutureWarning: Not prepending group keys to the result index of transform-like apply. In the future, the group keys will be included in the index, regardless of whether the applied function returns a like-indexed object.\n",
            "To preserve the previous behavior, use\n",
            "\n",
            "\t>>> .groupby(..., group_keys=False)\n",
            "\n",
            "To adopt the future behavior and silence this warning, use \n",
            "\n",
            "\t>>> .groupby(..., group_keys=True)\n",
            "  basis = pred_X.groupby('Seance ID').apply(self.future_linear_basis)\n",
            "/usr/local/lib/python3.10/dist-packages/Seance/Forecaster.py:239: FutureWarning: Not prepending group keys to the result index of transform-like apply. In the future, the group keys will be included in the index, regardless of whether the applied function returns a like-indexed object.\n",
            "To preserve the previous behavior, use\n",
            "\n",
            "\t>>> .groupby(..., group_keys=False)\n",
            "\n",
            "To adopt the future behavior and silence this warning, use \n",
            "\n",
            "\t>>> .groupby(..., group_keys=True)\n",
            "  predicted = predicted.groupby('Seance ID').apply(self.inverse_transform)\n",
            "/usr/local/lib/python3.10/dist-packages/Seance/Optimizer.py:105: SettingWithCopyWarning: \n",
            "A value is trying to be set on a copy of a slice from a DataFrame.\n",
            "Try using .loc[row_indexer,col_indexer] = value instead\n",
            "\n",
            "See the caveats in the documentation: https://pandas.pydata.org/pandas-docs/stable/user_guide/indexing.html#returning-a-view-versus-a-copy\n",
            "  self.test_df[self.date_column] = self.test_df[self.date_column].dt.tz_localize(None)\n",
            "[I 2023-07-24 20:37:33,558] Trial 7 finished with value: 13.175997174287314 and parameters: {'n_estimators': 477, 'lambda_l1': 8.27115471343617, 'lambda_l2': 0.15018981727103395, 'num_leaves': 92, 'feature_fraction': 0.7328254297467348, 'bagging_fraction': 0.6523987379243668, 'bagging_freq': 12, 'min_child_samples': 35, 'use_id': True, 'objective': 'regression', 'n_basis': 23, 'differences': 1, 'decay': 0.99, 'scale_type': 'standard', 'seasonal_period': None, 'lags': 23}. Best is trial 2 with value: 9.64864401287232.\n",
            "/usr/local/lib/python3.10/dist-packages/optuna/distributions.py:524: UserWarning: Choices for a categorical distribution should be a tuple of None, bool, int, float and str for persistent storage but contains [52] which is of type list.\n",
            "  warnings.warn(message)\n",
            "/usr/local/lib/python3.10/dist-packages/Seance/Builder/PreProcess.py:81: FutureWarning: Not prepending group keys to the result index of transform-like apply. In the future, the group keys will be included in the index, regardless of whether the applied function returns a like-indexed object.\n",
            "To preserve the previous behavior, use\n",
            "\n",
            "\t>>> .groupby(..., group_keys=False)\n",
            "\n",
            "To adopt the future behavior and silence this warning, use \n",
            "\n",
            "\t>>> .groupby(..., group_keys=True)\n",
            "  df = df.groupby('Seance ID').apply(self.trans)\n",
            "/usr/local/lib/python3.10/dist-packages/Seance/Forecaster.py:145: FutureWarning: Not prepending group keys to the result index of transform-like apply. In the future, the group keys will be included in the index, regardless of whether the applied function returns a like-indexed object.\n",
            "To preserve the previous behavior, use\n",
            "\n",
            "\t>>> .groupby(..., group_keys=False)\n",
            "\n",
            "To adopt the future behavior and silence this warning, use \n",
            "\n",
            "\t>>> .groupby(..., group_keys=True)\n",
            "  basis = self.processed_df.groupby('Seance ID')[target_column].apply(self.linear_basis)\n"
          ]
        },
        {
          "output_type": "stream",
          "name": "stdout",
          "text": [
            "[LightGBM] [Warning] lambda_l1 is set=9.186017780589241, reg_alpha=0.0 will be ignored. Current value: lambda_l1=9.186017780589241\n",
            "[LightGBM] [Warning] num_threads is set=1, n_jobs=-1 will be ignored. Current value: num_threads=1\n",
            "[LightGBM] [Warning] bagging_fraction is set=0.989513415343329, subsample=1.0 will be ignored. Current value: bagging_fraction=0.989513415343329\n",
            "[LightGBM] [Warning] lambda_l2 is set=0.004020258909554082, reg_lambda=0.0 will be ignored. Current value: lambda_l2=0.004020258909554082\n",
            "[LightGBM] [Warning] feature_fraction is set=0.7506321258983097, colsample_bytree=1.0 will be ignored. Current value: feature_fraction=0.7506321258983097\n",
            "[LightGBM] [Warning] bagging_freq is set=9, subsample_freq=0 will be ignored. Current value: bagging_freq=9\n"
          ]
        },
        {
          "output_type": "stream",
          "name": "stderr",
          "text": [
            "/usr/local/lib/python3.10/dist-packages/Seance/Forecaster.py:227: FutureWarning: Not prepending group keys to the result index of transform-like apply. In the future, the group keys will be included in the index, regardless of whether the applied function returns a like-indexed object.\n",
            "To preserve the previous behavior, use\n",
            "\n",
            "\t>>> .groupby(..., group_keys=False)\n",
            "\n",
            "To adopt the future behavior and silence this warning, use \n",
            "\n",
            "\t>>> .groupby(..., group_keys=True)\n",
            "  basis = pred_X.groupby('Seance ID').apply(self.future_linear_basis)\n",
            "/usr/local/lib/python3.10/dist-packages/Seance/Forecaster.py:239: FutureWarning: Not prepending group keys to the result index of transform-like apply. In the future, the group keys will be included in the index, regardless of whether the applied function returns a like-indexed object.\n",
            "To preserve the previous behavior, use\n",
            "\n",
            "\t>>> .groupby(..., group_keys=False)\n",
            "\n",
            "To adopt the future behavior and silence this warning, use \n",
            "\n",
            "\t>>> .groupby(..., group_keys=True)\n",
            "  predicted = predicted.groupby('Seance ID').apply(self.inverse_transform)\n",
            "/usr/local/lib/python3.10/dist-packages/Seance/Optimizer.py:105: SettingWithCopyWarning: \n",
            "A value is trying to be set on a copy of a slice from a DataFrame.\n",
            "Try using .loc[row_indexer,col_indexer] = value instead\n",
            "\n",
            "See the caveats in the documentation: https://pandas.pydata.org/pandas-docs/stable/user_guide/indexing.html#returning-a-view-versus-a-copy\n",
            "  self.test_df[self.date_column] = self.test_df[self.date_column].dt.tz_localize(None)\n",
            "[I 2023-07-24 20:39:35,735] Trial 8 finished with value: 12.494008986128929 and parameters: {'n_estimators': 356, 'lambda_l1': 9.186017780589241, 'lambda_l2': 0.004020258909554082, 'num_leaves': 501, 'feature_fraction': 0.7506321258983097, 'bagging_fraction': 0.989513415343329, 'bagging_freq': 9, 'min_child_samples': 83, 'use_id': False, 'objective': 'regression_l1', 'n_basis': 19, 'differences': None, 'decay': 0.05, 'scale_type': 'robust_boxcox', 'seasonal_period': [52], 'lags': 19}. Best is trial 2 with value: 9.64864401287232.\n",
            "/usr/local/lib/python3.10/dist-packages/optuna/distributions.py:524: UserWarning: Choices for a categorical distribution should be a tuple of None, bool, int, float and str for persistent storage but contains [52] which is of type list.\n",
            "  warnings.warn(message)\n",
            "/usr/local/lib/python3.10/dist-packages/Seance/Builder/PreProcess.py:81: FutureWarning: Not prepending group keys to the result index of transform-like apply. In the future, the group keys will be included in the index, regardless of whether the applied function returns a like-indexed object.\n",
            "To preserve the previous behavior, use\n",
            "\n",
            "\t>>> .groupby(..., group_keys=False)\n",
            "\n",
            "To adopt the future behavior and silence this warning, use \n",
            "\n",
            "\t>>> .groupby(..., group_keys=True)\n",
            "  df = df.groupby('Seance ID').apply(self.trans)\n",
            "/usr/local/lib/python3.10/dist-packages/Seance/Forecaster.py:145: FutureWarning: Not prepending group keys to the result index of transform-like apply. In the future, the group keys will be included in the index, regardless of whether the applied function returns a like-indexed object.\n",
            "To preserve the previous behavior, use\n",
            "\n",
            "\t>>> .groupby(..., group_keys=False)\n",
            "\n",
            "To adopt the future behavior and silence this warning, use \n",
            "\n",
            "\t>>> .groupby(..., group_keys=True)\n",
            "  basis = self.processed_df.groupby('Seance ID')[target_column].apply(self.linear_basis)\n"
          ]
        },
        {
          "output_type": "stream",
          "name": "stdout",
          "text": [
            "[LightGBM] [Warning] feature_fraction is set=0.7080833048119031, colsample_bytree=1.0 will be ignored. Current value: feature_fraction=0.7080833048119031\n",
            "[LightGBM] [Warning] lambda_l1 is set=8.799982886834336, reg_alpha=0.0 will be ignored. Current value: lambda_l1=8.799982886834336\n",
            "[LightGBM] [Warning] num_threads is set=1, n_jobs=-1 will be ignored. Current value: num_threads=1\n",
            "[LightGBM] [Warning] bagging_fraction is set=0.7009466806018358, subsample=1.0 will be ignored. Current value: bagging_fraction=0.7009466806018358\n",
            "[LightGBM] [Warning] lambda_l2 is set=9.0384195592253, reg_lambda=0.0 will be ignored. Current value: lambda_l2=9.0384195592253\n",
            "[LightGBM] [Warning] bagging_freq is set=13, subsample_freq=0 will be ignored. Current value: bagging_freq=13\n"
          ]
        },
        {
          "output_type": "stream",
          "name": "stderr",
          "text": [
            "/usr/local/lib/python3.10/dist-packages/Seance/Forecaster.py:227: FutureWarning: Not prepending group keys to the result index of transform-like apply. In the future, the group keys will be included in the index, regardless of whether the applied function returns a like-indexed object.\n",
            "To preserve the previous behavior, use\n",
            "\n",
            "\t>>> .groupby(..., group_keys=False)\n",
            "\n",
            "To adopt the future behavior and silence this warning, use \n",
            "\n",
            "\t>>> .groupby(..., group_keys=True)\n",
            "  basis = pred_X.groupby('Seance ID').apply(self.future_linear_basis)\n",
            "/usr/local/lib/python3.10/dist-packages/Seance/Forecaster.py:239: FutureWarning: Not prepending group keys to the result index of transform-like apply. In the future, the group keys will be included in the index, regardless of whether the applied function returns a like-indexed object.\n",
            "To preserve the previous behavior, use\n",
            "\n",
            "\t>>> .groupby(..., group_keys=False)\n",
            "\n",
            "To adopt the future behavior and silence this warning, use \n",
            "\n",
            "\t>>> .groupby(..., group_keys=True)\n",
            "  predicted = predicted.groupby('Seance ID').apply(self.inverse_transform)\n",
            "/usr/local/lib/python3.10/dist-packages/Seance/Optimizer.py:105: SettingWithCopyWarning: \n",
            "A value is trying to be set on a copy of a slice from a DataFrame.\n",
            "Try using .loc[row_indexer,col_indexer] = value instead\n",
            "\n",
            "See the caveats in the documentation: https://pandas.pydata.org/pandas-docs/stable/user_guide/indexing.html#returning-a-view-versus-a-copy\n",
            "  self.test_df[self.date_column] = self.test_df[self.date_column].dt.tz_localize(None)\n",
            "[I 2023-07-24 20:40:46,180] Trial 9 finished with value: 9.943700632041688 and parameters: {'n_estimators': 409, 'lambda_l1': 8.799982886834336, 'lambda_l2': 9.0384195592253, 'num_leaves': 340, 'feature_fraction': 0.7080833048119031, 'bagging_fraction': 0.7009466806018358, 'bagging_freq': 13, 'min_child_samples': 53, 'use_id': True, 'objective': 'regression', 'n_basis': 20, 'differences': None, 'decay': 0.5, 'scale_type': 'log', 'seasonal_period': [52], 'lags': 17}. Best is trial 2 with value: 9.64864401287232.\n",
            "/usr/local/lib/python3.10/dist-packages/optuna/distributions.py:524: UserWarning: Choices for a categorical distribution should be a tuple of None, bool, int, float and str for persistent storage but contains [52] which is of type list.\n",
            "  warnings.warn(message)\n",
            "/usr/local/lib/python3.10/dist-packages/Seance/Builder/PreProcess.py:81: FutureWarning: Not prepending group keys to the result index of transform-like apply. In the future, the group keys will be included in the index, regardless of whether the applied function returns a like-indexed object.\n",
            "To preserve the previous behavior, use\n",
            "\n",
            "\t>>> .groupby(..., group_keys=False)\n",
            "\n",
            "To adopt the future behavior and silence this warning, use \n",
            "\n",
            "\t>>> .groupby(..., group_keys=True)\n",
            "  df = df.groupby('Seance ID').apply(self.trans)\n",
            "/usr/local/lib/python3.10/dist-packages/Seance/Forecaster.py:145: FutureWarning: Not prepending group keys to the result index of transform-like apply. In the future, the group keys will be included in the index, regardless of whether the applied function returns a like-indexed object.\n",
            "To preserve the previous behavior, use\n",
            "\n",
            "\t>>> .groupby(..., group_keys=False)\n",
            "\n",
            "To adopt the future behavior and silence this warning, use \n",
            "\n",
            "\t>>> .groupby(..., group_keys=True)\n",
            "  basis = self.processed_df.groupby('Seance ID')[target_column].apply(self.linear_basis)\n",
            "/usr/local/lib/python3.10/dist-packages/mlforecast/core.py:151: UserWarning: The differences argument is deprecated and will be removed in a future version.\n",
            "Please pass an `mlforecast.target_transforms.Differences` instance to the `target_transforms` argument instead.\n",
            "  warnings.warn(\n"
          ]
        },
        {
          "output_type": "stream",
          "name": "stdout",
          "text": [
            "[LightGBM] [Warning] feature_fraction is set=0.8688582200077184, colsample_bytree=1.0 will be ignored. Current value: feature_fraction=0.8688582200077184\n",
            "[LightGBM] [Warning] lambda_l1 is set=1.2135737362221155, reg_alpha=0.0 will be ignored. Current value: lambda_l1=1.2135737362221155\n",
            "[LightGBM] [Warning] num_threads is set=1, n_jobs=-1 will be ignored. Current value: num_threads=1\n",
            "[LightGBM] [Warning] bagging_fraction is set=0.8106420214802393, subsample=1.0 will be ignored. Current value: bagging_fraction=0.8106420214802393\n",
            "[LightGBM] [Warning] lambda_l2 is set=2.5393999921922368, reg_lambda=0.0 will be ignored. Current value: lambda_l2=2.5393999921922368\n",
            "[LightGBM] [Warning] bagging_freq is set=4, subsample_freq=0 will be ignored. Current value: bagging_freq=4\n"
          ]
        },
        {
          "output_type": "stream",
          "name": "stderr",
          "text": [
            "/usr/local/lib/python3.10/dist-packages/Seance/Forecaster.py:227: FutureWarning: Not prepending group keys to the result index of transform-like apply. In the future, the group keys will be included in the index, regardless of whether the applied function returns a like-indexed object.\n",
            "To preserve the previous behavior, use\n",
            "\n",
            "\t>>> .groupby(..., group_keys=False)\n",
            "\n",
            "To adopt the future behavior and silence this warning, use \n",
            "\n",
            "\t>>> .groupby(..., group_keys=True)\n",
            "  basis = pred_X.groupby('Seance ID').apply(self.future_linear_basis)\n",
            "/usr/local/lib/python3.10/dist-packages/Seance/Forecaster.py:239: FutureWarning: Not prepending group keys to the result index of transform-like apply. In the future, the group keys will be included in the index, regardless of whether the applied function returns a like-indexed object.\n",
            "To preserve the previous behavior, use\n",
            "\n",
            "\t>>> .groupby(..., group_keys=False)\n",
            "\n",
            "To adopt the future behavior and silence this warning, use \n",
            "\n",
            "\t>>> .groupby(..., group_keys=True)\n",
            "  predicted = predicted.groupby('Seance ID').apply(self.inverse_transform)\n",
            "/usr/local/lib/python3.10/dist-packages/Seance/Optimizer.py:105: SettingWithCopyWarning: \n",
            "A value is trying to be set on a copy of a slice from a DataFrame.\n",
            "Try using .loc[row_indexer,col_indexer] = value instead\n",
            "\n",
            "See the caveats in the documentation: https://pandas.pydata.org/pandas-docs/stable/user_guide/indexing.html#returning-a-view-versus-a-copy\n",
            "  self.test_df[self.date_column] = self.test_df[self.date_column].dt.tz_localize(None)\n",
            "[I 2023-07-24 20:41:09,891] Trial 10 finished with value: 10.172115723865094 and parameters: {'n_estimators': 87, 'lambda_l1': 1.2135737362221155, 'lambda_l2': 2.5393999921922368, 'num_leaves': 224, 'feature_fraction': 0.8688582200077184, 'bagging_fraction': 0.8106420214802393, 'bagging_freq': 4, 'min_child_samples': 4, 'use_id': True, 'objective': 'regression_l1', 'n_basis': 1, 'differences': 1, 'decay': 0.25, 'scale_type': 'minmax', 'seasonal_period': None, 'lags': 38}. Best is trial 2 with value: 9.64864401287232.\n",
            "/usr/local/lib/python3.10/dist-packages/optuna/distributions.py:524: UserWarning: Choices for a categorical distribution should be a tuple of None, bool, int, float and str for persistent storage but contains [52] which is of type list.\n",
            "  warnings.warn(message)\n",
            "/usr/local/lib/python3.10/dist-packages/Seance/Builder/PreProcess.py:81: FutureWarning: Not prepending group keys to the result index of transform-like apply. In the future, the group keys will be included in the index, regardless of whether the applied function returns a like-indexed object.\n",
            "To preserve the previous behavior, use\n",
            "\n",
            "\t>>> .groupby(..., group_keys=False)\n",
            "\n",
            "To adopt the future behavior and silence this warning, use \n",
            "\n",
            "\t>>> .groupby(..., group_keys=True)\n",
            "  df = df.groupby('Seance ID').apply(self.trans)\n",
            "/usr/local/lib/python3.10/dist-packages/Seance/Forecaster.py:145: FutureWarning: Not prepending group keys to the result index of transform-like apply. In the future, the group keys will be included in the index, regardless of whether the applied function returns a like-indexed object.\n",
            "To preserve the previous behavior, use\n",
            "\n",
            "\t>>> .groupby(..., group_keys=False)\n",
            "\n",
            "To adopt the future behavior and silence this warning, use \n",
            "\n",
            "\t>>> .groupby(..., group_keys=True)\n",
            "  basis = self.processed_df.groupby('Seance ID')[target_column].apply(self.linear_basis)\n"
          ]
        },
        {
          "output_type": "stream",
          "name": "stdout",
          "text": [
            "[LightGBM] [Warning] feature_fraction is set=0.8064291320213958, colsample_bytree=1.0 will be ignored. Current value: feature_fraction=0.8064291320213958\n",
            "[LightGBM] [Warning] lambda_l1 is set=4.002592368216576, reg_alpha=0.0 will be ignored. Current value: lambda_l1=4.002592368216576\n",
            "[LightGBM] [Warning] num_threads is set=1, n_jobs=-1 will be ignored. Current value: num_threads=1\n",
            "[LightGBM] [Warning] bagging_fraction is set=0.7698929119194193, subsample=1.0 will be ignored. Current value: bagging_fraction=0.7698929119194193\n",
            "[LightGBM] [Warning] lambda_l2 is set=9.471170392001724, reg_lambda=0.0 will be ignored. Current value: lambda_l2=9.471170392001724\n",
            "[LightGBM] [Warning] bagging_freq is set=15, subsample_freq=0 will be ignored. Current value: bagging_freq=15\n"
          ]
        },
        {
          "output_type": "stream",
          "name": "stderr",
          "text": [
            "/usr/local/lib/python3.10/dist-packages/Seance/Forecaster.py:227: FutureWarning: Not prepending group keys to the result index of transform-like apply. In the future, the group keys will be included in the index, regardless of whether the applied function returns a like-indexed object.\n",
            "To preserve the previous behavior, use\n",
            "\n",
            "\t>>> .groupby(..., group_keys=False)\n",
            "\n",
            "To adopt the future behavior and silence this warning, use \n",
            "\n",
            "\t>>> .groupby(..., group_keys=True)\n",
            "  basis = pred_X.groupby('Seance ID').apply(self.future_linear_basis)\n",
            "/usr/local/lib/python3.10/dist-packages/Seance/Forecaster.py:239: FutureWarning: Not prepending group keys to the result index of transform-like apply. In the future, the group keys will be included in the index, regardless of whether the applied function returns a like-indexed object.\n",
            "To preserve the previous behavior, use\n",
            "\n",
            "\t>>> .groupby(..., group_keys=False)\n",
            "\n",
            "To adopt the future behavior and silence this warning, use \n",
            "\n",
            "\t>>> .groupby(..., group_keys=True)\n",
            "  predicted = predicted.groupby('Seance ID').apply(self.inverse_transform)\n",
            "/usr/local/lib/python3.10/dist-packages/Seance/Optimizer.py:105: SettingWithCopyWarning: \n",
            "A value is trying to be set on a copy of a slice from a DataFrame.\n",
            "Try using .loc[row_indexer,col_indexer] = value instead\n",
            "\n",
            "See the caveats in the documentation: https://pandas.pydata.org/pandas-docs/stable/user_guide/indexing.html#returning-a-view-versus-a-copy\n",
            "  self.test_df[self.date_column] = self.test_df[self.date_column].dt.tz_localize(None)\n",
            "[I 2023-07-24 20:42:37,431] Trial 11 finished with value: 10.500982359570205 and parameters: {'n_estimators': 399, 'lambda_l1': 4.002592368216576, 'lambda_l2': 9.471170392001724, 'num_leaves': 320, 'feature_fraction': 0.8064291320213958, 'bagging_fraction': 0.7698929119194193, 'bagging_freq': 15, 'min_child_samples': 57, 'use_id': True, 'objective': 'regression', 'n_basis': 9, 'differences': None, 'decay': 0.5, 'scale_type': 'log', 'seasonal_period': [52], 'lags': 32}. Best is trial 2 with value: 9.64864401287232.\n",
            "/usr/local/lib/python3.10/dist-packages/optuna/distributions.py:524: UserWarning: Choices for a categorical distribution should be a tuple of None, bool, int, float and str for persistent storage but contains [52] which is of type list.\n",
            "  warnings.warn(message)\n",
            "/usr/local/lib/python3.10/dist-packages/Seance/Builder/PreProcess.py:81: FutureWarning: Not prepending group keys to the result index of transform-like apply. In the future, the group keys will be included in the index, regardless of whether the applied function returns a like-indexed object.\n",
            "To preserve the previous behavior, use\n",
            "\n",
            "\t>>> .groupby(..., group_keys=False)\n",
            "\n",
            "To adopt the future behavior and silence this warning, use \n",
            "\n",
            "\t>>> .groupby(..., group_keys=True)\n",
            "  df = df.groupby('Seance ID').apply(self.trans)\n",
            "/usr/local/lib/python3.10/dist-packages/Seance/Forecaster.py:145: FutureWarning: Not prepending group keys to the result index of transform-like apply. In the future, the group keys will be included in the index, regardless of whether the applied function returns a like-indexed object.\n",
            "To preserve the previous behavior, use\n",
            "\n",
            "\t>>> .groupby(..., group_keys=False)\n",
            "\n",
            "To adopt the future behavior and silence this warning, use \n",
            "\n",
            "\t>>> .groupby(..., group_keys=True)\n",
            "  basis = self.processed_df.groupby('Seance ID')[target_column].apply(self.linear_basis)\n"
          ]
        },
        {
          "output_type": "stream",
          "name": "stdout",
          "text": [
            "[LightGBM] [Warning] feature_fraction is set=0.6149465366797209, colsample_bytree=1.0 will be ignored. Current value: feature_fraction=0.6149465366797209\n",
            "[LightGBM] [Warning] lambda_l1 is set=7.669395965062032, reg_alpha=0.0 will be ignored. Current value: lambda_l1=7.669395965062032\n",
            "[LightGBM] [Warning] num_threads is set=1, n_jobs=-1 will be ignored. Current value: num_threads=1\n",
            "[LightGBM] [Warning] bagging_fraction is set=0.7598679518256312, subsample=1.0 will be ignored. Current value: bagging_fraction=0.7598679518256312\n",
            "[LightGBM] [Warning] lambda_l2 is set=9.654904195308722, reg_lambda=0.0 will be ignored. Current value: lambda_l2=9.654904195308722\n",
            "[LightGBM] [Warning] bagging_freq is set=15, subsample_freq=0 will be ignored. Current value: bagging_freq=15\n"
          ]
        },
        {
          "output_type": "stream",
          "name": "stderr",
          "text": [
            "/usr/local/lib/python3.10/dist-packages/Seance/Forecaster.py:227: FutureWarning: Not prepending group keys to the result index of transform-like apply. In the future, the group keys will be included in the index, regardless of whether the applied function returns a like-indexed object.\n",
            "To preserve the previous behavior, use\n",
            "\n",
            "\t>>> .groupby(..., group_keys=False)\n",
            "\n",
            "To adopt the future behavior and silence this warning, use \n",
            "\n",
            "\t>>> .groupby(..., group_keys=True)\n",
            "  basis = pred_X.groupby('Seance ID').apply(self.future_linear_basis)\n",
            "/usr/local/lib/python3.10/dist-packages/Seance/Forecaster.py:239: FutureWarning: Not prepending group keys to the result index of transform-like apply. In the future, the group keys will be included in the index, regardless of whether the applied function returns a like-indexed object.\n",
            "To preserve the previous behavior, use\n",
            "\n",
            "\t>>> .groupby(..., group_keys=False)\n",
            "\n",
            "To adopt the future behavior and silence this warning, use \n",
            "\n",
            "\t>>> .groupby(..., group_keys=True)\n",
            "  predicted = predicted.groupby('Seance ID').apply(self.inverse_transform)\n",
            "/usr/local/lib/python3.10/dist-packages/Seance/Optimizer.py:105: SettingWithCopyWarning: \n",
            "A value is trying to be set on a copy of a slice from a DataFrame.\n",
            "Try using .loc[row_indexer,col_indexer] = value instead\n",
            "\n",
            "See the caveats in the documentation: https://pandas.pydata.org/pandas-docs/stable/user_guide/indexing.html#returning-a-view-versus-a-copy\n",
            "  self.test_df[self.date_column] = self.test_df[self.date_column].dt.tz_localize(None)\n",
            "[I 2023-07-24 20:43:30,561] Trial 12 finished with value: 11.317881196547825 and parameters: {'n_estimators': 310, 'lambda_l1': 7.669395965062032, 'lambda_l2': 9.654904195308722, 'num_leaves': 270, 'feature_fraction': 0.6149465366797209, 'bagging_fraction': 0.7598679518256312, 'bagging_freq': 15, 'min_child_samples': 47, 'use_id': True, 'objective': 'regression', 'n_basis': 9, 'differences': None, 'decay': 0.25, 'scale_type': 'log', 'seasonal_period': [52], 'lags': 30}. Best is trial 2 with value: 9.64864401287232.\n",
            "/usr/local/lib/python3.10/dist-packages/optuna/distributions.py:524: UserWarning: Choices for a categorical distribution should be a tuple of None, bool, int, float and str for persistent storage but contains [52] which is of type list.\n",
            "  warnings.warn(message)\n",
            "/usr/local/lib/python3.10/dist-packages/Seance/Builder/PreProcess.py:81: FutureWarning: Not prepending group keys to the result index of transform-like apply. In the future, the group keys will be included in the index, regardless of whether the applied function returns a like-indexed object.\n",
            "To preserve the previous behavior, use\n",
            "\n",
            "\t>>> .groupby(..., group_keys=False)\n",
            "\n",
            "To adopt the future behavior and silence this warning, use \n",
            "\n",
            "\t>>> .groupby(..., group_keys=True)\n",
            "  df = df.groupby('Seance ID').apply(self.trans)\n",
            "/usr/local/lib/python3.10/dist-packages/Seance/Forecaster.py:145: FutureWarning: Not prepending group keys to the result index of transform-like apply. In the future, the group keys will be included in the index, regardless of whether the applied function returns a like-indexed object.\n",
            "To preserve the previous behavior, use\n",
            "\n",
            "\t>>> .groupby(..., group_keys=False)\n",
            "\n",
            "To adopt the future behavior and silence this warning, use \n",
            "\n",
            "\t>>> .groupby(..., group_keys=True)\n",
            "  basis = self.processed_df.groupby('Seance ID')[target_column].apply(self.linear_basis)\n"
          ]
        },
        {
          "output_type": "stream",
          "name": "stdout",
          "text": [
            "[LightGBM] [Warning] feature_fraction is set=0.8987462281287008, colsample_bytree=1.0 will be ignored. Current value: feature_fraction=0.8987462281287008\n",
            "[LightGBM] [Warning] lambda_l1 is set=9.908462814167606, reg_alpha=0.0 will be ignored. Current value: lambda_l1=9.908462814167606\n",
            "[LightGBM] [Warning] num_threads is set=1, n_jobs=-1 will be ignored. Current value: num_threads=1\n",
            "[LightGBM] [Warning] bagging_fraction is set=0.8101111188270982, subsample=1.0 will be ignored. Current value: bagging_fraction=0.8101111188270982\n",
            "[LightGBM] [Warning] lambda_l2 is set=7.844603093586531, reg_lambda=0.0 will be ignored. Current value: lambda_l2=7.844603093586531\n",
            "[LightGBM] [Warning] bagging_freq is set=15, subsample_freq=0 will be ignored. Current value: bagging_freq=15\n"
          ]
        },
        {
          "output_type": "stream",
          "name": "stderr",
          "text": [
            "/usr/local/lib/python3.10/dist-packages/Seance/Forecaster.py:227: FutureWarning: Not prepending group keys to the result index of transform-like apply. In the future, the group keys will be included in the index, regardless of whether the applied function returns a like-indexed object.\n",
            "To preserve the previous behavior, use\n",
            "\n",
            "\t>>> .groupby(..., group_keys=False)\n",
            "\n",
            "To adopt the future behavior and silence this warning, use \n",
            "\n",
            "\t>>> .groupby(..., group_keys=True)\n",
            "  basis = pred_X.groupby('Seance ID').apply(self.future_linear_basis)\n",
            "/usr/local/lib/python3.10/dist-packages/Seance/Forecaster.py:239: FutureWarning: Not prepending group keys to the result index of transform-like apply. In the future, the group keys will be included in the index, regardless of whether the applied function returns a like-indexed object.\n",
            "To preserve the previous behavior, use\n",
            "\n",
            "\t>>> .groupby(..., group_keys=False)\n",
            "\n",
            "To adopt the future behavior and silence this warning, use \n",
            "\n",
            "\t>>> .groupby(..., group_keys=True)\n",
            "  predicted = predicted.groupby('Seance ID').apply(self.inverse_transform)\n",
            "/usr/local/lib/python3.10/dist-packages/Seance/Optimizer.py:105: SettingWithCopyWarning: \n",
            "A value is trying to be set on a copy of a slice from a DataFrame.\n",
            "Try using .loc[row_indexer,col_indexer] = value instead\n",
            "\n",
            "See the caveats in the documentation: https://pandas.pydata.org/pandas-docs/stable/user_guide/indexing.html#returning-a-view-versus-a-copy\n",
            "  self.test_df[self.date_column] = self.test_df[self.date_column].dt.tz_localize(None)\n",
            "[I 2023-07-24 20:45:21,640] Trial 13 finished with value: 10.32099024148562 and parameters: {'n_estimators': 492, 'lambda_l1': 9.908462814167606, 'lambda_l2': 7.844603093586531, 'num_leaves': 346, 'feature_fraction': 0.8987462281287008, 'bagging_fraction': 0.8101111188270982, 'bagging_freq': 15, 'min_child_samples': 70, 'use_id': True, 'objective': 'regression', 'n_basis': 24, 'differences': None, 'decay': 0.5, 'scale_type': 'log', 'seasonal_period': [52], 'lags': 12}. Best is trial 2 with value: 9.64864401287232.\n",
            "/usr/local/lib/python3.10/dist-packages/optuna/distributions.py:524: UserWarning: Choices for a categorical distribution should be a tuple of None, bool, int, float and str for persistent storage but contains [52] which is of type list.\n",
            "  warnings.warn(message)\n",
            "/usr/local/lib/python3.10/dist-packages/Seance/Builder/PreProcess.py:81: FutureWarning: Not prepending group keys to the result index of transform-like apply. In the future, the group keys will be included in the index, regardless of whether the applied function returns a like-indexed object.\n",
            "To preserve the previous behavior, use\n",
            "\n",
            "\t>>> .groupby(..., group_keys=False)\n",
            "\n",
            "To adopt the future behavior and silence this warning, use \n",
            "\n",
            "\t>>> .groupby(..., group_keys=True)\n",
            "  df = df.groupby('Seance ID').apply(self.trans)\n",
            "/usr/local/lib/python3.10/dist-packages/Seance/Forecaster.py:145: FutureWarning: Not prepending group keys to the result index of transform-like apply. In the future, the group keys will be included in the index, regardless of whether the applied function returns a like-indexed object.\n",
            "To preserve the previous behavior, use\n",
            "\n",
            "\t>>> .groupby(..., group_keys=False)\n",
            "\n",
            "To adopt the future behavior and silence this warning, use \n",
            "\n",
            "\t>>> .groupby(..., group_keys=True)\n",
            "  basis = self.processed_df.groupby('Seance ID')[target_column].apply(self.linear_basis)\n",
            "/usr/local/lib/python3.10/dist-packages/mlforecast/core.py:151: UserWarning: The differences argument is deprecated and will be removed in a future version.\n",
            "Please pass an `mlforecast.target_transforms.Differences` instance to the `target_transforms` argument instead.\n",
            "  warnings.warn(\n"
          ]
        },
        {
          "output_type": "stream",
          "name": "stdout",
          "text": [
            "[LightGBM] [Warning] feature_fraction is set=0.9907829846834925, colsample_bytree=1.0 will be ignored. Current value: feature_fraction=0.9907829846834925\n",
            "[LightGBM] [Warning] lambda_l1 is set=6.1037443295253855, reg_alpha=0.0 will be ignored. Current value: lambda_l1=6.1037443295253855\n",
            "[LightGBM] [Warning] num_threads is set=1, n_jobs=-1 will be ignored. Current value: num_threads=1\n",
            "[LightGBM] [Warning] bagging_fraction is set=0.7089315090865669, subsample=1.0 will be ignored. Current value: bagging_fraction=0.7089315090865669\n",
            "[LightGBM] [Warning] lambda_l2 is set=7.347874574146522, reg_lambda=0.0 will be ignored. Current value: lambda_l2=7.347874574146522\n",
            "[LightGBM] [Warning] bagging_freq is set=13, subsample_freq=0 will be ignored. Current value: bagging_freq=13\n"
          ]
        },
        {
          "output_type": "stream",
          "name": "stderr",
          "text": [
            "/usr/local/lib/python3.10/dist-packages/Seance/Forecaster.py:227: FutureWarning: Not prepending group keys to the result index of transform-like apply. In the future, the group keys will be included in the index, regardless of whether the applied function returns a like-indexed object.\n",
            "To preserve the previous behavior, use\n",
            "\n",
            "\t>>> .groupby(..., group_keys=False)\n",
            "\n",
            "To adopt the future behavior and silence this warning, use \n",
            "\n",
            "\t>>> .groupby(..., group_keys=True)\n",
            "  basis = pred_X.groupby('Seance ID').apply(self.future_linear_basis)\n",
            "/usr/local/lib/python3.10/dist-packages/Seance/Forecaster.py:239: FutureWarning: Not prepending group keys to the result index of transform-like apply. In the future, the group keys will be included in the index, regardless of whether the applied function returns a like-indexed object.\n",
            "To preserve the previous behavior, use\n",
            "\n",
            "\t>>> .groupby(..., group_keys=False)\n",
            "\n",
            "To adopt the future behavior and silence this warning, use \n",
            "\n",
            "\t>>> .groupby(..., group_keys=True)\n",
            "  predicted = predicted.groupby('Seance ID').apply(self.inverse_transform)\n",
            "/usr/local/lib/python3.10/dist-packages/Seance/Optimizer.py:105: SettingWithCopyWarning: \n",
            "A value is trying to be set on a copy of a slice from a DataFrame.\n",
            "Try using .loc[row_indexer,col_indexer] = value instead\n",
            "\n",
            "See the caveats in the documentation: https://pandas.pydata.org/pandas-docs/stable/user_guide/indexing.html#returning-a-view-versus-a-copy\n",
            "  self.test_df[self.date_column] = self.test_df[self.date_column].dt.tz_localize(None)\n",
            "[I 2023-07-24 20:47:25,945] Trial 14 finished with value: 8.963638303154628 and parameters: {'n_estimators': 334, 'lambda_l1': 6.1037443295253855, 'lambda_l2': 7.347874574146522, 'num_leaves': 206, 'feature_fraction': 0.9907829846834925, 'bagging_fraction': 0.7089315090865669, 'bagging_freq': 13, 'min_child_samples': 46, 'use_id': True, 'objective': 'regression_l1', 'n_basis': 13, 'differences': 1, 'decay': 0.75, 'scale_type': 'robust_boxcox', 'seasonal_period': [52], 'lags': 48}. Best is trial 14 with value: 8.963638303154628.\n",
            "/usr/local/lib/python3.10/dist-packages/optuna/distributions.py:524: UserWarning: Choices for a categorical distribution should be a tuple of None, bool, int, float and str for persistent storage but contains [52] which is of type list.\n",
            "  warnings.warn(message)\n",
            "/usr/local/lib/python3.10/dist-packages/Seance/Builder/PreProcess.py:81: FutureWarning: Not prepending group keys to the result index of transform-like apply. In the future, the group keys will be included in the index, regardless of whether the applied function returns a like-indexed object.\n",
            "To preserve the previous behavior, use\n",
            "\n",
            "\t>>> .groupby(..., group_keys=False)\n",
            "\n",
            "To adopt the future behavior and silence this warning, use \n",
            "\n",
            "\t>>> .groupby(..., group_keys=True)\n",
            "  df = df.groupby('Seance ID').apply(self.trans)\n",
            "/usr/local/lib/python3.10/dist-packages/Seance/Forecaster.py:145: FutureWarning: Not prepending group keys to the result index of transform-like apply. In the future, the group keys will be included in the index, regardless of whether the applied function returns a like-indexed object.\n",
            "To preserve the previous behavior, use\n",
            "\n",
            "\t>>> .groupby(..., group_keys=False)\n",
            "\n",
            "To adopt the future behavior and silence this warning, use \n",
            "\n",
            "\t>>> .groupby(..., group_keys=True)\n",
            "  basis = self.processed_df.groupby('Seance ID')[target_column].apply(self.linear_basis)\n",
            "/usr/local/lib/python3.10/dist-packages/mlforecast/core.py:151: UserWarning: The differences argument is deprecated and will be removed in a future version.\n",
            "Please pass an `mlforecast.target_transforms.Differences` instance to the `target_transforms` argument instead.\n",
            "  warnings.warn(\n"
          ]
        },
        {
          "output_type": "stream",
          "name": "stdout",
          "text": [
            "[LightGBM] [Warning] feature_fraction is set=0.9674025540983112, colsample_bytree=1.0 will be ignored. Current value: feature_fraction=0.9674025540983112\n",
            "[LightGBM] [Warning] lambda_l1 is set=5.630448818383815, reg_alpha=0.0 will be ignored. Current value: lambda_l1=5.630448818383815\n",
            "[LightGBM] [Warning] num_threads is set=1, n_jobs=-1 will be ignored. Current value: num_threads=1\n",
            "[LightGBM] [Warning] bagging_fraction is set=0.8351704329477935, subsample=1.0 will be ignored. Current value: bagging_fraction=0.8351704329477935\n",
            "[LightGBM] [Warning] lambda_l2 is set=7.237619446784869, reg_lambda=0.0 will be ignored. Current value: lambda_l2=7.237619446784869\n",
            "[LightGBM] [Warning] bagging_freq is set=6, subsample_freq=0 will be ignored. Current value: bagging_freq=6\n"
          ]
        },
        {
          "output_type": "stream",
          "name": "stderr",
          "text": [
            "/usr/local/lib/python3.10/dist-packages/Seance/Forecaster.py:227: FutureWarning: Not prepending group keys to the result index of transform-like apply. In the future, the group keys will be included in the index, regardless of whether the applied function returns a like-indexed object.\n",
            "To preserve the previous behavior, use\n",
            "\n",
            "\t>>> .groupby(..., group_keys=False)\n",
            "\n",
            "To adopt the future behavior and silence this warning, use \n",
            "\n",
            "\t>>> .groupby(..., group_keys=True)\n",
            "  basis = pred_X.groupby('Seance ID').apply(self.future_linear_basis)\n",
            "/usr/local/lib/python3.10/dist-packages/Seance/Forecaster.py:239: FutureWarning: Not prepending group keys to the result index of transform-like apply. In the future, the group keys will be included in the index, regardless of whether the applied function returns a like-indexed object.\n",
            "To preserve the previous behavior, use\n",
            "\n",
            "\t>>> .groupby(..., group_keys=False)\n",
            "\n",
            "To adopt the future behavior and silence this warning, use \n",
            "\n",
            "\t>>> .groupby(..., group_keys=True)\n",
            "  predicted = predicted.groupby('Seance ID').apply(self.inverse_transform)\n",
            "/usr/local/lib/python3.10/dist-packages/Seance/Optimizer.py:105: SettingWithCopyWarning: \n",
            "A value is trying to be set on a copy of a slice from a DataFrame.\n",
            "Try using .loc[row_indexer,col_indexer] = value instead\n",
            "\n",
            "See the caveats in the documentation: https://pandas.pydata.org/pandas-docs/stable/user_guide/indexing.html#returning-a-view-versus-a-copy\n",
            "  self.test_df[self.date_column] = self.test_df[self.date_column].dt.tz_localize(None)\n",
            "[I 2023-07-24 20:48:05,403] Trial 15 finished with value: 9.258820680771212 and parameters: {'n_estimators': 189, 'lambda_l1': 5.630448818383815, 'lambda_l2': 7.237619446784869, 'num_leaves': 22, 'feature_fraction': 0.9674025540983112, 'bagging_fraction': 0.8351704329477935, 'bagging_freq': 6, 'min_child_samples': 20, 'use_id': True, 'objective': 'regression_l1', 'n_basis': 12, 'differences': 1, 'decay': 0.75, 'scale_type': 'robust_boxcox', 'seasonal_period': [52], 'lags': 49}. Best is trial 14 with value: 8.963638303154628.\n",
            "/usr/local/lib/python3.10/dist-packages/optuna/distributions.py:524: UserWarning: Choices for a categorical distribution should be a tuple of None, bool, int, float and str for persistent storage but contains [52] which is of type list.\n",
            "  warnings.warn(message)\n",
            "/usr/local/lib/python3.10/dist-packages/Seance/Builder/PreProcess.py:81: FutureWarning: Not prepending group keys to the result index of transform-like apply. In the future, the group keys will be included in the index, regardless of whether the applied function returns a like-indexed object.\n",
            "To preserve the previous behavior, use\n",
            "\n",
            "\t>>> .groupby(..., group_keys=False)\n",
            "\n",
            "To adopt the future behavior and silence this warning, use \n",
            "\n",
            "\t>>> .groupby(..., group_keys=True)\n",
            "  df = df.groupby('Seance ID').apply(self.trans)\n",
            "/usr/local/lib/python3.10/dist-packages/Seance/Forecaster.py:145: FutureWarning: Not prepending group keys to the result index of transform-like apply. In the future, the group keys will be included in the index, regardless of whether the applied function returns a like-indexed object.\n",
            "To preserve the previous behavior, use\n",
            "\n",
            "\t>>> .groupby(..., group_keys=False)\n",
            "\n",
            "To adopt the future behavior and silence this warning, use \n",
            "\n",
            "\t>>> .groupby(..., group_keys=True)\n",
            "  basis = self.processed_df.groupby('Seance ID')[target_column].apply(self.linear_basis)\n",
            "/usr/local/lib/python3.10/dist-packages/mlforecast/core.py:151: UserWarning: The differences argument is deprecated and will be removed in a future version.\n",
            "Please pass an `mlforecast.target_transforms.Differences` instance to the `target_transforms` argument instead.\n",
            "  warnings.warn(\n"
          ]
        },
        {
          "output_type": "stream",
          "name": "stdout",
          "text": [
            "[LightGBM] [Warning] feature_fraction is set=0.9733151405296943, colsample_bytree=1.0 will be ignored. Current value: feature_fraction=0.9733151405296943\n",
            "[LightGBM] [Warning] lambda_l1 is set=5.8889775779659566, reg_alpha=0.0 will be ignored. Current value: lambda_l1=5.8889775779659566\n",
            "[LightGBM] [Warning] num_threads is set=1, n_jobs=-1 will be ignored. Current value: num_threads=1\n",
            "[LightGBM] [Warning] bagging_fraction is set=0.863716860416559, subsample=1.0 will be ignored. Current value: bagging_fraction=0.863716860416559\n",
            "[LightGBM] [Warning] lambda_l2 is set=7.364378454792837, reg_lambda=0.0 will be ignored. Current value: lambda_l2=7.364378454792837\n",
            "[LightGBM] [Warning] bagging_freq is set=6, subsample_freq=0 will be ignored. Current value: bagging_freq=6\n"
          ]
        },
        {
          "output_type": "stream",
          "name": "stderr",
          "text": [
            "/usr/local/lib/python3.10/dist-packages/Seance/Forecaster.py:227: FutureWarning: Not prepending group keys to the result index of transform-like apply. In the future, the group keys will be included in the index, regardless of whether the applied function returns a like-indexed object.\n",
            "To preserve the previous behavior, use\n",
            "\n",
            "\t>>> .groupby(..., group_keys=False)\n",
            "\n",
            "To adopt the future behavior and silence this warning, use \n",
            "\n",
            "\t>>> .groupby(..., group_keys=True)\n",
            "  basis = pred_X.groupby('Seance ID').apply(self.future_linear_basis)\n",
            "/usr/local/lib/python3.10/dist-packages/Seance/Forecaster.py:239: FutureWarning: Not prepending group keys to the result index of transform-like apply. In the future, the group keys will be included in the index, regardless of whether the applied function returns a like-indexed object.\n",
            "To preserve the previous behavior, use\n",
            "\n",
            "\t>>> .groupby(..., group_keys=False)\n",
            "\n",
            "To adopt the future behavior and silence this warning, use \n",
            "\n",
            "\t>>> .groupby(..., group_keys=True)\n",
            "  predicted = predicted.groupby('Seance ID').apply(self.inverse_transform)\n",
            "/usr/local/lib/python3.10/dist-packages/Seance/Optimizer.py:105: SettingWithCopyWarning: \n",
            "A value is trying to be set on a copy of a slice from a DataFrame.\n",
            "Try using .loc[row_indexer,col_indexer] = value instead\n",
            "\n",
            "See the caveats in the documentation: https://pandas.pydata.org/pandas-docs/stable/user_guide/indexing.html#returning-a-view-versus-a-copy\n",
            "  self.test_df[self.date_column] = self.test_df[self.date_column].dt.tz_localize(None)\n",
            "[I 2023-07-24 20:49:04,415] Trial 16 finished with value: 8.96078803098496 and parameters: {'n_estimators': 191, 'lambda_l1': 5.8889775779659566, 'lambda_l2': 7.364378454792837, 'num_leaves': 71, 'feature_fraction': 0.9733151405296943, 'bagging_fraction': 0.863716860416559, 'bagging_freq': 6, 'min_child_samples': 22, 'use_id': True, 'objective': 'regression_l1', 'n_basis': 14, 'differences': 1, 'decay': 0.75, 'scale_type': 'robust_boxcox', 'seasonal_period': [52], 'lags': 51}. Best is trial 16 with value: 8.96078803098496.\n",
            "/usr/local/lib/python3.10/dist-packages/optuna/distributions.py:524: UserWarning: Choices for a categorical distribution should be a tuple of None, bool, int, float and str for persistent storage but contains [52] which is of type list.\n",
            "  warnings.warn(message)\n",
            "/usr/local/lib/python3.10/dist-packages/Seance/Builder/PreProcess.py:81: FutureWarning: Not prepending group keys to the result index of transform-like apply. In the future, the group keys will be included in the index, regardless of whether the applied function returns a like-indexed object.\n",
            "To preserve the previous behavior, use\n",
            "\n",
            "\t>>> .groupby(..., group_keys=False)\n",
            "\n",
            "To adopt the future behavior and silence this warning, use \n",
            "\n",
            "\t>>> .groupby(..., group_keys=True)\n",
            "  df = df.groupby('Seance ID').apply(self.trans)\n",
            "/usr/local/lib/python3.10/dist-packages/Seance/Forecaster.py:145: FutureWarning: Not prepending group keys to the result index of transform-like apply. In the future, the group keys will be included in the index, regardless of whether the applied function returns a like-indexed object.\n",
            "To preserve the previous behavior, use\n",
            "\n",
            "\t>>> .groupby(..., group_keys=False)\n",
            "\n",
            "To adopt the future behavior and silence this warning, use \n",
            "\n",
            "\t>>> .groupby(..., group_keys=True)\n",
            "  basis = self.processed_df.groupby('Seance ID')[target_column].apply(self.linear_basis)\n",
            "/usr/local/lib/python3.10/dist-packages/mlforecast/core.py:151: UserWarning: The differences argument is deprecated and will be removed in a future version.\n",
            "Please pass an `mlforecast.target_transforms.Differences` instance to the `target_transforms` argument instead.\n",
            "  warnings.warn(\n"
          ]
        },
        {
          "output_type": "stream",
          "name": "stdout",
          "text": [
            "[LightGBM] [Warning] feature_fraction is set=0.9842794933711878, colsample_bytree=1.0 will be ignored. Current value: feature_fraction=0.9842794933711878\n",
            "[LightGBM] [Warning] lambda_l1 is set=6.760167890528645, reg_alpha=0.0 will be ignored. Current value: lambda_l1=6.760167890528645\n",
            "[LightGBM] [Warning] num_threads is set=1, n_jobs=-1 will be ignored. Current value: num_threads=1\n",
            "[LightGBM] [Warning] bagging_fraction is set=0.8907998083701767, subsample=1.0 will be ignored. Current value: bagging_fraction=0.8907998083701767\n",
            "[LightGBM] [Warning] lambda_l2 is set=7.620402353575152, reg_lambda=0.0 will be ignored. Current value: lambda_l2=7.620402353575152\n",
            "[LightGBM] [Warning] bagging_freq is set=1, subsample_freq=0 will be ignored. Current value: bagging_freq=1\n"
          ]
        },
        {
          "output_type": "stream",
          "name": "stderr",
          "text": [
            "/usr/local/lib/python3.10/dist-packages/Seance/Forecaster.py:227: FutureWarning: Not prepending group keys to the result index of transform-like apply. In the future, the group keys will be included in the index, regardless of whether the applied function returns a like-indexed object.\n",
            "To preserve the previous behavior, use\n",
            "\n",
            "\t>>> .groupby(..., group_keys=False)\n",
            "\n",
            "To adopt the future behavior and silence this warning, use \n",
            "\n",
            "\t>>> .groupby(..., group_keys=True)\n",
            "  basis = pred_X.groupby('Seance ID').apply(self.future_linear_basis)\n",
            "/usr/local/lib/python3.10/dist-packages/Seance/Forecaster.py:239: FutureWarning: Not prepending group keys to the result index of transform-like apply. In the future, the group keys will be included in the index, regardless of whether the applied function returns a like-indexed object.\n",
            "To preserve the previous behavior, use\n",
            "\n",
            "\t>>> .groupby(..., group_keys=False)\n",
            "\n",
            "To adopt the future behavior and silence this warning, use \n",
            "\n",
            "\t>>> .groupby(..., group_keys=True)\n",
            "  predicted = predicted.groupby('Seance ID').apply(self.inverse_transform)\n",
            "/usr/local/lib/python3.10/dist-packages/Seance/Optimizer.py:105: SettingWithCopyWarning: \n",
            "A value is trying to be set on a copy of a slice from a DataFrame.\n",
            "Try using .loc[row_indexer,col_indexer] = value instead\n",
            "\n",
            "See the caveats in the documentation: https://pandas.pydata.org/pandas-docs/stable/user_guide/indexing.html#returning-a-view-versus-a-copy\n",
            "  self.test_df[self.date_column] = self.test_df[self.date_column].dt.tz_localize(None)\n",
            "[I 2023-07-24 20:50:22,898] Trial 17 finished with value: 9.49091270791531 and parameters: {'n_estimators': 184, 'lambda_l1': 6.760167890528645, 'lambda_l2': 7.620402353575152, 'num_leaves': 158, 'feature_fraction': 0.9842794933711878, 'bagging_fraction': 0.8907998083701767, 'bagging_freq': 1, 'min_child_samples': 19, 'use_id': True, 'objective': 'regression_l1', 'n_basis': 16, 'differences': 1, 'decay': 0.75, 'scale_type': 'robust_boxcox', 'seasonal_period': [52], 'lags': 45}. Best is trial 16 with value: 8.96078803098496.\n",
            "/usr/local/lib/python3.10/dist-packages/optuna/distributions.py:524: UserWarning: Choices for a categorical distribution should be a tuple of None, bool, int, float and str for persistent storage but contains [52] which is of type list.\n",
            "  warnings.warn(message)\n",
            "/usr/local/lib/python3.10/dist-packages/Seance/Builder/PreProcess.py:81: FutureWarning: Not prepending group keys to the result index of transform-like apply. In the future, the group keys will be included in the index, regardless of whether the applied function returns a like-indexed object.\n",
            "To preserve the previous behavior, use\n",
            "\n",
            "\t>>> .groupby(..., group_keys=False)\n",
            "\n",
            "To adopt the future behavior and silence this warning, use \n",
            "\n",
            "\t>>> .groupby(..., group_keys=True)\n",
            "  df = df.groupby('Seance ID').apply(self.trans)\n",
            "/usr/local/lib/python3.10/dist-packages/Seance/Forecaster.py:145: FutureWarning: Not prepending group keys to the result index of transform-like apply. In the future, the group keys will be included in the index, regardless of whether the applied function returns a like-indexed object.\n",
            "To preserve the previous behavior, use\n",
            "\n",
            "\t>>> .groupby(..., group_keys=False)\n",
            "\n",
            "To adopt the future behavior and silence this warning, use \n",
            "\n",
            "\t>>> .groupby(..., group_keys=True)\n",
            "  basis = self.processed_df.groupby('Seance ID')[target_column].apply(self.linear_basis)\n",
            "/usr/local/lib/python3.10/dist-packages/mlforecast/core.py:151: UserWarning: The differences argument is deprecated and will be removed in a future version.\n",
            "Please pass an `mlforecast.target_transforms.Differences` instance to the `target_transforms` argument instead.\n",
            "  warnings.warn(\n"
          ]
        },
        {
          "output_type": "stream",
          "name": "stdout",
          "text": [
            "[LightGBM] [Warning] feature_fraction is set=0.9963557929967956, colsample_bytree=1.0 will be ignored. Current value: feature_fraction=0.9963557929967956\n",
            "[LightGBM] [Warning] lambda_l1 is set=6.13103527533427, reg_alpha=0.0 will be ignored. Current value: lambda_l1=6.13103527533427\n",
            "[LightGBM] [Warning] num_threads is set=1, n_jobs=-1 will be ignored. Current value: num_threads=1\n",
            "[LightGBM] [Warning] bagging_fraction is set=0.7446069194999088, subsample=1.0 will be ignored. Current value: bagging_fraction=0.7446069194999088\n",
            "[LightGBM] [Warning] lambda_l2 is set=6.7431375250307415, reg_lambda=0.0 will be ignored. Current value: lambda_l2=6.7431375250307415\n",
            "[LightGBM] [Warning] bagging_freq is set=5, subsample_freq=0 will be ignored. Current value: bagging_freq=5\n"
          ]
        },
        {
          "output_type": "stream",
          "name": "stderr",
          "text": [
            "/usr/local/lib/python3.10/dist-packages/Seance/Forecaster.py:227: FutureWarning: Not prepending group keys to the result index of transform-like apply. In the future, the group keys will be included in the index, regardless of whether the applied function returns a like-indexed object.\n",
            "To preserve the previous behavior, use\n",
            "\n",
            "\t>>> .groupby(..., group_keys=False)\n",
            "\n",
            "To adopt the future behavior and silence this warning, use \n",
            "\n",
            "\t>>> .groupby(..., group_keys=True)\n",
            "  basis = pred_X.groupby('Seance ID').apply(self.future_linear_basis)\n",
            "/usr/local/lib/python3.10/dist-packages/Seance/Forecaster.py:239: FutureWarning: Not prepending group keys to the result index of transform-like apply. In the future, the group keys will be included in the index, regardless of whether the applied function returns a like-indexed object.\n",
            "To preserve the previous behavior, use\n",
            "\n",
            "\t>>> .groupby(..., group_keys=False)\n",
            "\n",
            "To adopt the future behavior and silence this warning, use \n",
            "\n",
            "\t>>> .groupby(..., group_keys=True)\n",
            "  predicted = predicted.groupby('Seance ID').apply(self.inverse_transform)\n",
            "/usr/local/lib/python3.10/dist-packages/Seance/Optimizer.py:105: SettingWithCopyWarning: \n",
            "A value is trying to be set on a copy of a slice from a DataFrame.\n",
            "Try using .loc[row_indexer,col_indexer] = value instead\n",
            "\n",
            "See the caveats in the documentation: https://pandas.pydata.org/pandas-docs/stable/user_guide/indexing.html#returning-a-view-versus-a-copy\n",
            "  self.test_df[self.date_column] = self.test_df[self.date_column].dt.tz_localize(None)\n",
            "[I 2023-07-24 20:50:45,175] Trial 18 finished with value: 8.932225153803396 and parameters: {'n_estimators': 83, 'lambda_l1': 6.13103527533427, 'lambda_l2': 6.7431375250307415, 'num_leaves': 77, 'feature_fraction': 0.9963557929967956, 'bagging_fraction': 0.7446069194999088, 'bagging_freq': 5, 'min_child_samples': 18, 'use_id': True, 'objective': 'regression_l1', 'n_basis': 6, 'differences': 1, 'decay': 0.75, 'scale_type': 'robust_boxcox', 'seasonal_period': None, 'lags': 53}. Best is trial 18 with value: 8.932225153803396.\n",
            "/usr/local/lib/python3.10/dist-packages/optuna/distributions.py:524: UserWarning: Choices for a categorical distribution should be a tuple of None, bool, int, float and str for persistent storage but contains [52] which is of type list.\n",
            "  warnings.warn(message)\n",
            "/usr/local/lib/python3.10/dist-packages/Seance/Builder/PreProcess.py:81: FutureWarning: Not prepending group keys to the result index of transform-like apply. In the future, the group keys will be included in the index, regardless of whether the applied function returns a like-indexed object.\n",
            "To preserve the previous behavior, use\n",
            "\n",
            "\t>>> .groupby(..., group_keys=False)\n",
            "\n",
            "To adopt the future behavior and silence this warning, use \n",
            "\n",
            "\t>>> .groupby(..., group_keys=True)\n",
            "  df = df.groupby('Seance ID').apply(self.trans)\n",
            "/usr/local/lib/python3.10/dist-packages/Seance/Forecaster.py:145: FutureWarning: Not prepending group keys to the result index of transform-like apply. In the future, the group keys will be included in the index, regardless of whether the applied function returns a like-indexed object.\n",
            "To preserve the previous behavior, use\n",
            "\n",
            "\t>>> .groupby(..., group_keys=False)\n",
            "\n",
            "To adopt the future behavior and silence this warning, use \n",
            "\n",
            "\t>>> .groupby(..., group_keys=True)\n",
            "  basis = self.processed_df.groupby('Seance ID')[target_column].apply(self.linear_basis)\n",
            "/usr/local/lib/python3.10/dist-packages/mlforecast/core.py:151: UserWarning: The differences argument is deprecated and will be removed in a future version.\n",
            "Please pass an `mlforecast.target_transforms.Differences` instance to the `target_transforms` argument instead.\n",
            "  warnings.warn(\n"
          ]
        },
        {
          "output_type": "stream",
          "name": "stdout",
          "text": [
            "[LightGBM] [Warning] feature_fraction is set=0.9358834426620461, colsample_bytree=1.0 will be ignored. Current value: feature_fraction=0.9358834426620461\n",
            "[LightGBM] [Warning] lambda_l1 is set=7.699199096742847, reg_alpha=0.0 will be ignored. Current value: lambda_l1=7.699199096742847\n",
            "[LightGBM] [Warning] num_threads is set=1, n_jobs=-1 will be ignored. Current value: num_threads=1\n",
            "[LightGBM] [Warning] bagging_fraction is set=0.9098091623353682, subsample=1.0 will be ignored. Current value: bagging_fraction=0.9098091623353682\n",
            "[LightGBM] [Warning] lambda_l2 is set=6.406099679403469, reg_lambda=0.0 will be ignored. Current value: lambda_l2=6.406099679403469\n",
            "[LightGBM] [Warning] bagging_freq is set=5, subsample_freq=0 will be ignored. Current value: bagging_freq=5\n"
          ]
        },
        {
          "output_type": "stream",
          "name": "stderr",
          "text": [
            "/usr/local/lib/python3.10/dist-packages/Seance/Forecaster.py:227: FutureWarning: Not prepending group keys to the result index of transform-like apply. In the future, the group keys will be included in the index, regardless of whether the applied function returns a like-indexed object.\n",
            "To preserve the previous behavior, use\n",
            "\n",
            "\t>>> .groupby(..., group_keys=False)\n",
            "\n",
            "To adopt the future behavior and silence this warning, use \n",
            "\n",
            "\t>>> .groupby(..., group_keys=True)\n",
            "  basis = pred_X.groupby('Seance ID').apply(self.future_linear_basis)\n",
            "/usr/local/lib/python3.10/dist-packages/Seance/Forecaster.py:239: FutureWarning: Not prepending group keys to the result index of transform-like apply. In the future, the group keys will be included in the index, regardless of whether the applied function returns a like-indexed object.\n",
            "To preserve the previous behavior, use\n",
            "\n",
            "\t>>> .groupby(..., group_keys=False)\n",
            "\n",
            "To adopt the future behavior and silence this warning, use \n",
            "\n",
            "\t>>> .groupby(..., group_keys=True)\n",
            "  predicted = predicted.groupby('Seance ID').apply(self.inverse_transform)\n",
            "/usr/local/lib/python3.10/dist-packages/Seance/Optimizer.py:105: SettingWithCopyWarning: \n",
            "A value is trying to be set on a copy of a slice from a DataFrame.\n",
            "Try using .loc[row_indexer,col_indexer] = value instead\n",
            "\n",
            "See the caveats in the documentation: https://pandas.pydata.org/pandas-docs/stable/user_guide/indexing.html#returning-a-view-versus-a-copy\n",
            "  self.test_df[self.date_column] = self.test_df[self.date_column].dt.tz_localize(None)\n",
            "[I 2023-07-24 20:50:58,436] Trial 19 finished with value: 9.593275326919223 and parameters: {'n_estimators': 56, 'lambda_l1': 7.699199096742847, 'lambda_l2': 6.406099679403469, 'num_leaves': 12, 'feature_fraction': 0.9358834426620461, 'bagging_fraction': 0.9098091623353682, 'bagging_freq': 5, 'min_child_samples': 16, 'use_id': True, 'objective': 'regression_l1', 'n_basis': 4, 'differences': 1, 'decay': 0.1, 'scale_type': 'robust_boxcox', 'seasonal_period': None, 'lags': 53}. Best is trial 18 with value: 8.932225153803396.\n",
            "/usr/local/lib/python3.10/dist-packages/optuna/distributions.py:524: UserWarning: Choices for a categorical distribution should be a tuple of None, bool, int, float and str for persistent storage but contains [52] which is of type list.\n",
            "  warnings.warn(message)\n",
            "/usr/local/lib/python3.10/dist-packages/Seance/Builder/PreProcess.py:81: FutureWarning: Not prepending group keys to the result index of transform-like apply. In the future, the group keys will be included in the index, regardless of whether the applied function returns a like-indexed object.\n",
            "To preserve the previous behavior, use\n",
            "\n",
            "\t>>> .groupby(..., group_keys=False)\n",
            "\n",
            "To adopt the future behavior and silence this warning, use \n",
            "\n",
            "\t>>> .groupby(..., group_keys=True)\n",
            "  df = df.groupby('Seance ID').apply(self.trans)\n",
            "/usr/local/lib/python3.10/dist-packages/Seance/Forecaster.py:145: FutureWarning: Not prepending group keys to the result index of transform-like apply. In the future, the group keys will be included in the index, regardless of whether the applied function returns a like-indexed object.\n",
            "To preserve the previous behavior, use\n",
            "\n",
            "\t>>> .groupby(..., group_keys=False)\n",
            "\n",
            "To adopt the future behavior and silence this warning, use \n",
            "\n",
            "\t>>> .groupby(..., group_keys=True)\n",
            "  basis = self.processed_df.groupby('Seance ID')[target_column].apply(self.linear_basis)\n",
            "/usr/local/lib/python3.10/dist-packages/mlforecast/core.py:151: UserWarning: The differences argument is deprecated and will be removed in a future version.\n",
            "Please pass an `mlforecast.target_transforms.Differences` instance to the `target_transforms` argument instead.\n",
            "  warnings.warn(\n"
          ]
        },
        {
          "output_type": "stream",
          "name": "stdout",
          "text": [
            "[LightGBM] [Warning] feature_fraction is set=0.9987012073057194, colsample_bytree=1.0 will be ignored. Current value: feature_fraction=0.9987012073057194\n",
            "[LightGBM] [Warning] lambda_l1 is set=4.861509253486415, reg_alpha=0.0 will be ignored. Current value: lambda_l1=4.861509253486415\n",
            "[LightGBM] [Warning] num_threads is set=1, n_jobs=-1 will be ignored. Current value: num_threads=1\n",
            "[LightGBM] [Warning] bagging_fraction is set=0.771101272134343, subsample=1.0 will be ignored. Current value: bagging_fraction=0.771101272134343\n",
            "[LightGBM] [Warning] lambda_l2 is set=4.409364572520456, reg_lambda=0.0 will be ignored. Current value: lambda_l2=4.409364572520456\n",
            "[LightGBM] [Warning] bagging_freq is set=3, subsample_freq=0 will be ignored. Current value: bagging_freq=3\n"
          ]
        },
        {
          "output_type": "stream",
          "name": "stderr",
          "text": [
            "/usr/local/lib/python3.10/dist-packages/Seance/Forecaster.py:227: FutureWarning: Not prepending group keys to the result index of transform-like apply. In the future, the group keys will be included in the index, regardless of whether the applied function returns a like-indexed object.\n",
            "To preserve the previous behavior, use\n",
            "\n",
            "\t>>> .groupby(..., group_keys=False)\n",
            "\n",
            "To adopt the future behavior and silence this warning, use \n",
            "\n",
            "\t>>> .groupby(..., group_keys=True)\n",
            "  basis = pred_X.groupby('Seance ID').apply(self.future_linear_basis)\n",
            "/usr/local/lib/python3.10/dist-packages/Seance/Forecaster.py:239: FutureWarning: Not prepending group keys to the result index of transform-like apply. In the future, the group keys will be included in the index, regardless of whether the applied function returns a like-indexed object.\n",
            "To preserve the previous behavior, use\n",
            "\n",
            "\t>>> .groupby(..., group_keys=False)\n",
            "\n",
            "To adopt the future behavior and silence this warning, use \n",
            "\n",
            "\t>>> .groupby(..., group_keys=True)\n",
            "  predicted = predicted.groupby('Seance ID').apply(self.inverse_transform)\n",
            "/usr/local/lib/python3.10/dist-packages/Seance/Optimizer.py:105: SettingWithCopyWarning: \n",
            "A value is trying to be set on a copy of a slice from a DataFrame.\n",
            "Try using .loc[row_indexer,col_indexer] = value instead\n",
            "\n",
            "See the caveats in the documentation: https://pandas.pydata.org/pandas-docs/stable/user_guide/indexing.html#returning-a-view-versus-a-copy\n",
            "  self.test_df[self.date_column] = self.test_df[self.date_column].dt.tz_localize(None)\n",
            "[I 2023-07-24 20:51:24,991] Trial 20 finished with value: 9.325147401051671 and parameters: {'n_estimators': 126, 'lambda_l1': 4.861509253486415, 'lambda_l2': 4.409364572520456, 'num_leaves': 75, 'feature_fraction': 0.9987012073057194, 'bagging_fraction': 0.771101272134343, 'bagging_freq': 3, 'min_child_samples': 27, 'use_id': True, 'objective': 'regression_l1', 'n_basis': 6, 'differences': 1, 'decay': 0.75, 'scale_type': 'robust_boxcox', 'seasonal_period': None, 'lags': 38}. Best is trial 18 with value: 8.932225153803396.\n",
            "/usr/local/lib/python3.10/dist-packages/optuna/distributions.py:524: UserWarning: Choices for a categorical distribution should be a tuple of None, bool, int, float and str for persistent storage but contains [52] which is of type list.\n",
            "  warnings.warn(message)\n",
            "/usr/local/lib/python3.10/dist-packages/Seance/Builder/PreProcess.py:81: FutureWarning: Not prepending group keys to the result index of transform-like apply. In the future, the group keys will be included in the index, regardless of whether the applied function returns a like-indexed object.\n",
            "To preserve the previous behavior, use\n",
            "\n",
            "\t>>> .groupby(..., group_keys=False)\n",
            "\n",
            "To adopt the future behavior and silence this warning, use \n",
            "\n",
            "\t>>> .groupby(..., group_keys=True)\n",
            "  df = df.groupby('Seance ID').apply(self.trans)\n",
            "/usr/local/lib/python3.10/dist-packages/Seance/Forecaster.py:145: FutureWarning: Not prepending group keys to the result index of transform-like apply. In the future, the group keys will be included in the index, regardless of whether the applied function returns a like-indexed object.\n",
            "To preserve the previous behavior, use\n",
            "\n",
            "\t>>> .groupby(..., group_keys=False)\n",
            "\n",
            "To adopt the future behavior and silence this warning, use \n",
            "\n",
            "\t>>> .groupby(..., group_keys=True)\n",
            "  basis = self.processed_df.groupby('Seance ID')[target_column].apply(self.linear_basis)\n",
            "/usr/local/lib/python3.10/dist-packages/mlforecast/core.py:151: UserWarning: The differences argument is deprecated and will be removed in a future version.\n",
            "Please pass an `mlforecast.target_transforms.Differences` instance to the `target_transforms` argument instead.\n",
            "  warnings.warn(\n"
          ]
        },
        {
          "output_type": "stream",
          "name": "stdout",
          "text": [
            "[LightGBM] [Warning] feature_fraction is set=0.9950920273524461, colsample_bytree=1.0 will be ignored. Current value: feature_fraction=0.9950920273524461\n",
            "[LightGBM] [Warning] lambda_l1 is set=5.756328801480258, reg_alpha=0.0 will be ignored. Current value: lambda_l1=5.756328801480258\n",
            "[LightGBM] [Warning] num_threads is set=1, n_jobs=-1 will be ignored. Current value: num_threads=1\n",
            "[LightGBM] [Warning] bagging_fraction is set=0.734213297254287, subsample=1.0 will be ignored. Current value: bagging_fraction=0.734213297254287\n",
            "[LightGBM] [Warning] lambda_l2 is set=8.459325817828367, reg_lambda=0.0 will be ignored. Current value: lambda_l2=8.459325817828367\n",
            "[LightGBM] [Warning] bagging_freq is set=7, subsample_freq=0 will be ignored. Current value: bagging_freq=7\n"
          ]
        },
        {
          "output_type": "stream",
          "name": "stderr",
          "text": [
            "/usr/local/lib/python3.10/dist-packages/Seance/Forecaster.py:227: FutureWarning: Not prepending group keys to the result index of transform-like apply. In the future, the group keys will be included in the index, regardless of whether the applied function returns a like-indexed object.\n",
            "To preserve the previous behavior, use\n",
            "\n",
            "\t>>> .groupby(..., group_keys=False)\n",
            "\n",
            "To adopt the future behavior and silence this warning, use \n",
            "\n",
            "\t>>> .groupby(..., group_keys=True)\n",
            "  basis = pred_X.groupby('Seance ID').apply(self.future_linear_basis)\n",
            "/usr/local/lib/python3.10/dist-packages/Seance/Forecaster.py:239: FutureWarning: Not prepending group keys to the result index of transform-like apply. In the future, the group keys will be included in the index, regardless of whether the applied function returns a like-indexed object.\n",
            "To preserve the previous behavior, use\n",
            "\n",
            "\t>>> .groupby(..., group_keys=False)\n",
            "\n",
            "To adopt the future behavior and silence this warning, use \n",
            "\n",
            "\t>>> .groupby(..., group_keys=True)\n",
            "  predicted = predicted.groupby('Seance ID').apply(self.inverse_transform)\n",
            "/usr/local/lib/python3.10/dist-packages/Seance/Optimizer.py:105: SettingWithCopyWarning: \n",
            "A value is trying to be set on a copy of a slice from a DataFrame.\n",
            "Try using .loc[row_indexer,col_indexer] = value instead\n",
            "\n",
            "See the caveats in the documentation: https://pandas.pydata.org/pandas-docs/stable/user_guide/indexing.html#returning-a-view-versus-a-copy\n",
            "  self.test_df[self.date_column] = self.test_df[self.date_column].dt.tz_localize(None)\n",
            "[I 2023-07-24 20:52:22,902] Trial 21 finished with value: 8.656891257335076 and parameters: {'n_estimators': 185, 'lambda_l1': 5.756328801480258, 'lambda_l2': 8.459325817828367, 'num_leaves': 159, 'feature_fraction': 0.9950920273524461, 'bagging_fraction': 0.734213297254287, 'bagging_freq': 7, 'min_child_samples': 43, 'use_id': True, 'objective': 'regression_l1', 'n_basis': 14, 'differences': 1, 'decay': 0.75, 'scale_type': 'robust_boxcox', 'seasonal_period': None, 'lags': 53}. Best is trial 21 with value: 8.656891257335076.\n",
            "/usr/local/lib/python3.10/dist-packages/optuna/distributions.py:524: UserWarning: Choices for a categorical distribution should be a tuple of None, bool, int, float and str for persistent storage but contains [52] which is of type list.\n",
            "  warnings.warn(message)\n",
            "/usr/local/lib/python3.10/dist-packages/Seance/Builder/PreProcess.py:81: FutureWarning: Not prepending group keys to the result index of transform-like apply. In the future, the group keys will be included in the index, regardless of whether the applied function returns a like-indexed object.\n",
            "To preserve the previous behavior, use\n",
            "\n",
            "\t>>> .groupby(..., group_keys=False)\n",
            "\n",
            "To adopt the future behavior and silence this warning, use \n",
            "\n",
            "\t>>> .groupby(..., group_keys=True)\n",
            "  df = df.groupby('Seance ID').apply(self.trans)\n",
            "/usr/local/lib/python3.10/dist-packages/Seance/Forecaster.py:145: FutureWarning: Not prepending group keys to the result index of transform-like apply. In the future, the group keys will be included in the index, regardless of whether the applied function returns a like-indexed object.\n",
            "To preserve the previous behavior, use\n",
            "\n",
            "\t>>> .groupby(..., group_keys=False)\n",
            "\n",
            "To adopt the future behavior and silence this warning, use \n",
            "\n",
            "\t>>> .groupby(..., group_keys=True)\n",
            "  basis = self.processed_df.groupby('Seance ID')[target_column].apply(self.linear_basis)\n",
            "/usr/local/lib/python3.10/dist-packages/mlforecast/core.py:151: UserWarning: The differences argument is deprecated and will be removed in a future version.\n",
            "Please pass an `mlforecast.target_transforms.Differences` instance to the `target_transforms` argument instead.\n",
            "  warnings.warn(\n"
          ]
        },
        {
          "output_type": "stream",
          "name": "stdout",
          "text": [
            "[LightGBM] [Warning] feature_fraction is set=0.9473613317840892, colsample_bytree=1.0 will be ignored. Current value: feature_fraction=0.9473613317840892\n",
            "[LightGBM] [Warning] lambda_l1 is set=6.608068978993006, reg_alpha=0.0 will be ignored. Current value: lambda_l1=6.608068978993006\n",
            "[LightGBM] [Warning] num_threads is set=1, n_jobs=-1 will be ignored. Current value: num_threads=1\n",
            "[LightGBM] [Warning] bagging_fraction is set=0.7388069212236058, subsample=1.0 will be ignored. Current value: bagging_fraction=0.7388069212236058\n",
            "[LightGBM] [Warning] lambda_l2 is set=8.825928110913008, reg_lambda=0.0 will be ignored. Current value: lambda_l2=8.825928110913008\n",
            "[LightGBM] [Warning] bagging_freq is set=7, subsample_freq=0 will be ignored. Current value: bagging_freq=7\n"
          ]
        },
        {
          "output_type": "stream",
          "name": "stderr",
          "text": [
            "/usr/local/lib/python3.10/dist-packages/Seance/Forecaster.py:227: FutureWarning: Not prepending group keys to the result index of transform-like apply. In the future, the group keys will be included in the index, regardless of whether the applied function returns a like-indexed object.\n",
            "To preserve the previous behavior, use\n",
            "\n",
            "\t>>> .groupby(..., group_keys=False)\n",
            "\n",
            "To adopt the future behavior and silence this warning, use \n",
            "\n",
            "\t>>> .groupby(..., group_keys=True)\n",
            "  basis = pred_X.groupby('Seance ID').apply(self.future_linear_basis)\n",
            "/usr/local/lib/python3.10/dist-packages/Seance/Forecaster.py:239: FutureWarning: Not prepending group keys to the result index of transform-like apply. In the future, the group keys will be included in the index, regardless of whether the applied function returns a like-indexed object.\n",
            "To preserve the previous behavior, use\n",
            "\n",
            "\t>>> .groupby(..., group_keys=False)\n",
            "\n",
            "To adopt the future behavior and silence this warning, use \n",
            "\n",
            "\t>>> .groupby(..., group_keys=True)\n",
            "  predicted = predicted.groupby('Seance ID').apply(self.inverse_transform)\n",
            "/usr/local/lib/python3.10/dist-packages/Seance/Optimizer.py:105: SettingWithCopyWarning: \n",
            "A value is trying to be set on a copy of a slice from a DataFrame.\n",
            "Try using .loc[row_indexer,col_indexer] = value instead\n",
            "\n",
            "See the caveats in the documentation: https://pandas.pydata.org/pandas-docs/stable/user_guide/indexing.html#returning-a-view-versus-a-copy\n",
            "  self.test_df[self.date_column] = self.test_df[self.date_column].dt.tz_localize(None)\n",
            "[I 2023-07-24 20:53:05,210] Trial 22 finished with value: 8.739275521475227 and parameters: {'n_estimators': 164, 'lambda_l1': 6.608068978993006, 'lambda_l2': 8.825928110913008, 'num_leaves': 97, 'feature_fraction': 0.9473613317840892, 'bagging_fraction': 0.7388069212236058, 'bagging_freq': 7, 'min_child_samples': 10, 'use_id': True, 'objective': 'regression_l1', 'n_basis': 14, 'differences': 1, 'decay': 0.75, 'scale_type': 'robust_boxcox', 'seasonal_period': None, 'lags': 53}. Best is trial 21 with value: 8.656891257335076.\n",
            "/usr/local/lib/python3.10/dist-packages/optuna/distributions.py:524: UserWarning: Choices for a categorical distribution should be a tuple of None, bool, int, float and str for persistent storage but contains [52] which is of type list.\n",
            "  warnings.warn(message)\n",
            "/usr/local/lib/python3.10/dist-packages/Seance/Builder/PreProcess.py:81: FutureWarning: Not prepending group keys to the result index of transform-like apply. In the future, the group keys will be included in the index, regardless of whether the applied function returns a like-indexed object.\n",
            "To preserve the previous behavior, use\n",
            "\n",
            "\t>>> .groupby(..., group_keys=False)\n",
            "\n",
            "To adopt the future behavior and silence this warning, use \n",
            "\n",
            "\t>>> .groupby(..., group_keys=True)\n",
            "  df = df.groupby('Seance ID').apply(self.trans)\n",
            "/usr/local/lib/python3.10/dist-packages/Seance/Forecaster.py:145: FutureWarning: Not prepending group keys to the result index of transform-like apply. In the future, the group keys will be included in the index, regardless of whether the applied function returns a like-indexed object.\n",
            "To preserve the previous behavior, use\n",
            "\n",
            "\t>>> .groupby(..., group_keys=False)\n",
            "\n",
            "To adopt the future behavior and silence this warning, use \n",
            "\n",
            "\t>>> .groupby(..., group_keys=True)\n",
            "  basis = self.processed_df.groupby('Seance ID')[target_column].apply(self.linear_basis)\n",
            "/usr/local/lib/python3.10/dist-packages/mlforecast/core.py:151: UserWarning: The differences argument is deprecated and will be removed in a future version.\n",
            "Please pass an `mlforecast.target_transforms.Differences` instance to the `target_transforms` argument instead.\n",
            "  warnings.warn(\n"
          ]
        },
        {
          "output_type": "stream",
          "name": "stdout",
          "text": [
            "[LightGBM] [Warning] feature_fraction is set=0.9370874305052759, colsample_bytree=1.0 will be ignored. Current value: feature_fraction=0.9370874305052759\n",
            "[LightGBM] [Warning] lambda_l1 is set=6.921672407112926, reg_alpha=0.0 will be ignored. Current value: lambda_l1=6.921672407112926\n",
            "[LightGBM] [Warning] num_threads is set=1, n_jobs=-1 will be ignored. Current value: num_threads=1\n",
            "[LightGBM] [Warning] bagging_fraction is set=0.7628303569940705, subsample=1.0 will be ignored. Current value: bagging_fraction=0.7628303569940705\n",
            "[LightGBM] [Warning] lambda_l2 is set=8.632034216333242, reg_lambda=0.0 will be ignored. Current value: lambda_l2=8.632034216333242\n",
            "[LightGBM] [Warning] bagging_freq is set=8, subsample_freq=0 will be ignored. Current value: bagging_freq=8\n"
          ]
        },
        {
          "output_type": "stream",
          "name": "stderr",
          "text": [
            "/usr/local/lib/python3.10/dist-packages/Seance/Forecaster.py:227: FutureWarning: Not prepending group keys to the result index of transform-like apply. In the future, the group keys will be included in the index, regardless of whether the applied function returns a like-indexed object.\n",
            "To preserve the previous behavior, use\n",
            "\n",
            "\t>>> .groupby(..., group_keys=False)\n",
            "\n",
            "To adopt the future behavior and silence this warning, use \n",
            "\n",
            "\t>>> .groupby(..., group_keys=True)\n",
            "  basis = pred_X.groupby('Seance ID').apply(self.future_linear_basis)\n",
            "/usr/local/lib/python3.10/dist-packages/Seance/Forecaster.py:239: FutureWarning: Not prepending group keys to the result index of transform-like apply. In the future, the group keys will be included in the index, regardless of whether the applied function returns a like-indexed object.\n",
            "To preserve the previous behavior, use\n",
            "\n",
            "\t>>> .groupby(..., group_keys=False)\n",
            "\n",
            "To adopt the future behavior and silence this warning, use \n",
            "\n",
            "\t>>> .groupby(..., group_keys=True)\n",
            "  predicted = predicted.groupby('Seance ID').apply(self.inverse_transform)\n",
            "/usr/local/lib/python3.10/dist-packages/Seance/Optimizer.py:105: SettingWithCopyWarning: \n",
            "A value is trying to be set on a copy of a slice from a DataFrame.\n",
            "Try using .loc[row_indexer,col_indexer] = value instead\n",
            "\n",
            "See the caveats in the documentation: https://pandas.pydata.org/pandas-docs/stable/user_guide/indexing.html#returning-a-view-versus-a-copy\n",
            "  self.test_df[self.date_column] = self.test_df[self.date_column].dt.tz_localize(None)\n",
            "[I 2023-07-24 20:53:40,077] Trial 23 finished with value: 9.019921702162033 and parameters: {'n_estimators': 133, 'lambda_l1': 6.921672407112926, 'lambda_l2': 8.632034216333242, 'num_leaves': 135, 'feature_fraction': 0.9370874305052759, 'bagging_fraction': 0.7628303569940705, 'bagging_freq': 8, 'min_child_samples': 10, 'use_id': True, 'objective': 'regression_l1', 'n_basis': 7, 'differences': 1, 'decay': 0.75, 'scale_type': 'robust_boxcox', 'seasonal_period': None, 'lags': 41}. Best is trial 21 with value: 8.656891257335076.\n",
            "/usr/local/lib/python3.10/dist-packages/optuna/distributions.py:524: UserWarning: Choices for a categorical distribution should be a tuple of None, bool, int, float and str for persistent storage but contains [52] which is of type list.\n",
            "  warnings.warn(message)\n",
            "/usr/local/lib/python3.10/dist-packages/Seance/Builder/PreProcess.py:81: FutureWarning: Not prepending group keys to the result index of transform-like apply. In the future, the group keys will be included in the index, regardless of whether the applied function returns a like-indexed object.\n",
            "To preserve the previous behavior, use\n",
            "\n",
            "\t>>> .groupby(..., group_keys=False)\n",
            "\n",
            "To adopt the future behavior and silence this warning, use \n",
            "\n",
            "\t>>> .groupby(..., group_keys=True)\n",
            "  df = df.groupby('Seance ID').apply(self.trans)\n",
            "/usr/local/lib/python3.10/dist-packages/Seance/Forecaster.py:145: FutureWarning: Not prepending group keys to the result index of transform-like apply. In the future, the group keys will be included in the index, regardless of whether the applied function returns a like-indexed object.\n",
            "To preserve the previous behavior, use\n",
            "\n",
            "\t>>> .groupby(..., group_keys=False)\n",
            "\n",
            "To adopt the future behavior and silence this warning, use \n",
            "\n",
            "\t>>> .groupby(..., group_keys=True)\n",
            "  basis = self.processed_df.groupby('Seance ID')[target_column].apply(self.linear_basis)\n",
            "/usr/local/lib/python3.10/dist-packages/mlforecast/core.py:151: UserWarning: The differences argument is deprecated and will be removed in a future version.\n",
            "Please pass an `mlforecast.target_transforms.Differences` instance to the `target_transforms` argument instead.\n",
            "  warnings.warn(\n"
          ]
        },
        {
          "output_type": "stream",
          "name": "stdout",
          "text": [
            "[LightGBM] [Warning] feature_fraction is set=0.9506393016842543, colsample_bytree=1.0 will be ignored. Current value: feature_fraction=0.9506393016842543\n",
            "[LightGBM] [Warning] lambda_l1 is set=8.07190863389219, reg_alpha=0.0 will be ignored. Current value: lambda_l1=8.07190863389219\n",
            "[LightGBM] [Warning] num_threads is set=1, n_jobs=-1 will be ignored. Current value: num_threads=1\n",
            "[LightGBM] [Warning] bagging_fraction is set=0.7397600804826979, subsample=1.0 will be ignored. Current value: bagging_fraction=0.7397600804826979\n",
            "[LightGBM] [Warning] lambda_l2 is set=9.946882963489085, reg_lambda=0.0 will be ignored. Current value: lambda_l2=9.946882963489085\n",
            "[LightGBM] [Warning] bagging_freq is set=4, subsample_freq=0 will be ignored. Current value: bagging_freq=4\n"
          ]
        },
        {
          "output_type": "stream",
          "name": "stderr",
          "text": [
            "/usr/local/lib/python3.10/dist-packages/Seance/Forecaster.py:227: FutureWarning: Not prepending group keys to the result index of transform-like apply. In the future, the group keys will be included in the index, regardless of whether the applied function returns a like-indexed object.\n",
            "To preserve the previous behavior, use\n",
            "\n",
            "\t>>> .groupby(..., group_keys=False)\n",
            "\n",
            "To adopt the future behavior and silence this warning, use \n",
            "\n",
            "\t>>> .groupby(..., group_keys=True)\n",
            "  basis = pred_X.groupby('Seance ID').apply(self.future_linear_basis)\n",
            "/usr/local/lib/python3.10/dist-packages/Seance/Forecaster.py:239: FutureWarning: Not prepending group keys to the result index of transform-like apply. In the future, the group keys will be included in the index, regardless of whether the applied function returns a like-indexed object.\n",
            "To preserve the previous behavior, use\n",
            "\n",
            "\t>>> .groupby(..., group_keys=False)\n",
            "\n",
            "To adopt the future behavior and silence this warning, use \n",
            "\n",
            "\t>>> .groupby(..., group_keys=True)\n",
            "  predicted = predicted.groupby('Seance ID').apply(self.inverse_transform)\n",
            "/usr/local/lib/python3.10/dist-packages/Seance/Optimizer.py:105: SettingWithCopyWarning: \n",
            "A value is trying to be set on a copy of a slice from a DataFrame.\n",
            "Try using .loc[row_indexer,col_indexer] = value instead\n",
            "\n",
            "See the caveats in the documentation: https://pandas.pydata.org/pandas-docs/stable/user_guide/indexing.html#returning-a-view-versus-a-copy\n",
            "  self.test_df[self.date_column] = self.test_df[self.date_column].dt.tz_localize(None)\n",
            "[I 2023-07-24 20:54:10,878] Trial 24 finished with value: 9.037688119841212 and parameters: {'n_estimators': 94, 'lambda_l1': 8.07190863389219, 'lambda_l2': 9.946882963489085, 'num_leaves': 112, 'feature_fraction': 0.9506393016842543, 'bagging_fraction': 0.7397600804826979, 'bagging_freq': 4, 'min_child_samples': 12, 'use_id': True, 'objective': 'regression_l1', 'n_basis': 15, 'differences': 1, 'decay': 0.75, 'scale_type': 'robust_boxcox', 'seasonal_period': None, 'lags': 53}. Best is trial 21 with value: 8.656891257335076.\n",
            "/usr/local/lib/python3.10/dist-packages/optuna/distributions.py:524: UserWarning: Choices for a categorical distribution should be a tuple of None, bool, int, float and str for persistent storage but contains [52] which is of type list.\n",
            "  warnings.warn(message)\n",
            "/usr/local/lib/python3.10/dist-packages/Seance/Builder/PreProcess.py:81: FutureWarning: Not prepending group keys to the result index of transform-like apply. In the future, the group keys will be included in the index, regardless of whether the applied function returns a like-indexed object.\n",
            "To preserve the previous behavior, use\n",
            "\n",
            "\t>>> .groupby(..., group_keys=False)\n",
            "\n",
            "To adopt the future behavior and silence this warning, use \n",
            "\n",
            "\t>>> .groupby(..., group_keys=True)\n",
            "  df = df.groupby('Seance ID').apply(self.trans)\n",
            "/usr/local/lib/python3.10/dist-packages/Seance/Forecaster.py:145: FutureWarning: Not prepending group keys to the result index of transform-like apply. In the future, the group keys will be included in the index, regardless of whether the applied function returns a like-indexed object.\n",
            "To preserve the previous behavior, use\n",
            "\n",
            "\t>>> .groupby(..., group_keys=False)\n",
            "\n",
            "To adopt the future behavior and silence this warning, use \n",
            "\n",
            "\t>>> .groupby(..., group_keys=True)\n",
            "  basis = self.processed_df.groupby('Seance ID')[target_column].apply(self.linear_basis)\n",
            "/usr/local/lib/python3.10/dist-packages/mlforecast/core.py:151: UserWarning: The differences argument is deprecated and will be removed in a future version.\n",
            "Please pass an `mlforecast.target_transforms.Differences` instance to the `target_transforms` argument instead.\n",
            "  warnings.warn(\n"
          ]
        },
        {
          "output_type": "stream",
          "name": "stdout",
          "text": [
            "[LightGBM] [Warning] feature_fraction is set=0.9105602410731664, colsample_bytree=1.0 will be ignored. Current value: feature_fraction=0.9105602410731664\n",
            "[LightGBM] [Warning] lambda_l1 is set=4.968849986414382, reg_alpha=0.0 will be ignored. Current value: lambda_l1=4.968849986414382\n",
            "[LightGBM] [Warning] num_threads is set=1, n_jobs=-1 will be ignored. Current value: num_threads=1\n",
            "[LightGBM] [Warning] bagging_fraction is set=0.7406034621087819, subsample=1.0 will be ignored. Current value: bagging_fraction=0.7406034621087819\n",
            "[LightGBM] [Warning] lambda_l2 is set=8.41424625532146, reg_lambda=0.0 will be ignored. Current value: lambda_l2=8.41424625532146\n",
            "[LightGBM] [Warning] bagging_freq is set=0, subsample_freq=0 will be ignored. Current value: bagging_freq=0\n"
          ]
        },
        {
          "output_type": "stream",
          "name": "stderr",
          "text": [
            "/usr/local/lib/python3.10/dist-packages/Seance/Forecaster.py:227: FutureWarning: Not prepending group keys to the result index of transform-like apply. In the future, the group keys will be included in the index, regardless of whether the applied function returns a like-indexed object.\n",
            "To preserve the previous behavior, use\n",
            "\n",
            "\t>>> .groupby(..., group_keys=False)\n",
            "\n",
            "To adopt the future behavior and silence this warning, use \n",
            "\n",
            "\t>>> .groupby(..., group_keys=True)\n",
            "  basis = pred_X.groupby('Seance ID').apply(self.future_linear_basis)\n",
            "/usr/local/lib/python3.10/dist-packages/Seance/Forecaster.py:239: FutureWarning: Not prepending group keys to the result index of transform-like apply. In the future, the group keys will be included in the index, regardless of whether the applied function returns a like-indexed object.\n",
            "To preserve the previous behavior, use\n",
            "\n",
            "\t>>> .groupby(..., group_keys=False)\n",
            "\n",
            "To adopt the future behavior and silence this warning, use \n",
            "\n",
            "\t>>> .groupby(..., group_keys=True)\n",
            "  predicted = predicted.groupby('Seance ID').apply(self.inverse_transform)\n",
            "/usr/local/lib/python3.10/dist-packages/Seance/Optimizer.py:105: SettingWithCopyWarning: \n",
            "A value is trying to be set on a copy of a slice from a DataFrame.\n",
            "Try using .loc[row_indexer,col_indexer] = value instead\n",
            "\n",
            "See the caveats in the documentation: https://pandas.pydata.org/pandas-docs/stable/user_guide/indexing.html#returning-a-view-versus-a-copy\n",
            "  self.test_df[self.date_column] = self.test_df[self.date_column].dt.tz_localize(None)\n",
            "[I 2023-07-24 20:55:00,867] Trial 25 finished with value: 8.904979265408043 and parameters: {'n_estimators': 234, 'lambda_l1': 4.968849986414382, 'lambda_l2': 8.41424625532146, 'num_leaves': 189, 'feature_fraction': 0.9105602410731664, 'bagging_fraction': 0.7406034621087819, 'bagging_freq': 0, 'min_child_samples': 39, 'use_id': True, 'objective': 'regression_l1', 'n_basis': 2, 'differences': 1, 'decay': 0.9, 'scale_type': 'robust_boxcox', 'seasonal_period': None, 'lags': 46}. Best is trial 21 with value: 8.656891257335076.\n",
            "/usr/local/lib/python3.10/dist-packages/optuna/distributions.py:524: UserWarning: Choices for a categorical distribution should be a tuple of None, bool, int, float and str for persistent storage but contains [52] which is of type list.\n",
            "  warnings.warn(message)\n",
            "/usr/local/lib/python3.10/dist-packages/Seance/Builder/PreProcess.py:81: FutureWarning: Not prepending group keys to the result index of transform-like apply. In the future, the group keys will be included in the index, regardless of whether the applied function returns a like-indexed object.\n",
            "To preserve the previous behavior, use\n",
            "\n",
            "\t>>> .groupby(..., group_keys=False)\n",
            "\n",
            "To adopt the future behavior and silence this warning, use \n",
            "\n",
            "\t>>> .groupby(..., group_keys=True)\n",
            "  df = df.groupby('Seance ID').apply(self.trans)\n",
            "/usr/local/lib/python3.10/dist-packages/Seance/Forecaster.py:145: FutureWarning: Not prepending group keys to the result index of transform-like apply. In the future, the group keys will be included in the index, regardless of whether the applied function returns a like-indexed object.\n",
            "To preserve the previous behavior, use\n",
            "\n",
            "\t>>> .groupby(..., group_keys=False)\n",
            "\n",
            "To adopt the future behavior and silence this warning, use \n",
            "\n",
            "\t>>> .groupby(..., group_keys=True)\n",
            "  basis = self.processed_df.groupby('Seance ID')[target_column].apply(self.linear_basis)\n",
            "/usr/local/lib/python3.10/dist-packages/mlforecast/core.py:151: UserWarning: The differences argument is deprecated and will be removed in a future version.\n",
            "Please pass an `mlforecast.target_transforms.Differences` instance to the `target_transforms` argument instead.\n",
            "  warnings.warn(\n"
          ]
        },
        {
          "output_type": "stream",
          "name": "stdout",
          "text": [
            "[LightGBM] [Warning] lambda_l1 is set=5.150272856512613, reg_alpha=0.0 will be ignored. Current value: lambda_l1=5.150272856512613\n",
            "[LightGBM] [Warning] num_threads is set=1, n_jobs=-1 will be ignored. Current value: num_threads=1\n",
            "[LightGBM] [Warning] bagging_fraction is set=0.6727559655612525, subsample=1.0 will be ignored. Current value: bagging_fraction=0.6727559655612525\n",
            "[LightGBM] [Warning] lambda_l2 is set=8.481983371798204, reg_lambda=0.0 will be ignored. Current value: lambda_l2=8.481983371798204\n",
            "[LightGBM] [Warning] feature_fraction is set=0.8962816617756231, colsample_bytree=1.0 will be ignored. Current value: feature_fraction=0.8962816617756231\n",
            "[LightGBM] [Warning] bagging_freq is set=0, subsample_freq=0 will be ignored. Current value: bagging_freq=0\n"
          ]
        },
        {
          "output_type": "stream",
          "name": "stderr",
          "text": [
            "/usr/local/lib/python3.10/dist-packages/Seance/Forecaster.py:227: FutureWarning: Not prepending group keys to the result index of transform-like apply. In the future, the group keys will be included in the index, regardless of whether the applied function returns a like-indexed object.\n",
            "To preserve the previous behavior, use\n",
            "\n",
            "\t>>> .groupby(..., group_keys=False)\n",
            "\n",
            "To adopt the future behavior and silence this warning, use \n",
            "\n",
            "\t>>> .groupby(..., group_keys=True)\n",
            "  basis = pred_X.groupby('Seance ID').apply(self.future_linear_basis)\n",
            "/usr/local/lib/python3.10/dist-packages/Seance/Forecaster.py:239: FutureWarning: Not prepending group keys to the result index of transform-like apply. In the future, the group keys will be included in the index, regardless of whether the applied function returns a like-indexed object.\n",
            "To preserve the previous behavior, use\n",
            "\n",
            "\t>>> .groupby(..., group_keys=False)\n",
            "\n",
            "To adopt the future behavior and silence this warning, use \n",
            "\n",
            "\t>>> .groupby(..., group_keys=True)\n",
            "  predicted = predicted.groupby('Seance ID').apply(self.inverse_transform)\n",
            "/usr/local/lib/python3.10/dist-packages/Seance/Optimizer.py:105: SettingWithCopyWarning: \n",
            "A value is trying to be set on a copy of a slice from a DataFrame.\n",
            "Try using .loc[row_indexer,col_indexer] = value instead\n",
            "\n",
            "See the caveats in the documentation: https://pandas.pydata.org/pandas-docs/stable/user_guide/indexing.html#returning-a-view-versus-a-copy\n",
            "  self.test_df[self.date_column] = self.test_df[self.date_column].dt.tz_localize(None)\n",
            "[I 2023-07-24 20:55:48,358] Trial 26 finished with value: 9.845598925247234 and parameters: {'n_estimators': 272, 'lambda_l1': 5.150272856512613, 'lambda_l2': 8.481983371798204, 'num_leaves': 181, 'feature_fraction': 0.8962816617756231, 'bagging_fraction': 0.6727559655612525, 'bagging_freq': 0, 'min_child_samples': 41, 'use_id': False, 'objective': 'regression_l1', 'n_basis': 1, 'differences': 1, 'decay': 0.9, 'scale_type': 'standard', 'seasonal_period': None, 'lags': 47}. Best is trial 21 with value: 8.656891257335076.\n",
            "/usr/local/lib/python3.10/dist-packages/optuna/distributions.py:524: UserWarning: Choices for a categorical distribution should be a tuple of None, bool, int, float and str for persistent storage but contains [52] which is of type list.\n",
            "  warnings.warn(message)\n",
            "/usr/local/lib/python3.10/dist-packages/Seance/Builder/PreProcess.py:81: FutureWarning: Not prepending group keys to the result index of transform-like apply. In the future, the group keys will be included in the index, regardless of whether the applied function returns a like-indexed object.\n",
            "To preserve the previous behavior, use\n",
            "\n",
            "\t>>> .groupby(..., group_keys=False)\n",
            "\n",
            "To adopt the future behavior and silence this warning, use \n",
            "\n",
            "\t>>> .groupby(..., group_keys=True)\n",
            "  df = df.groupby('Seance ID').apply(self.trans)\n",
            "/usr/local/lib/python3.10/dist-packages/Seance/Forecaster.py:145: FutureWarning: Not prepending group keys to the result index of transform-like apply. In the future, the group keys will be included in the index, regardless of whether the applied function returns a like-indexed object.\n",
            "To preserve the previous behavior, use\n",
            "\n",
            "\t>>> .groupby(..., group_keys=False)\n",
            "\n",
            "To adopt the future behavior and silence this warning, use \n",
            "\n",
            "\t>>> .groupby(..., group_keys=True)\n",
            "  basis = self.processed_df.groupby('Seance ID')[target_column].apply(self.linear_basis)\n",
            "/usr/local/lib/python3.10/dist-packages/mlforecast/core.py:151: UserWarning: The differences argument is deprecated and will be removed in a future version.\n",
            "Please pass an `mlforecast.target_transforms.Differences` instance to the `target_transforms` argument instead.\n",
            "  warnings.warn(\n"
          ]
        },
        {
          "output_type": "stream",
          "name": "stdout",
          "text": [
            "[LightGBM] [Warning] feature_fraction is set=0.9205707621031759, colsample_bytree=1.0 will be ignored. Current value: feature_fraction=0.9205707621031759\n",
            "[LightGBM] [Warning] lambda_l1 is set=7.0072851685364, reg_alpha=0.0 will be ignored. Current value: lambda_l1=7.0072851685364\n",
            "[LightGBM] [Warning] num_threads is set=1, n_jobs=-1 will be ignored. Current value: num_threads=1\n",
            "[LightGBM] [Warning] bagging_fraction is set=0.7330508497075185, subsample=1.0 will be ignored. Current value: bagging_fraction=0.7330508497075185\n",
            "[LightGBM] [Warning] lambda_l2 is set=8.30793974745307, reg_lambda=0.0 will be ignored. Current value: lambda_l2=8.30793974745307\n",
            "[LightGBM] [Warning] bagging_freq is set=0, subsample_freq=0 will be ignored. Current value: bagging_freq=0\n"
          ]
        },
        {
          "output_type": "stream",
          "name": "stderr",
          "text": [
            "/usr/local/lib/python3.10/dist-packages/Seance/Forecaster.py:227: FutureWarning: Not prepending group keys to the result index of transform-like apply. In the future, the group keys will be included in the index, regardless of whether the applied function returns a like-indexed object.\n",
            "To preserve the previous behavior, use\n",
            "\n",
            "\t>>> .groupby(..., group_keys=False)\n",
            "\n",
            "To adopt the future behavior and silence this warning, use \n",
            "\n",
            "\t>>> .groupby(..., group_keys=True)\n",
            "  basis = pred_X.groupby('Seance ID').apply(self.future_linear_basis)\n",
            "/usr/local/lib/python3.10/dist-packages/Seance/Forecaster.py:239: FutureWarning: Not prepending group keys to the result index of transform-like apply. In the future, the group keys will be included in the index, regardless of whether the applied function returns a like-indexed object.\n",
            "To preserve the previous behavior, use\n",
            "\n",
            "\t>>> .groupby(..., group_keys=False)\n",
            "\n",
            "To adopt the future behavior and silence this warning, use \n",
            "\n",
            "\t>>> .groupby(..., group_keys=True)\n",
            "  predicted = predicted.groupby('Seance ID').apply(self.inverse_transform)\n",
            "/usr/local/lib/python3.10/dist-packages/Seance/Optimizer.py:105: SettingWithCopyWarning: \n",
            "A value is trying to be set on a copy of a slice from a DataFrame.\n",
            "Try using .loc[row_indexer,col_indexer] = value instead\n",
            "\n",
            "See the caveats in the documentation: https://pandas.pydata.org/pandas-docs/stable/user_guide/indexing.html#returning-a-view-versus-a-copy\n",
            "  self.test_df[self.date_column] = self.test_df[self.date_column].dt.tz_localize(None)\n",
            "[I 2023-07-24 20:56:48,230] Trial 27 finished with value: 9.328846446088152 and parameters: {'n_estimators': 227, 'lambda_l1': 7.0072851685364, 'lambda_l2': 8.30793974745307, 'num_leaves': 234, 'feature_fraction': 0.9205707621031759, 'bagging_fraction': 0.7330508497075185, 'bagging_freq': 0, 'min_child_samples': 43, 'use_id': True, 'objective': 'regression_l1', 'n_basis': 18, 'differences': 1, 'decay': 0.9, 'scale_type': 'robust_boxcox', 'seasonal_period': None, 'lags': 36}. Best is trial 21 with value: 8.656891257335076.\n",
            "/usr/local/lib/python3.10/dist-packages/optuna/distributions.py:524: UserWarning: Choices for a categorical distribution should be a tuple of None, bool, int, float and str for persistent storage but contains [52] which is of type list.\n",
            "  warnings.warn(message)\n",
            "/usr/local/lib/python3.10/dist-packages/Seance/Builder/PreProcess.py:81: FutureWarning: Not prepending group keys to the result index of transform-like apply. In the future, the group keys will be included in the index, regardless of whether the applied function returns a like-indexed object.\n",
            "To preserve the previous behavior, use\n",
            "\n",
            "\t>>> .groupby(..., group_keys=False)\n",
            "\n",
            "To adopt the future behavior and silence this warning, use \n",
            "\n",
            "\t>>> .groupby(..., group_keys=True)\n",
            "  df = df.groupby('Seance ID').apply(self.trans)\n",
            "/usr/local/lib/python3.10/dist-packages/Seance/Forecaster.py:145: FutureWarning: Not prepending group keys to the result index of transform-like apply. In the future, the group keys will be included in the index, regardless of whether the applied function returns a like-indexed object.\n",
            "To preserve the previous behavior, use\n",
            "\n",
            "\t>>> .groupby(..., group_keys=False)\n",
            "\n",
            "To adopt the future behavior and silence this warning, use \n",
            "\n",
            "\t>>> .groupby(..., group_keys=True)\n",
            "  basis = self.processed_df.groupby('Seance ID')[target_column].apply(self.linear_basis)\n",
            "/usr/local/lib/python3.10/dist-packages/mlforecast/core.py:151: UserWarning: The differences argument is deprecated and will be removed in a future version.\n",
            "Please pass an `mlforecast.target_transforms.Differences` instance to the `target_transforms` argument instead.\n",
            "  warnings.warn(\n"
          ]
        },
        {
          "output_type": "stream",
          "name": "stdout",
          "text": [
            "[LightGBM] [Warning] feature_fraction is set=0.9561444071546837, colsample_bytree=1.0 will be ignored. Current value: feature_fraction=0.9561444071546837\n",
            "[LightGBM] [Warning] lambda_l1 is set=3.293523001552177, reg_alpha=0.0 will be ignored. Current value: lambda_l1=3.293523001552177\n",
            "[LightGBM] [Warning] num_threads is set=1, n_jobs=-1 will be ignored. Current value: num_threads=1\n",
            "[LightGBM] [Warning] bagging_fraction is set=0.6721764492139769, subsample=1.0 will be ignored. Current value: bagging_fraction=0.6721764492139769\n",
            "[LightGBM] [Warning] lambda_l2 is set=8.854180748198232, reg_lambda=0.0 will be ignored. Current value: lambda_l2=8.854180748198232\n",
            "[LightGBM] [Warning] bagging_freq is set=10, subsample_freq=0 will be ignored. Current value: bagging_freq=10\n"
          ]
        },
        {
          "output_type": "stream",
          "name": "stderr",
          "text": [
            "/usr/local/lib/python3.10/dist-packages/Seance/Forecaster.py:227: FutureWarning: Not prepending group keys to the result index of transform-like apply. In the future, the group keys will be included in the index, regardless of whether the applied function returns a like-indexed object.\n",
            "To preserve the previous behavior, use\n",
            "\n",
            "\t>>> .groupby(..., group_keys=False)\n",
            "\n",
            "To adopt the future behavior and silence this warning, use \n",
            "\n",
            "\t>>> .groupby(..., group_keys=True)\n",
            "  basis = pred_X.groupby('Seance ID').apply(self.future_linear_basis)\n",
            "/usr/local/lib/python3.10/dist-packages/Seance/Forecaster.py:239: FutureWarning: Not prepending group keys to the result index of transform-like apply. In the future, the group keys will be included in the index, regardless of whether the applied function returns a like-indexed object.\n",
            "To preserve the previous behavior, use\n",
            "\n",
            "\t>>> .groupby(..., group_keys=False)\n",
            "\n",
            "To adopt the future behavior and silence this warning, use \n",
            "\n",
            "\t>>> .groupby(..., group_keys=True)\n",
            "  predicted = predicted.groupby('Seance ID').apply(self.inverse_transform)\n",
            "/usr/local/lib/python3.10/dist-packages/Seance/Optimizer.py:105: SettingWithCopyWarning: \n",
            "A value is trying to be set on a copy of a slice from a DataFrame.\n",
            "Try using .loc[row_indexer,col_indexer] = value instead\n",
            "\n",
            "See the caveats in the documentation: https://pandas.pydata.org/pandas-docs/stable/user_guide/indexing.html#returning-a-view-versus-a-copy\n",
            "  self.test_df[self.date_column] = self.test_df[self.date_column].dt.tz_localize(None)\n",
            "[I 2023-07-24 20:57:14,320] Trial 28 finished with value: 9.80671526098492 and parameters: {'n_estimators': 173, 'lambda_l1': 3.293523001552177, 'lambda_l2': 8.854180748198232, 'num_leaves': 46, 'feature_fraction': 0.9561444071546837, 'bagging_fraction': 0.6721764492139769, 'bagging_freq': 10, 'min_child_samples': 29, 'use_id': True, 'objective': 'regression_l1', 'n_basis': 3, 'differences': 1, 'decay': 0.1, 'scale_type': 'robust_boxcox', 'seasonal_period': None, 'lags': 43}. Best is trial 21 with value: 8.656891257335076.\n",
            "/usr/local/lib/python3.10/dist-packages/optuna/distributions.py:524: UserWarning: Choices for a categorical distribution should be a tuple of None, bool, int, float and str for persistent storage but contains [52] which is of type list.\n",
            "  warnings.warn(message)\n",
            "/usr/local/lib/python3.10/dist-packages/Seance/Builder/PreProcess.py:81: FutureWarning: Not prepending group keys to the result index of transform-like apply. In the future, the group keys will be included in the index, regardless of whether the applied function returns a like-indexed object.\n",
            "To preserve the previous behavior, use\n",
            "\n",
            "\t>>> .groupby(..., group_keys=False)\n",
            "\n",
            "To adopt the future behavior and silence this warning, use \n",
            "\n",
            "\t>>> .groupby(..., group_keys=True)\n",
            "  df = df.groupby('Seance ID').apply(self.trans)\n",
            "/usr/local/lib/python3.10/dist-packages/Seance/Forecaster.py:145: FutureWarning: Not prepending group keys to the result index of transform-like apply. In the future, the group keys will be included in the index, regardless of whether the applied function returns a like-indexed object.\n",
            "To preserve the previous behavior, use\n",
            "\n",
            "\t>>> .groupby(..., group_keys=False)\n",
            "\n",
            "To adopt the future behavior and silence this warning, use \n",
            "\n",
            "\t>>> .groupby(..., group_keys=True)\n",
            "  basis = self.processed_df.groupby('Seance ID')[target_column].apply(self.linear_basis)\n",
            "/usr/local/lib/python3.10/dist-packages/mlforecast/core.py:151: UserWarning: The differences argument is deprecated and will be removed in a future version.\n",
            "Please pass an `mlforecast.target_transforms.Differences` instance to the `target_transforms` argument instead.\n",
            "  warnings.warn(\n"
          ]
        },
        {
          "output_type": "stream",
          "name": "stdout",
          "text": [
            "[LightGBM] [Warning] lambda_l1 is set=7.199150002353584, reg_alpha=0.0 will be ignored. Current value: lambda_l1=7.199150002353584\n",
            "[LightGBM] [Warning] num_threads is set=1, n_jobs=-1 will be ignored. Current value: num_threads=1\n",
            "[LightGBM] [Warning] bagging_fraction is set=0.7307995975831622, subsample=1.0 will be ignored. Current value: bagging_fraction=0.7307995975831622\n",
            "[LightGBM] [Warning] lambda_l2 is set=9.253826834113315, reg_lambda=0.0 will be ignored. Current value: lambda_l2=9.253826834113315\n",
            "[LightGBM] [Warning] feature_fraction is set=0.9136398569202387, colsample_bytree=1.0 will be ignored. Current value: feature_fraction=0.9136398569202387\n",
            "[LightGBM] [Warning] bagging_freq is set=2, subsample_freq=0 will be ignored. Current value: bagging_freq=2\n"
          ]
        },
        {
          "output_type": "stream",
          "name": "stderr",
          "text": [
            "/usr/local/lib/python3.10/dist-packages/Seance/Forecaster.py:227: FutureWarning: Not prepending group keys to the result index of transform-like apply. In the future, the group keys will be included in the index, regardless of whether the applied function returns a like-indexed object.\n",
            "To preserve the previous behavior, use\n",
            "\n",
            "\t>>> .groupby(..., group_keys=False)\n",
            "\n",
            "To adopt the future behavior and silence this warning, use \n",
            "\n",
            "\t>>> .groupby(..., group_keys=True)\n",
            "  basis = pred_X.groupby('Seance ID').apply(self.future_linear_basis)\n",
            "/usr/local/lib/python3.10/dist-packages/Seance/Forecaster.py:239: FutureWarning: Not prepending group keys to the result index of transform-like apply. In the future, the group keys will be included in the index, regardless of whether the applied function returns a like-indexed object.\n",
            "To preserve the previous behavior, use\n",
            "\n",
            "\t>>> .groupby(..., group_keys=False)\n",
            "\n",
            "To adopt the future behavior and silence this warning, use \n",
            "\n",
            "\t>>> .groupby(..., group_keys=True)\n",
            "  predicted = predicted.groupby('Seance ID').apply(self.inverse_transform)\n",
            "/usr/local/lib/python3.10/dist-packages/Seance/Optimizer.py:105: SettingWithCopyWarning: \n",
            "A value is trying to be set on a copy of a slice from a DataFrame.\n",
            "Try using .loc[row_indexer,col_indexer] = value instead\n",
            "\n",
            "See the caveats in the documentation: https://pandas.pydata.org/pandas-docs/stable/user_guide/indexing.html#returning-a-view-versus-a-copy\n",
            "  self.test_df[self.date_column] = self.test_df[self.date_column].dt.tz_localize(None)\n",
            "[I 2023-07-24 20:58:15,571] Trial 29 finished with value: 9.451310833855603 and parameters: {'n_estimators': 236, 'lambda_l1': 7.199150002353584, 'lambda_l2': 9.253826834113315, 'num_leaves': 174, 'feature_fraction': 0.9136398569202387, 'bagging_fraction': 0.7307995975831622, 'bagging_freq': 2, 'min_child_samples': 38, 'use_id': False, 'objective': 'regression_l1', 'n_basis': 9, 'differences': 1, 'decay': 0.9, 'scale_type': 'robust_boxcox', 'seasonal_period': None, 'lags': 48}. Best is trial 21 with value: 8.656891257335076.\n",
            "/usr/local/lib/python3.10/dist-packages/optuna/distributions.py:524: UserWarning: Choices for a categorical distribution should be a tuple of None, bool, int, float and str for persistent storage but contains [52] which is of type list.\n",
            "  warnings.warn(message)\n",
            "/usr/local/lib/python3.10/dist-packages/Seance/Builder/PreProcess.py:81: FutureWarning: Not prepending group keys to the result index of transform-like apply. In the future, the group keys will be included in the index, regardless of whether the applied function returns a like-indexed object.\n",
            "To preserve the previous behavior, use\n",
            "\n",
            "\t>>> .groupby(..., group_keys=False)\n",
            "\n",
            "To adopt the future behavior and silence this warning, use \n",
            "\n",
            "\t>>> .groupby(..., group_keys=True)\n",
            "  df = df.groupby('Seance ID').apply(self.trans)\n",
            "/usr/local/lib/python3.10/dist-packages/Seance/Forecaster.py:145: FutureWarning: Not prepending group keys to the result index of transform-like apply. In the future, the group keys will be included in the index, regardless of whether the applied function returns a like-indexed object.\n",
            "To preserve the previous behavior, use\n",
            "\n",
            "\t>>> .groupby(..., group_keys=False)\n",
            "\n",
            "To adopt the future behavior and silence this warning, use \n",
            "\n",
            "\t>>> .groupby(..., group_keys=True)\n",
            "  basis = self.processed_df.groupby('Seance ID')[target_column].apply(self.linear_basis)\n",
            "/usr/local/lib/python3.10/dist-packages/mlforecast/core.py:151: UserWarning: The differences argument is deprecated and will be removed in a future version.\n",
            "Please pass an `mlforecast.target_transforms.Differences` instance to the `target_transforms` argument instead.\n",
            "  warnings.warn(\n"
          ]
        },
        {
          "output_type": "stream",
          "name": "stdout",
          "text": [
            "[LightGBM] [Warning] feature_fraction is set=0.9677101594972034, colsample_bytree=1.0 will be ignored. Current value: feature_fraction=0.9677101594972034\n",
            "[LightGBM] [Warning] lambda_l1 is set=4.906165183566884, reg_alpha=0.0 will be ignored. Current value: lambda_l1=4.906165183566884\n",
            "[LightGBM] [Warning] num_threads is set=1, n_jobs=-1 will be ignored. Current value: num_threads=1\n",
            "[LightGBM] [Warning] bagging_fraction is set=0.781009514602345, subsample=1.0 will be ignored. Current value: bagging_fraction=0.781009514602345\n",
            "[LightGBM] [Warning] lambda_l2 is set=8.244394959504307, reg_lambda=0.0 will be ignored. Current value: lambda_l2=8.244394959504307\n",
            "[LightGBM] [Warning] bagging_freq is set=7, subsample_freq=0 will be ignored. Current value: bagging_freq=7\n"
          ]
        },
        {
          "output_type": "stream",
          "name": "stderr",
          "text": [
            "/usr/local/lib/python3.10/dist-packages/Seance/Forecaster.py:227: FutureWarning: Not prepending group keys to the result index of transform-like apply. In the future, the group keys will be included in the index, regardless of whether the applied function returns a like-indexed object.\n",
            "To preserve the previous behavior, use\n",
            "\n",
            "\t>>> .groupby(..., group_keys=False)\n",
            "\n",
            "To adopt the future behavior and silence this warning, use \n",
            "\n",
            "\t>>> .groupby(..., group_keys=True)\n",
            "  basis = pred_X.groupby('Seance ID').apply(self.future_linear_basis)\n",
            "/usr/local/lib/python3.10/dist-packages/Seance/Forecaster.py:239: FutureWarning: Not prepending group keys to the result index of transform-like apply. In the future, the group keys will be included in the index, regardless of whether the applied function returns a like-indexed object.\n",
            "To preserve the previous behavior, use\n",
            "\n",
            "\t>>> .groupby(..., group_keys=False)\n",
            "\n",
            "To adopt the future behavior and silence this warning, use \n",
            "\n",
            "\t>>> .groupby(..., group_keys=True)\n",
            "  predicted = predicted.groupby('Seance ID').apply(self.inverse_transform)\n",
            "/usr/local/lib/python3.10/dist-packages/Seance/Optimizer.py:105: SettingWithCopyWarning: \n",
            "A value is trying to be set on a copy of a slice from a DataFrame.\n",
            "Try using .loc[row_indexer,col_indexer] = value instead\n",
            "\n",
            "See the caveats in the documentation: https://pandas.pydata.org/pandas-docs/stable/user_guide/indexing.html#returning-a-view-versus-a-copy\n",
            "  self.test_df[self.date_column] = self.test_df[self.date_column].dt.tz_localize(None)\n",
            "[I 2023-07-24 20:59:05,653] Trial 30 finished with value: 9.253861577739187 and parameters: {'n_estimators': 265, 'lambda_l1': 4.906165183566884, 'lambda_l2': 8.244394959504307, 'num_leaves': 143, 'feature_fraction': 0.9677101594972034, 'bagging_fraction': 0.781009514602345, 'bagging_freq': 7, 'min_child_samples': 65, 'use_id': True, 'objective': 'regression_l1', 'n_basis': 11, 'differences': 1, 'decay': 0.9, 'scale_type': 'robust_boxcox', 'seasonal_period': None, 'lags': 32}. Best is trial 21 with value: 8.656891257335076.\n",
            "/usr/local/lib/python3.10/dist-packages/optuna/distributions.py:524: UserWarning: Choices for a categorical distribution should be a tuple of None, bool, int, float and str for persistent storage but contains [52] which is of type list.\n",
            "  warnings.warn(message)\n",
            "/usr/local/lib/python3.10/dist-packages/Seance/Builder/PreProcess.py:81: FutureWarning: Not prepending group keys to the result index of transform-like apply. In the future, the group keys will be included in the index, regardless of whether the applied function returns a like-indexed object.\n",
            "To preserve the previous behavior, use\n",
            "\n",
            "\t>>> .groupby(..., group_keys=False)\n",
            "\n",
            "To adopt the future behavior and silence this warning, use \n",
            "\n",
            "\t>>> .groupby(..., group_keys=True)\n",
            "  df = df.groupby('Seance ID').apply(self.trans)\n",
            "/usr/local/lib/python3.10/dist-packages/mlforecast/core.py:151: UserWarning: The differences argument is deprecated and will be removed in a future version.\n",
            "Please pass an `mlforecast.target_transforms.Differences` instance to the `target_transforms` argument instead.\n",
            "  warnings.warn(\n"
          ]
        },
        {
          "output_type": "stream",
          "name": "stdout",
          "text": [
            "[LightGBM] [Warning] feature_fraction is set=0.9971462606987549, colsample_bytree=1.0 will be ignored. Current value: feature_fraction=0.9971462606987549\n",
            "[LightGBM] [Warning] lambda_l1 is set=6.386282236175704, reg_alpha=0.0 will be ignored. Current value: lambda_l1=6.386282236175704\n",
            "[LightGBM] [Warning] num_threads is set=1, n_jobs=-1 will be ignored. Current value: num_threads=1\n",
            "[LightGBM] [Warning] bagging_fraction is set=0.739322172101462, subsample=1.0 will be ignored. Current value: bagging_fraction=0.739322172101462\n",
            "[LightGBM] [Warning] lambda_l2 is set=6.636181466581865, reg_lambda=0.0 will be ignored. Current value: lambda_l2=6.636181466581865\n",
            "[LightGBM] [Warning] bagging_freq is set=5, subsample_freq=0 will be ignored. Current value: bagging_freq=5\n"
          ]
        },
        {
          "output_type": "stream",
          "name": "stderr",
          "text": [
            "/usr/local/lib/python3.10/dist-packages/Seance/Forecaster.py:239: FutureWarning: Not prepending group keys to the result index of transform-like apply. In the future, the group keys will be included in the index, regardless of whether the applied function returns a like-indexed object.\n",
            "To preserve the previous behavior, use\n",
            "\n",
            "\t>>> .groupby(..., group_keys=False)\n",
            "\n",
            "To adopt the future behavior and silence this warning, use \n",
            "\n",
            "\t>>> .groupby(..., group_keys=True)\n",
            "  predicted = predicted.groupby('Seance ID').apply(self.inverse_transform)\n",
            "/usr/local/lib/python3.10/dist-packages/Seance/Optimizer.py:105: SettingWithCopyWarning: \n",
            "A value is trying to be set on a copy of a slice from a DataFrame.\n",
            "Try using .loc[row_indexer,col_indexer] = value instead\n",
            "\n",
            "See the caveats in the documentation: https://pandas.pydata.org/pandas-docs/stable/user_guide/indexing.html#returning-a-view-versus-a-copy\n",
            "  self.test_df[self.date_column] = self.test_df[self.date_column].dt.tz_localize(None)\n",
            "[I 2023-07-24 20:59:43,213] Trial 31 finished with value: 9.039556403932632 and parameters: {'n_estimators': 156, 'lambda_l1': 6.386282236175704, 'lambda_l2': 6.636181466581865, 'num_leaves': 111, 'feature_fraction': 0.9971462606987549, 'bagging_fraction': 0.739322172101462, 'bagging_freq': 5, 'min_child_samples': 9, 'use_id': True, 'objective': 'regression_l1', 'n_basis': 0, 'differences': 1, 'decay': 0.75, 'scale_type': 'robust_boxcox', 'seasonal_period': None, 'lags': 53}. Best is trial 21 with value: 8.656891257335076.\n",
            "/usr/local/lib/python3.10/dist-packages/optuna/distributions.py:524: UserWarning: Choices for a categorical distribution should be a tuple of None, bool, int, float and str for persistent storage but contains [52] which is of type list.\n",
            "  warnings.warn(message)\n",
            "/usr/local/lib/python3.10/dist-packages/Seance/Builder/PreProcess.py:81: FutureWarning: Not prepending group keys to the result index of transform-like apply. In the future, the group keys will be included in the index, regardless of whether the applied function returns a like-indexed object.\n",
            "To preserve the previous behavior, use\n",
            "\n",
            "\t>>> .groupby(..., group_keys=False)\n",
            "\n",
            "To adopt the future behavior and silence this warning, use \n",
            "\n",
            "\t>>> .groupby(..., group_keys=True)\n",
            "  df = df.groupby('Seance ID').apply(self.trans)\n",
            "/usr/local/lib/python3.10/dist-packages/Seance/Forecaster.py:145: FutureWarning: Not prepending group keys to the result index of transform-like apply. In the future, the group keys will be included in the index, regardless of whether the applied function returns a like-indexed object.\n",
            "To preserve the previous behavior, use\n",
            "\n",
            "\t>>> .groupby(..., group_keys=False)\n",
            "\n",
            "To adopt the future behavior and silence this warning, use \n",
            "\n",
            "\t>>> .groupby(..., group_keys=True)\n",
            "  basis = self.processed_df.groupby('Seance ID')[target_column].apply(self.linear_basis)\n",
            "/usr/local/lib/python3.10/dist-packages/mlforecast/core.py:151: UserWarning: The differences argument is deprecated and will be removed in a future version.\n",
            "Please pass an `mlforecast.target_transforms.Differences` instance to the `target_transforms` argument instead.\n",
            "  warnings.warn(\n"
          ]
        },
        {
          "output_type": "stream",
          "name": "stdout",
          "text": [
            "[LightGBM] [Warning] feature_fraction is set=0.9622219709853727, colsample_bytree=1.0 will be ignored. Current value: feature_fraction=0.9622219709853727\n",
            "[LightGBM] [Warning] lambda_l1 is set=5.864189969238732, reg_alpha=0.0 will be ignored. Current value: lambda_l1=5.864189969238732\n",
            "[LightGBM] [Warning] num_threads is set=1, n_jobs=-1 will be ignored. Current value: num_threads=1\n",
            "[LightGBM] [Warning] bagging_fraction is set=0.6815006441671164, subsample=1.0 will be ignored. Current value: bagging_fraction=0.6815006441671164\n",
            "[LightGBM] [Warning] lambda_l2 is set=7.938101727223772, reg_lambda=0.0 will be ignored. Current value: lambda_l2=7.938101727223772\n",
            "[LightGBM] [Warning] bagging_freq is set=2, subsample_freq=0 will be ignored. Current value: bagging_freq=2\n"
          ]
        },
        {
          "output_type": "stream",
          "name": "stderr",
          "text": [
            "/usr/local/lib/python3.10/dist-packages/Seance/Forecaster.py:227: FutureWarning: Not prepending group keys to the result index of transform-like apply. In the future, the group keys will be included in the index, regardless of whether the applied function returns a like-indexed object.\n",
            "To preserve the previous behavior, use\n",
            "\n",
            "\t>>> .groupby(..., group_keys=False)\n",
            "\n",
            "To adopt the future behavior and silence this warning, use \n",
            "\n",
            "\t>>> .groupby(..., group_keys=True)\n",
            "  basis = pred_X.groupby('Seance ID').apply(self.future_linear_basis)\n",
            "/usr/local/lib/python3.10/dist-packages/Seance/Forecaster.py:239: FutureWarning: Not prepending group keys to the result index of transform-like apply. In the future, the group keys will be included in the index, regardless of whether the applied function returns a like-indexed object.\n",
            "To preserve the previous behavior, use\n",
            "\n",
            "\t>>> .groupby(..., group_keys=False)\n",
            "\n",
            "To adopt the future behavior and silence this warning, use \n",
            "\n",
            "\t>>> .groupby(..., group_keys=True)\n",
            "  predicted = predicted.groupby('Seance ID').apply(self.inverse_transform)\n",
            "/usr/local/lib/python3.10/dist-packages/Seance/Optimizer.py:105: SettingWithCopyWarning: \n",
            "A value is trying to be set on a copy of a slice from a DataFrame.\n",
            "Try using .loc[row_indexer,col_indexer] = value instead\n",
            "\n",
            "See the caveats in the documentation: https://pandas.pydata.org/pandas-docs/stable/user_guide/indexing.html#returning-a-view-versus-a-copy\n",
            "  self.test_df[self.date_column] = self.test_df[self.date_column].dt.tz_localize(None)\n",
            "[I 2023-07-24 21:00:17,098] Trial 32 finished with value: 8.853225300230294 and parameters: {'n_estimators': 217, 'lambda_l1': 5.864189969238732, 'lambda_l2': 7.938101727223772, 'num_leaves': 44, 'feature_fraction': 0.9622219709853727, 'bagging_fraction': 0.6815006441671164, 'bagging_freq': 2, 'min_child_samples': 27, 'use_id': True, 'objective': 'regression_l1', 'n_basis': 3, 'differences': 1, 'decay': 0.75, 'scale_type': 'robust_boxcox', 'seasonal_period': None, 'lags': 50}. Best is trial 21 with value: 8.656891257335076.\n",
            "/usr/local/lib/python3.10/dist-packages/optuna/distributions.py:524: UserWarning: Choices for a categorical distribution should be a tuple of None, bool, int, float and str for persistent storage but contains [52] which is of type list.\n",
            "  warnings.warn(message)\n",
            "/usr/local/lib/python3.10/dist-packages/Seance/Forecaster.py:145: FutureWarning: Not prepending group keys to the result index of transform-like apply. In the future, the group keys will be included in the index, regardless of whether the applied function returns a like-indexed object.\n",
            "To preserve the previous behavior, use\n",
            "\n",
            "\t>>> .groupby(..., group_keys=False)\n",
            "\n",
            "To adopt the future behavior and silence this warning, use \n",
            "\n",
            "\t>>> .groupby(..., group_keys=True)\n",
            "  basis = self.processed_df.groupby('Seance ID')[target_column].apply(self.linear_basis)\n",
            "/usr/local/lib/python3.10/dist-packages/mlforecast/core.py:151: UserWarning: The differences argument is deprecated and will be removed in a future version.\n",
            "Please pass an `mlforecast.target_transforms.Differences` instance to the `target_transforms` argument instead.\n",
            "  warnings.warn(\n"
          ]
        },
        {
          "output_type": "stream",
          "name": "stdout",
          "text": [
            "[LightGBM] [Warning] feature_fraction is set=0.9540988027013338, colsample_bytree=1.0 will be ignored. Current value: feature_fraction=0.9540988027013338\n",
            "[LightGBM] [Warning] lambda_l1 is set=5.653621444614371, reg_alpha=0.0 will be ignored. Current value: lambda_l1=5.653621444614371\n",
            "[LightGBM] [Warning] num_threads is set=1, n_jobs=-1 will be ignored. Current value: num_threads=1\n",
            "[LightGBM] [Warning] bagging_fraction is set=0.684755782765707, subsample=1.0 will be ignored. Current value: bagging_fraction=0.684755782765707\n",
            "[LightGBM] [Warning] lambda_l2 is set=8.103405144676536, reg_lambda=0.0 will be ignored. Current value: lambda_l2=8.103405144676536\n",
            "[LightGBM] [Warning] bagging_freq is set=2, subsample_freq=0 will be ignored. Current value: bagging_freq=2\n"
          ]
        },
        {
          "output_type": "stream",
          "name": "stderr",
          "text": [
            "/usr/local/lib/python3.10/dist-packages/Seance/Forecaster.py:227: FutureWarning: Not prepending group keys to the result index of transform-like apply. In the future, the group keys will be included in the index, regardless of whether the applied function returns a like-indexed object.\n",
            "To preserve the previous behavior, use\n",
            "\n",
            "\t>>> .groupby(..., group_keys=False)\n",
            "\n",
            "To adopt the future behavior and silence this warning, use \n",
            "\n",
            "\t>>> .groupby(..., group_keys=True)\n",
            "  basis = pred_X.groupby('Seance ID').apply(self.future_linear_basis)\n",
            "/usr/local/lib/python3.10/dist-packages/Seance/Optimizer.py:105: SettingWithCopyWarning: \n",
            "A value is trying to be set on a copy of a slice from a DataFrame.\n",
            "Try using .loc[row_indexer,col_indexer] = value instead\n",
            "\n",
            "See the caveats in the documentation: https://pandas.pydata.org/pandas-docs/stable/user_guide/indexing.html#returning-a-view-versus-a-copy\n",
            "  self.test_df[self.date_column] = self.test_df[self.date_column].dt.tz_localize(None)\n",
            "[I 2023-07-24 21:00:47,358] Trial 33 finished with value: 9.686271587829095 and parameters: {'n_estimators': 217, 'lambda_l1': 5.653621444614371, 'lambda_l2': 8.103405144676536, 'num_leaves': 44, 'feature_fraction': 0.9540988027013338, 'bagging_fraction': 0.684755782765707, 'bagging_freq': 2, 'min_child_samples': 27, 'use_id': True, 'objective': 'regression_l1', 'n_basis': 3, 'differences': 1, 'decay': 0.9, 'scale_type': 'none', 'seasonal_period': None, 'lags': 45}. Best is trial 21 with value: 8.656891257335076.\n",
            "/usr/local/lib/python3.10/dist-packages/optuna/distributions.py:524: UserWarning: Choices for a categorical distribution should be a tuple of None, bool, int, float and str for persistent storage but contains [52] which is of type list.\n",
            "  warnings.warn(message)\n",
            "/usr/local/lib/python3.10/dist-packages/Seance/Builder/PreProcess.py:81: FutureWarning: Not prepending group keys to the result index of transform-like apply. In the future, the group keys will be included in the index, regardless of whether the applied function returns a like-indexed object.\n",
            "To preserve the previous behavior, use\n",
            "\n",
            "\t>>> .groupby(..., group_keys=False)\n",
            "\n",
            "To adopt the future behavior and silence this warning, use \n",
            "\n",
            "\t>>> .groupby(..., group_keys=True)\n",
            "  df = df.groupby('Seance ID').apply(self.trans)\n",
            "/usr/local/lib/python3.10/dist-packages/Seance/Forecaster.py:145: FutureWarning: Not prepending group keys to the result index of transform-like apply. In the future, the group keys will be included in the index, regardless of whether the applied function returns a like-indexed object.\n",
            "To preserve the previous behavior, use\n",
            "\n",
            "\t>>> .groupby(..., group_keys=False)\n",
            "\n",
            "To adopt the future behavior and silence this warning, use \n",
            "\n",
            "\t>>> .groupby(..., group_keys=True)\n",
            "  basis = self.processed_df.groupby('Seance ID')[target_column].apply(self.linear_basis)\n",
            "/usr/local/lib/python3.10/dist-packages/mlforecast/core.py:151: UserWarning: The differences argument is deprecated and will be removed in a future version.\n",
            "Please pass an `mlforecast.target_transforms.Differences` instance to the `target_transforms` argument instead.\n",
            "  warnings.warn(\n"
          ]
        },
        {
          "output_type": "stream",
          "name": "stdout",
          "text": [
            "[LightGBM] [Warning] lambda_l1 is set=4.7042565899077715, reg_alpha=0.0 will be ignored. Current value: lambda_l1=4.7042565899077715\n",
            "[LightGBM] [Warning] num_threads is set=1, n_jobs=-1 will be ignored. Current value: num_threads=1\n",
            "[LightGBM] [Warning] bagging_fraction is set=0.6537793446065493, subsample=1.0 will be ignored. Current value: bagging_fraction=0.6537793446065493\n",
            "[LightGBM] [Warning] lambda_l2 is set=8.995104814545538, reg_lambda=0.0 will be ignored. Current value: lambda_l2=8.995104814545538\n",
            "[LightGBM] [Warning] feature_fraction is set=0.8781978646225702, colsample_bytree=1.0 will be ignored. Current value: feature_fraction=0.8781978646225702\n",
            "[LightGBM] [Warning] bagging_freq is set=1, subsample_freq=0 will be ignored. Current value: bagging_freq=1\n"
          ]
        },
        {
          "output_type": "stream",
          "name": "stderr",
          "text": [
            "/usr/local/lib/python3.10/dist-packages/Seance/Forecaster.py:227: FutureWarning: Not prepending group keys to the result index of transform-like apply. In the future, the group keys will be included in the index, regardless of whether the applied function returns a like-indexed object.\n",
            "To preserve the previous behavior, use\n",
            "\n",
            "\t>>> .groupby(..., group_keys=False)\n",
            "\n",
            "To adopt the future behavior and silence this warning, use \n",
            "\n",
            "\t>>> .groupby(..., group_keys=True)\n",
            "  basis = pred_X.groupby('Seance ID').apply(self.future_linear_basis)\n",
            "/usr/local/lib/python3.10/dist-packages/Seance/Forecaster.py:239: FutureWarning: Not prepending group keys to the result index of transform-like apply. In the future, the group keys will be included in the index, regardless of whether the applied function returns a like-indexed object.\n",
            "To preserve the previous behavior, use\n",
            "\n",
            "\t>>> .groupby(..., group_keys=False)\n",
            "\n",
            "To adopt the future behavior and silence this warning, use \n",
            "\n",
            "\t>>> .groupby(..., group_keys=True)\n",
            "  predicted = predicted.groupby('Seance ID').apply(self.inverse_transform)\n",
            "/usr/local/lib/python3.10/dist-packages/Seance/Optimizer.py:105: SettingWithCopyWarning: \n",
            "A value is trying to be set on a copy of a slice from a DataFrame.\n",
            "Try using .loc[row_indexer,col_indexer] = value instead\n",
            "\n",
            "See the caveats in the documentation: https://pandas.pydata.org/pandas-docs/stable/user_guide/indexing.html#returning-a-view-versus-a-copy\n",
            "  self.test_df[self.date_column] = self.test_df[self.date_column].dt.tz_localize(None)\n",
            "[I 2023-07-24 21:01:27,236] Trial 34 finished with value: 9.930595271282415 and parameters: {'n_estimators': 210, 'lambda_l1': 4.7042565899077715, 'lambda_l2': 8.995104814545538, 'num_leaves': 119, 'feature_fraction': 0.8781978646225702, 'bagging_fraction': 0.6537793446065493, 'bagging_freq': 1, 'min_child_samples': 33, 'use_id': False, 'objective': 'regression_l1', 'n_basis': 7, 'differences': 1, 'decay': -1, 'scale_type': 'minmax', 'seasonal_period': None, 'lags': 49}. Best is trial 21 with value: 8.656891257335076.\n",
            "/usr/local/lib/python3.10/dist-packages/optuna/distributions.py:524: UserWarning: Choices for a categorical distribution should be a tuple of None, bool, int, float and str for persistent storage but contains [52] which is of type list.\n",
            "  warnings.warn(message)\n",
            "/usr/local/lib/python3.10/dist-packages/Seance/Builder/PreProcess.py:81: FutureWarning: Not prepending group keys to the result index of transform-like apply. In the future, the group keys will be included in the index, regardless of whether the applied function returns a like-indexed object.\n",
            "To preserve the previous behavior, use\n",
            "\n",
            "\t>>> .groupby(..., group_keys=False)\n",
            "\n",
            "To adopt the future behavior and silence this warning, use \n",
            "\n",
            "\t>>> .groupby(..., group_keys=True)\n",
            "  df = df.groupby('Seance ID').apply(self.trans)\n",
            "/usr/local/lib/python3.10/dist-packages/Seance/Forecaster.py:145: FutureWarning: Not prepending group keys to the result index of transform-like apply. In the future, the group keys will be included in the index, regardless of whether the applied function returns a like-indexed object.\n",
            "To preserve the previous behavior, use\n",
            "\n",
            "\t>>> .groupby(..., group_keys=False)\n",
            "\n",
            "To adopt the future behavior and silence this warning, use \n",
            "\n",
            "\t>>> .groupby(..., group_keys=True)\n",
            "  basis = self.processed_df.groupby('Seance ID')[target_column].apply(self.linear_basis)\n",
            "/usr/local/lib/python3.10/dist-packages/mlforecast/core.py:151: UserWarning: The differences argument is deprecated and will be removed in a future version.\n",
            "Please pass an `mlforecast.target_transforms.Differences` instance to the `target_transforms` argument instead.\n",
            "  warnings.warn(\n"
          ]
        },
        {
          "output_type": "stream",
          "name": "stdout",
          "text": [
            "[LightGBM] [Warning] feature_fraction is set=0.9202447527201981, colsample_bytree=1.0 will be ignored. Current value: feature_fraction=0.9202447527201981\n",
            "[LightGBM] [Warning] lambda_l1 is set=6.545697719034538, reg_alpha=0.0 will be ignored. Current value: lambda_l1=6.545697719034538\n",
            "[LightGBM] [Warning] num_threads is set=1, n_jobs=-1 will be ignored. Current value: num_threads=1\n",
            "[LightGBM] [Warning] bagging_fraction is set=0.7114650397005398, subsample=1.0 will be ignored. Current value: bagging_fraction=0.7114650397005398\n",
            "[LightGBM] [Warning] lambda_l2 is set=9.877372163432925, reg_lambda=0.0 will be ignored. Current value: lambda_l2=9.877372163432925\n",
            "[LightGBM] [Warning] bagging_freq is set=3, subsample_freq=0 will be ignored. Current value: bagging_freq=3\n"
          ]
        },
        {
          "output_type": "stream",
          "name": "stderr",
          "text": [
            "/usr/local/lib/python3.10/dist-packages/Seance/Forecaster.py:227: FutureWarning: Not prepending group keys to the result index of transform-like apply. In the future, the group keys will be included in the index, regardless of whether the applied function returns a like-indexed object.\n",
            "To preserve the previous behavior, use\n",
            "\n",
            "\t>>> .groupby(..., group_keys=False)\n",
            "\n",
            "To adopt the future behavior and silence this warning, use \n",
            "\n",
            "\t>>> .groupby(..., group_keys=True)\n",
            "  basis = pred_X.groupby('Seance ID').apply(self.future_linear_basis)\n",
            "/usr/local/lib/python3.10/dist-packages/Seance/Forecaster.py:239: FutureWarning: Not prepending group keys to the result index of transform-like apply. In the future, the group keys will be included in the index, regardless of whether the applied function returns a like-indexed object.\n",
            "To preserve the previous behavior, use\n",
            "\n",
            "\t>>> .groupby(..., group_keys=False)\n",
            "\n",
            "To adopt the future behavior and silence this warning, use \n",
            "\n",
            "\t>>> .groupby(..., group_keys=True)\n",
            "  predicted = predicted.groupby('Seance ID').apply(self.inverse_transform)\n",
            "/usr/local/lib/python3.10/dist-packages/Seance/Optimizer.py:105: SettingWithCopyWarning: \n",
            "A value is trying to be set on a copy of a slice from a DataFrame.\n",
            "Try using .loc[row_indexer,col_indexer] = value instead\n",
            "\n",
            "See the caveats in the documentation: https://pandas.pydata.org/pandas-docs/stable/user_guide/indexing.html#returning-a-view-versus-a-copy\n",
            "  self.test_df[self.date_column] = self.test_df[self.date_column].dt.tz_localize(None)\n",
            "[I 2023-07-24 21:02:41,059] Trial 35 finished with value: 9.552733907159638 and parameters: {'n_estimators': 293, 'lambda_l1': 6.545697719034538, 'lambda_l2': 9.877372163432925, 'num_leaves': 195, 'feature_fraction': 0.9202447527201981, 'bagging_fraction': 0.7114650397005398, 'bagging_freq': 3, 'min_child_samples': 52, 'use_id': True, 'objective': 'regression_l1', 'n_basis': 14, 'differences': 1, 'decay': 0.75, 'scale_type': 'robust_boxcox', 'seasonal_period': None, 'lags': 42}. Best is trial 21 with value: 8.656891257335076.\n",
            "/usr/local/lib/python3.10/dist-packages/optuna/distributions.py:524: UserWarning: Choices for a categorical distribution should be a tuple of None, bool, int, float and str for persistent storage but contains [52] which is of type list.\n",
            "  warnings.warn(message)\n",
            "/usr/local/lib/python3.10/dist-packages/Seance/Builder/PreProcess.py:81: FutureWarning: Not prepending group keys to the result index of transform-like apply. In the future, the group keys will be included in the index, regardless of whether the applied function returns a like-indexed object.\n",
            "To preserve the previous behavior, use\n",
            "\n",
            "\t>>> .groupby(..., group_keys=False)\n",
            "\n",
            "To adopt the future behavior and silence this warning, use \n",
            "\n",
            "\t>>> .groupby(..., group_keys=True)\n",
            "  df = df.groupby('Seance ID').apply(self.trans)\n",
            "/usr/local/lib/python3.10/dist-packages/Seance/Forecaster.py:145: FutureWarning: Not prepending group keys to the result index of transform-like apply. In the future, the group keys will be included in the index, regardless of whether the applied function returns a like-indexed object.\n",
            "To preserve the previous behavior, use\n",
            "\n",
            "\t>>> .groupby(..., group_keys=False)\n",
            "\n",
            "To adopt the future behavior and silence this warning, use \n",
            "\n",
            "\t>>> .groupby(..., group_keys=True)\n",
            "  basis = self.processed_df.groupby('Seance ID')[target_column].apply(self.linear_basis)\n",
            "/usr/local/lib/python3.10/dist-packages/mlforecast/core.py:151: UserWarning: The differences argument is deprecated and will be removed in a future version.\n",
            "Please pass an `mlforecast.target_transforms.Differences` instance to the `target_transforms` argument instead.\n",
            "  warnings.warn(\n"
          ]
        },
        {
          "output_type": "stream",
          "name": "stdout",
          "text": [
            "[LightGBM] [Warning] feature_fraction is set=0.8517892766135754, colsample_bytree=1.0 will be ignored. Current value: feature_fraction=0.8517892766135754\n",
            "[LightGBM] [Warning] lambda_l1 is set=5.490075424790318, reg_alpha=0.0 will be ignored. Current value: lambda_l1=5.490075424790318\n",
            "[LightGBM] [Warning] num_threads is set=1, n_jobs=-1 will be ignored. Current value: num_threads=1\n",
            "[LightGBM] [Warning] bagging_fraction is set=0.7224195323377879, subsample=1.0 will be ignored. Current value: bagging_fraction=0.7224195323377879\n",
            "[LightGBM] [Warning] lambda_l2 is set=8.69333271253007, reg_lambda=0.0 will be ignored. Current value: lambda_l2=8.69333271253007\n",
            "[LightGBM] [Warning] bagging_freq is set=1, subsample_freq=0 will be ignored. Current value: bagging_freq=1\n"
          ]
        },
        {
          "output_type": "stream",
          "name": "stderr",
          "text": [
            "/usr/local/lib/python3.10/dist-packages/Seance/Forecaster.py:227: FutureWarning: Not prepending group keys to the result index of transform-like apply. In the future, the group keys will be included in the index, regardless of whether the applied function returns a like-indexed object.\n",
            "To preserve the previous behavior, use\n",
            "\n",
            "\t>>> .groupby(..., group_keys=False)\n",
            "\n",
            "To adopt the future behavior and silence this warning, use \n",
            "\n",
            "\t>>> .groupby(..., group_keys=True)\n",
            "  basis = pred_X.groupby('Seance ID').apply(self.future_linear_basis)\n",
            "/usr/local/lib/python3.10/dist-packages/Seance/Forecaster.py:239: FutureWarning: Not prepending group keys to the result index of transform-like apply. In the future, the group keys will be included in the index, regardless of whether the applied function returns a like-indexed object.\n",
            "To preserve the previous behavior, use\n",
            "\n",
            "\t>>> .groupby(..., group_keys=False)\n",
            "\n",
            "To adopt the future behavior and silence this warning, use \n",
            "\n",
            "\t>>> .groupby(..., group_keys=True)\n",
            "  predicted = predicted.groupby('Seance ID').apply(self.inverse_transform)\n",
            "/usr/local/lib/python3.10/dist-packages/Seance/Optimizer.py:105: SettingWithCopyWarning: \n",
            "A value is trying to be set on a copy of a slice from a DataFrame.\n",
            "Try using .loc[row_indexer,col_indexer] = value instead\n",
            "\n",
            "See the caveats in the documentation: https://pandas.pydata.org/pandas-docs/stable/user_guide/indexing.html#returning-a-view-versus-a-copy\n",
            "  self.test_df[self.date_column] = self.test_df[self.date_column].dt.tz_localize(None)\n",
            "[I 2023-07-24 21:04:09,439] Trial 36 finished with value: 9.11348887868537 and parameters: {'n_estimators': 249, 'lambda_l1': 5.490075424790318, 'lambda_l2': 8.69333271253007, 'num_leaves': 303, 'feature_fraction': 0.8517892766135754, 'bagging_fraction': 0.7224195323377879, 'bagging_freq': 1, 'min_child_samples': 2, 'use_id': True, 'objective': 'regression_l1', 'n_basis': 17, 'differences': 1, 'decay': 0.75, 'scale_type': 'standard', 'seasonal_period': None, 'lags': 50}. Best is trial 21 with value: 8.656891257335076.\n",
            "/usr/local/lib/python3.10/dist-packages/optuna/distributions.py:524: UserWarning: Choices for a categorical distribution should be a tuple of None, bool, int, float and str for persistent storage but contains [52] which is of type list.\n",
            "  warnings.warn(message)\n",
            "/usr/local/lib/python3.10/dist-packages/Seance/Forecaster.py:145: FutureWarning: Not prepending group keys to the result index of transform-like apply. In the future, the group keys will be included in the index, regardless of whether the applied function returns a like-indexed object.\n",
            "To preserve the previous behavior, use\n",
            "\n",
            "\t>>> .groupby(..., group_keys=False)\n",
            "\n",
            "To adopt the future behavior and silence this warning, use \n",
            "\n",
            "\t>>> .groupby(..., group_keys=True)\n",
            "  basis = self.processed_df.groupby('Seance ID')[target_column].apply(self.linear_basis)\n",
            "/usr/local/lib/python3.10/dist-packages/mlforecast/core.py:151: UserWarning: The differences argument is deprecated and will be removed in a future version.\n",
            "Please pass an `mlforecast.target_transforms.Differences` instance to the `target_transforms` argument instead.\n",
            "  warnings.warn(\n"
          ]
        },
        {
          "output_type": "stream",
          "name": "stdout",
          "text": [
            "[LightGBM] [Warning] feature_fraction is set=0.9686531331426624, colsample_bytree=1.0 will be ignored. Current value: feature_fraction=0.9686531331426624\n",
            "[LightGBM] [Warning] lambda_l1 is set=5.907931239709357, reg_alpha=0.0 will be ignored. Current value: lambda_l1=5.907931239709357\n",
            "[LightGBM] [Warning] num_threads is set=1, n_jobs=-1 will be ignored. Current value: num_threads=1\n",
            "[LightGBM] [Warning] bagging_fraction is set=0.6881661730499417, subsample=1.0 will be ignored. Current value: bagging_fraction=0.6881661730499417\n",
            "[LightGBM] [Warning] lambda_l2 is set=7.852699340175329, reg_lambda=0.0 will be ignored. Current value: lambda_l2=7.852699340175329\n",
            "[LightGBM] [Warning] bagging_freq is set=8, subsample_freq=0 will be ignored. Current value: bagging_freq=8\n"
          ]
        },
        {
          "output_type": "stream",
          "name": "stderr",
          "text": [
            "/usr/local/lib/python3.10/dist-packages/Seance/Forecaster.py:227: FutureWarning: Not prepending group keys to the result index of transform-like apply. In the future, the group keys will be included in the index, regardless of whether the applied function returns a like-indexed object.\n",
            "To preserve the previous behavior, use\n",
            "\n",
            "\t>>> .groupby(..., group_keys=False)\n",
            "\n",
            "To adopt the future behavior and silence this warning, use \n",
            "\n",
            "\t>>> .groupby(..., group_keys=True)\n",
            "  basis = pred_X.groupby('Seance ID').apply(self.future_linear_basis)\n",
            "/usr/local/lib/python3.10/dist-packages/Seance/Optimizer.py:105: SettingWithCopyWarning: \n",
            "A value is trying to be set on a copy of a slice from a DataFrame.\n",
            "Try using .loc[row_indexer,col_indexer] = value instead\n",
            "\n",
            "See the caveats in the documentation: https://pandas.pydata.org/pandas-docs/stable/user_guide/indexing.html#returning-a-view-versus-a-copy\n",
            "  self.test_df[self.date_column] = self.test_df[self.date_column].dt.tz_localize(None)\n",
            "[I 2023-07-24 21:04:51,731] Trial 37 finished with value: 9.567765283984219 and parameters: {'n_estimators': 156, 'lambda_l1': 5.907931239709357, 'lambda_l2': 7.852699340175329, 'num_leaves': 243, 'feature_fraction': 0.9686531331426624, 'bagging_fraction': 0.6881661730499417, 'bagging_freq': 8, 'min_child_samples': 25, 'use_id': True, 'objective': 'regression_l1', 'n_basis': 2, 'differences': 1, 'decay': -1, 'scale_type': 'none', 'seasonal_period': None, 'lags': 45}. Best is trial 21 with value: 8.656891257335076.\n",
            "/usr/local/lib/python3.10/dist-packages/optuna/distributions.py:524: UserWarning: Choices for a categorical distribution should be a tuple of None, bool, int, float and str for persistent storage but contains [52] which is of type list.\n",
            "  warnings.warn(message)\n",
            "/usr/local/lib/python3.10/dist-packages/Seance/Builder/PreProcess.py:81: FutureWarning: Not prepending group keys to the result index of transform-like apply. In the future, the group keys will be included in the index, regardless of whether the applied function returns a like-indexed object.\n",
            "To preserve the previous behavior, use\n",
            "\n",
            "\t>>> .groupby(..., group_keys=False)\n",
            "\n",
            "To adopt the future behavior and silence this warning, use \n",
            "\n",
            "\t>>> .groupby(..., group_keys=True)\n",
            "  df = df.groupby('Seance ID').apply(self.trans)\n",
            "/usr/local/lib/python3.10/dist-packages/Seance/Forecaster.py:145: FutureWarning: Not prepending group keys to the result index of transform-like apply. In the future, the group keys will be included in the index, regardless of whether the applied function returns a like-indexed object.\n",
            "To preserve the previous behavior, use\n",
            "\n",
            "\t>>> .groupby(..., group_keys=False)\n",
            "\n",
            "To adopt the future behavior and silence this warning, use \n",
            "\n",
            "\t>>> .groupby(..., group_keys=True)\n",
            "  basis = self.processed_df.groupby('Seance ID')[target_column].apply(self.linear_basis)\n",
            "/usr/local/lib/python3.10/dist-packages/mlforecast/core.py:151: UserWarning: The differences argument is deprecated and will be removed in a future version.\n",
            "Please pass an `mlforecast.target_transforms.Differences` instance to the `target_transforms` argument instead.\n",
            "  warnings.warn(\n"
          ]
        },
        {
          "output_type": "stream",
          "name": "stdout",
          "text": [
            "[LightGBM] [Warning] lambda_l1 is set=4.255720864523996, reg_alpha=0.0 will be ignored. Current value: lambda_l1=4.255720864523996\n",
            "[LightGBM] [Warning] num_threads is set=1, n_jobs=-1 will be ignored. Current value: num_threads=1\n",
            "[LightGBM] [Warning] bagging_fraction is set=0.7105400970773246, subsample=1.0 will be ignored. Current value: bagging_fraction=0.7105400970773246\n",
            "[LightGBM] [Warning] lambda_l2 is set=9.40335065856799, reg_lambda=0.0 will be ignored. Current value: lambda_l2=9.40335065856799\n",
            "[LightGBM] [Warning] feature_fraction is set=0.9384564116014354, colsample_bytree=1.0 will be ignored. Current value: feature_fraction=0.9384564116014354\n",
            "[LightGBM] [Warning] bagging_freq is set=3, subsample_freq=0 will be ignored. Current value: bagging_freq=3\n"
          ]
        },
        {
          "output_type": "stream",
          "name": "stderr",
          "text": [
            "/usr/local/lib/python3.10/dist-packages/Seance/Forecaster.py:227: FutureWarning: Not prepending group keys to the result index of transform-like apply. In the future, the group keys will be included in the index, regardless of whether the applied function returns a like-indexed object.\n",
            "To preserve the previous behavior, use\n",
            "\n",
            "\t>>> .groupby(..., group_keys=False)\n",
            "\n",
            "To adopt the future behavior and silence this warning, use \n",
            "\n",
            "\t>>> .groupby(..., group_keys=True)\n",
            "  basis = pred_X.groupby('Seance ID').apply(self.future_linear_basis)\n",
            "/usr/local/lib/python3.10/dist-packages/Seance/Forecaster.py:239: FutureWarning: Not prepending group keys to the result index of transform-like apply. In the future, the group keys will be included in the index, regardless of whether the applied function returns a like-indexed object.\n",
            "To preserve the previous behavior, use\n",
            "\n",
            "\t>>> .groupby(..., group_keys=False)\n",
            "\n",
            "To adopt the future behavior and silence this warning, use \n",
            "\n",
            "\t>>> .groupby(..., group_keys=True)\n",
            "  predicted = predicted.groupby('Seance ID').apply(self.inverse_transform)\n",
            "/usr/local/lib/python3.10/dist-packages/Seance/Optimizer.py:105: SettingWithCopyWarning: \n",
            "A value is trying to be set on a copy of a slice from a DataFrame.\n",
            "Try using .loc[row_indexer,col_indexer] = value instead\n",
            "\n",
            "See the caveats in the documentation: https://pandas.pydata.org/pandas-docs/stable/user_guide/indexing.html#returning-a-view-versus-a-copy\n",
            "  self.test_df[self.date_column] = self.test_df[self.date_column].dt.tz_localize(None)\n",
            "[I 2023-07-24 21:05:19,611] Trial 38 finished with value: 11.287467079161265 and parameters: {'n_estimators': 253, 'lambda_l1': 4.255720864523996, 'lambda_l2': 9.40335065856799, 'num_leaves': 47, 'feature_fraction': 0.9384564116014354, 'bagging_fraction': 0.7105400970773246, 'bagging_freq': 3, 'min_child_samples': 34, 'use_id': False, 'objective': 'regression', 'n_basis': 11, 'differences': 1, 'decay': 0.99, 'scale_type': 'robust_boxcox', 'seasonal_period': None, 'lags': 39}. Best is trial 21 with value: 8.656891257335076.\n",
            "/usr/local/lib/python3.10/dist-packages/optuna/distributions.py:524: UserWarning: Choices for a categorical distribution should be a tuple of None, bool, int, float and str for persistent storage but contains [52] which is of type list.\n",
            "  warnings.warn(message)\n",
            "/usr/local/lib/python3.10/dist-packages/Seance/Builder/PreProcess.py:81: FutureWarning: Not prepending group keys to the result index of transform-like apply. In the future, the group keys will be included in the index, regardless of whether the applied function returns a like-indexed object.\n",
            "To preserve the previous behavior, use\n",
            "\n",
            "\t>>> .groupby(..., group_keys=False)\n",
            "\n",
            "To adopt the future behavior and silence this warning, use \n",
            "\n",
            "\t>>> .groupby(..., group_keys=True)\n",
            "  df = df.groupby('Seance ID').apply(self.trans)\n",
            "/usr/local/lib/python3.10/dist-packages/Seance/Forecaster.py:145: FutureWarning: Not prepending group keys to the result index of transform-like apply. In the future, the group keys will be included in the index, regardless of whether the applied function returns a like-indexed object.\n",
            "To preserve the previous behavior, use\n",
            "\n",
            "\t>>> .groupby(..., group_keys=False)\n",
            "\n",
            "To adopt the future behavior and silence this warning, use \n",
            "\n",
            "\t>>> .groupby(..., group_keys=True)\n",
            "  basis = self.processed_df.groupby('Seance ID')[target_column].apply(self.linear_basis)\n"
          ]
        },
        {
          "output_type": "stream",
          "name": "stdout",
          "text": [
            "[LightGBM] [Warning] feature_fraction is set=0.9066219646297369, colsample_bytree=1.0 will be ignored. Current value: feature_fraction=0.9066219646297369\n",
            "[LightGBM] [Warning] lambda_l1 is set=7.399274753480147, reg_alpha=0.0 will be ignored. Current value: lambda_l1=7.399274753480147\n",
            "[LightGBM] [Warning] num_threads is set=1, n_jobs=-1 will be ignored. Current value: num_threads=1\n",
            "[LightGBM] [Warning] bagging_fraction is set=0.6100493102828217, subsample=1.0 will be ignored. Current value: bagging_fraction=0.6100493102828217\n",
            "[LightGBM] [Warning] lambda_l2 is set=7.899238191659068, reg_lambda=0.0 will be ignored. Current value: lambda_l2=7.899238191659068\n",
            "[LightGBM] [Warning] bagging_freq is set=0, subsample_freq=0 will be ignored. Current value: bagging_freq=0\n"
          ]
        },
        {
          "output_type": "stream",
          "name": "stderr",
          "text": [
            "/usr/local/lib/python3.10/dist-packages/Seance/Forecaster.py:227: FutureWarning: Not prepending group keys to the result index of transform-like apply. In the future, the group keys will be included in the index, regardless of whether the applied function returns a like-indexed object.\n",
            "To preserve the previous behavior, use\n",
            "\n",
            "\t>>> .groupby(..., group_keys=False)\n",
            "\n",
            "To adopt the future behavior and silence this warning, use \n",
            "\n",
            "\t>>> .groupby(..., group_keys=True)\n",
            "  basis = pred_X.groupby('Seance ID').apply(self.future_linear_basis)\n",
            "/usr/local/lib/python3.10/dist-packages/Seance/Forecaster.py:239: FutureWarning: Not prepending group keys to the result index of transform-like apply. In the future, the group keys will be included in the index, regardless of whether the applied function returns a like-indexed object.\n",
            "To preserve the previous behavior, use\n",
            "\n",
            "\t>>> .groupby(..., group_keys=False)\n",
            "\n",
            "To adopt the future behavior and silence this warning, use \n",
            "\n",
            "\t>>> .groupby(..., group_keys=True)\n",
            "  predicted = predicted.groupby('Seance ID').apply(self.inverse_transform)\n",
            "/usr/local/lib/python3.10/dist-packages/Seance/Optimizer.py:105: SettingWithCopyWarning: \n",
            "A value is trying to be set on a copy of a slice from a DataFrame.\n",
            "Try using .loc[row_indexer,col_indexer] = value instead\n",
            "\n",
            "See the caveats in the documentation: https://pandas.pydata.org/pandas-docs/stable/user_guide/indexing.html#returning-a-view-versus-a-copy\n",
            "  self.test_df[self.date_column] = self.test_df[self.date_column].dt.tz_localize(None)\n",
            "[I 2023-07-24 21:06:09,386] Trial 39 finished with value: 9.797270550616787 and parameters: {'n_estimators': 212, 'lambda_l1': 7.399274753480147, 'lambda_l2': 7.899238191659068, 'num_leaves': 399, 'feature_fraction': 0.9066219646297369, 'bagging_fraction': 0.6100493102828217, 'bagging_freq': 0, 'min_child_samples': 41, 'use_id': True, 'objective': 'regression_l1', 'n_basis': 5, 'differences': None, 'decay': 0.05, 'scale_type': 'minmax', 'seasonal_period': None, 'lags': 46}. Best is trial 21 with value: 8.656891257335076.\n",
            "/usr/local/lib/python3.10/dist-packages/optuna/distributions.py:524: UserWarning: Choices for a categorical distribution should be a tuple of None, bool, int, float and str for persistent storage but contains [52] which is of type list.\n",
            "  warnings.warn(message)\n",
            "/usr/local/lib/python3.10/dist-packages/Seance/Builder/PreProcess.py:81: FutureWarning: Not prepending group keys to the result index of transform-like apply. In the future, the group keys will be included in the index, regardless of whether the applied function returns a like-indexed object.\n",
            "To preserve the previous behavior, use\n",
            "\n",
            "\t>>> .groupby(..., group_keys=False)\n",
            "\n",
            "To adopt the future behavior and silence this warning, use \n",
            "\n",
            "\t>>> .groupby(..., group_keys=True)\n",
            "  df = df.groupby('Seance ID').apply(self.trans)\n",
            "/usr/local/lib/python3.10/dist-packages/Seance/Forecaster.py:145: FutureWarning: Not prepending group keys to the result index of transform-like apply. In the future, the group keys will be included in the index, regardless of whether the applied function returns a like-indexed object.\n",
            "To preserve the previous behavior, use\n",
            "\n",
            "\t>>> .groupby(..., group_keys=False)\n",
            "\n",
            "To adopt the future behavior and silence this warning, use \n",
            "\n",
            "\t>>> .groupby(..., group_keys=True)\n",
            "  basis = self.processed_df.groupby('Seance ID')[target_column].apply(self.linear_basis)\n",
            "/usr/local/lib/python3.10/dist-packages/mlforecast/core.py:151: UserWarning: The differences argument is deprecated and will be removed in a future version.\n",
            "Please pass an `mlforecast.target_transforms.Differences` instance to the `target_transforms` argument instead.\n",
            "  warnings.warn(\n"
          ]
        },
        {
          "output_type": "stream",
          "name": "stdout",
          "text": [
            "[LightGBM] [Warning] feature_fraction is set=0.888793048158128, colsample_bytree=1.0 will be ignored. Current value: feature_fraction=0.888793048158128\n",
            "[LightGBM] [Warning] lambda_l1 is set=6.588741138371283, reg_alpha=0.0 will be ignored. Current value: lambda_l1=6.588741138371283\n",
            "[LightGBM] [Warning] num_threads is set=1, n_jobs=-1 will be ignored. Current value: num_threads=1\n",
            "[LightGBM] [Warning] bagging_fraction is set=0.6434187328432831, subsample=1.0 will be ignored. Current value: bagging_fraction=0.6434187328432831\n",
            "[LightGBM] [Warning] lambda_l2 is set=9.170661624270389, reg_lambda=0.0 will be ignored. Current value: lambda_l2=9.170661624270389\n",
            "[LightGBM] [Warning] bagging_freq is set=11, subsample_freq=0 will be ignored. Current value: bagging_freq=11\n"
          ]
        },
        {
          "output_type": "stream",
          "name": "stderr",
          "text": [
            "/usr/local/lib/python3.10/dist-packages/Seance/Forecaster.py:227: FutureWarning: Not prepending group keys to the result index of transform-like apply. In the future, the group keys will be included in the index, regardless of whether the applied function returns a like-indexed object.\n",
            "To preserve the previous behavior, use\n",
            "\n",
            "\t>>> .groupby(..., group_keys=False)\n",
            "\n",
            "To adopt the future behavior and silence this warning, use \n",
            "\n",
            "\t>>> .groupby(..., group_keys=True)\n",
            "  basis = pred_X.groupby('Seance ID').apply(self.future_linear_basis)\n",
            "/usr/local/lib/python3.10/dist-packages/Seance/Forecaster.py:239: FutureWarning: Not prepending group keys to the result index of transform-like apply. In the future, the group keys will be included in the index, regardless of whether the applied function returns a like-indexed object.\n",
            "To preserve the previous behavior, use\n",
            "\n",
            "\t>>> .groupby(..., group_keys=False)\n",
            "\n",
            "To adopt the future behavior and silence this warning, use \n",
            "\n",
            "\t>>> .groupby(..., group_keys=True)\n",
            "  predicted = predicted.groupby('Seance ID').apply(self.inverse_transform)\n",
            "/usr/local/lib/python3.10/dist-packages/Seance/Optimizer.py:105: SettingWithCopyWarning: \n",
            "A value is trying to be set on a copy of a slice from a DataFrame.\n",
            "Try using .loc[row_indexer,col_indexer] = value instead\n",
            "\n",
            "See the caveats in the documentation: https://pandas.pydata.org/pandas-docs/stable/user_guide/indexing.html#returning-a-view-versus-a-copy\n",
            "  self.test_df[self.date_column] = self.test_df[self.date_column].dt.tz_localize(None)\n",
            "[I 2023-07-24 21:06:50,153] Trial 40 finished with value: 9.427495090429366 and parameters: {'n_estimators': 157, 'lambda_l1': 6.588741138371283, 'lambda_l2': 9.170661624270389, 'num_leaves': 155, 'feature_fraction': 0.888793048158128, 'bagging_fraction': 0.6434187328432831, 'bagging_freq': 11, 'min_child_samples': 31, 'use_id': True, 'objective': 'regression_l1', 'n_basis': 14, 'differences': 1, 'decay': 0.1, 'scale_type': 'standard', 'seasonal_period': None, 'lags': 50}. Best is trial 21 with value: 8.656891257335076.\n",
            "/usr/local/lib/python3.10/dist-packages/optuna/distributions.py:524: UserWarning: Choices for a categorical distribution should be a tuple of None, bool, int, float and str for persistent storage but contains [52] which is of type list.\n",
            "  warnings.warn(message)\n",
            "/usr/local/lib/python3.10/dist-packages/Seance/Builder/PreProcess.py:81: FutureWarning: Not prepending group keys to the result index of transform-like apply. In the future, the group keys will be included in the index, regardless of whether the applied function returns a like-indexed object.\n",
            "To preserve the previous behavior, use\n",
            "\n",
            "\t>>> .groupby(..., group_keys=False)\n",
            "\n",
            "To adopt the future behavior and silence this warning, use \n",
            "\n",
            "\t>>> .groupby(..., group_keys=True)\n",
            "  df = df.groupby('Seance ID').apply(self.trans)\n",
            "/usr/local/lib/python3.10/dist-packages/Seance/Forecaster.py:145: FutureWarning: Not prepending group keys to the result index of transform-like apply. In the future, the group keys will be included in the index, regardless of whether the applied function returns a like-indexed object.\n",
            "To preserve the previous behavior, use\n",
            "\n",
            "\t>>> .groupby(..., group_keys=False)\n",
            "\n",
            "To adopt the future behavior and silence this warning, use \n",
            "\n",
            "\t>>> .groupby(..., group_keys=True)\n",
            "  basis = self.processed_df.groupby('Seance ID')[target_column].apply(self.linear_basis)\n",
            "/usr/local/lib/python3.10/dist-packages/mlforecast/core.py:151: UserWarning: The differences argument is deprecated and will be removed in a future version.\n",
            "Please pass an `mlforecast.target_transforms.Differences` instance to the `target_transforms` argument instead.\n",
            "  warnings.warn(\n"
          ]
        },
        {
          "output_type": "stream",
          "name": "stdout",
          "text": [
            "[LightGBM] [Warning] feature_fraction is set=0.9824273187463899, colsample_bytree=1.0 will be ignored. Current value: feature_fraction=0.9824273187463899\n",
            "[LightGBM] [Warning] lambda_l1 is set=6.1101263222400215, reg_alpha=0.0 will be ignored. Current value: lambda_l1=6.1101263222400215\n",
            "[LightGBM] [Warning] num_threads is set=1, n_jobs=-1 will be ignored. Current value: num_threads=1\n",
            "[LightGBM] [Warning] bagging_fraction is set=0.7562665575672494, subsample=1.0 will be ignored. Current value: bagging_fraction=0.7562665575672494\n",
            "[LightGBM] [Warning] lambda_l2 is set=6.860717938573581, reg_lambda=0.0 will be ignored. Current value: lambda_l2=6.860717938573581\n",
            "[LightGBM] [Warning] bagging_freq is set=6, subsample_freq=0 will be ignored. Current value: bagging_freq=6\n"
          ]
        },
        {
          "output_type": "stream",
          "name": "stderr",
          "text": [
            "/usr/local/lib/python3.10/dist-packages/Seance/Forecaster.py:227: FutureWarning: Not prepending group keys to the result index of transform-like apply. In the future, the group keys will be included in the index, regardless of whether the applied function returns a like-indexed object.\n",
            "To preserve the previous behavior, use\n",
            "\n",
            "\t>>> .groupby(..., group_keys=False)\n",
            "\n",
            "To adopt the future behavior and silence this warning, use \n",
            "\n",
            "\t>>> .groupby(..., group_keys=True)\n",
            "  basis = pred_X.groupby('Seance ID').apply(self.future_linear_basis)\n",
            "/usr/local/lib/python3.10/dist-packages/Seance/Forecaster.py:239: FutureWarning: Not prepending group keys to the result index of transform-like apply. In the future, the group keys will be included in the index, regardless of whether the applied function returns a like-indexed object.\n",
            "To preserve the previous behavior, use\n",
            "\n",
            "\t>>> .groupby(..., group_keys=False)\n",
            "\n",
            "To adopt the future behavior and silence this warning, use \n",
            "\n",
            "\t>>> .groupby(..., group_keys=True)\n",
            "  predicted = predicted.groupby('Seance ID').apply(self.inverse_transform)\n",
            "/usr/local/lib/python3.10/dist-packages/Seance/Optimizer.py:105: SettingWithCopyWarning: \n",
            "A value is trying to be set on a copy of a slice from a DataFrame.\n",
            "Try using .loc[row_indexer,col_indexer] = value instead\n",
            "\n",
            "See the caveats in the documentation: https://pandas.pydata.org/pandas-docs/stable/user_guide/indexing.html#returning-a-view-versus-a-copy\n",
            "  self.test_df[self.date_column] = self.test_df[self.date_column].dt.tz_localize(None)\n",
            "[I 2023-07-24 21:07:16,557] Trial 41 finished with value: 9.053379806116146 and parameters: {'n_estimators': 105, 'lambda_l1': 6.1101263222400215, 'lambda_l2': 6.860717938573581, 'num_leaves': 75, 'feature_fraction': 0.9824273187463899, 'bagging_fraction': 0.7562665575672494, 'bagging_freq': 6, 'min_child_samples': 14, 'use_id': True, 'objective': 'regression_l1', 'n_basis': 5, 'differences': 1, 'decay': 0.75, 'scale_type': 'robust_boxcox', 'seasonal_period': None, 'lags': 53}. Best is trial 21 with value: 8.656891257335076.\n",
            "/usr/local/lib/python3.10/dist-packages/optuna/distributions.py:524: UserWarning: Choices for a categorical distribution should be a tuple of None, bool, int, float and str for persistent storage but contains [52] which is of type list.\n",
            "  warnings.warn(message)\n",
            "/usr/local/lib/python3.10/dist-packages/Seance/Builder/PreProcess.py:81: FutureWarning: Not prepending group keys to the result index of transform-like apply. In the future, the group keys will be included in the index, regardless of whether the applied function returns a like-indexed object.\n",
            "To preserve the previous behavior, use\n",
            "\n",
            "\t>>> .groupby(..., group_keys=False)\n",
            "\n",
            "To adopt the future behavior and silence this warning, use \n",
            "\n",
            "\t>>> .groupby(..., group_keys=True)\n",
            "  df = df.groupby('Seance ID').apply(self.trans)\n",
            "/usr/local/lib/python3.10/dist-packages/mlforecast/core.py:151: UserWarning: The differences argument is deprecated and will be removed in a future version.\n",
            "Please pass an `mlforecast.target_transforms.Differences` instance to the `target_transforms` argument instead.\n",
            "  warnings.warn(\n"
          ]
        },
        {
          "output_type": "stream",
          "name": "stdout",
          "text": [
            "[LightGBM] [Warning] feature_fraction is set=0.995015195675831, colsample_bytree=1.0 will be ignored. Current value: feature_fraction=0.995015195675831\n",
            "[LightGBM] [Warning] lambda_l1 is set=5.317052681225724, reg_alpha=0.0 will be ignored. Current value: lambda_l1=5.317052681225724\n",
            "[LightGBM] [Warning] num_threads is set=1, n_jobs=-1 will be ignored. Current value: num_threads=1\n",
            "[LightGBM] [Warning] bagging_fraction is set=0.7364667267202788, subsample=1.0 will be ignored. Current value: bagging_fraction=0.7364667267202788\n",
            "[LightGBM] [Warning] lambda_l2 is set=8.356884458496706, reg_lambda=0.0 will be ignored. Current value: lambda_l2=8.356884458496706\n",
            "[LightGBM] [Warning] bagging_freq is set=5, subsample_freq=0 will be ignored. Current value: bagging_freq=5\n"
          ]
        },
        {
          "output_type": "stream",
          "name": "stderr",
          "text": [
            "/usr/local/lib/python3.10/dist-packages/Seance/Forecaster.py:239: FutureWarning: Not prepending group keys to the result index of transform-like apply. In the future, the group keys will be included in the index, regardless of whether the applied function returns a like-indexed object.\n",
            "To preserve the previous behavior, use\n",
            "\n",
            "\t>>> .groupby(..., group_keys=False)\n",
            "\n",
            "To adopt the future behavior and silence this warning, use \n",
            "\n",
            "\t>>> .groupby(..., group_keys=True)\n",
            "  predicted = predicted.groupby('Seance ID').apply(self.inverse_transform)\n",
            "/usr/local/lib/python3.10/dist-packages/Seance/Optimizer.py:105: SettingWithCopyWarning: \n",
            "A value is trying to be set on a copy of a slice from a DataFrame.\n",
            "Try using .loc[row_indexer,col_indexer] = value instead\n",
            "\n",
            "See the caveats in the documentation: https://pandas.pydata.org/pandas-docs/stable/user_guide/indexing.html#returning-a-view-versus-a-copy\n",
            "  self.test_df[self.date_column] = self.test_df[self.date_column].dt.tz_localize(None)\n",
            "[I 2023-07-24 21:07:33,118] Trial 42 finished with value: 9.2614924549713 and parameters: {'n_estimators': 53, 'lambda_l1': 5.317052681225724, 'lambda_l2': 8.356884458496706, 'num_leaves': 92, 'feature_fraction': 0.995015195675831, 'bagging_fraction': 0.7364667267202788, 'bagging_freq': 5, 'min_child_samples': 7, 'use_id': True, 'objective': 'regression_l1', 'n_basis': 0, 'differences': 1, 'decay': 0.75, 'scale_type': 'robust_boxcox', 'seasonal_period': None, 'lags': 51}. Best is trial 21 with value: 8.656891257335076.\n",
            "/usr/local/lib/python3.10/dist-packages/optuna/distributions.py:524: UserWarning: Choices for a categorical distribution should be a tuple of None, bool, int, float and str for persistent storage but contains [52] which is of type list.\n",
            "  warnings.warn(message)\n",
            "/usr/local/lib/python3.10/dist-packages/Seance/Builder/PreProcess.py:81: FutureWarning: Not prepending group keys to the result index of transform-like apply. In the future, the group keys will be included in the index, regardless of whether the applied function returns a like-indexed object.\n",
            "To preserve the previous behavior, use\n",
            "\n",
            "\t>>> .groupby(..., group_keys=False)\n",
            "\n",
            "To adopt the future behavior and silence this warning, use \n",
            "\n",
            "\t>>> .groupby(..., group_keys=True)\n",
            "  df = df.groupby('Seance ID').apply(self.trans)\n",
            "/usr/local/lib/python3.10/dist-packages/Seance/Forecaster.py:145: FutureWarning: Not prepending group keys to the result index of transform-like apply. In the future, the group keys will be included in the index, regardless of whether the applied function returns a like-indexed object.\n",
            "To preserve the previous behavior, use\n",
            "\n",
            "\t>>> .groupby(..., group_keys=False)\n",
            "\n",
            "To adopt the future behavior and silence this warning, use \n",
            "\n",
            "\t>>> .groupby(..., group_keys=True)\n",
            "  basis = self.processed_df.groupby('Seance ID')[target_column].apply(self.linear_basis)\n",
            "/usr/local/lib/python3.10/dist-packages/mlforecast/core.py:151: UserWarning: The differences argument is deprecated and will be removed in a future version.\n",
            "Please pass an `mlforecast.target_transforms.Differences` instance to the `target_transforms` argument instead.\n",
            "  warnings.warn(\n"
          ]
        },
        {
          "output_type": "stream",
          "name": "stdout",
          "text": [
            "[LightGBM] [Warning] feature_fraction is set=0.9511652491493994, colsample_bytree=1.0 will be ignored. Current value: feature_fraction=0.9511652491493994\n",
            "[LightGBM] [Warning] lambda_l1 is set=6.261946447544115, reg_alpha=0.0 will be ignored. Current value: lambda_l1=6.261946447544115\n",
            "[LightGBM] [Warning] num_threads is set=1, n_jobs=-1 will be ignored. Current value: num_threads=1\n",
            "[LightGBM] [Warning] bagging_fraction is set=0.7865262787930892, subsample=1.0 will be ignored. Current value: bagging_fraction=0.7865262787930892\n",
            "[LightGBM] [Warning] lambda_l2 is set=7.016036449534752, reg_lambda=0.0 will be ignored. Current value: lambda_l2=7.016036449534752\n",
            "[LightGBM] [Warning] bagging_freq is set=7, subsample_freq=0 will be ignored. Current value: bagging_freq=7\n"
          ]
        },
        {
          "output_type": "stream",
          "name": "stderr",
          "text": [
            "/usr/local/lib/python3.10/dist-packages/Seance/Forecaster.py:227: FutureWarning: Not prepending group keys to the result index of transform-like apply. In the future, the group keys will be included in the index, regardless of whether the applied function returns a like-indexed object.\n",
            "To preserve the previous behavior, use\n",
            "\n",
            "\t>>> .groupby(..., group_keys=False)\n",
            "\n",
            "To adopt the future behavior and silence this warning, use \n",
            "\n",
            "\t>>> .groupby(..., group_keys=True)\n",
            "  basis = pred_X.groupby('Seance ID').apply(self.future_linear_basis)\n",
            "/usr/local/lib/python3.10/dist-packages/Seance/Forecaster.py:239: FutureWarning: Not prepending group keys to the result index of transform-like apply. In the future, the group keys will be included in the index, regardless of whether the applied function returns a like-indexed object.\n",
            "To preserve the previous behavior, use\n",
            "\n",
            "\t>>> .groupby(..., group_keys=False)\n",
            "\n",
            "To adopt the future behavior and silence this warning, use \n",
            "\n",
            "\t>>> .groupby(..., group_keys=True)\n",
            "  predicted = predicted.groupby('Seance ID').apply(self.inverse_transform)\n",
            "/usr/local/lib/python3.10/dist-packages/Seance/Optimizer.py:105: SettingWithCopyWarning: \n",
            "A value is trying to be set on a copy of a slice from a DataFrame.\n",
            "Try using .loc[row_indexer,col_indexer] = value instead\n",
            "\n",
            "See the caveats in the documentation: https://pandas.pydata.org/pandas-docs/stable/user_guide/indexing.html#returning-a-view-versus-a-copy\n",
            "  self.test_df[self.date_column] = self.test_df[self.date_column].dt.tz_localize(None)\n",
            "[I 2023-07-24 21:08:06,357] Trial 43 finished with value: 8.828259942995627 and parameters: {'n_estimators': 124, 'lambda_l1': 6.261946447544115, 'lambda_l2': 7.016036449534752, 'num_leaves': 96, 'feature_fraction': 0.9511652491493994, 'bagging_fraction': 0.7865262787930892, 'bagging_freq': 7, 'min_child_samples': 23, 'use_id': True, 'objective': 'regression_l1', 'n_basis': 3, 'differences': 1, 'decay': 0.75, 'scale_type': 'robust_boxcox', 'seasonal_period': None, 'lags': 51}. Best is trial 21 with value: 8.656891257335076.\n",
            "/usr/local/lib/python3.10/dist-packages/optuna/distributions.py:524: UserWarning: Choices for a categorical distribution should be a tuple of None, bool, int, float and str for persistent storage but contains [52] which is of type list.\n",
            "  warnings.warn(message)\n",
            "/usr/local/lib/python3.10/dist-packages/Seance/Builder/PreProcess.py:81: FutureWarning: Not prepending group keys to the result index of transform-like apply. In the future, the group keys will be included in the index, regardless of whether the applied function returns a like-indexed object.\n",
            "To preserve the previous behavior, use\n",
            "\n",
            "\t>>> .groupby(..., group_keys=False)\n",
            "\n",
            "To adopt the future behavior and silence this warning, use \n",
            "\n",
            "\t>>> .groupby(..., group_keys=True)\n",
            "  df = df.groupby('Seance ID').apply(self.trans)\n",
            "/usr/local/lib/python3.10/dist-packages/Seance/Forecaster.py:145: FutureWarning: Not prepending group keys to the result index of transform-like apply. In the future, the group keys will be included in the index, regardless of whether the applied function returns a like-indexed object.\n",
            "To preserve the previous behavior, use\n",
            "\n",
            "\t>>> .groupby(..., group_keys=False)\n",
            "\n",
            "To adopt the future behavior and silence this warning, use \n",
            "\n",
            "\t>>> .groupby(..., group_keys=True)\n",
            "  basis = self.processed_df.groupby('Seance ID')[target_column].apply(self.linear_basis)\n",
            "/usr/local/lib/python3.10/dist-packages/mlforecast/core.py:151: UserWarning: The differences argument is deprecated and will be removed in a future version.\n",
            "Please pass an `mlforecast.target_transforms.Differences` instance to the `target_transforms` argument instead.\n",
            "  warnings.warn(\n"
          ]
        },
        {
          "output_type": "stream",
          "name": "stdout",
          "text": [
            "[LightGBM] [Warning] feature_fraction is set=0.9324536394043865, colsample_bytree=1.0 will be ignored. Current value: feature_fraction=0.9324536394043865\n",
            "[LightGBM] [Warning] lambda_l1 is set=6.782022671951867, reg_alpha=0.0 will be ignored. Current value: lambda_l1=6.782022671951867\n",
            "[LightGBM] [Warning] num_threads is set=1, n_jobs=-1 will be ignored. Current value: num_threads=1\n",
            "[LightGBM] [Warning] bagging_fraction is set=0.7774214414197916, subsample=1.0 will be ignored. Current value: bagging_fraction=0.7774214414197916\n",
            "[LightGBM] [Warning] lambda_l2 is set=8.722079314087418, reg_lambda=0.0 will be ignored. Current value: lambda_l2=8.722079314087418\n",
            "[LightGBM] [Warning] bagging_freq is set=9, subsample_freq=0 will be ignored. Current value: bagging_freq=9\n"
          ]
        },
        {
          "output_type": "stream",
          "name": "stderr",
          "text": [
            "/usr/local/lib/python3.10/dist-packages/Seance/Forecaster.py:227: FutureWarning: Not prepending group keys to the result index of transform-like apply. In the future, the group keys will be included in the index, regardless of whether the applied function returns a like-indexed object.\n",
            "To preserve the previous behavior, use\n",
            "\n",
            "\t>>> .groupby(..., group_keys=False)\n",
            "\n",
            "To adopt the future behavior and silence this warning, use \n",
            "\n",
            "\t>>> .groupby(..., group_keys=True)\n",
            "  basis = pred_X.groupby('Seance ID').apply(self.future_linear_basis)\n",
            "/usr/local/lib/python3.10/dist-packages/Seance/Forecaster.py:239: FutureWarning: Not prepending group keys to the result index of transform-like apply. In the future, the group keys will be included in the index, regardless of whether the applied function returns a like-indexed object.\n",
            "To preserve the previous behavior, use\n",
            "\n",
            "\t>>> .groupby(..., group_keys=False)\n",
            "\n",
            "To adopt the future behavior and silence this warning, use \n",
            "\n",
            "\t>>> .groupby(..., group_keys=True)\n",
            "  predicted = predicted.groupby('Seance ID').apply(self.inverse_transform)\n",
            "/usr/local/lib/python3.10/dist-packages/Seance/Optimizer.py:105: SettingWithCopyWarning: \n",
            "A value is trying to be set on a copy of a slice from a DataFrame.\n",
            "Try using .loc[row_indexer,col_indexer] = value instead\n",
            "\n",
            "See the caveats in the documentation: https://pandas.pydata.org/pandas-docs/stable/user_guide/indexing.html#returning-a-view-versus-a-copy\n",
            "  self.test_df[self.date_column] = self.test_df[self.date_column].dt.tz_localize(None)\n",
            "[I 2023-07-24 21:08:37,454] Trial 44 finished with value: 8.741405563723005 and parameters: {'n_estimators': 119, 'lambda_l1': 6.782022671951867, 'lambda_l2': 8.722079314087418, 'num_leaves': 131, 'feature_fraction': 0.9324536394043865, 'bagging_fraction': 0.7774214414197916, 'bagging_freq': 9, 'min_child_samples': 38, 'use_id': True, 'objective': 'regression_l1', 'n_basis': 3, 'differences': 1, 'decay': 0.25, 'scale_type': 'robust_boxcox', 'seasonal_period': None, 'lags': 47}. Best is trial 21 with value: 8.656891257335076.\n",
            "/usr/local/lib/python3.10/dist-packages/optuna/distributions.py:524: UserWarning: Choices for a categorical distribution should be a tuple of None, bool, int, float and str for persistent storage but contains [52] which is of type list.\n",
            "  warnings.warn(message)\n",
            "/usr/local/lib/python3.10/dist-packages/Seance/Forecaster.py:145: FutureWarning: Not prepending group keys to the result index of transform-like apply. In the future, the group keys will be included in the index, regardless of whether the applied function returns a like-indexed object.\n",
            "To preserve the previous behavior, use\n",
            "\n",
            "\t>>> .groupby(..., group_keys=False)\n",
            "\n",
            "To adopt the future behavior and silence this warning, use \n",
            "\n",
            "\t>>> .groupby(..., group_keys=True)\n",
            "  basis = self.processed_df.groupby('Seance ID')[target_column].apply(self.linear_basis)\n"
          ]
        },
        {
          "output_type": "stream",
          "name": "stdout",
          "text": [
            "[LightGBM] [Warning] feature_fraction is set=0.9506479653163665, colsample_bytree=1.0 will be ignored. Current value: feature_fraction=0.9506479653163665\n",
            "[LightGBM] [Warning] lambda_l1 is set=7.154536170541314, reg_alpha=0.0 will be ignored. Current value: lambda_l1=7.154536170541314\n",
            "[LightGBM] [Warning] num_threads is set=1, n_jobs=-1 will be ignored. Current value: num_threads=1\n",
            "[LightGBM] [Warning] bagging_fraction is set=0.7886903926116314, subsample=1.0 will be ignored. Current value: bagging_fraction=0.7886903926116314\n",
            "[LightGBM] [Warning] lambda_l2 is set=8.838506733212458, reg_lambda=0.0 will be ignored. Current value: lambda_l2=8.838506733212458\n",
            "[LightGBM] [Warning] bagging_freq is set=9, subsample_freq=0 will be ignored. Current value: bagging_freq=9\n"
          ]
        },
        {
          "output_type": "stream",
          "name": "stderr",
          "text": [
            "/usr/local/lib/python3.10/dist-packages/Seance/Forecaster.py:227: FutureWarning: Not prepending group keys to the result index of transform-like apply. In the future, the group keys will be included in the index, regardless of whether the applied function returns a like-indexed object.\n",
            "To preserve the previous behavior, use\n",
            "\n",
            "\t>>> .groupby(..., group_keys=False)\n",
            "\n",
            "To adopt the future behavior and silence this warning, use \n",
            "\n",
            "\t>>> .groupby(..., group_keys=True)\n",
            "  basis = pred_X.groupby('Seance ID').apply(self.future_linear_basis)\n",
            "/usr/local/lib/python3.10/dist-packages/Seance/Optimizer.py:105: SettingWithCopyWarning: \n",
            "A value is trying to be set on a copy of a slice from a DataFrame.\n",
            "Try using .loc[row_indexer,col_indexer] = value instead\n",
            "\n",
            "See the caveats in the documentation: https://pandas.pydata.org/pandas-docs/stable/user_guide/indexing.html#returning-a-view-versus-a-copy\n",
            "  self.test_df[self.date_column] = self.test_df[self.date_column].dt.tz_localize(None)\n",
            "[I 2023-07-24 21:08:42,164] Trial 45 finished with value: 12.617114733188643 and parameters: {'n_estimators': 128, 'lambda_l1': 7.154536170541314, 'lambda_l2': 8.838506733212458, 'num_leaves': 3, 'feature_fraction': 0.9506479653163665, 'bagging_fraction': 0.7886903926116314, 'bagging_freq': 9, 'min_child_samples': 22, 'use_id': True, 'objective': 'regression', 'n_basis': 4, 'differences': None, 'decay': 0.25, 'scale_type': 'none', 'seasonal_period': None, 'lags': 9}. Best is trial 21 with value: 8.656891257335076.\n",
            "/usr/local/lib/python3.10/dist-packages/optuna/distributions.py:524: UserWarning: Choices for a categorical distribution should be a tuple of None, bool, int, float and str for persistent storage but contains [52] which is of type list.\n",
            "  warnings.warn(message)\n",
            "/usr/local/lib/python3.10/dist-packages/Seance/Builder/PreProcess.py:81: FutureWarning: Not prepending group keys to the result index of transform-like apply. In the future, the group keys will be included in the index, regardless of whether the applied function returns a like-indexed object.\n",
            "To preserve the previous behavior, use\n",
            "\n",
            "\t>>> .groupby(..., group_keys=False)\n",
            "\n",
            "To adopt the future behavior and silence this warning, use \n",
            "\n",
            "\t>>> .groupby(..., group_keys=True)\n",
            "  df = df.groupby('Seance ID').apply(self.trans)\n",
            "/usr/local/lib/python3.10/dist-packages/Seance/Forecaster.py:145: FutureWarning: Not prepending group keys to the result index of transform-like apply. In the future, the group keys will be included in the index, regardless of whether the applied function returns a like-indexed object.\n",
            "To preserve the previous behavior, use\n",
            "\n",
            "\t>>> .groupby(..., group_keys=False)\n",
            "\n",
            "To adopt the future behavior and silence this warning, use \n",
            "\n",
            "\t>>> .groupby(..., group_keys=True)\n",
            "  basis = self.processed_df.groupby('Seance ID')[target_column].apply(self.linear_basis)\n",
            "/usr/local/lib/python3.10/dist-packages/mlforecast/core.py:151: UserWarning: The differences argument is deprecated and will be removed in a future version.\n",
            "Please pass an `mlforecast.target_transforms.Differences` instance to the `target_transforms` argument instead.\n",
            "  warnings.warn(\n"
          ]
        },
        {
          "output_type": "stream",
          "name": "stdout",
          "text": [
            "[LightGBM] [Warning] lambda_l1 is set=6.719833428976733, reg_alpha=0.0 will be ignored. Current value: lambda_l1=6.719833428976733\n",
            "[LightGBM] [Warning] num_threads is set=1, n_jobs=-1 will be ignored. Current value: num_threads=1\n",
            "[LightGBM] [Warning] bagging_fraction is set=0.7957407773854767, subsample=1.0 will be ignored. Current value: bagging_fraction=0.7957407773854767\n",
            "[LightGBM] [Warning] lambda_l2 is set=9.498489383826355, reg_lambda=0.0 will be ignored. Current value: lambda_l2=9.498489383826355\n",
            "[LightGBM] [Warning] feature_fraction is set=0.9229247646513328, colsample_bytree=1.0 will be ignored. Current value: feature_fraction=0.9229247646513328\n",
            "[LightGBM] [Warning] bagging_freq is set=8, subsample_freq=0 will be ignored. Current value: bagging_freq=8\n"
          ]
        },
        {
          "output_type": "stream",
          "name": "stderr",
          "text": [
            "/usr/local/lib/python3.10/dist-packages/Seance/Forecaster.py:227: FutureWarning: Not prepending group keys to the result index of transform-like apply. In the future, the group keys will be included in the index, regardless of whether the applied function returns a like-indexed object.\n",
            "To preserve the previous behavior, use\n",
            "\n",
            "\t>>> .groupby(..., group_keys=False)\n",
            "\n",
            "To adopt the future behavior and silence this warning, use \n",
            "\n",
            "\t>>> .groupby(..., group_keys=True)\n",
            "  basis = pred_X.groupby('Seance ID').apply(self.future_linear_basis)\n",
            "/usr/local/lib/python3.10/dist-packages/Seance/Forecaster.py:239: FutureWarning: Not prepending group keys to the result index of transform-like apply. In the future, the group keys will be included in the index, regardless of whether the applied function returns a like-indexed object.\n",
            "To preserve the previous behavior, use\n",
            "\n",
            "\t>>> .groupby(..., group_keys=False)\n",
            "\n",
            "To adopt the future behavior and silence this warning, use \n",
            "\n",
            "\t>>> .groupby(..., group_keys=True)\n",
            "  predicted = predicted.groupby('Seance ID').apply(self.inverse_transform)\n",
            "/usr/local/lib/python3.10/dist-packages/Seance/Optimizer.py:105: SettingWithCopyWarning: \n",
            "A value is trying to be set on a copy of a slice from a DataFrame.\n",
            "Try using .loc[row_indexer,col_indexer] = value instead\n",
            "\n",
            "See the caveats in the documentation: https://pandas.pydata.org/pandas-docs/stable/user_guide/indexing.html#returning-a-view-versus-a-copy\n",
            "  self.test_df[self.date_column] = self.test_df[self.date_column].dt.tz_localize(None)\n",
            "[I 2023-07-24 21:09:11,194] Trial 46 finished with value: 10.668388898586752 and parameters: {'n_estimators': 105, 'lambda_l1': 6.719833428976733, 'lambda_l2': 9.498489383826355, 'num_leaves': 126, 'feature_fraction': 0.9229247646513328, 'bagging_fraction': 0.7957407773854767, 'bagging_freq': 8, 'min_child_samples': 48, 'use_id': False, 'objective': 'regression_l1', 'n_basis': 22, 'differences': 1, 'decay': 0.25, 'scale_type': 'robust_boxcox', 'seasonal_period': None, 'lags': 26}. Best is trial 21 with value: 8.656891257335076.\n",
            "/usr/local/lib/python3.10/dist-packages/optuna/distributions.py:524: UserWarning: Choices for a categorical distribution should be a tuple of None, bool, int, float and str for persistent storage but contains [52] which is of type list.\n",
            "  warnings.warn(message)\n",
            "/usr/local/lib/python3.10/dist-packages/Seance/Builder/PreProcess.py:81: FutureWarning: Not prepending group keys to the result index of transform-like apply. In the future, the group keys will be included in the index, regardless of whether the applied function returns a like-indexed object.\n",
            "To preserve the previous behavior, use\n",
            "\n",
            "\t>>> .groupby(..., group_keys=False)\n",
            "\n",
            "To adopt the future behavior and silence this warning, use \n",
            "\n",
            "\t>>> .groupby(..., group_keys=True)\n",
            "  df = df.groupby('Seance ID').apply(self.trans)\n",
            "/usr/local/lib/python3.10/dist-packages/Seance/Forecaster.py:145: FutureWarning: Not prepending group keys to the result index of transform-like apply. In the future, the group keys will be included in the index, regardless of whether the applied function returns a like-indexed object.\n",
            "To preserve the previous behavior, use\n",
            "\n",
            "\t>>> .groupby(..., group_keys=False)\n",
            "\n",
            "To adopt the future behavior and silence this warning, use \n",
            "\n",
            "\t>>> .groupby(..., group_keys=True)\n",
            "  basis = self.processed_df.groupby('Seance ID')[target_column].apply(self.linear_basis)\n",
            "/usr/local/lib/python3.10/dist-packages/mlforecast/core.py:151: UserWarning: The differences argument is deprecated and will be removed in a future version.\n",
            "Please pass an `mlforecast.target_transforms.Differences` instance to the `target_transforms` argument instead.\n",
            "  warnings.warn(\n"
          ]
        },
        {
          "output_type": "stream",
          "name": "stdout",
          "text": [
            "[LightGBM] [Warning] feature_fraction is set=0.969754772721306, colsample_bytree=1.0 will be ignored. Current value: feature_fraction=0.969754772721306\n",
            "[LightGBM] [Warning] lambda_l1 is set=7.659192391291258, reg_alpha=0.0 will be ignored. Current value: lambda_l1=7.659192391291258\n",
            "[LightGBM] [Warning] num_threads is set=1, n_jobs=-1 will be ignored. Current value: num_threads=1\n",
            "[LightGBM] [Warning] bagging_fraction is set=0.7840573663883579, subsample=1.0 will be ignored. Current value: bagging_fraction=0.7840573663883579\n",
            "[LightGBM] [Warning] lambda_l2 is set=7.693060991370914, reg_lambda=0.0 will be ignored. Current value: lambda_l2=7.693060991370914\n",
            "[LightGBM] [Warning] bagging_freq is set=7, subsample_freq=0 will be ignored. Current value: bagging_freq=7\n"
          ]
        },
        {
          "output_type": "stream",
          "name": "stderr",
          "text": [
            "/usr/local/lib/python3.10/dist-packages/Seance/Forecaster.py:227: FutureWarning: Not prepending group keys to the result index of transform-like apply. In the future, the group keys will be included in the index, regardless of whether the applied function returns a like-indexed object.\n",
            "To preserve the previous behavior, use\n",
            "\n",
            "\t>>> .groupby(..., group_keys=False)\n",
            "\n",
            "To adopt the future behavior and silence this warning, use \n",
            "\n",
            "\t>>> .groupby(..., group_keys=True)\n",
            "  basis = pred_X.groupby('Seance ID').apply(self.future_linear_basis)\n",
            "/usr/local/lib/python3.10/dist-packages/Seance/Forecaster.py:239: FutureWarning: Not prepending group keys to the result index of transform-like apply. In the future, the group keys will be included in the index, regardless of whether the applied function returns a like-indexed object.\n",
            "To preserve the previous behavior, use\n",
            "\n",
            "\t>>> .groupby(..., group_keys=False)\n",
            "\n",
            "To adopt the future behavior and silence this warning, use \n",
            "\n",
            "\t>>> .groupby(..., group_keys=True)\n",
            "  predicted = predicted.groupby('Seance ID').apply(self.inverse_transform)\n",
            "/usr/local/lib/python3.10/dist-packages/Seance/Optimizer.py:105: SettingWithCopyWarning: \n",
            "A value is trying to be set on a copy of a slice from a DataFrame.\n",
            "Try using .loc[row_indexer,col_indexer] = value instead\n",
            "\n",
            "See the caveats in the documentation: https://pandas.pydata.org/pandas-docs/stable/user_guide/indexing.html#returning-a-view-versus-a-copy\n",
            "  self.test_df[self.date_column] = self.test_df[self.date_column].dt.tz_localize(None)\n",
            "[I 2023-07-24 21:09:46,505] Trial 47 finished with value: 8.966955164440877 and parameters: {'n_estimators': 167, 'lambda_l1': 7.659192391291258, 'lambda_l2': 7.693060991370914, 'num_leaves': 98, 'feature_fraction': 0.969754772721306, 'bagging_fraction': 0.7840573663883579, 'bagging_freq': 7, 'min_child_samples': 100, 'use_id': True, 'objective': 'regression_l1', 'n_basis': 8, 'differences': 1, 'decay': 0.25, 'scale_type': 'log', 'seasonal_period': None, 'lags': 43}. Best is trial 21 with value: 8.656891257335076.\n",
            "/usr/local/lib/python3.10/dist-packages/optuna/distributions.py:524: UserWarning: Choices for a categorical distribution should be a tuple of None, bool, int, float and str for persistent storage but contains [52] which is of type list.\n",
            "  warnings.warn(message)\n",
            "/usr/local/lib/python3.10/dist-packages/Seance/Builder/PreProcess.py:81: FutureWarning: Not prepending group keys to the result index of transform-like apply. In the future, the group keys will be included in the index, regardless of whether the applied function returns a like-indexed object.\n",
            "To preserve the previous behavior, use\n",
            "\n",
            "\t>>> .groupby(..., group_keys=False)\n",
            "\n",
            "To adopt the future behavior and silence this warning, use \n",
            "\n",
            "\t>>> .groupby(..., group_keys=True)\n",
            "  df = df.groupby('Seance ID').apply(self.trans)\n",
            "/usr/local/lib/python3.10/dist-packages/Seance/Forecaster.py:145: FutureWarning: Not prepending group keys to the result index of transform-like apply. In the future, the group keys will be included in the index, regardless of whether the applied function returns a like-indexed object.\n",
            "To preserve the previous behavior, use\n",
            "\n",
            "\t>>> .groupby(..., group_keys=False)\n",
            "\n",
            "To adopt the future behavior and silence this warning, use \n",
            "\n",
            "\t>>> .groupby(..., group_keys=True)\n",
            "  basis = self.processed_df.groupby('Seance ID')[target_column].apply(self.linear_basis)\n"
          ]
        },
        {
          "output_type": "stream",
          "name": "stdout",
          "text": [
            "[LightGBM] [Warning] feature_fraction is set=0.8533769464566826, colsample_bytree=1.0 will be ignored. Current value: feature_fraction=0.8533769464566826\n",
            "[LightGBM] [Warning] lambda_l1 is set=8.303621562104444, reg_alpha=0.0 will be ignored. Current value: lambda_l1=8.303621562104444\n",
            "[LightGBM] [Warning] num_threads is set=1, n_jobs=-1 will be ignored. Current value: num_threads=1\n",
            "[LightGBM] [Warning] bagging_fraction is set=0.7533186102539297, subsample=1.0 will be ignored. Current value: bagging_fraction=0.7533186102539297\n",
            "[LightGBM] [Warning] lambda_l2 is set=7.281254200753423, reg_lambda=0.0 will be ignored. Current value: lambda_l2=7.281254200753423\n",
            "[LightGBM] [Warning] bagging_freq is set=10, subsample_freq=0 will be ignored. Current value: bagging_freq=10\n"
          ]
        },
        {
          "output_type": "stream",
          "name": "stderr",
          "text": [
            "/usr/local/lib/python3.10/dist-packages/Seance/Forecaster.py:227: FutureWarning: Not prepending group keys to the result index of transform-like apply. In the future, the group keys will be included in the index, regardless of whether the applied function returns a like-indexed object.\n",
            "To preserve the previous behavior, use\n",
            "\n",
            "\t>>> .groupby(..., group_keys=False)\n",
            "\n",
            "To adopt the future behavior and silence this warning, use \n",
            "\n",
            "\t>>> .groupby(..., group_keys=True)\n",
            "  basis = pred_X.groupby('Seance ID').apply(self.future_linear_basis)\n",
            "/usr/local/lib/python3.10/dist-packages/Seance/Forecaster.py:239: FutureWarning: Not prepending group keys to the result index of transform-like apply. In the future, the group keys will be included in the index, regardless of whether the applied function returns a like-indexed object.\n",
            "To preserve the previous behavior, use\n",
            "\n",
            "\t>>> .groupby(..., group_keys=False)\n",
            "\n",
            "To adopt the future behavior and silence this warning, use \n",
            "\n",
            "\t>>> .groupby(..., group_keys=True)\n",
            "  predicted = predicted.groupby('Seance ID').apply(self.inverse_transform)\n",
            "/usr/local/lib/python3.10/dist-packages/Seance/Optimizer.py:105: SettingWithCopyWarning: \n",
            "A value is trying to be set on a copy of a slice from a DataFrame.\n",
            "Try using .loc[row_indexer,col_indexer] = value instead\n",
            "\n",
            "See the caveats in the documentation: https://pandas.pydata.org/pandas-docs/stable/user_guide/indexing.html#returning-a-view-versus-a-copy\n",
            "  self.test_df[self.date_column] = self.test_df[self.date_column].dt.tz_localize(None)\n",
            "[I 2023-07-24 21:10:07,598] Trial 48 finished with value: 9.817630507359693 and parameters: {'n_estimators': 145, 'lambda_l1': 8.303621562104444, 'lambda_l2': 7.281254200753423, 'num_leaves': 37, 'feature_fraction': 0.8533769464566826, 'bagging_fraction': 0.7533186102539297, 'bagging_freq': 10, 'min_child_samples': 36, 'use_id': True, 'objective': 'regression', 'n_basis': 11, 'differences': None, 'decay': 0.99, 'scale_type': 'robust_boxcox', 'seasonal_period': None, 'lags': 51}. Best is trial 21 with value: 8.656891257335076.\n",
            "/usr/local/lib/python3.10/dist-packages/optuna/distributions.py:524: UserWarning: Choices for a categorical distribution should be a tuple of None, bool, int, float and str for persistent storage but contains [52] which is of type list.\n",
            "  warnings.warn(message)\n",
            "/usr/local/lib/python3.10/dist-packages/Seance/Builder/PreProcess.py:81: FutureWarning: Not prepending group keys to the result index of transform-like apply. In the future, the group keys will be included in the index, regardless of whether the applied function returns a like-indexed object.\n",
            "To preserve the previous behavior, use\n",
            "\n",
            "\t>>> .groupby(..., group_keys=False)\n",
            "\n",
            "To adopt the future behavior and silence this warning, use \n",
            "\n",
            "\t>>> .groupby(..., group_keys=True)\n",
            "  df = df.groupby('Seance ID').apply(self.trans)\n",
            "/usr/local/lib/python3.10/dist-packages/Seance/Forecaster.py:145: FutureWarning: Not prepending group keys to the result index of transform-like apply. In the future, the group keys will be included in the index, regardless of whether the applied function returns a like-indexed object.\n",
            "To preserve the previous behavior, use\n",
            "\n",
            "\t>>> .groupby(..., group_keys=False)\n",
            "\n",
            "To adopt the future behavior and silence this warning, use \n",
            "\n",
            "\t>>> .groupby(..., group_keys=True)\n",
            "  basis = self.processed_df.groupby('Seance ID')[target_column].apply(self.linear_basis)\n",
            "/usr/local/lib/python3.10/dist-packages/mlforecast/core.py:151: UserWarning: The differences argument is deprecated and will be removed in a future version.\n",
            "Please pass an `mlforecast.target_transforms.Differences` instance to the `target_transforms` argument instead.\n",
            "  warnings.warn(\n"
          ]
        },
        {
          "output_type": "stream",
          "name": "stdout",
          "text": [
            "[LightGBM] [Warning] feature_fraction is set=0.9777794643910716, colsample_bytree=1.0 will be ignored. Current value: feature_fraction=0.9777794643910716\n",
            "[LightGBM] [Warning] lambda_l1 is set=5.666117334589295, reg_alpha=0.0 will be ignored. Current value: lambda_l1=5.666117334589295\n",
            "[LightGBM] [Warning] num_threads is set=1, n_jobs=-1 will be ignored. Current value: num_threads=1\n",
            "[LightGBM] [Warning] bagging_fraction is set=0.6960418150488976, subsample=1.0 will be ignored. Current value: bagging_fraction=0.6960418150488976\n",
            "[LightGBM] [Warning] lambda_l2 is set=8.015703991421033, reg_lambda=0.0 will be ignored. Current value: lambda_l2=8.015703991421033\n",
            "[LightGBM] [Warning] bagging_freq is set=10, subsample_freq=0 will be ignored. Current value: bagging_freq=10\n"
          ]
        },
        {
          "output_type": "stream",
          "name": "stderr",
          "text": [
            "/usr/local/lib/python3.10/dist-packages/Seance/Forecaster.py:227: FutureWarning: Not prepending group keys to the result index of transform-like apply. In the future, the group keys will be included in the index, regardless of whether the applied function returns a like-indexed object.\n",
            "To preserve the previous behavior, use\n",
            "\n",
            "\t>>> .groupby(..., group_keys=False)\n",
            "\n",
            "To adopt the future behavior and silence this warning, use \n",
            "\n",
            "\t>>> .groupby(..., group_keys=True)\n",
            "  basis = pred_X.groupby('Seance ID').apply(self.future_linear_basis)\n",
            "/usr/local/lib/python3.10/dist-packages/Seance/Forecaster.py:239: FutureWarning: Not prepending group keys to the result index of transform-like apply. In the future, the group keys will be included in the index, regardless of whether the applied function returns a like-indexed object.\n",
            "To preserve the previous behavior, use\n",
            "\n",
            "\t>>> .groupby(..., group_keys=False)\n",
            "\n",
            "To adopt the future behavior and silence this warning, use \n",
            "\n",
            "\t>>> .groupby(..., group_keys=True)\n",
            "  predicted = predicted.groupby('Seance ID').apply(self.inverse_transform)\n",
            "/usr/local/lib/python3.10/dist-packages/Seance/Optimizer.py:105: SettingWithCopyWarning: \n",
            "A value is trying to be set on a copy of a slice from a DataFrame.\n",
            "Try using .loc[row_indexer,col_indexer] = value instead\n",
            "\n",
            "See the caveats in the documentation: https://pandas.pydata.org/pandas-docs/stable/user_guide/indexing.html#returning-a-view-versus-a-copy\n",
            "  self.test_df[self.date_column] = self.test_df[self.date_column].dt.tz_localize(None)\n",
            "[I 2023-07-24 21:10:36,252] Trial 49 finished with value: 9.986422904913583 and parameters: {'n_estimators': 115, 'lambda_l1': 5.666117334589295, 'lambda_l2': 8.015703991421033, 'num_leaves': 158, 'feature_fraction': 0.9777794643910716, 'bagging_fraction': 0.6960418150488976, 'bagging_freq': 10, 'min_child_samples': 55, 'use_id': True, 'objective': 'regression_l1', 'n_basis': 13, 'differences': 1, 'decay': 0.25, 'scale_type': 'minmax', 'seasonal_period': None, 'lags': 35}. Best is trial 21 with value: 8.656891257335076.\n"
          ]
        }
      ]
    },
    {
      "cell_type": "code",
      "source": [
        "print(toc - tic)"
      ],
      "metadata": {
        "colab": {
          "base_uri": "https://localhost:8080/"
        },
        "id": "HzKXXWxnNVwa",
        "outputId": "7bb0b92d-88fa-4797-e8a8-8a34d40b4f4a"
      },
      "execution_count": 12,
      "outputs": [
        {
          "output_type": "stream",
          "name": "stdout",
          "text": [
            "2592.189541601\n"
          ]
        }
      ]
    },
    {
      "cell_type": "code",
      "source": [
        "seance = Forecaster(floor=0)\n",
        "seance.fit(weekly_train[['V', 'Datetime', 'ID']],\n",
        "           target_column='V',\n",
        "           date_column='Datetime',\n",
        "           id_column='ID',\n",
        "           freq='W',\n",
        "           **best_params)\n",
        "\n",
        "predicted = seance.predict(13)"
      ],
      "metadata": {
        "colab": {
          "base_uri": "https://localhost:8080/"
        },
        "id": "12ihfMUpJhdn",
        "outputId": "7b65446e-d53e-41b2-e467-5d4ae07726bb"
      },
      "execution_count": 13,
      "outputs": [
        {
          "output_type": "stream",
          "name": "stderr",
          "text": [
            "/usr/local/lib/python3.10/dist-packages/Seance/Builder/PreProcess.py:81: FutureWarning: Not prepending group keys to the result index of transform-like apply. In the future, the group keys will be included in the index, regardless of whether the applied function returns a like-indexed object.\n",
            "To preserve the previous behavior, use\n",
            "\n",
            "\t>>> .groupby(..., group_keys=False)\n",
            "\n",
            "To adopt the future behavior and silence this warning, use \n",
            "\n",
            "\t>>> .groupby(..., group_keys=True)\n",
            "  df = df.groupby('Seance ID').apply(self.trans)\n",
            "/usr/local/lib/python3.10/dist-packages/Seance/Forecaster.py:145: FutureWarning: Not prepending group keys to the result index of transform-like apply. In the future, the group keys will be included in the index, regardless of whether the applied function returns a like-indexed object.\n",
            "To preserve the previous behavior, use\n",
            "\n",
            "\t>>> .groupby(..., group_keys=False)\n",
            "\n",
            "To adopt the future behavior and silence this warning, use \n",
            "\n",
            "\t>>> .groupby(..., group_keys=True)\n",
            "  basis = self.processed_df.groupby('Seance ID')[target_column].apply(self.linear_basis)\n",
            "/usr/local/lib/python3.10/dist-packages/mlforecast/core.py:151: UserWarning: The differences argument is deprecated and will be removed in a future version.\n",
            "Please pass an `mlforecast.target_transforms.Differences` instance to the `target_transforms` argument instead.\n",
            "  warnings.warn(\n"
          ]
        },
        {
          "output_type": "stream",
          "name": "stdout",
          "text": [
            "[LightGBM] [Warning] feature_fraction is set=0.9950920273524461, colsample_bytree=1.0 will be ignored. Current value: feature_fraction=0.9950920273524461\n",
            "[LightGBM] [Warning] lambda_l1 is set=5.756328801480258, reg_alpha=0.0 will be ignored. Current value: lambda_l1=5.756328801480258\n",
            "[LightGBM] [Warning] num_threads is set=1, n_jobs=-1 will be ignored. Current value: num_threads=1\n",
            "[LightGBM] [Warning] bagging_fraction is set=0.734213297254287, subsample=1.0 will be ignored. Current value: bagging_fraction=0.734213297254287\n",
            "[LightGBM] [Warning] lambda_l2 is set=8.459325817828367, reg_lambda=0.0 will be ignored. Current value: lambda_l2=8.459325817828367\n",
            "[LightGBM] [Warning] bagging_freq is set=7, subsample_freq=0 will be ignored. Current value: bagging_freq=7\n"
          ]
        },
        {
          "output_type": "stream",
          "name": "stderr",
          "text": [
            "/usr/local/lib/python3.10/dist-packages/Seance/Forecaster.py:227: FutureWarning: Not prepending group keys to the result index of transform-like apply. In the future, the group keys will be included in the index, regardless of whether the applied function returns a like-indexed object.\n",
            "To preserve the previous behavior, use\n",
            "\n",
            "\t>>> .groupby(..., group_keys=False)\n",
            "\n",
            "To adopt the future behavior and silence this warning, use \n",
            "\n",
            "\t>>> .groupby(..., group_keys=True)\n",
            "  basis = pred_X.groupby('Seance ID').apply(self.future_linear_basis)\n",
            "/usr/local/lib/python3.10/dist-packages/Seance/Forecaster.py:239: FutureWarning: Not prepending group keys to the result index of transform-like apply. In the future, the group keys will be included in the index, regardless of whether the applied function returns a like-indexed object.\n",
            "To preserve the previous behavior, use\n",
            "\n",
            "\t>>> .groupby(..., group_keys=False)\n",
            "\n",
            "To adopt the future behavior and silence this warning, use \n",
            "\n",
            "\t>>> .groupby(..., group_keys=True)\n",
            "  predicted = predicted.groupby('Seance ID').apply(self.inverse_transform)\n"
          ]
        }
      ]
    },
    {
      "cell_type": "code",
      "source": [
        "predicted['sort_id'] = predicted['ID'].str[1:].astype(int)\n",
        "predicted = predicted.sort_values(['sort_id', 'Datetime'])\n",
        "predicted = predicted.merge(weekly_test, on=['ID', 'Datetime'])\n",
        "import numpy as np\n",
        "def smape(A, F):\n",
        "    return 100/len(A) * np.sum(2 * np.abs(F - A) / (0.0001 + (np.abs(A) + np.abs(F))))\n",
        "def grouped_smape(df):\n",
        "    return smape(df['V'], df['LGBMRegressor'])\n",
        "test = predicted.groupby('ID').apply(grouped_smape)\n",
        "print(np.mean(test))"
      ],
      "metadata": {
        "colab": {
          "base_uri": "https://localhost:8080/"
        },
        "id": "e7hOGZcmXCUV",
        "outputId": "14ec1227-ed93-4645-9445-fb56bdd53292"
      },
      "execution_count": 14,
      "outputs": [
        {
          "output_type": "stream",
          "name": "stdout",
          "text": [
            "7.319079394623512\n"
          ]
        }
      ]
    },
    {
      "cell_type": "code",
      "source": [
        "tic = time.perf_counter()\n",
        "opt = Optimize(yearly_train[['V', 'Datetime', 'ID']],\n",
        "            target_column='V',\n",
        "            date_column='Datetime',\n",
        "            id_column='ID',\n",
        "            freq='W',\n",
        "            metric='smape',\n",
        "            ar_lags=[list(range(1, 4))],\n",
        "            test_size=6,\n",
        "            n_trials=50)\n",
        "best_params, study = opt.fit(seed=1)\n",
        "toc = time.perf_counter()\n",
        "print(toc - tic)"
      ],
      "metadata": {
        "colab": {
          "base_uri": "https://localhost:8080/"
        },
        "id": "_BANVoNnK3DA",
        "outputId": "6f2b19ae-0400-4672-f99d-f1e2b2de6c82"
      },
      "execution_count": 7,
      "outputs": [
        {
          "output_type": "stream",
          "name": "stderr",
          "text": [
            "[I 2023-07-25 12:17:49,362] A new study created in memory with name: no-name-6d6a7724-6337-465f-b841-86222408f632\n",
            "/usr/local/lib/python3.10/dist-packages/optuna/distributions.py:524: UserWarning: Choices for a categorical distribution should be a tuple of None, bool, int, float and str for persistent storage but contains [1, 2, 3] which is of type list.\n",
            "  warnings.warn(message)\n",
            "/usr/local/lib/python3.10/dist-packages/Seance/Builder/PreProcess.py:81: FutureWarning: Not prepending group keys to the result index of transform-like apply. In the future, the group keys will be included in the index, regardless of whether the applied function returns a like-indexed object.\n",
            "To preserve the previous behavior, use\n",
            "\n",
            "\t>>> .groupby(..., group_keys=False)\n",
            "\n",
            "To adopt the future behavior and silence this warning, use \n",
            "\n",
            "\t>>> .groupby(..., group_keys=True)\n",
            "  df = df.groupby('Seance ID').apply(self.trans)\n",
            "/usr/local/lib/python3.10/dist-packages/Seance/Forecaster.py:145: FutureWarning: Not prepending group keys to the result index of transform-like apply. In the future, the group keys will be included in the index, regardless of whether the applied function returns a like-indexed object.\n",
            "To preserve the previous behavior, use\n",
            "\n",
            "\t>>> .groupby(..., group_keys=False)\n",
            "\n",
            "To adopt the future behavior and silence this warning, use \n",
            "\n",
            "\t>>> .groupby(..., group_keys=True)\n",
            "  basis = self.processed_df.groupby('Seance ID')[target_column].apply(self.linear_basis)\n"
          ]
        },
        {
          "output_type": "stream",
          "name": "stdout",
          "text": [
            "[LightGBM] [Warning] lambda_l1 is set=7.203244937218336, reg_alpha=0.0 will be ignored. Current value: lambda_l1=7.203244937218336\n",
            "[LightGBM] [Warning] num_threads is set=1, n_jobs=-1 will be ignored. Current value: num_threads=1\n",
            "[LightGBM] [Warning] bagging_fraction is set=0.636935437907519, subsample=1.0 will be ignored. Current value: bagging_fraction=0.636935437907519\n",
            "[LightGBM] [Warning] lambda_l2 is set=0.001143758172305118, reg_lambda=0.0 will be ignored. Current value: lambda_l2=0.001143758172305118\n",
            "[LightGBM] [Warning] feature_fraction is set=0.6587023563268452, colsample_bytree=1.0 will be ignored. Current value: feature_fraction=0.6587023563268452\n",
            "[LightGBM] [Warning] bagging_freq is set=2, subsample_freq=0 will be ignored. Current value: bagging_freq=2\n"
          ]
        },
        {
          "output_type": "stream",
          "name": "stderr",
          "text": [
            "/usr/local/lib/python3.10/dist-packages/Seance/Forecaster.py:227: FutureWarning: Not prepending group keys to the result index of transform-like apply. In the future, the group keys will be included in the index, regardless of whether the applied function returns a like-indexed object.\n",
            "To preserve the previous behavior, use\n",
            "\n",
            "\t>>> .groupby(..., group_keys=False)\n",
            "\n",
            "To adopt the future behavior and silence this warning, use \n",
            "\n",
            "\t>>> .groupby(..., group_keys=True)\n",
            "  basis = pred_X.groupby('Seance ID').apply(self.future_linear_basis)\n",
            "/usr/local/lib/python3.10/dist-packages/Seance/Forecaster.py:239: FutureWarning: Not prepending group keys to the result index of transform-like apply. In the future, the group keys will be included in the index, regardless of whether the applied function returns a like-indexed object.\n",
            "To preserve the previous behavior, use\n",
            "\n",
            "\t>>> .groupby(..., group_keys=False)\n",
            "\n",
            "To adopt the future behavior and silence this warning, use \n",
            "\n",
            "\t>>> .groupby(..., group_keys=True)\n",
            "  predicted = predicted.groupby('Seance ID').apply(self.inverse_transform)\n"
          ]
        },
        {
          "output_type": "stream",
          "name": "stdout",
          "text": [
            "Predicted not the same size as test set\n"
          ]
        },
        {
          "output_type": "stream",
          "name": "stderr",
          "text": [
            "/usr/local/lib/python3.10/dist-packages/Seance/Optimizer.py:105: SettingWithCopyWarning: \n",
            "A value is trying to be set on a copy of a slice from a DataFrame.\n",
            "Try using .loc[row_indexer,col_indexer] = value instead\n",
            "\n",
            "See the caveats in the documentation: https://pandas.pydata.org/pandas-docs/stable/user_guide/indexing.html#returning-a-view-versus-a-copy\n",
            "  self.test_df[self.date_column] = self.test_df[self.date_column].dt.tz_localize(None)\n",
            "[I 2023-07-25 12:19:37,542] Trial 0 finished with value: 18.775324319591107 and parameters: {'n_estimators': 238, 'lambda_l1': 7.203244937218336, 'lambda_l2': 0.001143758172305118, 'num_leaves': 156, 'feature_fraction': 0.6587023563268452, 'bagging_fraction': 0.636935437907519, 'bagging_freq': 2, 'min_child_samples': 35, 'use_id': False, 'objective': 'regression_l1', 'n_basis': 5, 'differences': None, 'decay': 0.9, 'scale_type': 'minmax', 'lags': [1, 2, 3]}. Best is trial 0 with value: 18.775324319591107.\n",
            "/usr/local/lib/python3.10/dist-packages/optuna/distributions.py:524: UserWarning: Choices for a categorical distribution should be a tuple of None, bool, int, float and str for persistent storage but contains [1, 2, 3] which is of type list.\n",
            "  warnings.warn(message)\n",
            "/usr/local/lib/python3.10/dist-packages/Seance/Builder/PreProcess.py:81: FutureWarning: Not prepending group keys to the result index of transform-like apply. In the future, the group keys will be included in the index, regardless of whether the applied function returns a like-indexed object.\n",
            "To preserve the previous behavior, use\n",
            "\n",
            "\t>>> .groupby(..., group_keys=False)\n",
            "\n",
            "To adopt the future behavior and silence this warning, use \n",
            "\n",
            "\t>>> .groupby(..., group_keys=True)\n",
            "  df = df.groupby('Seance ID').apply(self.trans)\n",
            "/usr/local/lib/python3.10/dist-packages/Seance/Forecaster.py:145: FutureWarning: Not prepending group keys to the result index of transform-like apply. In the future, the group keys will be included in the index, regardless of whether the applied function returns a like-indexed object.\n",
            "To preserve the previous behavior, use\n",
            "\n",
            "\t>>> .groupby(..., group_keys=False)\n",
            "\n",
            "To adopt the future behavior and silence this warning, use \n",
            "\n",
            "\t>>> .groupby(..., group_keys=True)\n",
            "  basis = self.processed_df.groupby('Seance ID')[target_column].apply(self.linear_basis)\n"
          ]
        },
        {
          "output_type": "stream",
          "name": "stdout",
          "text": [
            "[LightGBM] [Warning] lambda_l1 is set=8.781425035512706, reg_alpha=0.0 will be ignored. Current value: lambda_l1=8.781425035512706\n",
            "[LightGBM] [Warning] num_threads is set=1, n_jobs=-1 will be ignored. Current value: num_threads=1\n",
            "[LightGBM] [Warning] bagging_fraction is set=0.8132661139892068, subsample=1.0 will be ignored. Current value: bagging_fraction=0.8132661139892068\n",
            "[LightGBM] [Warning] lambda_l2 is set=0.9834683473470326, reg_lambda=0.0 will be ignored. Current value: lambda_l2=0.9834683473470326\n",
            "[LightGBM] [Warning] feature_fraction is set=0.9831558120602008, colsample_bytree=1.0 will be ignored. Current value: feature_fraction=0.9831558120602008\n",
            "[LightGBM] [Warning] bagging_freq is set=11, subsample_freq=0 will be ignored. Current value: bagging_freq=11\n"
          ]
        },
        {
          "output_type": "stream",
          "name": "stderr",
          "text": [
            "/usr/local/lib/python3.10/dist-packages/Seance/Forecaster.py:227: FutureWarning: Not prepending group keys to the result index of transform-like apply. In the future, the group keys will be included in the index, regardless of whether the applied function returns a like-indexed object.\n",
            "To preserve the previous behavior, use\n",
            "\n",
            "\t>>> .groupby(..., group_keys=False)\n",
            "\n",
            "To adopt the future behavior and silence this warning, use \n",
            "\n",
            "\t>>> .groupby(..., group_keys=True)\n",
            "  basis = pred_X.groupby('Seance ID').apply(self.future_linear_basis)\n",
            "/usr/local/lib/python3.10/dist-packages/Seance/Forecaster.py:239: FutureWarning: Not prepending group keys to the result index of transform-like apply. In the future, the group keys will be included in the index, regardless of whether the applied function returns a like-indexed object.\n",
            "To preserve the previous behavior, use\n",
            "\n",
            "\t>>> .groupby(..., group_keys=False)\n",
            "\n",
            "To adopt the future behavior and silence this warning, use \n",
            "\n",
            "\t>>> .groupby(..., group_keys=True)\n",
            "  predicted = predicted.groupby('Seance ID').apply(self.inverse_transform)\n"
          ]
        },
        {
          "output_type": "stream",
          "name": "stdout",
          "text": [
            "Predicted not the same size as test set\n"
          ]
        },
        {
          "output_type": "stream",
          "name": "stderr",
          "text": [
            "/usr/local/lib/python3.10/dist-packages/Seance/Optimizer.py:105: SettingWithCopyWarning: \n",
            "A value is trying to be set on a copy of a slice from a DataFrame.\n",
            "Try using .loc[row_indexer,col_indexer] = value instead\n",
            "\n",
            "See the caveats in the documentation: https://pandas.pydata.org/pandas-docs/stable/user_guide/indexing.html#returning-a-view-versus-a-copy\n",
            "  self.test_df[self.date_column] = self.test_df[self.date_column].dt.tz_localize(None)\n",
            "[I 2023-07-25 12:21:25,371] Trial 1 finished with value: 13.964044147746222 and parameters: {'n_estimators': 126, 'lambda_l1': 8.781425035512706, 'lambda_l2': 0.9834683473470326, 'num_leaves': 217, 'feature_fraction': 0.9831558120602008, 'bagging_fraction': 0.8132661139892068, 'bagging_freq': 11, 'min_child_samples': 32, 'use_id': False, 'objective': 'regression_l1', 'n_basis': 25, 'differences': None, 'decay': 0.25, 'scale_type': 'log', 'lags': [1, 2, 3]}. Best is trial 1 with value: 13.964044147746222.\n",
            "/usr/local/lib/python3.10/dist-packages/optuna/distributions.py:524: UserWarning: Choices for a categorical distribution should be a tuple of None, bool, int, float and str for persistent storage but contains [1, 2, 3] which is of type list.\n",
            "  warnings.warn(message)\n",
            "/usr/local/lib/python3.10/dist-packages/Seance/Builder/PreProcess.py:81: FutureWarning: Not prepending group keys to the result index of transform-like apply. In the future, the group keys will be included in the index, regardless of whether the applied function returns a like-indexed object.\n",
            "To preserve the previous behavior, use\n",
            "\n",
            "\t>>> .groupby(..., group_keys=False)\n",
            "\n",
            "To adopt the future behavior and silence this warning, use \n",
            "\n",
            "\t>>> .groupby(..., group_keys=True)\n",
            "  df = df.groupby('Seance ID').apply(self.trans)\n",
            "/usr/local/lib/python3.10/dist-packages/Seance/Forecaster.py:145: FutureWarning: Not prepending group keys to the result index of transform-like apply. In the future, the group keys will be included in the index, regardless of whether the applied function returns a like-indexed object.\n",
            "To preserve the previous behavior, use\n",
            "\n",
            "\t>>> .groupby(..., group_keys=False)\n",
            "\n",
            "To adopt the future behavior and silence this warning, use \n",
            "\n",
            "\t>>> .groupby(..., group_keys=True)\n",
            "  basis = self.processed_df.groupby('Seance ID')[target_column].apply(self.linear_basis)\n",
            "/usr/local/lib/python3.10/dist-packages/mlforecast/core.py:151: UserWarning: The differences argument is deprecated and will be removed in a future version.\n",
            "Please pass an `mlforecast.target_transforms.Differences` instance to the `target_transforms` argument instead.\n",
            "  warnings.warn(\n"
          ]
        },
        {
          "output_type": "stream",
          "name": "stdout",
          "text": [
            "[LightGBM] [Warning] lambda_l1 is set=1.4672857575908156, reg_alpha=0.0 will be ignored. Current value: lambda_l1=1.4672857575908156\n",
            "[LightGBM] [Warning] num_threads is set=1, n_jobs=-1 will be ignored. Current value: num_threads=1\n",
            "[LightGBM] [Warning] bagging_fraction is set=0.7656223951278274, subsample=1.0 will be ignored. Current value: bagging_fraction=0.7656223951278274\n",
            "[LightGBM] [Warning] lambda_l2 is set=5.893055373139786, reg_lambda=0.0 will be ignored. Current value: lambda_l2=5.893055373139786\n",
            "[LightGBM] [Warning] feature_fraction is set=0.6409337715311303, colsample_bytree=1.0 will be ignored. Current value: feature_fraction=0.6409337715311303\n",
            "[LightGBM] [Warning] bagging_freq is set=11, subsample_freq=0 will be ignored. Current value: bagging_freq=11\n"
          ]
        },
        {
          "output_type": "stream",
          "name": "stderr",
          "text": [
            "/usr/local/lib/python3.10/dist-packages/Seance/Forecaster.py:227: FutureWarning: Not prepending group keys to the result index of transform-like apply. In the future, the group keys will be included in the index, regardless of whether the applied function returns a like-indexed object.\n",
            "To preserve the previous behavior, use\n",
            "\n",
            "\t>>> .groupby(..., group_keys=False)\n",
            "\n",
            "To adopt the future behavior and silence this warning, use \n",
            "\n",
            "\t>>> .groupby(..., group_keys=True)\n",
            "  basis = pred_X.groupby('Seance ID').apply(self.future_linear_basis)\n",
            "/usr/local/lib/python3.10/dist-packages/Seance/Forecaster.py:239: FutureWarning: Not prepending group keys to the result index of transform-like apply. In the future, the group keys will be included in the index, regardless of whether the applied function returns a like-indexed object.\n",
            "To preserve the previous behavior, use\n",
            "\n",
            "\t>>> .groupby(..., group_keys=False)\n",
            "\n",
            "To adopt the future behavior and silence this warning, use \n",
            "\n",
            "\t>>> .groupby(..., group_keys=True)\n",
            "  predicted = predicted.groupby('Seance ID').apply(self.inverse_transform)\n"
          ]
        },
        {
          "output_type": "stream",
          "name": "stdout",
          "text": [
            "Predicted not the same size as test set\n"
          ]
        },
        {
          "output_type": "stream",
          "name": "stderr",
          "text": [
            "/usr/local/lib/python3.10/dist-packages/Seance/Optimizer.py:105: SettingWithCopyWarning: \n",
            "A value is trying to be set on a copy of a slice from a DataFrame.\n",
            "Try using .loc[row_indexer,col_indexer] = value instead\n",
            "\n",
            "See the caveats in the documentation: https://pandas.pydata.org/pandas-docs/stable/user_guide/indexing.html#returning-a-view-versus-a-copy\n",
            "  self.test_df[self.date_column] = self.test_df[self.date_column].dt.tz_localize(None)\n",
            "[I 2023-07-25 12:23:38,399] Trial 2 finished with value: 16.15525588887991 and parameters: {'n_estimators': 308, 'lambda_l1': 1.4672857575908156, 'lambda_l2': 5.893055373139786, 'num_leaves': 359, 'feature_fraction': 0.6409337715311303, 'bagging_fraction': 0.7656223951278274, 'bagging_freq': 11, 'min_child_samples': 42, 'use_id': False, 'objective': 'regression', 'n_basis': 24, 'differences': 1, 'decay': 0.75, 'scale_type': 'standard', 'lags': [1, 2, 3]}. Best is trial 1 with value: 13.964044147746222.\n",
            "/usr/local/lib/python3.10/dist-packages/optuna/distributions.py:524: UserWarning: Choices for a categorical distribution should be a tuple of None, bool, int, float and str for persistent storage but contains [1, 2, 3] which is of type list.\n",
            "  warnings.warn(message)\n",
            "/usr/local/lib/python3.10/dist-packages/Seance/Builder/PreProcess.py:81: FutureWarning: Not prepending group keys to the result index of transform-like apply. In the future, the group keys will be included in the index, regardless of whether the applied function returns a like-indexed object.\n",
            "To preserve the previous behavior, use\n",
            "\n",
            "\t>>> .groupby(..., group_keys=False)\n",
            "\n",
            "To adopt the future behavior and silence this warning, use \n",
            "\n",
            "\t>>> .groupby(..., group_keys=True)\n",
            "  df = df.groupby('Seance ID').apply(self.trans)\n",
            "/usr/local/lib/python3.10/dist-packages/Seance/Forecaster.py:145: FutureWarning: Not prepending group keys to the result index of transform-like apply. In the future, the group keys will be included in the index, regardless of whether the applied function returns a like-indexed object.\n",
            "To preserve the previous behavior, use\n",
            "\n",
            "\t>>> .groupby(..., group_keys=False)\n",
            "\n",
            "To adopt the future behavior and silence this warning, use \n",
            "\n",
            "\t>>> .groupby(..., group_keys=True)\n",
            "  basis = self.processed_df.groupby('Seance ID')[target_column].apply(self.linear_basis)\n"
          ]
        },
        {
          "output_type": "stream",
          "name": "stdout",
          "text": [
            "[LightGBM] [Warning] lambda_l1 is set=8.958862183001806, reg_alpha=0.0 will be ignored. Current value: lambda_l1=8.958862183001806\n",
            "[LightGBM] [Warning] num_threads is set=1, n_jobs=-1 will be ignored. Current value: num_threads=1\n",
            "[LightGBM] [Warning] bagging_fraction is set=0.8486782880836488, subsample=1.0 will be ignored. Current value: bagging_fraction=0.8486782880836488\n",
            "[LightGBM] [Warning] lambda_l2 is set=4.2809119044320365, reg_lambda=0.0 will be ignored. Current value: lambda_l2=4.2809119044320365\n",
            "[LightGBM] [Warning] feature_fraction is set=0.8653765991273792, colsample_bytree=1.0 will be ignored. Current value: feature_fraction=0.8653765991273792\n",
            "[LightGBM] [Warning] bagging_freq is set=1, subsample_freq=0 will be ignored. Current value: bagging_freq=1\n"
          ]
        },
        {
          "output_type": "stream",
          "name": "stderr",
          "text": [
            "/usr/local/lib/python3.10/dist-packages/Seance/Forecaster.py:227: FutureWarning: Not prepending group keys to the result index of transform-like apply. In the future, the group keys will be included in the index, regardless of whether the applied function returns a like-indexed object.\n",
            "To preserve the previous behavior, use\n",
            "\n",
            "\t>>> .groupby(..., group_keys=False)\n",
            "\n",
            "To adopt the future behavior and silence this warning, use \n",
            "\n",
            "\t>>> .groupby(..., group_keys=True)\n",
            "  basis = pred_X.groupby('Seance ID').apply(self.future_linear_basis)\n",
            "/usr/local/lib/python3.10/dist-packages/Seance/Forecaster.py:239: FutureWarning: Not prepending group keys to the result index of transform-like apply. In the future, the group keys will be included in the index, regardless of whether the applied function returns a like-indexed object.\n",
            "To preserve the previous behavior, use\n",
            "\n",
            "\t>>> .groupby(..., group_keys=False)\n",
            "\n",
            "To adopt the future behavior and silence this warning, use \n",
            "\n",
            "\t>>> .groupby(..., group_keys=True)\n",
            "  predicted = predicted.groupby('Seance ID').apply(self.inverse_transform)\n"
          ]
        },
        {
          "output_type": "stream",
          "name": "stdout",
          "text": [
            "Predicted not the same size as test set\n"
          ]
        },
        {
          "output_type": "stream",
          "name": "stderr",
          "text": [
            "/usr/local/lib/python3.10/dist-packages/Seance/Optimizer.py:105: SettingWithCopyWarning: \n",
            "A value is trying to be set on a copy of a slice from a DataFrame.\n",
            "Try using .loc[row_indexer,col_indexer] = value instead\n",
            "\n",
            "See the caveats in the documentation: https://pandas.pydata.org/pandas-docs/stable/user_guide/indexing.html#returning-a-view-versus-a-copy\n",
            "  self.test_df[self.date_column] = self.test_df[self.date_column].dt.tz_localize(None)\n",
            "[I 2023-07-25 12:25:43,220] Trial 3 finished with value: 21.19262283454144 and parameters: {'n_estimators': 171, 'lambda_l1': 8.958862183001806, 'lambda_l2': 4.2809119044320365, 'num_leaves': 495, 'feature_fraction': 0.8653765991273792, 'bagging_fraction': 0.8486782880836488, 'bagging_freq': 1, 'min_child_samples': 95, 'use_id': False, 'objective': 'regression', 'n_basis': 23, 'differences': None, 'decay': 0.75, 'scale_type': 'minmax', 'lags': [1, 2, 3]}. Best is trial 1 with value: 13.964044147746222.\n",
            "/usr/local/lib/python3.10/dist-packages/optuna/distributions.py:524: UserWarning: Choices for a categorical distribution should be a tuple of None, bool, int, float and str for persistent storage but contains [1, 2, 3] which is of type list.\n",
            "  warnings.warn(message)\n",
            "[I 2023-07-25 12:26:26,363] Trial 4 finished with value: inf and parameters: {'n_estimators': 470, 'lambda_l1': 6.96818161793082, 'lambda_l2': 0.6600017365606231, 'num_leaves': 388, 'feature_fraction': 0.9015504753844985, 'bagging_fraction': 0.9692098142185933, 'bagging_freq': 11, 'min_child_samples': 13, 'use_id': False, 'objective': 'regression_l1', 'n_basis': 22, 'differences': 1, 'decay': 0.5, 'scale_type': 'robust_boxcox', 'lags': [1, 2, 3]}. Best is trial 1 with value: 13.964044147746222.\n"
          ]
        },
        {
          "output_type": "stream",
          "name": "stdout",
          "text": [
            "ERROR WHILE TUNING: Data must not be constant.\n"
          ]
        },
        {
          "output_type": "stream",
          "name": "stderr",
          "text": [
            "/usr/local/lib/python3.10/dist-packages/optuna/distributions.py:524: UserWarning: Choices for a categorical distribution should be a tuple of None, bool, int, float and str for persistent storage but contains [1, 2, 3] which is of type list.\n",
            "  warnings.warn(message)\n",
            "/usr/local/lib/python3.10/dist-packages/Seance/Builder/PreProcess.py:81: FutureWarning: Not prepending group keys to the result index of transform-like apply. In the future, the group keys will be included in the index, regardless of whether the applied function returns a like-indexed object.\n",
            "To preserve the previous behavior, use\n",
            "\n",
            "\t>>> .groupby(..., group_keys=False)\n",
            "\n",
            "To adopt the future behavior and silence this warning, use \n",
            "\n",
            "\t>>> .groupby(..., group_keys=True)\n",
            "  df = df.groupby('Seance ID').apply(self.trans)\n",
            "/usr/local/lib/python3.10/dist-packages/Seance/Forecaster.py:145: FutureWarning: Not prepending group keys to the result index of transform-like apply. In the future, the group keys will be included in the index, regardless of whether the applied function returns a like-indexed object.\n",
            "To preserve the previous behavior, use\n",
            "\n",
            "\t>>> .groupby(..., group_keys=False)\n",
            "\n",
            "To adopt the future behavior and silence this warning, use \n",
            "\n",
            "\t>>> .groupby(..., group_keys=True)\n",
            "  basis = self.processed_df.groupby('Seance ID')[target_column].apply(self.linear_basis)\n",
            "/usr/local/lib/python3.10/dist-packages/mlforecast/core.py:151: UserWarning: The differences argument is deprecated and will be removed in a future version.\n",
            "Please pass an `mlforecast.target_transforms.Differences` instance to the `target_transforms` argument instead.\n",
            "  warnings.warn(\n"
          ]
        },
        {
          "output_type": "stream",
          "name": "stdout",
          "text": [
            "[LightGBM] [Warning] feature_fraction is set=0.6178207514179047, colsample_bytree=1.0 will be ignored. Current value: feature_fraction=0.6178207514179047\n",
            "[LightGBM] [Warning] lambda_l1 is set=1.3645522652422977, reg_alpha=0.0 will be ignored. Current value: lambda_l1=1.3645522652422977\n",
            "[LightGBM] [Warning] num_threads is set=1, n_jobs=-1 will be ignored. Current value: num_threads=1\n",
            "[LightGBM] [Warning] bagging_fraction is set=0.6429976516424372, subsample=1.0 will be ignored. Current value: bagging_fraction=0.6429976516424372\n",
            "[LightGBM] [Warning] lambda_l2 is set=0.5991769045229397, reg_lambda=0.0 will be ignored. Current value: lambda_l2=0.5991769045229397\n",
            "[LightGBM] [Warning] bagging_freq is set=3, subsample_freq=0 will be ignored. Current value: bagging_freq=3\n"
          ]
        },
        {
          "output_type": "stream",
          "name": "stderr",
          "text": [
            "/usr/local/lib/python3.10/dist-packages/Seance/Forecaster.py:227: FutureWarning: Not prepending group keys to the result index of transform-like apply. In the future, the group keys will be included in the index, regardless of whether the applied function returns a like-indexed object.\n",
            "To preserve the previous behavior, use\n",
            "\n",
            "\t>>> .groupby(..., group_keys=False)\n",
            "\n",
            "To adopt the future behavior and silence this warning, use \n",
            "\n",
            "\t>>> .groupby(..., group_keys=True)\n",
            "  basis = pred_X.groupby('Seance ID').apply(self.future_linear_basis)\n",
            "/usr/local/lib/python3.10/dist-packages/Seance/Forecaster.py:239: FutureWarning: Not prepending group keys to the result index of transform-like apply. In the future, the group keys will be included in the index, regardless of whether the applied function returns a like-indexed object.\n",
            "To preserve the previous behavior, use\n",
            "\n",
            "\t>>> .groupby(..., group_keys=False)\n",
            "\n",
            "To adopt the future behavior and silence this warning, use \n",
            "\n",
            "\t>>> .groupby(..., group_keys=True)\n",
            "  predicted = predicted.groupby('Seance ID').apply(self.inverse_transform)\n"
          ]
        },
        {
          "output_type": "stream",
          "name": "stdout",
          "text": [
            "Predicted not the same size as test set\n"
          ]
        },
        {
          "output_type": "stream",
          "name": "stderr",
          "text": [
            "/usr/local/lib/python3.10/dist-packages/Seance/Optimizer.py:105: SettingWithCopyWarning: \n",
            "A value is trying to be set on a copy of a slice from a DataFrame.\n",
            "Try using .loc[row_indexer,col_indexer] = value instead\n",
            "\n",
            "See the caveats in the documentation: https://pandas.pydata.org/pandas-docs/stable/user_guide/indexing.html#returning-a-view-versus-a-copy\n",
            "  self.test_df[self.date_column] = self.test_df[self.date_column].dt.tz_localize(None)\n",
            "[I 2023-07-25 12:29:32,272] Trial 5 finished with value: 13.583519822403733 and parameters: {'n_estimators': 300, 'lambda_l1': 1.3645522652422977, 'lambda_l2': 0.5991769045229397, 'num_leaves': 64, 'feature_fraction': 0.6178207514179047, 'bagging_fraction': 0.6429976516424372, 'bagging_freq': 3, 'min_child_samples': 72, 'use_id': True, 'objective': 'regression_l1', 'n_basis': 14, 'differences': 1, 'decay': 0.25, 'scale_type': 'log', 'lags': [1, 2, 3]}. Best is trial 5 with value: 13.583519822403733.\n",
            "/usr/local/lib/python3.10/dist-packages/optuna/distributions.py:524: UserWarning: Choices for a categorical distribution should be a tuple of None, bool, int, float and str for persistent storage but contains [1, 2, 3] which is of type list.\n",
            "  warnings.warn(message)\n",
            "/usr/local/lib/python3.10/dist-packages/Seance/Forecaster.py:145: FutureWarning: Not prepending group keys to the result index of transform-like apply. In the future, the group keys will be included in the index, regardless of whether the applied function returns a like-indexed object.\n",
            "To preserve the previous behavior, use\n",
            "\n",
            "\t>>> .groupby(..., group_keys=False)\n",
            "\n",
            "To adopt the future behavior and silence this warning, use \n",
            "\n",
            "\t>>> .groupby(..., group_keys=True)\n",
            "  basis = self.processed_df.groupby('Seance ID')[target_column].apply(self.linear_basis)\n",
            "/usr/local/lib/python3.10/dist-packages/mlforecast/core.py:151: UserWarning: The differences argument is deprecated and will be removed in a future version.\n",
            "Please pass an `mlforecast.target_transforms.Differences` instance to the `target_transforms` argument instead.\n",
            "  warnings.warn(\n"
          ]
        },
        {
          "output_type": "stream",
          "name": "stdout",
          "text": [
            "[LightGBM] [Warning] feature_fraction is set=0.8318980876983187, colsample_bytree=1.0 will be ignored. Current value: feature_fraction=0.8318980876983187\n",
            "[LightGBM] [Warning] lambda_l1 is set=5.6885143751762985, reg_alpha=0.0 will be ignored. Current value: lambda_l1=5.6885143751762985\n",
            "[LightGBM] [Warning] num_threads is set=1, n_jobs=-1 will be ignored. Current value: num_threads=1\n",
            "[LightGBM] [Warning] bagging_fraction is set=0.7520564690494201, subsample=1.0 will be ignored. Current value: bagging_fraction=0.7520564690494201\n",
            "[LightGBM] [Warning] lambda_l2 is set=3.173624100047983, reg_lambda=0.0 will be ignored. Current value: lambda_l2=3.173624100047983\n",
            "[LightGBM] [Warning] bagging_freq is set=8, subsample_freq=0 will be ignored. Current value: bagging_freq=8\n"
          ]
        },
        {
          "output_type": "stream",
          "name": "stderr",
          "text": [
            "/usr/local/lib/python3.10/dist-packages/Seance/Forecaster.py:227: FutureWarning: Not prepending group keys to the result index of transform-like apply. In the future, the group keys will be included in the index, regardless of whether the applied function returns a like-indexed object.\n",
            "To preserve the previous behavior, use\n",
            "\n",
            "\t>>> .groupby(..., group_keys=False)\n",
            "\n",
            "To adopt the future behavior and silence this warning, use \n",
            "\n",
            "\t>>> .groupby(..., group_keys=True)\n",
            "  basis = pred_X.groupby('Seance ID').apply(self.future_linear_basis)\n"
          ]
        },
        {
          "output_type": "stream",
          "name": "stdout",
          "text": [
            "Predicted not the same size as test set\n"
          ]
        },
        {
          "output_type": "stream",
          "name": "stderr",
          "text": [
            "/usr/local/lib/python3.10/dist-packages/Seance/Optimizer.py:105: SettingWithCopyWarning: \n",
            "A value is trying to be set on a copy of a slice from a DataFrame.\n",
            "Try using .loc[row_indexer,col_indexer] = value instead\n",
            "\n",
            "See the caveats in the documentation: https://pandas.pydata.org/pandas-docs/stable/user_guide/indexing.html#returning-a-view-versus-a-copy\n",
            "  self.test_df[self.date_column] = self.test_df[self.date_column].dt.tz_localize(None)\n",
            "[I 2023-07-25 12:39:19,810] Trial 6 finished with value: 13.472428460980222 and parameters: {'n_estimators': 323, 'lambda_l1': 5.6885143751762985, 'lambda_l2': 3.173624100047983, 'num_leaves': 507, 'feature_fraction': 0.8318980876983187, 'bagging_fraction': 0.7520564690494201, 'bagging_freq': 8, 'min_child_samples': 75, 'use_id': True, 'objective': 'regression_l1', 'n_basis': 16, 'differences': 1, 'decay': 0.9, 'scale_type': 'none', 'lags': [1, 2, 3]}. Best is trial 6 with value: 13.472428460980222.\n",
            "/usr/local/lib/python3.10/dist-packages/optuna/distributions.py:524: UserWarning: Choices for a categorical distribution should be a tuple of None, bool, int, float and str for persistent storage but contains [1, 2, 3] which is of type list.\n",
            "  warnings.warn(message)\n",
            "/usr/local/lib/python3.10/dist-packages/Seance/Forecaster.py:145: FutureWarning: Not prepending group keys to the result index of transform-like apply. In the future, the group keys will be included in the index, regardless of whether the applied function returns a like-indexed object.\n",
            "To preserve the previous behavior, use\n",
            "\n",
            "\t>>> .groupby(..., group_keys=False)\n",
            "\n",
            "To adopt the future behavior and silence this warning, use \n",
            "\n",
            "\t>>> .groupby(..., group_keys=True)\n",
            "  basis = self.processed_df.groupby('Seance ID')[target_column].apply(self.linear_basis)\n"
          ]
        },
        {
          "output_type": "stream",
          "name": "stdout",
          "text": [
            "[LightGBM] [Warning] lambda_l1 is set=2.343620868870584, reg_alpha=0.0 will be ignored. Current value: lambda_l1=2.343620868870584\n",
            "[LightGBM] [Warning] num_threads is set=1, n_jobs=-1 will be ignored. Current value: num_threads=1\n",
            "[LightGBM] [Warning] bagging_fraction is set=0.8226612752780625, subsample=1.0 will be ignored. Current value: bagging_fraction=0.8226612752780625\n",
            "[LightGBM] [Warning] lambda_l2 is set=6.167783573848792, reg_lambda=0.0 will be ignored. Current value: lambda_l2=6.167783573848792\n",
            "[LightGBM] [Warning] feature_fraction is set=0.9800704476988319, colsample_bytree=1.0 will be ignored. Current value: feature_fraction=0.9800704476988319\n",
            "[LightGBM] [Warning] bagging_freq is set=14, subsample_freq=0 will be ignored. Current value: bagging_freq=14\n"
          ]
        },
        {
          "output_type": "stream",
          "name": "stderr",
          "text": [
            "/usr/local/lib/python3.10/dist-packages/Seance/Forecaster.py:227: FutureWarning: Not prepending group keys to the result index of transform-like apply. In the future, the group keys will be included in the index, regardless of whether the applied function returns a like-indexed object.\n",
            "To preserve the previous behavior, use\n",
            "\n",
            "\t>>> .groupby(..., group_keys=False)\n",
            "\n",
            "To adopt the future behavior and silence this warning, use \n",
            "\n",
            "\t>>> .groupby(..., group_keys=True)\n",
            "  basis = pred_X.groupby('Seance ID').apply(self.future_linear_basis)\n"
          ]
        },
        {
          "output_type": "stream",
          "name": "stdout",
          "text": [
            "Predicted not the same size as test set\n"
          ]
        },
        {
          "output_type": "stream",
          "name": "stderr",
          "text": [
            "/usr/local/lib/python3.10/dist-packages/Seance/Optimizer.py:105: SettingWithCopyWarning: \n",
            "A value is trying to be set on a copy of a slice from a DataFrame.\n",
            "Try using .loc[row_indexer,col_indexer] = value instead\n",
            "\n",
            "See the caveats in the documentation: https://pandas.pydata.org/pandas-docs/stable/user_guide/indexing.html#returning-a-view-versus-a-copy\n",
            "  self.test_df[self.date_column] = self.test_df[self.date_column].dt.tz_localize(None)\n",
            "[I 2023-07-25 12:40:21,698] Trial 7 finished with value: 18.59787075402676 and parameters: {'n_estimators': 56, 'lambda_l1': 2.343620868870584, 'lambda_l2': 6.167783573848792, 'num_leaves': 486, 'feature_fraction': 0.9800704476988319, 'bagging_fraction': 0.8226612752780625, 'bagging_freq': 14, 'min_child_samples': 65, 'use_id': False, 'objective': 'regression', 'n_basis': 24, 'differences': None, 'decay': -1, 'scale_type': 'none', 'lags': [1, 2, 3]}. Best is trial 6 with value: 13.472428460980222.\n",
            "/usr/local/lib/python3.10/dist-packages/optuna/distributions.py:524: UserWarning: Choices for a categorical distribution should be a tuple of None, bool, int, float and str for persistent storage but contains [1, 2, 3] which is of type list.\n",
            "  warnings.warn(message)\n"
          ]
        },
        {
          "output_type": "stream",
          "name": "stdout",
          "text": [
            "[LightGBM] [Warning] feature_fraction is set=0.9378937781568888, colsample_bytree=1.0 will be ignored. Current value: feature_fraction=0.9378937781568888\n",
            "[LightGBM] [Warning] lambda_l1 is set=9.401074823932596, reg_alpha=0.0 will be ignored. Current value: lambda_l1=9.401074823932596\n",
            "[LightGBM] [Warning] num_threads is set=1, n_jobs=-1 will be ignored. Current value: num_threads=1\n",
            "[LightGBM] [Warning] bagging_fraction is set=0.9621569274834597, subsample=1.0 will be ignored. Current value: bagging_fraction=0.9621569274834597\n",
            "[LightGBM] [Warning] lambda_l2 is set=5.8201418036506585, reg_lambda=0.0 will be ignored. Current value: lambda_l2=5.8201418036506585\n",
            "[LightGBM] [Warning] bagging_freq is set=7, subsample_freq=0 will be ignored. Current value: bagging_freq=7\n",
            "Predicted not the same size as test set\n"
          ]
        },
        {
          "output_type": "stream",
          "name": "stderr",
          "text": [
            "/usr/local/lib/python3.10/dist-packages/Seance/Optimizer.py:105: SettingWithCopyWarning: \n",
            "A value is trying to be set on a copy of a slice from a DataFrame.\n",
            "Try using .loc[row_indexer,col_indexer] = value instead\n",
            "\n",
            "See the caveats in the documentation: https://pandas.pydata.org/pandas-docs/stable/user_guide/indexing.html#returning-a-view-versus-a-copy\n",
            "  self.test_df[self.date_column] = self.test_df[self.date_column].dt.tz_localize(None)\n",
            "[I 2023-07-25 12:45:07,429] Trial 8 finished with value: 13.637150288813185 and parameters: {'n_estimators': 205, 'lambda_l1': 9.401074823932596, 'lambda_l2': 5.8201418036506585, 'num_leaves': 451, 'feature_fraction': 0.9378937781568888, 'bagging_fraction': 0.9621569274834597, 'bagging_freq': 7, 'min_child_samples': 55, 'use_id': True, 'objective': 'regression_l1', 'n_basis': 0, 'differences': None, 'decay': 0.1, 'scale_type': 'none', 'lags': [1, 2, 3]}. Best is trial 6 with value: 13.472428460980222.\n",
            "/usr/local/lib/python3.10/dist-packages/optuna/distributions.py:524: UserWarning: Choices for a categorical distribution should be a tuple of None, bool, int, float and str for persistent storage but contains [1, 2, 3] which is of type list.\n",
            "  warnings.warn(message)\n",
            "/usr/local/lib/python3.10/dist-packages/Seance/Forecaster.py:145: FutureWarning: Not prepending group keys to the result index of transform-like apply. In the future, the group keys will be included in the index, regardless of whether the applied function returns a like-indexed object.\n",
            "To preserve the previous behavior, use\n",
            "\n",
            "\t>>> .groupby(..., group_keys=False)\n",
            "\n",
            "To adopt the future behavior and silence this warning, use \n",
            "\n",
            "\t>>> .groupby(..., group_keys=True)\n",
            "  basis = self.processed_df.groupby('Seance ID')[target_column].apply(self.linear_basis)\n",
            "/usr/local/lib/python3.10/dist-packages/mlforecast/core.py:151: UserWarning: The differences argument is deprecated and will be removed in a future version.\n",
            "Please pass an `mlforecast.target_transforms.Differences` instance to the `target_transforms` argument instead.\n",
            "  warnings.warn(\n"
          ]
        },
        {
          "output_type": "stream",
          "name": "stdout",
          "text": [
            "[LightGBM] [Warning] lambda_l1 is set=9.73783538384539, reg_alpha=0.0 will be ignored. Current value: lambda_l1=9.73783538384539\n",
            "[LightGBM] [Warning] num_threads is set=1, n_jobs=-1 will be ignored. Current value: num_threads=1\n",
            "[LightGBM] [Warning] bagging_fraction is set=0.8512304793229402, subsample=1.0 will be ignored. Current value: bagging_fraction=0.8512304793229402\n",
            "[LightGBM] [Warning] lambda_l2 is set=6.047161013693369, reg_lambda=0.0 will be ignored. Current value: lambda_l2=6.047161013693369\n",
            "[LightGBM] [Warning] feature_fraction is set=0.8298846018832409, colsample_bytree=1.0 will be ignored. Current value: feature_fraction=0.8298846018832409\n",
            "[LightGBM] [Warning] bagging_freq is set=4, subsample_freq=0 will be ignored. Current value: bagging_freq=4\n"
          ]
        },
        {
          "output_type": "stream",
          "name": "stderr",
          "text": [
            "/usr/local/lib/python3.10/dist-packages/Seance/Forecaster.py:227: FutureWarning: Not prepending group keys to the result index of transform-like apply. In the future, the group keys will be included in the index, regardless of whether the applied function returns a like-indexed object.\n",
            "To preserve the previous behavior, use\n",
            "\n",
            "\t>>> .groupby(..., group_keys=False)\n",
            "\n",
            "To adopt the future behavior and silence this warning, use \n",
            "\n",
            "\t>>> .groupby(..., group_keys=True)\n",
            "  basis = pred_X.groupby('Seance ID').apply(self.future_linear_basis)\n"
          ]
        },
        {
          "output_type": "stream",
          "name": "stdout",
          "text": [
            "Predicted not the same size as test set\n"
          ]
        },
        {
          "output_type": "stream",
          "name": "stderr",
          "text": [
            "/usr/local/lib/python3.10/dist-packages/Seance/Optimizer.py:105: SettingWithCopyWarning: \n",
            "A value is trying to be set on a copy of a slice from a DataFrame.\n",
            "Try using .loc[row_indexer,col_indexer] = value instead\n",
            "\n",
            "See the caveats in the documentation: https://pandas.pydata.org/pandas-docs/stable/user_guide/indexing.html#returning-a-view-versus-a-copy\n",
            "  self.test_df[self.date_column] = self.test_df[self.date_column].dt.tz_localize(None)\n",
            "[I 2023-07-25 12:46:53,388] Trial 9 finished with value: 19.701506445256527 and parameters: {'n_estimators': 219, 'lambda_l1': 9.73783538384539, 'lambda_l2': 6.047161013693369, 'num_leaves': 425, 'feature_fraction': 0.8298846018832409, 'bagging_fraction': 0.8512304793229402, 'bagging_freq': 4, 'min_child_samples': 59, 'use_id': False, 'objective': 'regression', 'n_basis': 22, 'differences': 1, 'decay': 0.99, 'scale_type': 'none', 'lags': [1, 2, 3]}. Best is trial 6 with value: 13.472428460980222.\n",
            "/usr/local/lib/python3.10/dist-packages/optuna/distributions.py:524: UserWarning: Choices for a categorical distribution should be a tuple of None, bool, int, float and str for persistent storage but contains [1, 2, 3] which is of type list.\n",
            "  warnings.warn(message)\n",
            "/usr/local/lib/python3.10/dist-packages/Seance/Builder/PreProcess.py:81: FutureWarning: Not prepending group keys to the result index of transform-like apply. In the future, the group keys will be included in the index, regardless of whether the applied function returns a like-indexed object.\n",
            "To preserve the previous behavior, use\n",
            "\n",
            "\t>>> .groupby(..., group_keys=False)\n",
            "\n",
            "To adopt the future behavior and silence this warning, use \n",
            "\n",
            "\t>>> .groupby(..., group_keys=True)\n",
            "  df = df.groupby('Seance ID').apply(self.trans)\n",
            "/usr/local/lib/python3.10/dist-packages/Seance/Forecaster.py:145: FutureWarning: Not prepending group keys to the result index of transform-like apply. In the future, the group keys will be included in the index, regardless of whether the applied function returns a like-indexed object.\n",
            "To preserve the previous behavior, use\n",
            "\n",
            "\t>>> .groupby(..., group_keys=False)\n",
            "\n",
            "To adopt the future behavior and silence this warning, use \n",
            "\n",
            "\t>>> .groupby(..., group_keys=True)\n",
            "  basis = self.processed_df.groupby('Seance ID')[target_column].apply(self.linear_basis)\n",
            "/usr/local/lib/python3.10/dist-packages/mlforecast/core.py:151: UserWarning: The differences argument is deprecated and will be removed in a future version.\n",
            "Please pass an `mlforecast.target_transforms.Differences` instance to the `target_transforms` argument instead.\n",
            "  warnings.warn(\n"
          ]
        },
        {
          "output_type": "stream",
          "name": "stdout",
          "text": [
            "[LightGBM] [Warning] feature_fraction is set=0.7714011965632007, colsample_bytree=1.0 will be ignored. Current value: feature_fraction=0.7714011965632007\n",
            "[LightGBM] [Warning] lambda_l1 is set=4.117105011830353, reg_alpha=0.0 will be ignored. Current value: lambda_l1=4.117105011830353\n",
            "[LightGBM] [Warning] num_threads is set=1, n_jobs=-1 will be ignored. Current value: num_threads=1\n",
            "[LightGBM] [Warning] bagging_fraction is set=0.716245213834884, subsample=1.0 will be ignored. Current value: bagging_fraction=0.716245213834884\n",
            "[LightGBM] [Warning] lambda_l2 is set=9.671952819870365, reg_lambda=0.0 will be ignored. Current value: lambda_l2=9.671952819870365\n",
            "[LightGBM] [Warning] bagging_freq is set=7, subsample_freq=0 will be ignored. Current value: bagging_freq=7\n"
          ]
        },
        {
          "output_type": "stream",
          "name": "stderr",
          "text": [
            "/usr/local/lib/python3.10/dist-packages/Seance/Forecaster.py:227: FutureWarning: Not prepending group keys to the result index of transform-like apply. In the future, the group keys will be included in the index, regardless of whether the applied function returns a like-indexed object.\n",
            "To preserve the previous behavior, use\n",
            "\n",
            "\t>>> .groupby(..., group_keys=False)\n",
            "\n",
            "To adopt the future behavior and silence this warning, use \n",
            "\n",
            "\t>>> .groupby(..., group_keys=True)\n",
            "  basis = pred_X.groupby('Seance ID').apply(self.future_linear_basis)\n",
            "/usr/local/lib/python3.10/dist-packages/Seance/Forecaster.py:239: FutureWarning: Not prepending group keys to the result index of transform-like apply. In the future, the group keys will be included in the index, regardless of whether the applied function returns a like-indexed object.\n",
            "To preserve the previous behavior, use\n",
            "\n",
            "\t>>> .groupby(..., group_keys=False)\n",
            "\n",
            "To adopt the future behavior and silence this warning, use \n",
            "\n",
            "\t>>> .groupby(..., group_keys=True)\n",
            "  predicted = predicted.groupby('Seance ID').apply(self.inverse_transform)\n"
          ]
        },
        {
          "output_type": "stream",
          "name": "stdout",
          "text": [
            "Predicted not the same size as test set\n"
          ]
        },
        {
          "output_type": "stream",
          "name": "stderr",
          "text": [
            "/usr/local/lib/python3.10/dist-packages/Seance/Optimizer.py:105: SettingWithCopyWarning: \n",
            "A value is trying to be set on a copy of a slice from a DataFrame.\n",
            "Try using .loc[row_indexer,col_indexer] = value instead\n",
            "\n",
            "See the caveats in the documentation: https://pandas.pydata.org/pandas-docs/stable/user_guide/indexing.html#returning-a-view-versus-a-copy\n",
            "  self.test_df[self.date_column] = self.test_df[self.date_column].dt.tz_localize(None)\n",
            "[I 2023-07-25 12:58:25,630] Trial 10 finished with value: 14.179926647813913 and parameters: {'n_estimators': 403, 'lambda_l1': 4.117105011830353, 'lambda_l2': 9.671952819870365, 'num_leaves': 303, 'feature_fraction': 0.7714011965632007, 'bagging_fraction': 0.716245213834884, 'bagging_freq': 7, 'min_child_samples': 100, 'use_id': True, 'objective': 'regression_l1', 'n_basis': 15, 'differences': 1, 'decay': 0.9, 'scale_type': 'standard', 'lags': [1, 2, 3]}. Best is trial 6 with value: 13.472428460980222.\n",
            "/usr/local/lib/python3.10/dist-packages/optuna/distributions.py:524: UserWarning: Choices for a categorical distribution should be a tuple of None, bool, int, float and str for persistent storage but contains [1, 2, 3] which is of type list.\n",
            "  warnings.warn(message)\n",
            "/usr/local/lib/python3.10/dist-packages/Seance/Builder/PreProcess.py:81: FutureWarning: Not prepending group keys to the result index of transform-like apply. In the future, the group keys will be included in the index, regardless of whether the applied function returns a like-indexed object.\n",
            "To preserve the previous behavior, use\n",
            "\n",
            "\t>>> .groupby(..., group_keys=False)\n",
            "\n",
            "To adopt the future behavior and silence this warning, use \n",
            "\n",
            "\t>>> .groupby(..., group_keys=True)\n",
            "  df = df.groupby('Seance ID').apply(self.trans)\n",
            "/usr/local/lib/python3.10/dist-packages/Seance/Forecaster.py:145: FutureWarning: Not prepending group keys to the result index of transform-like apply. In the future, the group keys will be included in the index, regardless of whether the applied function returns a like-indexed object.\n",
            "To preserve the previous behavior, use\n",
            "\n",
            "\t>>> .groupby(..., group_keys=False)\n",
            "\n",
            "To adopt the future behavior and silence this warning, use \n",
            "\n",
            "\t>>> .groupby(..., group_keys=True)\n",
            "  basis = self.processed_df.groupby('Seance ID')[target_column].apply(self.linear_basis)\n",
            "/usr/local/lib/python3.10/dist-packages/mlforecast/core.py:151: UserWarning: The differences argument is deprecated and will be removed in a future version.\n",
            "Please pass an `mlforecast.target_transforms.Differences` instance to the `target_transforms` argument instead.\n",
            "  warnings.warn(\n"
          ]
        },
        {
          "output_type": "stream",
          "name": "stdout",
          "text": [
            "[LightGBM] [Warning] feature_fraction is set=0.7568342586191688, colsample_bytree=1.0 will be ignored. Current value: feature_fraction=0.7568342586191688\n",
            "[LightGBM] [Warning] lambda_l1 is set=0.0874589556345522, reg_alpha=0.0 will be ignored. Current value: lambda_l1=0.0874589556345522\n",
            "[LightGBM] [Warning] num_threads is set=1, n_jobs=-1 will be ignored. Current value: num_threads=1\n",
            "[LightGBM] [Warning] bagging_fraction is set=0.6031791286857892, subsample=1.0 will be ignored. Current value: bagging_fraction=0.6031791286857892\n",
            "[LightGBM] [Warning] lambda_l2 is set=2.760815173586825, reg_lambda=0.0 will be ignored. Current value: lambda_l2=2.760815173586825\n",
            "[LightGBM] [Warning] bagging_freq is set=4, subsample_freq=0 will be ignored. Current value: bagging_freq=4\n"
          ]
        },
        {
          "output_type": "stream",
          "name": "stderr",
          "text": [
            "/usr/local/lib/python3.10/dist-packages/Seance/Forecaster.py:227: FutureWarning: Not prepending group keys to the result index of transform-like apply. In the future, the group keys will be included in the index, regardless of whether the applied function returns a like-indexed object.\n",
            "To preserve the previous behavior, use\n",
            "\n",
            "\t>>> .groupby(..., group_keys=False)\n",
            "\n",
            "To adopt the future behavior and silence this warning, use \n",
            "\n",
            "\t>>> .groupby(..., group_keys=True)\n",
            "  basis = pred_X.groupby('Seance ID').apply(self.future_linear_basis)\n",
            "/usr/local/lib/python3.10/dist-packages/Seance/Forecaster.py:239: FutureWarning: Not prepending group keys to the result index of transform-like apply. In the future, the group keys will be included in the index, regardless of whether the applied function returns a like-indexed object.\n",
            "To preserve the previous behavior, use\n",
            "\n",
            "\t>>> .groupby(..., group_keys=False)\n",
            "\n",
            "To adopt the future behavior and silence this warning, use \n",
            "\n",
            "\t>>> .groupby(..., group_keys=True)\n",
            "  predicted = predicted.groupby('Seance ID').apply(self.inverse_transform)\n"
          ]
        },
        {
          "output_type": "stream",
          "name": "stdout",
          "text": [
            "Predicted not the same size as test set\n"
          ]
        },
        {
          "output_type": "stream",
          "name": "stderr",
          "text": [
            "/usr/local/lib/python3.10/dist-packages/Seance/Optimizer.py:105: SettingWithCopyWarning: \n",
            "A value is trying to be set on a copy of a slice from a DataFrame.\n",
            "Try using .loc[row_indexer,col_indexer] = value instead\n",
            "\n",
            "See the caveats in the documentation: https://pandas.pydata.org/pandas-docs/stable/user_guide/indexing.html#returning-a-view-versus-a-copy\n",
            "  self.test_df[self.date_column] = self.test_df[self.date_column].dt.tz_localize(None)\n",
            "[I 2023-07-25 13:01:28,914] Trial 11 finished with value: 13.562697929925028 and parameters: {'n_estimators': 330, 'lambda_l1': 0.0874589556345522, 'lambda_l2': 2.760815173586825, 'num_leaves': 46, 'feature_fraction': 0.7568342586191688, 'bagging_fraction': 0.6031791286857892, 'bagging_freq': 4, 'min_child_samples': 79, 'use_id': True, 'objective': 'regression_l1', 'n_basis': 15, 'differences': 1, 'decay': 0.25, 'scale_type': 'log', 'lags': [1, 2, 3]}. Best is trial 6 with value: 13.472428460980222.\n",
            "/usr/local/lib/python3.10/dist-packages/optuna/distributions.py:524: UserWarning: Choices for a categorical distribution should be a tuple of None, bool, int, float and str for persistent storage but contains [1, 2, 3] which is of type list.\n",
            "  warnings.warn(message)\n",
            "/usr/local/lib/python3.10/dist-packages/Seance/Builder/PreProcess.py:81: FutureWarning: Not prepending group keys to the result index of transform-like apply. In the future, the group keys will be included in the index, regardless of whether the applied function returns a like-indexed object.\n",
            "To preserve the previous behavior, use\n",
            "\n",
            "\t>>> .groupby(..., group_keys=False)\n",
            "\n",
            "To adopt the future behavior and silence this warning, use \n",
            "\n",
            "\t>>> .groupby(..., group_keys=True)\n",
            "  df = df.groupby('Seance ID').apply(self.trans)\n",
            "/usr/local/lib/python3.10/dist-packages/Seance/Forecaster.py:145: FutureWarning: Not prepending group keys to the result index of transform-like apply. In the future, the group keys will be included in the index, regardless of whether the applied function returns a like-indexed object.\n",
            "To preserve the previous behavior, use\n",
            "\n",
            "\t>>> .groupby(..., group_keys=False)\n",
            "\n",
            "To adopt the future behavior and silence this warning, use \n",
            "\n",
            "\t>>> .groupby(..., group_keys=True)\n",
            "  basis = self.processed_df.groupby('Seance ID')[target_column].apply(self.linear_basis)\n",
            "/usr/local/lib/python3.10/dist-packages/mlforecast/core.py:151: UserWarning: The differences argument is deprecated and will be removed in a future version.\n",
            "Please pass an `mlforecast.target_transforms.Differences` instance to the `target_transforms` argument instead.\n",
            "  warnings.warn(\n"
          ]
        },
        {
          "output_type": "stream",
          "name": "stdout",
          "text": [
            "[LightGBM] [Warning] feature_fraction is set=0.7724505178620292, colsample_bytree=1.0 will be ignored. Current value: feature_fraction=0.7724505178620292\n",
            "[LightGBM] [Warning] lambda_l1 is set=0.06295675420641356, reg_alpha=0.0 will be ignored. Current value: lambda_l1=0.06295675420641356\n",
            "[LightGBM] [Warning] num_threads is set=1, n_jobs=-1 will be ignored. Current value: num_threads=1\n",
            "[LightGBM] [Warning] bagging_fraction is set=0.611968138150133, subsample=1.0 will be ignored. Current value: bagging_fraction=0.611968138150133\n",
            "[LightGBM] [Warning] lambda_l2 is set=2.9414943235397186, reg_lambda=0.0 will be ignored. Current value: lambda_l2=2.9414943235397186\n",
            "[LightGBM] [Warning] bagging_freq is set=5, subsample_freq=0 will be ignored. Current value: bagging_freq=5\n"
          ]
        },
        {
          "output_type": "stream",
          "name": "stderr",
          "text": [
            "/usr/local/lib/python3.10/dist-packages/Seance/Forecaster.py:227: FutureWarning: Not prepending group keys to the result index of transform-like apply. In the future, the group keys will be included in the index, regardless of whether the applied function returns a like-indexed object.\n",
            "To preserve the previous behavior, use\n",
            "\n",
            "\t>>> .groupby(..., group_keys=False)\n",
            "\n",
            "To adopt the future behavior and silence this warning, use \n",
            "\n",
            "\t>>> .groupby(..., group_keys=True)\n",
            "  basis = pred_X.groupby('Seance ID').apply(self.future_linear_basis)\n",
            "/usr/local/lib/python3.10/dist-packages/Seance/Forecaster.py:239: FutureWarning: Not prepending group keys to the result index of transform-like apply. In the future, the group keys will be included in the index, regardless of whether the applied function returns a like-indexed object.\n",
            "To preserve the previous behavior, use\n",
            "\n",
            "\t>>> .groupby(..., group_keys=False)\n",
            "\n",
            "To adopt the future behavior and silence this warning, use \n",
            "\n",
            "\t>>> .groupby(..., group_keys=True)\n",
            "  predicted = predicted.groupby('Seance ID').apply(self.inverse_transform)\n"
          ]
        },
        {
          "output_type": "stream",
          "name": "stdout",
          "text": [
            "Predicted not the same size as test set\n"
          ]
        },
        {
          "output_type": "stream",
          "name": "stderr",
          "text": [
            "/usr/local/lib/python3.10/dist-packages/Seance/Optimizer.py:105: SettingWithCopyWarning: \n",
            "A value is trying to be set on a copy of a slice from a DataFrame.\n",
            "Try using .loc[row_indexer,col_indexer] = value instead\n",
            "\n",
            "See the caveats in the documentation: https://pandas.pydata.org/pandas-docs/stable/user_guide/indexing.html#returning-a-view-versus-a-copy\n",
            "  self.test_df[self.date_column] = self.test_df[self.date_column].dt.tz_localize(None)\n",
            "[I 2023-07-25 13:02:55,194] Trial 12 finished with value: 13.16060892776813 and parameters: {'n_estimators': 366, 'lambda_l1': 0.06295675420641356, 'lambda_l2': 2.9414943235397186, 'num_leaves': 6, 'feature_fraction': 0.7724505178620292, 'bagging_fraction': 0.611968138150133, 'bagging_freq': 5, 'min_child_samples': 80, 'use_id': True, 'objective': 'regression_l1', 'n_basis': 10, 'differences': 1, 'decay': 0.05, 'scale_type': 'log', 'lags': [1, 2, 3]}. Best is trial 12 with value: 13.16060892776813.\n",
            "/usr/local/lib/python3.10/dist-packages/optuna/distributions.py:524: UserWarning: Choices for a categorical distribution should be a tuple of None, bool, int, float and str for persistent storage but contains [1, 2, 3] which is of type list.\n",
            "  warnings.warn(message)\n",
            "[I 2023-07-25 13:03:39,494] Trial 13 finished with value: inf and parameters: {'n_estimators': 384, 'lambda_l1': 4.1957502495401995, 'lambda_l2': 2.868666016748681, 'num_leaves': 142, 'feature_fraction': 0.7954961307698716, 'bagging_fraction': 0.7074547350435564, 'bagging_freq': 6, 'min_child_samples': 86, 'use_id': True, 'objective': 'regression_l1', 'n_basis': 9, 'differences': 1, 'decay': 0.05, 'scale_type': 'robust_boxcox', 'lags': [1, 2, 3]}. Best is trial 12 with value: 13.16060892776813.\n"
          ]
        },
        {
          "output_type": "stream",
          "name": "stdout",
          "text": [
            "ERROR WHILE TUNING: Data must not be constant.\n"
          ]
        },
        {
          "output_type": "stream",
          "name": "stderr",
          "text": [
            "/usr/local/lib/python3.10/dist-packages/optuna/distributions.py:524: UserWarning: Choices for a categorical distribution should be a tuple of None, bool, int, float and str for persistent storage but contains [1, 2, 3] which is of type list.\n",
            "  warnings.warn(message)\n",
            "/usr/local/lib/python3.10/dist-packages/Seance/Builder/PreProcess.py:81: FutureWarning: Not prepending group keys to the result index of transform-like apply. In the future, the group keys will be included in the index, regardless of whether the applied function returns a like-indexed object.\n",
            "To preserve the previous behavior, use\n",
            "\n",
            "\t>>> .groupby(..., group_keys=False)\n",
            "\n",
            "To adopt the future behavior and silence this warning, use \n",
            "\n",
            "\t>>> .groupby(..., group_keys=True)\n",
            "  df = df.groupby('Seance ID').apply(self.trans)\n",
            "/usr/local/lib/python3.10/dist-packages/Seance/Forecaster.py:145: FutureWarning: Not prepending group keys to the result index of transform-like apply. In the future, the group keys will be included in the index, regardless of whether the applied function returns a like-indexed object.\n",
            "To preserve the previous behavior, use\n",
            "\n",
            "\t>>> .groupby(..., group_keys=False)\n",
            "\n",
            "To adopt the future behavior and silence this warning, use \n",
            "\n",
            "\t>>> .groupby(..., group_keys=True)\n",
            "  basis = self.processed_df.groupby('Seance ID')[target_column].apply(self.linear_basis)\n",
            "/usr/local/lib/python3.10/dist-packages/mlforecast/core.py:151: UserWarning: The differences argument is deprecated and will be removed in a future version.\n",
            "Please pass an `mlforecast.target_transforms.Differences` instance to the `target_transforms` argument instead.\n",
            "  warnings.warn(\n"
          ]
        },
        {
          "output_type": "stream",
          "name": "stdout",
          "text": [
            "[LightGBM] [Warning] feature_fraction is set=0.7308479143032738, colsample_bytree=1.0 will be ignored. Current value: feature_fraction=0.7308479143032738\n",
            "[LightGBM] [Warning] lambda_l1 is set=5.098039103926966, reg_alpha=0.0 will be ignored. Current value: lambda_l1=5.098039103926966\n",
            "[LightGBM] [Warning] num_threads is set=1, n_jobs=-1 will be ignored. Current value: num_threads=1\n",
            "[LightGBM] [Warning] bagging_fraction is set=0.6825014398735035, subsample=1.0 will be ignored. Current value: bagging_fraction=0.6825014398735035\n",
            "[LightGBM] [Warning] lambda_l2 is set=3.1445010193012077, reg_lambda=0.0 will be ignored. Current value: lambda_l2=3.1445010193012077\n",
            "[LightGBM] [Warning] bagging_freq is set=9, subsample_freq=0 will be ignored. Current value: bagging_freq=9\n"
          ]
        },
        {
          "output_type": "stream",
          "name": "stderr",
          "text": [
            "/usr/local/lib/python3.10/dist-packages/Seance/Forecaster.py:227: FutureWarning: Not prepending group keys to the result index of transform-like apply. In the future, the group keys will be included in the index, regardless of whether the applied function returns a like-indexed object.\n",
            "To preserve the previous behavior, use\n",
            "\n",
            "\t>>> .groupby(..., group_keys=False)\n",
            "\n",
            "To adopt the future behavior and silence this warning, use \n",
            "\n",
            "\t>>> .groupby(..., group_keys=True)\n",
            "  basis = pred_X.groupby('Seance ID').apply(self.future_linear_basis)\n",
            "/usr/local/lib/python3.10/dist-packages/Seance/Forecaster.py:239: FutureWarning: Not prepending group keys to the result index of transform-like apply. In the future, the group keys will be included in the index, regardless of whether the applied function returns a like-indexed object.\n",
            "To preserve the previous behavior, use\n",
            "\n",
            "\t>>> .groupby(..., group_keys=False)\n",
            "\n",
            "To adopt the future behavior and silence this warning, use \n",
            "\n",
            "\t>>> .groupby(..., group_keys=True)\n",
            "  predicted = predicted.groupby('Seance ID').apply(self.inverse_transform)\n"
          ]
        },
        {
          "output_type": "stream",
          "name": "stdout",
          "text": [
            "Predicted not the same size as test set\n"
          ]
        },
        {
          "output_type": "stream",
          "name": "stderr",
          "text": [
            "/usr/local/lib/python3.10/dist-packages/Seance/Optimizer.py:105: SettingWithCopyWarning: \n",
            "A value is trying to be set on a copy of a slice from a DataFrame.\n",
            "Try using .loc[row_indexer,col_indexer] = value instead\n",
            "\n",
            "See the caveats in the documentation: https://pandas.pydata.org/pandas-docs/stable/user_guide/indexing.html#returning-a-view-versus-a-copy\n",
            "  self.test_df[self.date_column] = self.test_df[self.date_column].dt.tz_localize(None)\n",
            "[I 2023-07-25 13:15:13,520] Trial 14 finished with value: 13.94791228423112 and parameters: {'n_estimators': 497, 'lambda_l1': 5.098039103926966, 'lambda_l2': 3.1445010193012077, 'num_leaves': 279, 'feature_fraction': 0.7308479143032738, 'bagging_fraction': 0.6825014398735035, 'bagging_freq': 9, 'min_child_samples': 83, 'use_id': True, 'objective': 'regression_l1', 'n_basis': 10, 'differences': 1, 'decay': 0.05, 'scale_type': 'log', 'lags': [1, 2, 3]}. Best is trial 12 with value: 13.16060892776813.\n",
            "/usr/local/lib/python3.10/dist-packages/optuna/distributions.py:524: UserWarning: Choices for a categorical distribution should be a tuple of None, bool, int, float and str for persistent storage but contains [1, 2, 3] which is of type list.\n",
            "  warnings.warn(message)\n",
            "/usr/local/lib/python3.10/dist-packages/Seance/Forecaster.py:145: FutureWarning: Not prepending group keys to the result index of transform-like apply. In the future, the group keys will be included in the index, regardless of whether the applied function returns a like-indexed object.\n",
            "To preserve the previous behavior, use\n",
            "\n",
            "\t>>> .groupby(..., group_keys=False)\n",
            "\n",
            "To adopt the future behavior and silence this warning, use \n",
            "\n",
            "\t>>> .groupby(..., group_keys=True)\n",
            "  basis = self.processed_df.groupby('Seance ID')[target_column].apply(self.linear_basis)\n",
            "/usr/local/lib/python3.10/dist-packages/mlforecast/core.py:151: UserWarning: The differences argument is deprecated and will be removed in a future version.\n",
            "Please pass an `mlforecast.target_transforms.Differences` instance to the `target_transforms` argument instead.\n",
            "  warnings.warn(\n"
          ]
        },
        {
          "output_type": "stream",
          "name": "stdout",
          "text": [
            "[LightGBM] [Warning] feature_fraction is set=0.8413795561477108, colsample_bytree=1.0 will be ignored. Current value: feature_fraction=0.8413795561477108\n",
            "[LightGBM] [Warning] lambda_l1 is set=2.9582918008656565, reg_alpha=0.0 will be ignored. Current value: lambda_l1=2.9582918008656565\n",
            "[LightGBM] [Warning] num_threads is set=1, n_jobs=-1 will be ignored. Current value: num_threads=1\n",
            "[LightGBM] [Warning] bagging_fraction is set=0.6000745853360667, subsample=1.0 will be ignored. Current value: bagging_fraction=0.6000745853360667\n",
            "[LightGBM] [Warning] lambda_l2 is set=2.2432154174746683, reg_lambda=0.0 will be ignored. Current value: lambda_l2=2.2432154174746683\n",
            "[LightGBM] [Warning] bagging_freq is set=9, subsample_freq=0 will be ignored. Current value: bagging_freq=9\n"
          ]
        },
        {
          "output_type": "stream",
          "name": "stderr",
          "text": [
            "/usr/local/lib/python3.10/dist-packages/Seance/Forecaster.py:227: FutureWarning: Not prepending group keys to the result index of transform-like apply. In the future, the group keys will be included in the index, regardless of whether the applied function returns a like-indexed object.\n",
            "To preserve the previous behavior, use\n",
            "\n",
            "\t>>> .groupby(..., group_keys=False)\n",
            "\n",
            "To adopt the future behavior and silence this warning, use \n",
            "\n",
            "\t>>> .groupby(..., group_keys=True)\n",
            "  basis = pred_X.groupby('Seance ID').apply(self.future_linear_basis)\n"
          ]
        },
        {
          "output_type": "stream",
          "name": "stdout",
          "text": [
            "Predicted not the same size as test set\n"
          ]
        },
        {
          "output_type": "stream",
          "name": "stderr",
          "text": [
            "/usr/local/lib/python3.10/dist-packages/Seance/Optimizer.py:105: SettingWithCopyWarning: \n",
            "A value is trying to be set on a copy of a slice from a DataFrame.\n",
            "Try using .loc[row_indexer,col_indexer] = value instead\n",
            "\n",
            "See the caveats in the documentation: https://pandas.pydata.org/pandas-docs/stable/user_guide/indexing.html#returning-a-view-versus-a-copy\n",
            "  self.test_df[self.date_column] = self.test_df[self.date_column].dt.tz_localize(None)\n",
            "[I 2023-07-25 13:16:24,710] Trial 15 finished with value: 12.956500540109433 and parameters: {'n_estimators': 393, 'lambda_l1': 2.9582918008656565, 'lambda_l2': 2.2432154174746683, 'num_leaves': 8, 'feature_fraction': 0.8413795561477108, 'bagging_fraction': 0.6000745853360667, 'bagging_freq': 9, 'min_child_samples': 73, 'use_id': True, 'objective': 'regression_l1', 'n_basis': 18, 'differences': 1, 'decay': 0.9, 'scale_type': 'none', 'lags': [1, 2, 3]}. Best is trial 15 with value: 12.956500540109433.\n",
            "/usr/local/lib/python3.10/dist-packages/optuna/distributions.py:524: UserWarning: Choices for a categorical distribution should be a tuple of None, bool, int, float and str for persistent storage but contains [1, 2, 3] which is of type list.\n",
            "  warnings.warn(message)\n",
            "/usr/local/lib/python3.10/dist-packages/Seance/Forecaster.py:145: FutureWarning: Not prepending group keys to the result index of transform-like apply. In the future, the group keys will be included in the index, regardless of whether the applied function returns a like-indexed object.\n",
            "To preserve the previous behavior, use\n",
            "\n",
            "\t>>> .groupby(..., group_keys=False)\n",
            "\n",
            "To adopt the future behavior and silence this warning, use \n",
            "\n",
            "\t>>> .groupby(..., group_keys=True)\n",
            "  basis = self.processed_df.groupby('Seance ID')[target_column].apply(self.linear_basis)\n",
            "/usr/local/lib/python3.10/dist-packages/mlforecast/core.py:151: UserWarning: The differences argument is deprecated and will be removed in a future version.\n",
            "Please pass an `mlforecast.target_transforms.Differences` instance to the `target_transforms` argument instead.\n",
            "  warnings.warn(\n"
          ]
        },
        {
          "output_type": "stream",
          "name": "stdout",
          "text": [
            "[LightGBM] [Warning] feature_fraction is set=0.7377742267033088, colsample_bytree=1.0 will be ignored. Current value: feature_fraction=0.7377742267033088\n",
            "[LightGBM] [Warning] lambda_l1 is set=0.10131720222354623, reg_alpha=0.0 will be ignored. Current value: lambda_l1=0.10131720222354623\n",
            "[LightGBM] [Warning] num_threads is set=1, n_jobs=-1 will be ignored. Current value: num_threads=1\n",
            "[LightGBM] [Warning] bagging_fraction is set=0.6018028023442119, subsample=1.0 will be ignored. Current value: bagging_fraction=0.6018028023442119\n",
            "[LightGBM] [Warning] lambda_l2 is set=1.771657084142425, reg_lambda=0.0 will be ignored. Current value: lambda_l2=1.771657084142425\n",
            "[LightGBM] [Warning] bagging_freq is set=15, subsample_freq=0 will be ignored. Current value: bagging_freq=15\n"
          ]
        },
        {
          "output_type": "stream",
          "name": "stderr",
          "text": [
            "/usr/local/lib/python3.10/dist-packages/Seance/Forecaster.py:227: FutureWarning: Not prepending group keys to the result index of transform-like apply. In the future, the group keys will be included in the index, regardless of whether the applied function returns a like-indexed object.\n",
            "To preserve the previous behavior, use\n",
            "\n",
            "\t>>> .groupby(..., group_keys=False)\n",
            "\n",
            "To adopt the future behavior and silence this warning, use \n",
            "\n",
            "\t>>> .groupby(..., group_keys=True)\n",
            "  basis = pred_X.groupby('Seance ID').apply(self.future_linear_basis)\n"
          ]
        },
        {
          "output_type": "stream",
          "name": "stdout",
          "text": [
            "Predicted not the same size as test set\n"
          ]
        },
        {
          "output_type": "stream",
          "name": "stderr",
          "text": [
            "/usr/local/lib/python3.10/dist-packages/Seance/Optimizer.py:105: SettingWithCopyWarning: \n",
            "A value is trying to be set on a copy of a slice from a DataFrame.\n",
            "Try using .loc[row_indexer,col_indexer] = value instead\n",
            "\n",
            "See the caveats in the documentation: https://pandas.pydata.org/pandas-docs/stable/user_guide/indexing.html#returning-a-view-versus-a-copy\n",
            "  self.test_df[self.date_column] = self.test_df[self.date_column].dt.tz_localize(None)\n",
            "[I 2023-07-25 13:17:19,114] Trial 16 finished with value: 12.979648085663106 and parameters: {'n_estimators': 402, 'lambda_l1': 0.10131720222354623, 'lambda_l2': 1.771657084142425, 'num_leaves': 4, 'feature_fraction': 0.7377742267033088, 'bagging_fraction': 0.6018028023442119, 'bagging_freq': 15, 'min_child_samples': 46, 'use_id': True, 'objective': 'regression_l1', 'n_basis': 19, 'differences': 1, 'decay': 0.05, 'scale_type': 'none', 'lags': [1, 2, 3]}. Best is trial 15 with value: 12.956500540109433.\n",
            "/usr/local/lib/python3.10/dist-packages/optuna/distributions.py:524: UserWarning: Choices for a categorical distribution should be a tuple of None, bool, int, float and str for persistent storage but contains [1, 2, 3] which is of type list.\n",
            "  warnings.warn(message)\n",
            "/usr/local/lib/python3.10/dist-packages/Seance/Forecaster.py:145: FutureWarning: Not prepending group keys to the result index of transform-like apply. In the future, the group keys will be included in the index, regardless of whether the applied function returns a like-indexed object.\n",
            "To preserve the previous behavior, use\n",
            "\n",
            "\t>>> .groupby(..., group_keys=False)\n",
            "\n",
            "To adopt the future behavior and silence this warning, use \n",
            "\n",
            "\t>>> .groupby(..., group_keys=True)\n",
            "  basis = self.processed_df.groupby('Seance ID')[target_column].apply(self.linear_basis)\n",
            "/usr/local/lib/python3.10/dist-packages/mlforecast/core.py:151: UserWarning: The differences argument is deprecated and will be removed in a future version.\n",
            "Please pass an `mlforecast.target_transforms.Differences` instance to the `target_transforms` argument instead.\n",
            "  warnings.warn(\n"
          ]
        },
        {
          "output_type": "stream",
          "name": "stdout",
          "text": [
            "[LightGBM] [Warning] feature_fraction is set=0.7045173846675133, colsample_bytree=1.0 will be ignored. Current value: feature_fraction=0.7045173846675133\n",
            "[LightGBM] [Warning] lambda_l1 is set=3.2163059811659465, reg_alpha=0.0 will be ignored. Current value: lambda_l1=3.2163059811659465\n",
            "[LightGBM] [Warning] num_threads is set=1, n_jobs=-1 will be ignored. Current value: num_threads=1\n",
            "[LightGBM] [Warning] bagging_fraction is set=0.6654275149545331, subsample=1.0 will be ignored. Current value: bagging_fraction=0.6654275149545331\n",
            "[LightGBM] [Warning] lambda_l2 is set=1.7242252247569347, reg_lambda=0.0 will be ignored. Current value: lambda_l2=1.7242252247569347\n",
            "[LightGBM] [Warning] bagging_freq is set=15, subsample_freq=0 will be ignored. Current value: bagging_freq=15\n"
          ]
        },
        {
          "output_type": "stream",
          "name": "stderr",
          "text": [
            "/usr/local/lib/python3.10/dist-packages/Seance/Forecaster.py:227: FutureWarning: Not prepending group keys to the result index of transform-like apply. In the future, the group keys will be included in the index, regardless of whether the applied function returns a like-indexed object.\n",
            "To preserve the previous behavior, use\n",
            "\n",
            "\t>>> .groupby(..., group_keys=False)\n",
            "\n",
            "To adopt the future behavior and silence this warning, use \n",
            "\n",
            "\t>>> .groupby(..., group_keys=True)\n",
            "  basis = pred_X.groupby('Seance ID').apply(self.future_linear_basis)\n"
          ]
        },
        {
          "output_type": "stream",
          "name": "stdout",
          "text": [
            "Predicted not the same size as test set\n"
          ]
        },
        {
          "output_type": "stream",
          "name": "stderr",
          "text": [
            "/usr/local/lib/python3.10/dist-packages/Seance/Optimizer.py:105: SettingWithCopyWarning: \n",
            "A value is trying to be set on a copy of a slice from a DataFrame.\n",
            "Try using .loc[row_indexer,col_indexer] = value instead\n",
            "\n",
            "See the caveats in the documentation: https://pandas.pydata.org/pandas-docs/stable/user_guide/indexing.html#returning-a-view-versus-a-copy\n",
            "  self.test_df[self.date_column] = self.test_df[self.date_column].dt.tz_localize(None)\n",
            "[I 2023-07-25 13:22:50,313] Trial 17 finished with value: 13.442561504666713 and parameters: {'n_estimators': 445, 'lambda_l1': 3.2163059811659465, 'lambda_l2': 1.7242252247569347, 'num_leaves': 115, 'feature_fraction': 0.7045173846675133, 'bagging_fraction': 0.6654275149545331, 'bagging_freq': 15, 'min_child_samples': 17, 'use_id': True, 'objective': 'regression_l1', 'n_basis': 19, 'differences': 1, 'decay': 0.1, 'scale_type': 'none', 'lags': [1, 2, 3]}. Best is trial 15 with value: 12.956500540109433.\n",
            "/usr/local/lib/python3.10/dist-packages/optuna/distributions.py:524: UserWarning: Choices for a categorical distribution should be a tuple of None, bool, int, float and str for persistent storage but contains [1, 2, 3] which is of type list.\n",
            "  warnings.warn(message)\n",
            "/usr/local/lib/python3.10/dist-packages/Seance/Forecaster.py:145: FutureWarning: Not prepending group keys to the result index of transform-like apply. In the future, the group keys will be included in the index, regardless of whether the applied function returns a like-indexed object.\n",
            "To preserve the previous behavior, use\n",
            "\n",
            "\t>>> .groupby(..., group_keys=False)\n",
            "\n",
            "To adopt the future behavior and silence this warning, use \n",
            "\n",
            "\t>>> .groupby(..., group_keys=True)\n",
            "  basis = self.processed_df.groupby('Seance ID')[target_column].apply(self.linear_basis)\n",
            "/usr/local/lib/python3.10/dist-packages/mlforecast/core.py:151: UserWarning: The differences argument is deprecated and will be removed in a future version.\n",
            "Please pass an `mlforecast.target_transforms.Differences` instance to the `target_transforms` argument instead.\n",
            "  warnings.warn(\n"
          ]
        },
        {
          "output_type": "stream",
          "name": "stdout",
          "text": [
            "[LightGBM] [Warning] feature_fraction is set=0.7131916126247937, colsample_bytree=1.0 will be ignored. Current value: feature_fraction=0.7131916126247937\n",
            "[LightGBM] [Warning] lambda_l1 is set=2.6014394467172566, reg_alpha=0.0 will be ignored. Current value: lambda_l1=2.6014394467172566\n",
            "[LightGBM] [Warning] num_threads is set=1, n_jobs=-1 will be ignored. Current value: num_threads=1\n",
            "[LightGBM] [Warning] bagging_fraction is set=0.61180741091476, subsample=1.0 will be ignored. Current value: bagging_fraction=0.61180741091476\n",
            "[LightGBM] [Warning] lambda_l2 is set=1.737507454320252, reg_lambda=0.0 will be ignored. Current value: lambda_l2=1.737507454320252\n",
            "[LightGBM] [Warning] bagging_freq is set=13, subsample_freq=0 will be ignored. Current value: bagging_freq=13\n"
          ]
        },
        {
          "output_type": "stream",
          "name": "stderr",
          "text": [
            "/usr/local/lib/python3.10/dist-packages/Seance/Forecaster.py:227: FutureWarning: Not prepending group keys to the result index of transform-like apply. In the future, the group keys will be included in the index, regardless of whether the applied function returns a like-indexed object.\n",
            "To preserve the previous behavior, use\n",
            "\n",
            "\t>>> .groupby(..., group_keys=False)\n",
            "\n",
            "To adopt the future behavior and silence this warning, use \n",
            "\n",
            "\t>>> .groupby(..., group_keys=True)\n",
            "  basis = pred_X.groupby('Seance ID').apply(self.future_linear_basis)\n"
          ]
        },
        {
          "output_type": "stream",
          "name": "stdout",
          "text": [
            "Predicted not the same size as test set\n"
          ]
        },
        {
          "output_type": "stream",
          "name": "stderr",
          "text": [
            "/usr/local/lib/python3.10/dist-packages/Seance/Optimizer.py:105: SettingWithCopyWarning: \n",
            "A value is trying to be set on a copy of a slice from a DataFrame.\n",
            "Try using .loc[row_indexer,col_indexer] = value instead\n",
            "\n",
            "See the caveats in the documentation: https://pandas.pydata.org/pandas-docs/stable/user_guide/indexing.html#returning-a-view-versus-a-copy\n",
            "  self.test_df[self.date_column] = self.test_df[self.date_column].dt.tz_localize(None)\n",
            "[I 2023-07-25 13:23:44,738] Trial 18 finished with value: 13.439351373977924 and parameters: {'n_estimators': 433, 'lambda_l1': 2.6014394467172566, 'lambda_l2': 1.737507454320252, 'num_leaves': 6, 'feature_fraction': 0.7131916126247937, 'bagging_fraction': 0.61180741091476, 'bagging_freq': 13, 'min_child_samples': 47, 'use_id': True, 'objective': 'regression', 'n_basis': 20, 'differences': 1, 'decay': 0.99, 'scale_type': 'none', 'lags': [1, 2, 3]}. Best is trial 15 with value: 12.956500540109433.\n",
            "/usr/local/lib/python3.10/dist-packages/optuna/distributions.py:524: UserWarning: Choices for a categorical distribution should be a tuple of None, bool, int, float and str for persistent storage but contains [1, 2, 3] which is of type list.\n",
            "  warnings.warn(message)\n",
            "/usr/local/lib/python3.10/dist-packages/Seance/Forecaster.py:145: FutureWarning: Not prepending group keys to the result index of transform-like apply. In the future, the group keys will be included in the index, regardless of whether the applied function returns a like-indexed object.\n",
            "To preserve the previous behavior, use\n",
            "\n",
            "\t>>> .groupby(..., group_keys=False)\n",
            "\n",
            "To adopt the future behavior and silence this warning, use \n",
            "\n",
            "\t>>> .groupby(..., group_keys=True)\n",
            "  basis = self.processed_df.groupby('Seance ID')[target_column].apply(self.linear_basis)\n",
            "/usr/local/lib/python3.10/dist-packages/mlforecast/core.py:151: UserWarning: The differences argument is deprecated and will be removed in a future version.\n",
            "Please pass an `mlforecast.target_transforms.Differences` instance to the `target_transforms` argument instead.\n",
            "  warnings.warn(\n"
          ]
        },
        {
          "output_type": "stream",
          "name": "stdout",
          "text": [
            "[LightGBM] [Warning] feature_fraction is set=0.8373832587058841, colsample_bytree=1.0 will be ignored. Current value: feature_fraction=0.8373832587058841\n",
            "[LightGBM] [Warning] lambda_l1 is set=1.461936887999418, reg_alpha=0.0 will be ignored. Current value: lambda_l1=1.461936887999418\n",
            "[LightGBM] [Warning] num_threads is set=1, n_jobs=-1 will be ignored. Current value: num_threads=1\n",
            "[LightGBM] [Warning] bagging_fraction is set=0.6675775465134242, subsample=1.0 will be ignored. Current value: bagging_fraction=0.6675775465134242\n",
            "[LightGBM] [Warning] lambda_l2 is set=1.784624949656622, reg_lambda=0.0 will be ignored. Current value: lambda_l2=1.784624949656622\n",
            "[LightGBM] [Warning] bagging_freq is set=13, subsample_freq=0 will be ignored. Current value: bagging_freq=13\n"
          ]
        },
        {
          "output_type": "stream",
          "name": "stderr",
          "text": [
            "/usr/local/lib/python3.10/dist-packages/Seance/Forecaster.py:227: FutureWarning: Not prepending group keys to the result index of transform-like apply. In the future, the group keys will be included in the index, regardless of whether the applied function returns a like-indexed object.\n",
            "To preserve the previous behavior, use\n",
            "\n",
            "\t>>> .groupby(..., group_keys=False)\n",
            "\n",
            "To adopt the future behavior and silence this warning, use \n",
            "\n",
            "\t>>> .groupby(..., group_keys=True)\n",
            "  basis = pred_X.groupby('Seance ID').apply(self.future_linear_basis)\n"
          ]
        },
        {
          "output_type": "stream",
          "name": "stdout",
          "text": [
            "Predicted not the same size as test set\n"
          ]
        },
        {
          "output_type": "stream",
          "name": "stderr",
          "text": [
            "/usr/local/lib/python3.10/dist-packages/Seance/Optimizer.py:105: SettingWithCopyWarning: \n",
            "A value is trying to be set on a copy of a slice from a DataFrame.\n",
            "Try using .loc[row_indexer,col_indexer] = value instead\n",
            "\n",
            "See the caveats in the documentation: https://pandas.pydata.org/pandas-docs/stable/user_guide/indexing.html#returning-a-view-versus-a-copy\n",
            "  self.test_df[self.date_column] = self.test_df[self.date_column].dt.tz_localize(None)\n",
            "[I 2023-07-25 13:30:43,202] Trial 19 finished with value: 13.432475514425759 and parameters: {'n_estimators': 357, 'lambda_l1': 1.461936887999418, 'lambda_l2': 1.784624949656622, 'num_leaves': 212, 'feature_fraction': 0.8373832587058841, 'bagging_fraction': 0.6675775465134242, 'bagging_freq': 13, 'min_child_samples': 25, 'use_id': True, 'objective': 'regression_l1', 'n_basis': 18, 'differences': 1, 'decay': -1, 'scale_type': 'none', 'lags': [1, 2, 3]}. Best is trial 15 with value: 12.956500540109433.\n",
            "/usr/local/lib/python3.10/dist-packages/optuna/distributions.py:524: UserWarning: Choices for a categorical distribution should be a tuple of None, bool, int, float and str for persistent storage but contains [1, 2, 3] which is of type list.\n",
            "  warnings.warn(message)\n",
            "/usr/local/lib/python3.10/dist-packages/Seance/Forecaster.py:145: FutureWarning: Not prepending group keys to the result index of transform-like apply. In the future, the group keys will be included in the index, regardless of whether the applied function returns a like-indexed object.\n",
            "To preserve the previous behavior, use\n",
            "\n",
            "\t>>> .groupby(..., group_keys=False)\n",
            "\n",
            "To adopt the future behavior and silence this warning, use \n",
            "\n",
            "\t>>> .groupby(..., group_keys=True)\n",
            "  basis = self.processed_df.groupby('Seance ID')[target_column].apply(self.linear_basis)\n",
            "/usr/local/lib/python3.10/dist-packages/mlforecast/core.py:151: UserWarning: The differences argument is deprecated and will be removed in a future version.\n",
            "Please pass an `mlforecast.target_transforms.Differences` instance to the `target_transforms` argument instead.\n",
            "  warnings.warn(\n"
          ]
        },
        {
          "output_type": "stream",
          "name": "stdout",
          "text": [
            "[LightGBM] [Warning] feature_fraction is set=0.6747556540974607, colsample_bytree=1.0 will be ignored. Current value: feature_fraction=0.6747556540974607\n",
            "[LightGBM] [Warning] lambda_l1 is set=3.4232136026715243, reg_alpha=0.0 will be ignored. Current value: lambda_l1=3.4232136026715243\n",
            "[LightGBM] [Warning] num_threads is set=1, n_jobs=-1 will be ignored. Current value: num_threads=1\n",
            "[LightGBM] [Warning] bagging_fraction is set=0.6007034521285343, subsample=1.0 will be ignored. Current value: bagging_fraction=0.6007034521285343\n",
            "[LightGBM] [Warning] lambda_l2 is set=4.2472357887742795, reg_lambda=0.0 will be ignored. Current value: lambda_l2=4.2472357887742795\n",
            "[LightGBM] [Warning] bagging_freq is set=9, subsample_freq=0 will be ignored. Current value: bagging_freq=9\n"
          ]
        },
        {
          "output_type": "stream",
          "name": "stderr",
          "text": [
            "/usr/local/lib/python3.10/dist-packages/Seance/Forecaster.py:227: FutureWarning: Not prepending group keys to the result index of transform-like apply. In the future, the group keys will be included in the index, regardless of whether the applied function returns a like-indexed object.\n",
            "To preserve the previous behavior, use\n",
            "\n",
            "\t>>> .groupby(..., group_keys=False)\n",
            "\n",
            "To adopt the future behavior and silence this warning, use \n",
            "\n",
            "\t>>> .groupby(..., group_keys=True)\n",
            "  basis = pred_X.groupby('Seance ID').apply(self.future_linear_basis)\n"
          ]
        },
        {
          "output_type": "stream",
          "name": "stdout",
          "text": [
            "Predicted not the same size as test set\n"
          ]
        },
        {
          "output_type": "stream",
          "name": "stderr",
          "text": [
            "/usr/local/lib/python3.10/dist-packages/Seance/Optimizer.py:105: SettingWithCopyWarning: \n",
            "A value is trying to be set on a copy of a slice from a DataFrame.\n",
            "Try using .loc[row_indexer,col_indexer] = value instead\n",
            "\n",
            "See the caveats in the documentation: https://pandas.pydata.org/pandas-docs/stable/user_guide/indexing.html#returning-a-view-versus-a-copy\n",
            "  self.test_df[self.date_column] = self.test_df[self.date_column].dt.tz_localize(None)\n",
            "[I 2023-07-25 13:33:38,583] Trial 20 finished with value: 13.092089382216567 and parameters: {'n_estimators': 271, 'lambda_l1': 3.4232136026715243, 'lambda_l2': 4.2472357887742795, 'num_leaves': 93, 'feature_fraction': 0.6747556540974607, 'bagging_fraction': 0.6007034521285343, 'bagging_freq': 9, 'min_child_samples': 64, 'use_id': True, 'objective': 'regression_l1', 'n_basis': 12, 'differences': 1, 'decay': 0.5, 'scale_type': 'none', 'lags': [1, 2, 3]}. Best is trial 15 with value: 12.956500540109433.\n",
            "/usr/local/lib/python3.10/dist-packages/optuna/distributions.py:524: UserWarning: Choices for a categorical distribution should be a tuple of None, bool, int, float and str for persistent storage but contains [1, 2, 3] which is of type list.\n",
            "  warnings.warn(message)\n",
            "/usr/local/lib/python3.10/dist-packages/Seance/Forecaster.py:145: FutureWarning: Not prepending group keys to the result index of transform-like apply. In the future, the group keys will be included in the index, regardless of whether the applied function returns a like-indexed object.\n",
            "To preserve the previous behavior, use\n",
            "\n",
            "\t>>> .groupby(..., group_keys=False)\n",
            "\n",
            "To adopt the future behavior and silence this warning, use \n",
            "\n",
            "\t>>> .groupby(..., group_keys=True)\n",
            "  basis = self.processed_df.groupby('Seance ID')[target_column].apply(self.linear_basis)\n",
            "/usr/local/lib/python3.10/dist-packages/mlforecast/core.py:151: UserWarning: The differences argument is deprecated and will be removed in a future version.\n",
            "Please pass an `mlforecast.target_transforms.Differences` instance to the `target_transforms` argument instead.\n",
            "  warnings.warn(\n"
          ]
        },
        {
          "output_type": "stream",
          "name": "stdout",
          "text": [
            "[LightGBM] [Warning] feature_fraction is set=0.6752177882666062, colsample_bytree=1.0 will be ignored. Current value: feature_fraction=0.6752177882666062\n",
            "[LightGBM] [Warning] lambda_l1 is set=3.5629779815614, reg_alpha=0.0 will be ignored. Current value: lambda_l1=3.5629779815614\n",
            "[LightGBM] [Warning] num_threads is set=1, n_jobs=-1 will be ignored. Current value: num_threads=1\n",
            "[LightGBM] [Warning] bagging_fraction is set=0.6009350578547263, subsample=1.0 will be ignored. Current value: bagging_fraction=0.6009350578547263\n",
            "[LightGBM] [Warning] lambda_l2 is set=4.7557688990623435, reg_lambda=0.0 will be ignored. Current value: lambda_l2=4.7557688990623435\n",
            "[LightGBM] [Warning] bagging_freq is set=9, subsample_freq=0 will be ignored. Current value: bagging_freq=9\n"
          ]
        },
        {
          "output_type": "stream",
          "name": "stderr",
          "text": [
            "/usr/local/lib/python3.10/dist-packages/Seance/Forecaster.py:227: FutureWarning: Not prepending group keys to the result index of transform-like apply. In the future, the group keys will be included in the index, regardless of whether the applied function returns a like-indexed object.\n",
            "To preserve the previous behavior, use\n",
            "\n",
            "\t>>> .groupby(..., group_keys=False)\n",
            "\n",
            "To adopt the future behavior and silence this warning, use \n",
            "\n",
            "\t>>> .groupby(..., group_keys=True)\n",
            "  basis = pred_X.groupby('Seance ID').apply(self.future_linear_basis)\n"
          ]
        },
        {
          "output_type": "stream",
          "name": "stdout",
          "text": [
            "Predicted not the same size as test set\n"
          ]
        },
        {
          "output_type": "stream",
          "name": "stderr",
          "text": [
            "/usr/local/lib/python3.10/dist-packages/Seance/Optimizer.py:105: SettingWithCopyWarning: \n",
            "A value is trying to be set on a copy of a slice from a DataFrame.\n",
            "Try using .loc[row_indexer,col_indexer] = value instead\n",
            "\n",
            "See the caveats in the documentation: https://pandas.pydata.org/pandas-docs/stable/user_guide/indexing.html#returning-a-view-versus-a-copy\n",
            "  self.test_df[self.date_column] = self.test_df[self.date_column].dt.tz_localize(None)\n",
            "[I 2023-07-25 13:36:24,525] Trial 21 finished with value: 13.22281115615627 and parameters: {'n_estimators': 265, 'lambda_l1': 3.5629779815614, 'lambda_l2': 4.7557688990623435, 'num_leaves': 86, 'feature_fraction': 0.6752177882666062, 'bagging_fraction': 0.6009350578547263, 'bagging_freq': 9, 'min_child_samples': 65, 'use_id': True, 'objective': 'regression_l1', 'n_basis': 17, 'differences': 1, 'decay': 0.5, 'scale_type': 'none', 'lags': [1, 2, 3]}. Best is trial 15 with value: 12.956500540109433.\n",
            "/usr/local/lib/python3.10/dist-packages/optuna/distributions.py:524: UserWarning: Choices for a categorical distribution should be a tuple of None, bool, int, float and str for persistent storage but contains [1, 2, 3] which is of type list.\n",
            "  warnings.warn(message)\n",
            "/usr/local/lib/python3.10/dist-packages/Seance/Forecaster.py:145: FutureWarning: Not prepending group keys to the result index of transform-like apply. In the future, the group keys will be included in the index, regardless of whether the applied function returns a like-indexed object.\n",
            "To preserve the previous behavior, use\n",
            "\n",
            "\t>>> .groupby(..., group_keys=False)\n",
            "\n",
            "To adopt the future behavior and silence this warning, use \n",
            "\n",
            "\t>>> .groupby(..., group_keys=True)\n",
            "  basis = self.processed_df.groupby('Seance ID')[target_column].apply(self.linear_basis)\n",
            "/usr/local/lib/python3.10/dist-packages/mlforecast/core.py:151: UserWarning: The differences argument is deprecated and will be removed in a future version.\n",
            "Please pass an `mlforecast.target_transforms.Differences` instance to the `target_transforms` argument instead.\n",
            "  warnings.warn(\n"
          ]
        },
        {
          "output_type": "stream",
          "name": "stdout",
          "text": [
            "[LightGBM] [Warning] feature_fraction is set=0.6911207300334294, colsample_bytree=1.0 will be ignored. Current value: feature_fraction=0.6911207300334294\n",
            "[LightGBM] [Warning] lambda_l1 is set=2.5486905553437533, reg_alpha=0.0 will be ignored. Current value: lambda_l1=2.5486905553437533\n",
            "[LightGBM] [Warning] num_threads is set=1, n_jobs=-1 will be ignored. Current value: num_threads=1\n",
            "[LightGBM] [Warning] bagging_fraction is set=0.6349557226119925, subsample=1.0 will be ignored. Current value: bagging_fraction=0.6349557226119925\n",
            "[LightGBM] [Warning] lambda_l2 is set=4.023304177165272, reg_lambda=0.0 will be ignored. Current value: lambda_l2=4.023304177165272\n",
            "[LightGBM] [Warning] bagging_freq is set=10, subsample_freq=0 will be ignored. Current value: bagging_freq=10\n"
          ]
        },
        {
          "output_type": "stream",
          "name": "stderr",
          "text": [
            "/usr/local/lib/python3.10/dist-packages/Seance/Forecaster.py:227: FutureWarning: Not prepending group keys to the result index of transform-like apply. In the future, the group keys will be included in the index, regardless of whether the applied function returns a like-indexed object.\n",
            "To preserve the previous behavior, use\n",
            "\n",
            "\t>>> .groupby(..., group_keys=False)\n",
            "\n",
            "To adopt the future behavior and silence this warning, use \n",
            "\n",
            "\t>>> .groupby(..., group_keys=True)\n",
            "  basis = pred_X.groupby('Seance ID').apply(self.future_linear_basis)\n"
          ]
        },
        {
          "output_type": "stream",
          "name": "stdout",
          "text": [
            "Predicted not the same size as test set\n"
          ]
        },
        {
          "output_type": "stream",
          "name": "stderr",
          "text": [
            "/usr/local/lib/python3.10/dist-packages/Seance/Optimizer.py:105: SettingWithCopyWarning: \n",
            "A value is trying to be set on a copy of a slice from a DataFrame.\n",
            "Try using .loc[row_indexer,col_indexer] = value instead\n",
            "\n",
            "See the caveats in the documentation: https://pandas.pydata.org/pandas-docs/stable/user_guide/indexing.html#returning-a-view-versus-a-copy\n",
            "  self.test_df[self.date_column] = self.test_df[self.date_column].dt.tz_localize(None)\n",
            "[I 2023-07-25 13:39:19,683] Trial 22 finished with value: 13.19557467532145 and parameters: {'n_estimators': 421, 'lambda_l1': 2.5486905553437533, 'lambda_l2': 4.023304177165272, 'num_leaves': 44, 'feature_fraction': 0.6911207300334294, 'bagging_fraction': 0.6349557226119925, 'bagging_freq': 10, 'min_child_samples': 50, 'use_id': True, 'objective': 'regression_l1', 'n_basis': 13, 'differences': 1, 'decay': 0.5, 'scale_type': 'none', 'lags': [1, 2, 3]}. Best is trial 15 with value: 12.956500540109433.\n",
            "/usr/local/lib/python3.10/dist-packages/optuna/distributions.py:524: UserWarning: Choices for a categorical distribution should be a tuple of None, bool, int, float and str for persistent storage but contains [1, 2, 3] which is of type list.\n",
            "  warnings.warn(message)\n",
            "/usr/local/lib/python3.10/dist-packages/Seance/Forecaster.py:145: FutureWarning: Not prepending group keys to the result index of transform-like apply. In the future, the group keys will be included in the index, regardless of whether the applied function returns a like-indexed object.\n",
            "To preserve the previous behavior, use\n",
            "\n",
            "\t>>> .groupby(..., group_keys=False)\n",
            "\n",
            "To adopt the future behavior and silence this warning, use \n",
            "\n",
            "\t>>> .groupby(..., group_keys=True)\n",
            "  basis = self.processed_df.groupby('Seance ID')[target_column].apply(self.linear_basis)\n",
            "/usr/local/lib/python3.10/dist-packages/mlforecast/core.py:151: UserWarning: The differences argument is deprecated and will be removed in a future version.\n",
            "Please pass an `mlforecast.target_transforms.Differences` instance to the `target_transforms` argument instead.\n",
            "  warnings.warn(\n"
          ]
        },
        {
          "output_type": "stream",
          "name": "stdout",
          "text": [
            "[LightGBM] [Warning] feature_fraction is set=0.6042899612895261, colsample_bytree=1.0 will be ignored. Current value: feature_fraction=0.6042899612895261\n",
            "[LightGBM] [Warning] lambda_l1 is set=0.7255067439489382, reg_alpha=0.0 will be ignored. Current value: lambda_l1=0.7255067439489382\n",
            "[LightGBM] [Warning] num_threads is set=1, n_jobs=-1 will be ignored. Current value: num_threads=1\n",
            "[LightGBM] [Warning] bagging_fraction is set=0.6480062438580795, subsample=1.0 will be ignored. Current value: bagging_fraction=0.6480062438580795\n",
            "[LightGBM] [Warning] lambda_l2 is set=1.7732983549684662, reg_lambda=0.0 will be ignored. Current value: lambda_l2=1.7732983549684662\n",
            "[LightGBM] [Warning] bagging_freq is set=12, subsample_freq=0 will be ignored. Current value: bagging_freq=12\n"
          ]
        },
        {
          "output_type": "stream",
          "name": "stderr",
          "text": [
            "/usr/local/lib/python3.10/dist-packages/Seance/Forecaster.py:227: FutureWarning: Not prepending group keys to the result index of transform-like apply. In the future, the group keys will be included in the index, regardless of whether the applied function returns a like-indexed object.\n",
            "To preserve the previous behavior, use\n",
            "\n",
            "\t>>> .groupby(..., group_keys=False)\n",
            "\n",
            "To adopt the future behavior and silence this warning, use \n",
            "\n",
            "\t>>> .groupby(..., group_keys=True)\n",
            "  basis = pred_X.groupby('Seance ID').apply(self.future_linear_basis)\n"
          ]
        },
        {
          "output_type": "stream",
          "name": "stdout",
          "text": [
            "Predicted not the same size as test set\n"
          ]
        },
        {
          "output_type": "stream",
          "name": "stderr",
          "text": [
            "/usr/local/lib/python3.10/dist-packages/Seance/Optimizer.py:105: SettingWithCopyWarning: \n",
            "A value is trying to be set on a copy of a slice from a DataFrame.\n",
            "Try using .loc[row_indexer,col_indexer] = value instead\n",
            "\n",
            "See the caveats in the documentation: https://pandas.pydata.org/pandas-docs/stable/user_guide/indexing.html#returning-a-view-versus-a-copy\n",
            "  self.test_df[self.date_column] = self.test_df[self.date_column].dt.tz_localize(None)\n",
            "[I 2023-07-25 13:43:11,831] Trial 23 finished with value: 12.98818422171287 and parameters: {'n_estimators': 361, 'lambda_l1': 0.7255067439489382, 'lambda_l2': 1.7732983549684662, 'num_leaves': 104, 'feature_fraction': 0.6042899612895261, 'bagging_fraction': 0.6480062438580795, 'bagging_freq': 12, 'min_child_samples': 63, 'use_id': True, 'objective': 'regression_l1', 'n_basis': 7, 'differences': 1, 'decay': 0.9, 'scale_type': 'none', 'lags': [1, 2, 3]}. Best is trial 15 with value: 12.956500540109433.\n",
            "/usr/local/lib/python3.10/dist-packages/optuna/distributions.py:524: UserWarning: Choices for a categorical distribution should be a tuple of None, bool, int, float and str for persistent storage but contains [1, 2, 3] which is of type list.\n",
            "  warnings.warn(message)\n",
            "/usr/local/lib/python3.10/dist-packages/Seance/Forecaster.py:145: FutureWarning: Not prepending group keys to the result index of transform-like apply. In the future, the group keys will be included in the index, regardless of whether the applied function returns a like-indexed object.\n",
            "To preserve the previous behavior, use\n",
            "\n",
            "\t>>> .groupby(..., group_keys=False)\n",
            "\n",
            "To adopt the future behavior and silence this warning, use \n",
            "\n",
            "\t>>> .groupby(..., group_keys=True)\n",
            "  basis = self.processed_df.groupby('Seance ID')[target_column].apply(self.linear_basis)\n",
            "/usr/local/lib/python3.10/dist-packages/mlforecast/core.py:151: UserWarning: The differences argument is deprecated and will be removed in a future version.\n",
            "Please pass an `mlforecast.target_transforms.Differences` instance to the `target_transforms` argument instead.\n",
            "  warnings.warn(\n"
          ]
        },
        {
          "output_type": "stream",
          "name": "stdout",
          "text": [
            "[LightGBM] [Warning] feature_fraction is set=0.6309556904380301, colsample_bytree=1.0 will be ignored. Current value: feature_fraction=0.6309556904380301\n",
            "[LightGBM] [Warning] lambda_l1 is set=0.7739308153296536, reg_alpha=0.0 will be ignored. Current value: lambda_l1=0.7739308153296536\n",
            "[LightGBM] [Warning] num_threads is set=1, n_jobs=-1 will be ignored. Current value: num_threads=1\n",
            "[LightGBM] [Warning] bagging_fraction is set=0.6561808800407376, subsample=1.0 will be ignored. Current value: bagging_fraction=0.6561808800407376\n",
            "[LightGBM] [Warning] lambda_l2 is set=1.7020057590300322, reg_lambda=0.0 will be ignored. Current value: lambda_l2=1.7020057590300322\n",
            "[LightGBM] [Warning] bagging_freq is set=13, subsample_freq=0 will be ignored. Current value: bagging_freq=13\n"
          ]
        },
        {
          "output_type": "stream",
          "name": "stderr",
          "text": [
            "/usr/local/lib/python3.10/dist-packages/Seance/Forecaster.py:227: FutureWarning: Not prepending group keys to the result index of transform-like apply. In the future, the group keys will be included in the index, regardless of whether the applied function returns a like-indexed object.\n",
            "To preserve the previous behavior, use\n",
            "\n",
            "\t>>> .groupby(..., group_keys=False)\n",
            "\n",
            "To adopt the future behavior and silence this warning, use \n",
            "\n",
            "\t>>> .groupby(..., group_keys=True)\n",
            "  basis = pred_X.groupby('Seance ID').apply(self.future_linear_basis)\n"
          ]
        },
        {
          "output_type": "stream",
          "name": "stdout",
          "text": [
            "Predicted not the same size as test set\n"
          ]
        },
        {
          "output_type": "stream",
          "name": "stderr",
          "text": [
            "/usr/local/lib/python3.10/dist-packages/Seance/Optimizer.py:105: SettingWithCopyWarning: \n",
            "A value is trying to be set on a copy of a slice from a DataFrame.\n",
            "Try using .loc[row_indexer,col_indexer] = value instead\n",
            "\n",
            "See the caveats in the documentation: https://pandas.pydata.org/pandas-docs/stable/user_guide/indexing.html#returning-a-view-versus-a-copy\n",
            "  self.test_df[self.date_column] = self.test_df[self.date_column].dt.tz_localize(None)\n",
            "[I 2023-07-25 13:48:39,111] Trial 24 finished with value: 13.033321272838858 and parameters: {'n_estimators': 386, 'lambda_l1': 0.7739308153296536, 'lambda_l2': 1.7020057590300322, 'num_leaves': 180, 'feature_fraction': 0.6309556904380301, 'bagging_fraction': 0.6561808800407376, 'bagging_freq': 13, 'min_child_samples': 43, 'use_id': True, 'objective': 'regression_l1', 'n_basis': 6, 'differences': 1, 'decay': 0.9, 'scale_type': 'none', 'lags': [1, 2, 3]}. Best is trial 15 with value: 12.956500540109433.\n",
            "/usr/local/lib/python3.10/dist-packages/optuna/distributions.py:524: UserWarning: Choices for a categorical distribution should be a tuple of None, bool, int, float and str for persistent storage but contains [1, 2, 3] which is of type list.\n",
            "  warnings.warn(message)\n",
            "/usr/local/lib/python3.10/dist-packages/Seance/Builder/PreProcess.py:81: FutureWarning: Not prepending group keys to the result index of transform-like apply. In the future, the group keys will be included in the index, regardless of whether the applied function returns a like-indexed object.\n",
            "To preserve the previous behavior, use\n",
            "\n",
            "\t>>> .groupby(..., group_keys=False)\n",
            "\n",
            "To adopt the future behavior and silence this warning, use \n",
            "\n",
            "\t>>> .groupby(..., group_keys=True)\n",
            "  df = df.groupby('Seance ID').apply(self.trans)\n",
            "/usr/local/lib/python3.10/dist-packages/Seance/Forecaster.py:145: FutureWarning: Not prepending group keys to the result index of transform-like apply. In the future, the group keys will be included in the index, regardless of whether the applied function returns a like-indexed object.\n",
            "To preserve the previous behavior, use\n",
            "\n",
            "\t>>> .groupby(..., group_keys=False)\n",
            "\n",
            "To adopt the future behavior and silence this warning, use \n",
            "\n",
            "\t>>> .groupby(..., group_keys=True)\n",
            "  basis = self.processed_df.groupby('Seance ID')[target_column].apply(self.linear_basis)\n",
            "/usr/local/lib/python3.10/dist-packages/mlforecast/core.py:151: UserWarning: The differences argument is deprecated and will be removed in a future version.\n",
            "Please pass an `mlforecast.target_transforms.Differences` instance to the `target_transforms` argument instead.\n",
            "  warnings.warn(\n"
          ]
        },
        {
          "output_type": "stream",
          "name": "stdout",
          "text": [
            "[LightGBM] [Warning] feature_fraction is set=0.6236328597288886, colsample_bytree=1.0 will be ignored. Current value: feature_fraction=0.6236328597288886\n",
            "[LightGBM] [Warning] lambda_l1 is set=0.8079822390274493, reg_alpha=0.0 will be ignored. Current value: lambda_l1=0.8079822390274493\n",
            "[LightGBM] [Warning] num_threads is set=1, n_jobs=-1 will be ignored. Current value: num_threads=1\n",
            "[LightGBM] [Warning] bagging_fraction is set=0.6826083676973016, subsample=1.0 will be ignored. Current value: bagging_fraction=0.6826083676973016\n",
            "[LightGBM] [Warning] lambda_l2 is set=2.2506451622682033, reg_lambda=0.0 will be ignored. Current value: lambda_l2=2.2506451622682033\n",
            "[LightGBM] [Warning] bagging_freq is set=15, subsample_freq=0 will be ignored. Current value: bagging_freq=15\n"
          ]
        },
        {
          "output_type": "stream",
          "name": "stderr",
          "text": [
            "/usr/local/lib/python3.10/dist-packages/Seance/Forecaster.py:227: FutureWarning: Not prepending group keys to the result index of transform-like apply. In the future, the group keys will be included in the index, regardless of whether the applied function returns a like-indexed object.\n",
            "To preserve the previous behavior, use\n",
            "\n",
            "\t>>> .groupby(..., group_keys=False)\n",
            "\n",
            "To adopt the future behavior and silence this warning, use \n",
            "\n",
            "\t>>> .groupby(..., group_keys=True)\n",
            "  basis = pred_X.groupby('Seance ID').apply(self.future_linear_basis)\n",
            "/usr/local/lib/python3.10/dist-packages/Seance/Forecaster.py:239: FutureWarning: Not prepending group keys to the result index of transform-like apply. In the future, the group keys will be included in the index, regardless of whether the applied function returns a like-indexed object.\n",
            "To preserve the previous behavior, use\n",
            "\n",
            "\t>>> .groupby(..., group_keys=False)\n",
            "\n",
            "To adopt the future behavior and silence this warning, use \n",
            "\n",
            "\t>>> .groupby(..., group_keys=True)\n",
            "  predicted = predicted.groupby('Seance ID').apply(self.inverse_transform)\n"
          ]
        },
        {
          "output_type": "stream",
          "name": "stdout",
          "text": [
            "Predicted not the same size as test set\n"
          ]
        },
        {
          "output_type": "stream",
          "name": "stderr",
          "text": [
            "/usr/local/lib/python3.10/dist-packages/Seance/Optimizer.py:105: SettingWithCopyWarning: \n",
            "A value is trying to be set on a copy of a slice from a DataFrame.\n",
            "Try using .loc[row_indexer,col_indexer] = value instead\n",
            "\n",
            "See the caveats in the documentation: https://pandas.pydata.org/pandas-docs/stable/user_guide/indexing.html#returning-a-view-versus-a-copy\n",
            "  self.test_df[self.date_column] = self.test_df[self.date_column].dt.tz_localize(None)\n",
            "[I 2023-07-25 13:50:05,719] Trial 25 finished with value: 13.699025493930975 and parameters: {'n_estimators': 359, 'lambda_l1': 0.8079822390274493, 'lambda_l2': 2.2506451622682033, 'num_leaves': 3, 'feature_fraction': 0.6236328597288886, 'bagging_fraction': 0.6826083676973016, 'bagging_freq': 15, 'min_child_samples': 56, 'use_id': True, 'objective': 'regression_l1', 'n_basis': 5, 'differences': 1, 'decay': 0.9, 'scale_type': 'minmax', 'lags': [1, 2, 3]}. Best is trial 15 with value: 12.956500540109433.\n",
            "/usr/local/lib/python3.10/dist-packages/optuna/distributions.py:524: UserWarning: Choices for a categorical distribution should be a tuple of None, bool, int, float and str for persistent storage but contains [1, 2, 3] which is of type list.\n",
            "  warnings.warn(message)\n",
            "/usr/local/lib/python3.10/dist-packages/Seance/Builder/PreProcess.py:81: FutureWarning: Not prepending group keys to the result index of transform-like apply. In the future, the group keys will be included in the index, regardless of whether the applied function returns a like-indexed object.\n",
            "To preserve the previous behavior, use\n",
            "\n",
            "\t>>> .groupby(..., group_keys=False)\n",
            "\n",
            "To adopt the future behavior and silence this warning, use \n",
            "\n",
            "\t>>> .groupby(..., group_keys=True)\n",
            "  df = df.groupby('Seance ID').apply(self.trans)\n",
            "/usr/local/lib/python3.10/dist-packages/Seance/Forecaster.py:145: FutureWarning: Not prepending group keys to the result index of transform-like apply. In the future, the group keys will be included in the index, regardless of whether the applied function returns a like-indexed object.\n",
            "To preserve the previous behavior, use\n",
            "\n",
            "\t>>> .groupby(..., group_keys=False)\n",
            "\n",
            "To adopt the future behavior and silence this warning, use \n",
            "\n",
            "\t>>> .groupby(..., group_keys=True)\n",
            "  basis = self.processed_df.groupby('Seance ID')[target_column].apply(self.linear_basis)\n"
          ]
        },
        {
          "output_type": "stream",
          "name": "stdout",
          "text": [
            "[LightGBM] [Warning] feature_fraction is set=0.603170075285513, colsample_bytree=1.0 will be ignored. Current value: feature_fraction=0.603170075285513\n",
            "[LightGBM] [Warning] lambda_l1 is set=2.033650363136611, reg_alpha=0.0 will be ignored. Current value: lambda_l1=2.033650363136611\n",
            "[LightGBM] [Warning] num_threads is set=1, n_jobs=-1 will be ignored. Current value: num_threads=1\n",
            "[LightGBM] [Warning] bagging_fraction is set=0.6439265544727033, subsample=1.0 will be ignored. Current value: bagging_fraction=0.6439265544727033\n",
            "[LightGBM] [Warning] lambda_l2 is set=1.1395487786232112, reg_lambda=0.0 will be ignored. Current value: lambda_l2=1.1395487786232112\n",
            "[LightGBM] [Warning] bagging_freq is set=12, subsample_freq=0 will be ignored. Current value: bagging_freq=12\n"
          ]
        },
        {
          "output_type": "stream",
          "name": "stderr",
          "text": [
            "/usr/local/lib/python3.10/dist-packages/Seance/Forecaster.py:227: FutureWarning: Not prepending group keys to the result index of transform-like apply. In the future, the group keys will be included in the index, regardless of whether the applied function returns a like-indexed object.\n",
            "To preserve the previous behavior, use\n",
            "\n",
            "\t>>> .groupby(..., group_keys=False)\n",
            "\n",
            "To adopt the future behavior and silence this warning, use \n",
            "\n",
            "\t>>> .groupby(..., group_keys=True)\n",
            "  basis = pred_X.groupby('Seance ID').apply(self.future_linear_basis)\n",
            "/usr/local/lib/python3.10/dist-packages/Seance/Forecaster.py:239: FutureWarning: Not prepending group keys to the result index of transform-like apply. In the future, the group keys will be included in the index, regardless of whether the applied function returns a like-indexed object.\n",
            "To preserve the previous behavior, use\n",
            "\n",
            "\t>>> .groupby(..., group_keys=False)\n",
            "\n",
            "To adopt the future behavior and silence this warning, use \n",
            "\n",
            "\t>>> .groupby(..., group_keys=True)\n",
            "  predicted = predicted.groupby('Seance ID').apply(self.inverse_transform)\n"
          ]
        },
        {
          "output_type": "stream",
          "name": "stdout",
          "text": [
            "Predicted not the same size as test set\n"
          ]
        },
        {
          "output_type": "stream",
          "name": "stderr",
          "text": [
            "/usr/local/lib/python3.10/dist-packages/Seance/Optimizer.py:105: SettingWithCopyWarning: \n",
            "A value is trying to be set on a copy of a slice from a DataFrame.\n",
            "Try using .loc[row_indexer,col_indexer] = value instead\n",
            "\n",
            "See the caveats in the documentation: https://pandas.pydata.org/pandas-docs/stable/user_guide/indexing.html#returning-a-view-versus-a-copy\n",
            "  self.test_df[self.date_column] = self.test_df[self.date_column].dt.tz_localize(None)\n",
            "[I 2023-07-25 13:53:42,840] Trial 26 finished with value: 16.83414543564316 and parameters: {'n_estimators': 483, 'lambda_l1': 2.033650363136611, 'lambda_l2': 1.1395487786232112, 'num_leaves': 45, 'feature_fraction': 0.603170075285513, 'bagging_fraction': 0.6439265544727033, 'bagging_freq': 12, 'min_child_samples': 91, 'use_id': True, 'objective': 'regression', 'n_basis': 20, 'differences': None, 'decay': 0.05, 'scale_type': 'standard', 'lags': [1, 2, 3]}. Best is trial 15 with value: 12.956500540109433.\n",
            "/usr/local/lib/python3.10/dist-packages/optuna/distributions.py:524: UserWarning: Choices for a categorical distribution should be a tuple of None, bool, int, float and str for persistent storage but contains [1, 2, 3] which is of type list.\n",
            "  warnings.warn(message)\n",
            "[I 2023-07-25 13:54:28,389] Trial 27 finished with value: inf and parameters: {'n_estimators': 459, 'lambda_l1': 0.6744932891324433, 'lambda_l2': 0.21452398014527008, 'num_leaves': 114, 'feature_fraction': 0.7234638298844922, 'bagging_fraction': 0.7077926899646619, 'bagging_freq': 14, 'min_child_samples': 71, 'use_id': True, 'objective': 'regression_l1', 'n_basis': 3, 'differences': 1, 'decay': 0.9, 'scale_type': 'robust_boxcox', 'lags': [1, 2, 3]}. Best is trial 15 with value: 12.956500540109433.\n"
          ]
        },
        {
          "output_type": "stream",
          "name": "stdout",
          "text": [
            "ERROR WHILE TUNING: Data must not be constant.\n"
          ]
        },
        {
          "output_type": "stream",
          "name": "stderr",
          "text": [
            "/usr/local/lib/python3.10/dist-packages/optuna/distributions.py:524: UserWarning: Choices for a categorical distribution should be a tuple of None, bool, int, float and str for persistent storage but contains [1, 2, 3] which is of type list.\n",
            "  warnings.warn(message)\n",
            "/usr/local/lib/python3.10/dist-packages/Seance/Forecaster.py:145: FutureWarning: Not prepending group keys to the result index of transform-like apply. In the future, the group keys will be included in the index, regardless of whether the applied function returns a like-indexed object.\n",
            "To preserve the previous behavior, use\n",
            "\n",
            "\t>>> .groupby(..., group_keys=False)\n",
            "\n",
            "To adopt the future behavior and silence this warning, use \n",
            "\n",
            "\t>>> .groupby(..., group_keys=True)\n",
            "  basis = self.processed_df.groupby('Seance ID')[target_column].apply(self.linear_basis)\n",
            "/usr/local/lib/python3.10/dist-packages/mlforecast/core.py:151: UserWarning: The differences argument is deprecated and will be removed in a future version.\n",
            "Please pass an `mlforecast.target_transforms.Differences` instance to the `target_transforms` argument instead.\n",
            "  warnings.warn(\n"
          ]
        },
        {
          "output_type": "stream",
          "name": "stdout",
          "text": [
            "[LightGBM] [Warning] feature_fraction is set=0.6005184826050582, colsample_bytree=1.0 will be ignored. Current value: feature_fraction=0.6005184826050582\n",
            "[LightGBM] [Warning] lambda_l1 is set=1.658706040429459, reg_alpha=0.0 will be ignored. Current value: lambda_l1=1.658706040429459\n",
            "[LightGBM] [Warning] num_threads is set=1, n_jobs=-1 will be ignored. Current value: num_threads=1\n",
            "[LightGBM] [Warning] bagging_fraction is set=0.6355521828898771, subsample=1.0 will be ignored. Current value: bagging_fraction=0.6355521828898771\n",
            "[LightGBM] [Warning] lambda_l2 is set=1.0947005770578033, reg_lambda=0.0 will be ignored. Current value: lambda_l2=1.0947005770578033\n",
            "[LightGBM] [Warning] bagging_freq is set=12, subsample_freq=0 will be ignored. Current value: bagging_freq=12\n"
          ]
        },
        {
          "output_type": "stream",
          "name": "stderr",
          "text": [
            "/usr/local/lib/python3.10/dist-packages/Seance/Forecaster.py:227: FutureWarning: Not prepending group keys to the result index of transform-like apply. In the future, the group keys will be included in the index, regardless of whether the applied function returns a like-indexed object.\n",
            "To preserve the previous behavior, use\n",
            "\n",
            "\t>>> .groupby(..., group_keys=False)\n",
            "\n",
            "To adopt the future behavior and silence this warning, use \n",
            "\n",
            "\t>>> .groupby(..., group_keys=True)\n",
            "  basis = pred_X.groupby('Seance ID').apply(self.future_linear_basis)\n"
          ]
        },
        {
          "output_type": "stream",
          "name": "stdout",
          "text": [
            "Predicted not the same size as test set\n"
          ]
        },
        {
          "output_type": "stream",
          "name": "stderr",
          "text": [
            "/usr/local/lib/python3.10/dist-packages/Seance/Optimizer.py:105: SettingWithCopyWarning: \n",
            "A value is trying to be set on a copy of a slice from a DataFrame.\n",
            "Try using .loc[row_indexer,col_indexer] = value instead\n",
            "\n",
            "See the caveats in the documentation: https://pandas.pydata.org/pandas-docs/stable/user_guide/indexing.html#returning-a-view-versus-a-copy\n",
            "  self.test_df[self.date_column] = self.test_df[self.date_column].dt.tz_localize(None)\n",
            "[I 2023-07-25 13:57:40,976] Trial 28 finished with value: 12.907590556239828 and parameters: {'n_estimators': 412, 'lambda_l1': 1.658706040429459, 'lambda_l2': 1.0947005770578033, 'num_leaves': 64, 'feature_fraction': 0.6005184826050582, 'bagging_fraction': 0.6355521828898771, 'bagging_freq': 12, 'min_child_samples': 38, 'use_id': True, 'objective': 'regression_l1', 'n_basis': 8, 'differences': 1, 'decay': 0.9, 'scale_type': 'none', 'lags': [1, 2, 3]}. Best is trial 28 with value: 12.907590556239828.\n",
            "/usr/local/lib/python3.10/dist-packages/optuna/distributions.py:524: UserWarning: Choices for a categorical distribution should be a tuple of None, bool, int, float and str for persistent storage but contains [1, 2, 3] which is of type list.\n",
            "  warnings.warn(message)\n",
            "/usr/local/lib/python3.10/dist-packages/Seance/Builder/PreProcess.py:81: FutureWarning: Not prepending group keys to the result index of transform-like apply. In the future, the group keys will be included in the index, regardless of whether the applied function returns a like-indexed object.\n",
            "To preserve the previous behavior, use\n",
            "\n",
            "\t>>> .groupby(..., group_keys=False)\n",
            "\n",
            "To adopt the future behavior and silence this warning, use \n",
            "\n",
            "\t>>> .groupby(..., group_keys=True)\n",
            "  df = df.groupby('Seance ID').apply(self.trans)\n",
            "/usr/local/lib/python3.10/dist-packages/Seance/Forecaster.py:145: FutureWarning: Not prepending group keys to the result index of transform-like apply. In the future, the group keys will be included in the index, regardless of whether the applied function returns a like-indexed object.\n",
            "To preserve the previous behavior, use\n",
            "\n",
            "\t>>> .groupby(..., group_keys=False)\n",
            "\n",
            "To adopt the future behavior and silence this warning, use \n",
            "\n",
            "\t>>> .groupby(..., group_keys=True)\n",
            "  basis = self.processed_df.groupby('Seance ID')[target_column].apply(self.linear_basis)\n"
          ]
        },
        {
          "output_type": "stream",
          "name": "stdout",
          "text": [
            "[LightGBM] [Warning] feature_fraction is set=0.6628212822717915, colsample_bytree=1.0 will be ignored. Current value: feature_fraction=0.6628212822717915\n",
            "[LightGBM] [Warning] lambda_l1 is set=1.890833017050071, reg_alpha=0.0 will be ignored. Current value: lambda_l1=1.890833017050071\n",
            "[LightGBM] [Warning] num_threads is set=1, n_jobs=-1 will be ignored. Current value: num_threads=1\n",
            "[LightGBM] [Warning] bagging_fraction is set=0.6326605807957864, subsample=1.0 will be ignored. Current value: bagging_fraction=0.6326605807957864\n",
            "[LightGBM] [Warning] lambda_l2 is set=0.08472204512952342, reg_lambda=0.0 will be ignored. Current value: lambda_l2=0.08472204512952342\n",
            "[LightGBM] [Warning] bagging_freq is set=15, subsample_freq=0 will be ignored. Current value: bagging_freq=15\n"
          ]
        },
        {
          "output_type": "stream",
          "name": "stderr",
          "text": [
            "/usr/local/lib/python3.10/dist-packages/Seance/Forecaster.py:227: FutureWarning: Not prepending group keys to the result index of transform-like apply. In the future, the group keys will be included in the index, regardless of whether the applied function returns a like-indexed object.\n",
            "To preserve the previous behavior, use\n",
            "\n",
            "\t>>> .groupby(..., group_keys=False)\n",
            "\n",
            "To adopt the future behavior and silence this warning, use \n",
            "\n",
            "\t>>> .groupby(..., group_keys=True)\n",
            "  basis = pred_X.groupby('Seance ID').apply(self.future_linear_basis)\n",
            "/usr/local/lib/python3.10/dist-packages/Seance/Forecaster.py:239: FutureWarning: Not prepending group keys to the result index of transform-like apply. In the future, the group keys will be included in the index, regardless of whether the applied function returns a like-indexed object.\n",
            "To preserve the previous behavior, use\n",
            "\n",
            "\t>>> .groupby(..., group_keys=False)\n",
            "\n",
            "To adopt the future behavior and silence this warning, use \n",
            "\n",
            "\t>>> .groupby(..., group_keys=True)\n",
            "  predicted = predicted.groupby('Seance ID').apply(self.inverse_transform)\n"
          ]
        },
        {
          "output_type": "stream",
          "name": "stdout",
          "text": [
            "Predicted not the same size as test set\n"
          ]
        },
        {
          "output_type": "stream",
          "name": "stderr",
          "text": [
            "/usr/local/lib/python3.10/dist-packages/Seance/Optimizer.py:105: SettingWithCopyWarning: \n",
            "A value is trying to be set on a copy of a slice from a DataFrame.\n",
            "Try using .loc[row_indexer,col_indexer] = value instead\n",
            "\n",
            "See the caveats in the documentation: https://pandas.pydata.org/pandas-docs/stable/user_guide/indexing.html#returning-a-view-versus-a-copy\n",
            "  self.test_df[self.date_column] = self.test_df[self.date_column].dt.tz_localize(None)\n",
            "[I 2023-07-25 14:04:33,335] Trial 29 finished with value: 15.553930661114906 and parameters: {'n_estimators': 413, 'lambda_l1': 1.890833017050071, 'lambda_l2': 0.08472204512952342, 'num_leaves': 165, 'feature_fraction': 0.6628212822717915, 'bagging_fraction': 0.6326605807957864, 'bagging_freq': 15, 'min_child_samples': 34, 'use_id': True, 'objective': 'regression_l1', 'n_basis': 12, 'differences': None, 'decay': 0.9, 'scale_type': 'minmax', 'lags': [1, 2, 3]}. Best is trial 28 with value: 12.907590556239828.\n",
            "/usr/local/lib/python3.10/dist-packages/optuna/distributions.py:524: UserWarning: Choices for a categorical distribution should be a tuple of None, bool, int, float and str for persistent storage but contains [1, 2, 3] which is of type list.\n",
            "  warnings.warn(message)\n",
            "/usr/local/lib/python3.10/dist-packages/Seance/Forecaster.py:145: FutureWarning: Not prepending group keys to the result index of transform-like apply. In the future, the group keys will be included in the index, regardless of whether the applied function returns a like-indexed object.\n",
            "To preserve the previous behavior, use\n",
            "\n",
            "\t>>> .groupby(..., group_keys=False)\n",
            "\n",
            "To adopt the future behavior and silence this warning, use \n",
            "\n",
            "\t>>> .groupby(..., group_keys=True)\n",
            "  basis = self.processed_df.groupby('Seance ID')[target_column].apply(self.linear_basis)\n",
            "/usr/local/lib/python3.10/dist-packages/mlforecast/core.py:151: UserWarning: The differences argument is deprecated and will be removed in a future version.\n",
            "Please pass an `mlforecast.target_transforms.Differences` instance to the `target_transforms` argument instead.\n",
            "  warnings.warn(\n"
          ]
        },
        {
          "output_type": "stream",
          "name": "stdout",
          "text": [
            "[LightGBM] [Warning] feature_fraction is set=0.6538010558838319, colsample_bytree=1.0 will be ignored. Current value: feature_fraction=0.6538010558838319\n",
            "[LightGBM] [Warning] lambda_l1 is set=2.760498204753311, reg_alpha=0.0 will be ignored. Current value: lambda_l1=2.760498204753311\n",
            "[LightGBM] [Warning] num_threads is set=1, n_jobs=-1 will be ignored. Current value: num_threads=1\n",
            "[LightGBM] [Warning] bagging_fraction is set=0.625309590902312, subsample=1.0 will be ignored. Current value: bagging_fraction=0.625309590902312\n",
            "[LightGBM] [Warning] lambda_l2 is set=1.1144224757680035, reg_lambda=0.0 will be ignored. Current value: lambda_l2=1.1144224757680035\n",
            "[LightGBM] [Warning] bagging_freq is set=10, subsample_freq=0 will be ignored. Current value: bagging_freq=10\n"
          ]
        },
        {
          "output_type": "stream",
          "name": "stderr",
          "text": [
            "/usr/local/lib/python3.10/dist-packages/Seance/Forecaster.py:227: FutureWarning: Not prepending group keys to the result index of transform-like apply. In the future, the group keys will be included in the index, regardless of whether the applied function returns a like-indexed object.\n",
            "To preserve the previous behavior, use\n",
            "\n",
            "\t>>> .groupby(..., group_keys=False)\n",
            "\n",
            "To adopt the future behavior and silence this warning, use \n",
            "\n",
            "\t>>> .groupby(..., group_keys=True)\n",
            "  basis = pred_X.groupby('Seance ID').apply(self.future_linear_basis)\n"
          ]
        },
        {
          "output_type": "stream",
          "name": "stdout",
          "text": [
            "Predicted not the same size as test set\n"
          ]
        },
        {
          "output_type": "stream",
          "name": "stderr",
          "text": [
            "/usr/local/lib/python3.10/dist-packages/Seance/Optimizer.py:105: SettingWithCopyWarning: \n",
            "A value is trying to be set on a copy of a slice from a DataFrame.\n",
            "Try using .loc[row_indexer,col_indexer] = value instead\n",
            "\n",
            "See the caveats in the documentation: https://pandas.pydata.org/pandas-docs/stable/user_guide/indexing.html#returning-a-view-versus-a-copy\n",
            "  self.test_df[self.date_column] = self.test_df[self.date_column].dt.tz_localize(None)\n",
            "[I 2023-07-25 14:07:02,761] Trial 30 finished with value: 13.111828239095356 and parameters: {'n_estimators': 452, 'lambda_l1': 2.760498204753311, 'lambda_l2': 1.1144224757680035, 'num_leaves': 34, 'feature_fraction': 0.6538010558838319, 'bagging_fraction': 0.625309590902312, 'bagging_freq': 10, 'min_child_samples': 6, 'use_id': True, 'objective': 'regression_l1', 'n_basis': 2, 'differences': 1, 'decay': 0.05, 'scale_type': 'none', 'lags': [1, 2, 3]}. Best is trial 28 with value: 12.907590556239828.\n",
            "/usr/local/lib/python3.10/dist-packages/optuna/distributions.py:524: UserWarning: Choices for a categorical distribution should be a tuple of None, bool, int, float and str for persistent storage but contains [1, 2, 3] which is of type list.\n",
            "  warnings.warn(message)\n",
            "/usr/local/lib/python3.10/dist-packages/Seance/Forecaster.py:145: FutureWarning: Not prepending group keys to the result index of transform-like apply. In the future, the group keys will be included in the index, regardless of whether the applied function returns a like-indexed object.\n",
            "To preserve the previous behavior, use\n",
            "\n",
            "\t>>> .groupby(..., group_keys=False)\n",
            "\n",
            "To adopt the future behavior and silence this warning, use \n",
            "\n",
            "\t>>> .groupby(..., group_keys=True)\n",
            "  basis = self.processed_df.groupby('Seance ID')[target_column].apply(self.linear_basis)\n",
            "/usr/local/lib/python3.10/dist-packages/mlforecast/core.py:151: UserWarning: The differences argument is deprecated and will be removed in a future version.\n",
            "Please pass an `mlforecast.target_transforms.Differences` instance to the `target_transforms` argument instead.\n",
            "  warnings.warn(\n"
          ]
        },
        {
          "output_type": "stream",
          "name": "stdout",
          "text": [
            "[LightGBM] [Warning] feature_fraction is set=0.6010128706509283, colsample_bytree=1.0 will be ignored. Current value: feature_fraction=0.6010128706509283\n",
            "[LightGBM] [Warning] lambda_l1 is set=0.019275007257293142, reg_alpha=0.0 will be ignored. Current value: lambda_l1=0.019275007257293142\n",
            "[LightGBM] [Warning] num_threads is set=1, n_jobs=-1 will be ignored. Current value: num_threads=1\n",
            "[LightGBM] [Warning] bagging_fraction is set=0.6378279528161576, subsample=1.0 will be ignored. Current value: bagging_fraction=0.6378279528161576\n",
            "[LightGBM] [Warning] lambda_l2 is set=2.409390744686693, reg_lambda=0.0 will be ignored. Current value: lambda_l2=2.409390744686693\n",
            "[LightGBM] [Warning] bagging_freq is set=12, subsample_freq=0 will be ignored. Current value: bagging_freq=12\n"
          ]
        },
        {
          "output_type": "stream",
          "name": "stderr",
          "text": [
            "/usr/local/lib/python3.10/dist-packages/Seance/Forecaster.py:227: FutureWarning: Not prepending group keys to the result index of transform-like apply. In the future, the group keys will be included in the index, regardless of whether the applied function returns a like-indexed object.\n",
            "To preserve the previous behavior, use\n",
            "\n",
            "\t>>> .groupby(..., group_keys=False)\n",
            "\n",
            "To adopt the future behavior and silence this warning, use \n",
            "\n",
            "\t>>> .groupby(..., group_keys=True)\n",
            "  basis = pred_X.groupby('Seance ID').apply(self.future_linear_basis)\n"
          ]
        },
        {
          "output_type": "stream",
          "name": "stdout",
          "text": [
            "Predicted not the same size as test set\n"
          ]
        },
        {
          "output_type": "stream",
          "name": "stderr",
          "text": [
            "/usr/local/lib/python3.10/dist-packages/Seance/Optimizer.py:105: SettingWithCopyWarning: \n",
            "A value is trying to be set on a copy of a slice from a DataFrame.\n",
            "Try using .loc[row_indexer,col_indexer] = value instead\n",
            "\n",
            "See the caveats in the documentation: https://pandas.pydata.org/pandas-docs/stable/user_guide/indexing.html#returning-a-view-versus-a-copy\n",
            "  self.test_df[self.date_column] = self.test_df[self.date_column].dt.tz_localize(None)\n",
            "[I 2023-07-25 14:10:15,004] Trial 31 finished with value: 12.917644212039031 and parameters: {'n_estimators': 339, 'lambda_l1': 0.019275007257293142, 'lambda_l2': 2.409390744686693, 'num_leaves': 79, 'feature_fraction': 0.6010128706509283, 'bagging_fraction': 0.6378279528161576, 'bagging_freq': 12, 'min_child_samples': 40, 'use_id': True, 'objective': 'regression_l1', 'n_basis': 7, 'differences': 1, 'decay': 0.9, 'scale_type': 'none', 'lags': [1, 2, 3]}. Best is trial 28 with value: 12.907590556239828.\n",
            "/usr/local/lib/python3.10/dist-packages/optuna/distributions.py:524: UserWarning: Choices for a categorical distribution should be a tuple of None, bool, int, float and str for persistent storage but contains [1, 2, 3] which is of type list.\n",
            "  warnings.warn(message)\n",
            "/usr/local/lib/python3.10/dist-packages/Seance/Forecaster.py:145: FutureWarning: Not prepending group keys to the result index of transform-like apply. In the future, the group keys will be included in the index, regardless of whether the applied function returns a like-indexed object.\n",
            "To preserve the previous behavior, use\n",
            "\n",
            "\t>>> .groupby(..., group_keys=False)\n",
            "\n",
            "To adopt the future behavior and silence this warning, use \n",
            "\n",
            "\t>>> .groupby(..., group_keys=True)\n",
            "  basis = self.processed_df.groupby('Seance ID')[target_column].apply(self.linear_basis)\n",
            "/usr/local/lib/python3.10/dist-packages/mlforecast/core.py:151: UserWarning: The differences argument is deprecated and will be removed in a future version.\n",
            "Please pass an `mlforecast.target_transforms.Differences` instance to the `target_transforms` argument instead.\n",
            "  warnings.warn(\n"
          ]
        },
        {
          "output_type": "stream",
          "name": "stdout",
          "text": [
            "[LightGBM] [Warning] feature_fraction is set=0.6578090064691451, colsample_bytree=1.0 will be ignored. Current value: feature_fraction=0.6578090064691451\n",
            "[LightGBM] [Warning] lambda_l1 is set=0.04087761222776398, reg_alpha=0.0 will be ignored. Current value: lambda_l1=0.04087761222776398\n",
            "[LightGBM] [Warning] num_threads is set=1, n_jobs=-1 will be ignored. Current value: num_threads=1\n",
            "[LightGBM] [Warning] bagging_fraction is set=0.6350316102161816, subsample=1.0 will be ignored. Current value: bagging_fraction=0.6350316102161816\n",
            "[LightGBM] [Warning] lambda_l2 is set=2.353523228421211, reg_lambda=0.0 will be ignored. Current value: lambda_l2=2.353523228421211\n",
            "[LightGBM] [Warning] bagging_freq is set=12, subsample_freq=0 will be ignored. Current value: bagging_freq=12\n"
          ]
        },
        {
          "output_type": "stream",
          "name": "stderr",
          "text": [
            "/usr/local/lib/python3.10/dist-packages/Seance/Forecaster.py:227: FutureWarning: Not prepending group keys to the result index of transform-like apply. In the future, the group keys will be included in the index, regardless of whether the applied function returns a like-indexed object.\n",
            "To preserve the previous behavior, use\n",
            "\n",
            "\t>>> .groupby(..., group_keys=False)\n",
            "\n",
            "To adopt the future behavior and silence this warning, use \n",
            "\n",
            "\t>>> .groupby(..., group_keys=True)\n",
            "  basis = pred_X.groupby('Seance ID').apply(self.future_linear_basis)\n"
          ]
        },
        {
          "output_type": "stream",
          "name": "stdout",
          "text": [
            "Predicted not the same size as test set\n"
          ]
        },
        {
          "output_type": "stream",
          "name": "stderr",
          "text": [
            "/usr/local/lib/python3.10/dist-packages/Seance/Optimizer.py:105: SettingWithCopyWarning: \n",
            "A value is trying to be set on a copy of a slice from a DataFrame.\n",
            "Try using .loc[row_indexer,col_indexer] = value instead\n",
            "\n",
            "See the caveats in the documentation: https://pandas.pydata.org/pandas-docs/stable/user_guide/indexing.html#returning-a-view-versus-a-copy\n",
            "  self.test_df[self.date_column] = self.test_df[self.date_column].dt.tz_localize(None)\n",
            "[I 2023-07-25 14:13:17,537] Trial 32 finished with value: 12.89743853385996 and parameters: {'n_estimators': 337, 'lambda_l1': 0.04087761222776398, 'lambda_l2': 2.353523228421211, 'num_leaves': 74, 'feature_fraction': 0.6578090064691451, 'bagging_fraction': 0.6350316102161816, 'bagging_freq': 12, 'min_child_samples': 27, 'use_id': True, 'objective': 'regression_l1', 'n_basis': 8, 'differences': 1, 'decay': 0.9, 'scale_type': 'none', 'lags': [1, 2, 3]}. Best is trial 32 with value: 12.89743853385996.\n",
            "/usr/local/lib/python3.10/dist-packages/optuna/distributions.py:524: UserWarning: Choices for a categorical distribution should be a tuple of None, bool, int, float and str for persistent storage but contains [1, 2, 3] which is of type list.\n",
            "  warnings.warn(message)\n",
            "/usr/local/lib/python3.10/dist-packages/Seance/Forecaster.py:145: FutureWarning: Not prepending group keys to the result index of transform-like apply. In the future, the group keys will be included in the index, regardless of whether the applied function returns a like-indexed object.\n",
            "To preserve the previous behavior, use\n",
            "\n",
            "\t>>> .groupby(..., group_keys=False)\n",
            "\n",
            "To adopt the future behavior and silence this warning, use \n",
            "\n",
            "\t>>> .groupby(..., group_keys=True)\n",
            "  basis = self.processed_df.groupby('Seance ID')[target_column].apply(self.linear_basis)\n",
            "/usr/local/lib/python3.10/dist-packages/mlforecast/core.py:151: UserWarning: The differences argument is deprecated and will be removed in a future version.\n",
            "Please pass an `mlforecast.target_transforms.Differences` instance to the `target_transforms` argument instead.\n",
            "  warnings.warn(\n"
          ]
        },
        {
          "output_type": "stream",
          "name": "stdout",
          "text": [
            "[LightGBM] [Warning] feature_fraction is set=0.6443272243586021, colsample_bytree=1.0 will be ignored. Current value: feature_fraction=0.6443272243586021\n",
            "[LightGBM] [Warning] lambda_l1 is set=1.5453262772481542, reg_alpha=0.0 will be ignored. Current value: lambda_l1=1.5453262772481542\n",
            "[LightGBM] [Warning] num_threads is set=1, n_jobs=-1 will be ignored. Current value: num_threads=1\n",
            "[LightGBM] [Warning] bagging_fraction is set=0.6339157678434533, subsample=1.0 will be ignored. Current value: bagging_fraction=0.6339157678434533\n",
            "[LightGBM] [Warning] lambda_l2 is set=2.472338056557477, reg_lambda=0.0 will be ignored. Current value: lambda_l2=2.472338056557477\n",
            "[LightGBM] [Warning] bagging_freq is set=11, subsample_freq=0 will be ignored. Current value: bagging_freq=11\n"
          ]
        },
        {
          "output_type": "stream",
          "name": "stderr",
          "text": [
            "/usr/local/lib/python3.10/dist-packages/Seance/Forecaster.py:227: FutureWarning: Not prepending group keys to the result index of transform-like apply. In the future, the group keys will be included in the index, regardless of whether the applied function returns a like-indexed object.\n",
            "To preserve the previous behavior, use\n",
            "\n",
            "\t>>> .groupby(..., group_keys=False)\n",
            "\n",
            "To adopt the future behavior and silence this warning, use \n",
            "\n",
            "\t>>> .groupby(..., group_keys=True)\n",
            "  basis = pred_X.groupby('Seance ID').apply(self.future_linear_basis)\n"
          ]
        },
        {
          "output_type": "stream",
          "name": "stdout",
          "text": [
            "Predicted not the same size as test set\n"
          ]
        },
        {
          "output_type": "stream",
          "name": "stderr",
          "text": [
            "/usr/local/lib/python3.10/dist-packages/Seance/Optimizer.py:105: SettingWithCopyWarning: \n",
            "A value is trying to be set on a copy of a slice from a DataFrame.\n",
            "Try using .loc[row_indexer,col_indexer] = value instead\n",
            "\n",
            "See the caveats in the documentation: https://pandas.pydata.org/pandas-docs/stable/user_guide/indexing.html#returning-a-view-versus-a-copy\n",
            "  self.test_df[self.date_column] = self.test_df[self.date_column].dt.tz_localize(None)\n",
            "[I 2023-07-25 14:18:01,467] Trial 33 finished with value: 13.077158496729318 and parameters: {'n_estimators': 303, 'lambda_l1': 1.5453262772481542, 'lambda_l2': 2.472338056557477, 'num_leaves': 197, 'feature_fraction': 0.6443272243586021, 'bagging_fraction': 0.6339157678434533, 'bagging_freq': 11, 'min_child_samples': 26, 'use_id': True, 'objective': 'regression_l1', 'n_basis': 8, 'differences': 1, 'decay': 0.9, 'scale_type': 'none', 'lags': [1, 2, 3]}. Best is trial 32 with value: 12.89743853385996.\n",
            "/usr/local/lib/python3.10/dist-packages/optuna/distributions.py:524: UserWarning: Choices for a categorical distribution should be a tuple of None, bool, int, float and str for persistent storage but contains [1, 2, 3] which is of type list.\n",
            "  warnings.warn(message)\n",
            "/usr/local/lib/python3.10/dist-packages/Seance/Builder/PreProcess.py:81: FutureWarning: Not prepending group keys to the result index of transform-like apply. In the future, the group keys will be included in the index, regardless of whether the applied function returns a like-indexed object.\n",
            "To preserve the previous behavior, use\n",
            "\n",
            "\t>>> .groupby(..., group_keys=False)\n",
            "\n",
            "To adopt the future behavior and silence this warning, use \n",
            "\n",
            "\t>>> .groupby(..., group_keys=True)\n",
            "  df = df.groupby('Seance ID').apply(self.trans)\n",
            "/usr/local/lib/python3.10/dist-packages/Seance/Forecaster.py:145: FutureWarning: Not prepending group keys to the result index of transform-like apply. In the future, the group keys will be included in the index, regardless of whether the applied function returns a like-indexed object.\n",
            "To preserve the previous behavior, use\n",
            "\n",
            "\t>>> .groupby(..., group_keys=False)\n",
            "\n",
            "To adopt the future behavior and silence this warning, use \n",
            "\n",
            "\t>>> .groupby(..., group_keys=True)\n",
            "  basis = self.processed_df.groupby('Seance ID')[target_column].apply(self.linear_basis)\n"
          ]
        },
        {
          "output_type": "stream",
          "name": "stdout",
          "text": [
            "[LightGBM] [Warning] lambda_l1 is set=1.859471689552478, reg_alpha=0.0 will be ignored. Current value: lambda_l1=1.859471689552478\n",
            "[LightGBM] [Warning] num_threads is set=1, n_jobs=-1 will be ignored. Current value: num_threads=1\n",
            "[LightGBM] [Warning] bagging_fraction is set=0.6763654713565835, subsample=1.0 will be ignored. Current value: bagging_fraction=0.6763654713565835\n",
            "[LightGBM] [Warning] lambda_l2 is set=0.99911484402242, reg_lambda=0.0 will be ignored. Current value: lambda_l2=0.99911484402242\n",
            "[LightGBM] [Warning] feature_fraction is set=0.6341905952689119, colsample_bytree=1.0 will be ignored. Current value: feature_fraction=0.6341905952689119\n",
            "[LightGBM] [Warning] bagging_freq is set=12, subsample_freq=0 will be ignored. Current value: bagging_freq=12\n"
          ]
        },
        {
          "output_type": "stream",
          "name": "stderr",
          "text": [
            "/usr/local/lib/python3.10/dist-packages/Seance/Forecaster.py:227: FutureWarning: Not prepending group keys to the result index of transform-like apply. In the future, the group keys will be included in the index, regardless of whether the applied function returns a like-indexed object.\n",
            "To preserve the previous behavior, use\n",
            "\n",
            "\t>>> .groupby(..., group_keys=False)\n",
            "\n",
            "To adopt the future behavior and silence this warning, use \n",
            "\n",
            "\t>>> .groupby(..., group_keys=True)\n",
            "  basis = pred_X.groupby('Seance ID').apply(self.future_linear_basis)\n",
            "/usr/local/lib/python3.10/dist-packages/Seance/Forecaster.py:239: FutureWarning: Not prepending group keys to the result index of transform-like apply. In the future, the group keys will be included in the index, regardless of whether the applied function returns a like-indexed object.\n",
            "To preserve the previous behavior, use\n",
            "\n",
            "\t>>> .groupby(..., group_keys=False)\n",
            "\n",
            "To adopt the future behavior and silence this warning, use \n",
            "\n",
            "\t>>> .groupby(..., group_keys=True)\n",
            "  predicted = predicted.groupby('Seance ID').apply(self.inverse_transform)\n"
          ]
        },
        {
          "output_type": "stream",
          "name": "stdout",
          "text": [
            "Predicted not the same size as test set\n"
          ]
        },
        {
          "output_type": "stream",
          "name": "stderr",
          "text": [
            "/usr/local/lib/python3.10/dist-packages/Seance/Optimizer.py:105: SettingWithCopyWarning: \n",
            "A value is trying to be set on a copy of a slice from a DataFrame.\n",
            "Try using .loc[row_indexer,col_indexer] = value instead\n",
            "\n",
            "See the caveats in the documentation: https://pandas.pydata.org/pandas-docs/stable/user_guide/indexing.html#returning-a-view-versus-a-copy\n",
            "  self.test_df[self.date_column] = self.test_df[self.date_column].dt.tz_localize(None)\n",
            "[I 2023-07-25 14:19:51,975] Trial 34 finished with value: 19.828509753571826 and parameters: {'n_estimators': 335, 'lambda_l1': 1.859471689552478, 'lambda_l2': 0.99911484402242, 'num_leaves': 133, 'feature_fraction': 0.6341905952689119, 'bagging_fraction': 0.6763654713565835, 'bagging_freq': 12, 'min_child_samples': 39, 'use_id': False, 'objective': 'regression_l1', 'n_basis': 4, 'differences': None, 'decay': 0.9, 'scale_type': 'standard', 'lags': [1, 2, 3]}. Best is trial 32 with value: 12.89743853385996.\n",
            "/usr/local/lib/python3.10/dist-packages/optuna/distributions.py:524: UserWarning: Choices for a categorical distribution should be a tuple of None, bool, int, float and str for persistent storage but contains [1, 2, 3] which is of type list.\n",
            "  warnings.warn(message)\n",
            "/usr/local/lib/python3.10/dist-packages/Seance/Forecaster.py:145: FutureWarning: Not prepending group keys to the result index of transform-like apply. In the future, the group keys will be included in the index, regardless of whether the applied function returns a like-indexed object.\n",
            "To preserve the previous behavior, use\n",
            "\n",
            "\t>>> .groupby(..., group_keys=False)\n",
            "\n",
            "To adopt the future behavior and silence this warning, use \n",
            "\n",
            "\t>>> .groupby(..., group_keys=True)\n",
            "  basis = self.processed_df.groupby('Seance ID')[target_column].apply(self.linear_basis)\n",
            "/usr/local/lib/python3.10/dist-packages/mlforecast/core.py:151: UserWarning: The differences argument is deprecated and will be removed in a future version.\n",
            "Please pass an `mlforecast.target_transforms.Differences` instance to the `target_transforms` argument instead.\n",
            "  warnings.warn(\n"
          ]
        },
        {
          "output_type": "stream",
          "name": "stdout",
          "text": [
            "[LightGBM] [Warning] lambda_l1 is set=1.1357258086545994, reg_alpha=0.0 will be ignored. Current value: lambda_l1=1.1357258086545994\n",
            "[LightGBM] [Warning] num_threads is set=1, n_jobs=-1 will be ignored. Current value: num_threads=1\n",
            "[LightGBM] [Warning] bagging_fraction is set=0.6306536630815073, subsample=1.0 will be ignored. Current value: bagging_fraction=0.6306536630815073\n",
            "[LightGBM] [Warning] lambda_l2 is set=3.721480422802338, reg_lambda=0.0 will be ignored. Current value: lambda_l2=3.721480422802338\n",
            "[LightGBM] [Warning] feature_fraction is set=0.6505197654995558, colsample_bytree=1.0 will be ignored. Current value: feature_fraction=0.6505197654995558\n",
            "[LightGBM] [Warning] bagging_freq is set=10, subsample_freq=0 will be ignored. Current value: bagging_freq=10\n"
          ]
        },
        {
          "output_type": "stream",
          "name": "stderr",
          "text": [
            "/usr/local/lib/python3.10/dist-packages/Seance/Forecaster.py:227: FutureWarning: Not prepending group keys to the result index of transform-like apply. In the future, the group keys will be included in the index, regardless of whether the applied function returns a like-indexed object.\n",
            "To preserve the previous behavior, use\n",
            "\n",
            "\t>>> .groupby(..., group_keys=False)\n",
            "\n",
            "To adopt the future behavior and silence this warning, use \n",
            "\n",
            "\t>>> .groupby(..., group_keys=True)\n",
            "  basis = pred_X.groupby('Seance ID').apply(self.future_linear_basis)\n"
          ]
        },
        {
          "output_type": "stream",
          "name": "stdout",
          "text": [
            "Predicted not the same size as test set\n"
          ]
        },
        {
          "output_type": "stream",
          "name": "stderr",
          "text": [
            "/usr/local/lib/python3.10/dist-packages/Seance/Optimizer.py:105: SettingWithCopyWarning: \n",
            "A value is trying to be set on a copy of a slice from a DataFrame.\n",
            "Try using .loc[row_indexer,col_indexer] = value instead\n",
            "\n",
            "See the caveats in the documentation: https://pandas.pydata.org/pandas-docs/stable/user_guide/indexing.html#returning-a-view-versus-a-copy\n",
            "  self.test_df[self.date_column] = self.test_df[self.date_column].dt.tz_localize(None)\n",
            "[I 2023-07-25 14:20:47,082] Trial 35 finished with value: 18.563076192767017 and parameters: {'n_estimators': 249, 'lambda_l1': 1.1357258086545994, 'lambda_l2': 3.721480422802338, 'num_leaves': 241, 'feature_fraction': 0.6505197654995558, 'bagging_fraction': 0.6306536630815073, 'bagging_freq': 10, 'min_child_samples': 27, 'use_id': False, 'objective': 'regression', 'n_basis': 7, 'differences': 1, 'decay': 0.75, 'scale_type': 'none', 'lags': [1, 2, 3]}. Best is trial 32 with value: 12.89743853385996.\n",
            "/usr/local/lib/python3.10/dist-packages/optuna/distributions.py:524: UserWarning: Choices for a categorical distribution should be a tuple of None, bool, int, float and str for persistent storage but contains [1, 2, 3] which is of type list.\n",
            "  warnings.warn(message)\n",
            "/usr/local/lib/python3.10/dist-packages/Seance/Builder/PreProcess.py:81: FutureWarning: Not prepending group keys to the result index of transform-like apply. In the future, the group keys will be included in the index, regardless of whether the applied function returns a like-indexed object.\n",
            "To preserve the previous behavior, use\n",
            "\n",
            "\t>>> .groupby(..., group_keys=False)\n",
            "\n",
            "To adopt the future behavior and silence this warning, use \n",
            "\n",
            "\t>>> .groupby(..., group_keys=True)\n",
            "  df = df.groupby('Seance ID').apply(self.trans)\n",
            "/usr/local/lib/python3.10/dist-packages/Seance/Forecaster.py:145: FutureWarning: Not prepending group keys to the result index of transform-like apply. In the future, the group keys will be included in the index, regardless of whether the applied function returns a like-indexed object.\n",
            "To preserve the previous behavior, use\n",
            "\n",
            "\t>>> .groupby(..., group_keys=False)\n",
            "\n",
            "To adopt the future behavior and silence this warning, use \n",
            "\n",
            "\t>>> .groupby(..., group_keys=True)\n",
            "  basis = self.processed_df.groupby('Seance ID')[target_column].apply(self.linear_basis)\n",
            "/usr/local/lib/python3.10/dist-packages/mlforecast/core.py:151: UserWarning: The differences argument is deprecated and will be removed in a future version.\n",
            "Please pass an `mlforecast.target_transforms.Differences` instance to the `target_transforms` argument instead.\n",
            "  warnings.warn(\n"
          ]
        },
        {
          "output_type": "stream",
          "name": "stdout",
          "text": [
            "[LightGBM] [Warning] feature_fraction is set=0.6006569982176199, colsample_bytree=1.0 will be ignored. Current value: feature_fraction=0.6006569982176199\n",
            "[LightGBM] [Warning] lambda_l1 is set=1.0701113085431082, reg_alpha=0.0 will be ignored. Current value: lambda_l1=1.0701113085431082\n",
            "[LightGBM] [Warning] num_threads is set=1, n_jobs=-1 will be ignored. Current value: num_threads=1\n",
            "[LightGBM] [Warning] bagging_fraction is set=0.6651727684181667, subsample=1.0 will be ignored. Current value: bagging_fraction=0.6651727684181667\n",
            "[LightGBM] [Warning] lambda_l2 is set=2.2388267326235423, reg_lambda=0.0 will be ignored. Current value: lambda_l2=2.2388267326235423\n",
            "[LightGBM] [Warning] bagging_freq is set=11, subsample_freq=0 will be ignored. Current value: bagging_freq=11\n"
          ]
        },
        {
          "output_type": "stream",
          "name": "stderr",
          "text": [
            "/usr/local/lib/python3.10/dist-packages/Seance/Forecaster.py:227: FutureWarning: Not prepending group keys to the result index of transform-like apply. In the future, the group keys will be included in the index, regardless of whether the applied function returns a like-indexed object.\n",
            "To preserve the previous behavior, use\n",
            "\n",
            "\t>>> .groupby(..., group_keys=False)\n",
            "\n",
            "To adopt the future behavior and silence this warning, use \n",
            "\n",
            "\t>>> .groupby(..., group_keys=True)\n",
            "  basis = pred_X.groupby('Seance ID').apply(self.future_linear_basis)\n",
            "/usr/local/lib/python3.10/dist-packages/Seance/Forecaster.py:239: FutureWarning: Not prepending group keys to the result index of transform-like apply. In the future, the group keys will be included in the index, regardless of whether the applied function returns a like-indexed object.\n",
            "To preserve the previous behavior, use\n",
            "\n",
            "\t>>> .groupby(..., group_keys=False)\n",
            "\n",
            "To adopt the future behavior and silence this warning, use \n",
            "\n",
            "\t>>> .groupby(..., group_keys=True)\n",
            "  predicted = predicted.groupby('Seance ID').apply(self.inverse_transform)\n"
          ]
        },
        {
          "output_type": "stream",
          "name": "stdout",
          "text": [
            "Predicted not the same size as test set\n"
          ]
        },
        {
          "output_type": "stream",
          "name": "stderr",
          "text": [
            "/usr/local/lib/python3.10/dist-packages/Seance/Optimizer.py:105: SettingWithCopyWarning: \n",
            "A value is trying to be set on a copy of a slice from a DataFrame.\n",
            "Try using .loc[row_indexer,col_indexer] = value instead\n",
            "\n",
            "See the caveats in the documentation: https://pandas.pydata.org/pandas-docs/stable/user_guide/indexing.html#returning-a-view-versus-a-copy\n",
            "  self.test_df[self.date_column] = self.test_df[self.date_column].dt.tz_localize(None)\n",
            "[I 2023-07-25 14:24:08,476] Trial 36 finished with value: 13.96345227762171 and parameters: {'n_estimators': 290, 'lambda_l1': 1.0701113085431082, 'lambda_l2': 2.2388267326235423, 'num_leaves': 78, 'feature_fraction': 0.6006569982176199, 'bagging_fraction': 0.6651727684181667, 'bagging_freq': 11, 'min_child_samples': 18, 'use_id': True, 'objective': 'regression_l1', 'n_basis': 10, 'differences': 1, 'decay': 0.9, 'scale_type': 'minmax', 'lags': [1, 2, 3]}. Best is trial 32 with value: 12.89743853385996.\n",
            "/usr/local/lib/python3.10/dist-packages/optuna/distributions.py:524: UserWarning: Choices for a categorical distribution should be a tuple of None, bool, int, float and str for persistent storage but contains [1, 2, 3] which is of type list.\n",
            "  warnings.warn(message)\n",
            "[I 2023-07-25 14:24:54,382] Trial 37 finished with value: inf and parameters: {'n_estimators': 339, 'lambda_l1': 0.4431778362967828, 'lambda_l2': 0.5787559846538686, 'num_leaves': 68, 'feature_fraction': 0.6882155299509701, 'bagging_fraction': 0.6912413480923598, 'bagging_freq': 8, 'min_child_samples': 39, 'use_id': True, 'objective': 'regression_l1', 'n_basis': 11, 'differences': 1, 'decay': 0.9, 'scale_type': 'robust_boxcox', 'lags': [1, 2, 3]}. Best is trial 32 with value: 12.89743853385996.\n"
          ]
        },
        {
          "output_type": "stream",
          "name": "stdout",
          "text": [
            "ERROR WHILE TUNING: Data must not be constant.\n"
          ]
        },
        {
          "output_type": "stream",
          "name": "stderr",
          "text": [
            "/usr/local/lib/python3.10/dist-packages/optuna/distributions.py:524: UserWarning: Choices for a categorical distribution should be a tuple of None, bool, int, float and str for persistent storage but contains [1, 2, 3] which is of type list.\n",
            "  warnings.warn(message)\n",
            "/usr/local/lib/python3.10/dist-packages/Seance/Forecaster.py:145: FutureWarning: Not prepending group keys to the result index of transform-like apply. In the future, the group keys will be included in the index, regardless of whether the applied function returns a like-indexed object.\n",
            "To preserve the previous behavior, use\n",
            "\n",
            "\t>>> .groupby(..., group_keys=False)\n",
            "\n",
            "To adopt the future behavior and silence this warning, use \n",
            "\n",
            "\t>>> .groupby(..., group_keys=True)\n",
            "  basis = self.processed_df.groupby('Seance ID')[target_column].apply(self.linear_basis)\n"
          ]
        },
        {
          "output_type": "stream",
          "name": "stdout",
          "text": [
            "[LightGBM] [Warning] lambda_l1 is set=1.3592883297864882, reg_alpha=0.0 will be ignored. Current value: lambda_l1=1.3592883297864882\n",
            "[LightGBM] [Warning] num_threads is set=1, n_jobs=-1 will be ignored. Current value: num_threads=1\n",
            "[LightGBM] [Warning] bagging_fraction is set=0.6545662961104122, subsample=1.0 will be ignored. Current value: bagging_fraction=0.6545662961104122\n",
            "[LightGBM] [Warning] lambda_l2 is set=1.1926135375858158, reg_lambda=0.0 will be ignored. Current value: lambda_l2=1.1926135375858158\n",
            "[LightGBM] [Warning] feature_fraction is set=0.6178809114695233, colsample_bytree=1.0 will be ignored. Current value: feature_fraction=0.6178809114695233\n",
            "[LightGBM] [Warning] bagging_freq is set=12, subsample_freq=0 will be ignored. Current value: bagging_freq=12\n"
          ]
        },
        {
          "output_type": "stream",
          "name": "stderr",
          "text": [
            "/usr/local/lib/python3.10/dist-packages/Seance/Forecaster.py:227: FutureWarning: Not prepending group keys to the result index of transform-like apply. In the future, the group keys will be included in the index, regardless of whether the applied function returns a like-indexed object.\n",
            "To preserve the previous behavior, use\n",
            "\n",
            "\t>>> .groupby(..., group_keys=False)\n",
            "\n",
            "To adopt the future behavior and silence this warning, use \n",
            "\n",
            "\t>>> .groupby(..., group_keys=True)\n",
            "  basis = pred_X.groupby('Seance ID').apply(self.future_linear_basis)\n"
          ]
        },
        {
          "output_type": "stream",
          "name": "stdout",
          "text": [
            "Predicted not the same size as test set\n"
          ]
        },
        {
          "output_type": "stream",
          "name": "stderr",
          "text": [
            "/usr/local/lib/python3.10/dist-packages/Seance/Optimizer.py:105: SettingWithCopyWarning: \n",
            "A value is trying to be set on a copy of a slice from a DataFrame.\n",
            "Try using .loc[row_indexer,col_indexer] = value instead\n",
            "\n",
            "See the caveats in the documentation: https://pandas.pydata.org/pandas-docs/stable/user_guide/indexing.html#returning-a-view-versus-a-copy\n",
            "  self.test_df[self.date_column] = self.test_df[self.date_column].dt.tz_localize(None)\n",
            "[I 2023-07-25 14:26:01,385] Trial 38 finished with value: 18.84594136870594 and parameters: {'n_estimators': 381, 'lambda_l1': 1.3592883297864882, 'lambda_l2': 1.1926135375858158, 'num_leaves': 150, 'feature_fraction': 0.6178809114695233, 'bagging_fraction': 0.6545662961104122, 'bagging_freq': 12, 'min_child_samples': 31, 'use_id': False, 'objective': 'regression', 'n_basis': 8, 'differences': None, 'decay': 0.9, 'scale_type': 'none', 'lags': [1, 2, 3]}. Best is trial 32 with value: 12.89743853385996.\n",
            "/usr/local/lib/python3.10/dist-packages/optuna/distributions.py:524: UserWarning: Choices for a categorical distribution should be a tuple of None, bool, int, float and str for persistent storage but contains [1, 2, 3] which is of type list.\n",
            "  warnings.warn(message)\n",
            "/usr/local/lib/python3.10/dist-packages/Seance/Forecaster.py:145: FutureWarning: Not prepending group keys to the result index of transform-like apply. In the future, the group keys will be included in the index, regardless of whether the applied function returns a like-indexed object.\n",
            "To preserve the previous behavior, use\n",
            "\n",
            "\t>>> .groupby(..., group_keys=False)\n",
            "\n",
            "To adopt the future behavior and silence this warning, use \n",
            "\n",
            "\t>>> .groupby(..., group_keys=True)\n",
            "  basis = self.processed_df.groupby('Seance ID')[target_column].apply(self.linear_basis)\n",
            "/usr/local/lib/python3.10/dist-packages/mlforecast/core.py:151: UserWarning: The differences argument is deprecated and will be removed in a future version.\n",
            "Please pass an `mlforecast.target_transforms.Differences` instance to the `target_transforms` argument instead.\n",
            "  warnings.warn(\n"
          ]
        },
        {
          "output_type": "stream",
          "name": "stdout",
          "text": [
            "[LightGBM] [Warning] feature_fraction is set=0.637327869758598, colsample_bytree=1.0 will be ignored. Current value: feature_fraction=0.637327869758598\n",
            "[LightGBM] [Warning] lambda_l1 is set=0.014837082181786608, reg_alpha=0.0 will be ignored. Current value: lambda_l1=0.014837082181786608\n",
            "[LightGBM] [Warning] num_threads is set=1, n_jobs=-1 will be ignored. Current value: num_threads=1\n",
            "[LightGBM] [Warning] bagging_fraction is set=0.7282652040275915, subsample=1.0 will be ignored. Current value: bagging_fraction=0.7282652040275915\n",
            "[LightGBM] [Warning] lambda_l2 is set=3.40421718601791, reg_lambda=0.0 will be ignored. Current value: lambda_l2=3.40421718601791\n",
            "[LightGBM] [Warning] bagging_freq is set=14, subsample_freq=0 will be ignored. Current value: bagging_freq=14\n"
          ]
        },
        {
          "output_type": "stream",
          "name": "stderr",
          "text": [
            "/usr/local/lib/python3.10/dist-packages/Seance/Forecaster.py:227: FutureWarning: Not prepending group keys to the result index of transform-like apply. In the future, the group keys will be included in the index, regardless of whether the applied function returns a like-indexed object.\n",
            "To preserve the previous behavior, use\n",
            "\n",
            "\t>>> .groupby(..., group_keys=False)\n",
            "\n",
            "To adopt the future behavior and silence this warning, use \n",
            "\n",
            "\t>>> .groupby(..., group_keys=True)\n",
            "  basis = pred_X.groupby('Seance ID').apply(self.future_linear_basis)\n"
          ]
        },
        {
          "output_type": "stream",
          "name": "stdout",
          "text": [
            "Predicted not the same size as test set\n"
          ]
        },
        {
          "output_type": "stream",
          "name": "stderr",
          "text": [
            "/usr/local/lib/python3.10/dist-packages/Seance/Optimizer.py:105: SettingWithCopyWarning: \n",
            "A value is trying to be set on a copy of a slice from a DataFrame.\n",
            "Try using .loc[row_indexer,col_indexer] = value instead\n",
            "\n",
            "See the caveats in the documentation: https://pandas.pydata.org/pandas-docs/stable/user_guide/indexing.html#returning-a-view-versus-a-copy\n",
            "  self.test_df[self.date_column] = self.test_df[self.date_column].dt.tz_localize(None)\n",
            "[I 2023-07-25 14:29:15,511] Trial 39 finished with value: 12.926517114569975 and parameters: {'n_estimators': 169, 'lambda_l1': 0.014837082181786608, 'lambda_l2': 3.40421718601791, 'num_leaves': 329, 'feature_fraction': 0.637327869758598, 'bagging_fraction': 0.7282652040275915, 'bagging_freq': 14, 'min_child_samples': 21, 'use_id': True, 'objective': 'regression_l1', 'n_basis': 5, 'differences': 1, 'decay': 0.75, 'scale_type': 'none', 'lags': [1, 2, 3]}. Best is trial 32 with value: 12.89743853385996.\n",
            "/usr/local/lib/python3.10/dist-packages/optuna/distributions.py:524: UserWarning: Choices for a categorical distribution should be a tuple of None, bool, int, float and str for persistent storage but contains [1, 2, 3] which is of type list.\n",
            "  warnings.warn(message)\n",
            "/usr/local/lib/python3.10/dist-packages/Seance/Forecaster.py:145: FutureWarning: Not prepending group keys to the result index of transform-like apply. In the future, the group keys will be included in the index, regardless of whether the applied function returns a like-indexed object.\n",
            "To preserve the previous behavior, use\n",
            "\n",
            "\t>>> .groupby(..., group_keys=False)\n",
            "\n",
            "To adopt the future behavior and silence this warning, use \n",
            "\n",
            "\t>>> .groupby(..., group_keys=True)\n",
            "  basis = self.processed_df.groupby('Seance ID')[target_column].apply(self.linear_basis)\n",
            "/usr/local/lib/python3.10/dist-packages/mlforecast/core.py:151: UserWarning: The differences argument is deprecated and will be removed in a future version.\n",
            "Please pass an `mlforecast.target_transforms.Differences` instance to the `target_transforms` argument instead.\n",
            "  warnings.warn(\n"
          ]
        },
        {
          "output_type": "stream",
          "name": "stdout",
          "text": [
            "[LightGBM] [Warning] lambda_l1 is set=0.3964426996807782, reg_alpha=0.0 will be ignored. Current value: lambda_l1=0.3964426996807782\n",
            "[LightGBM] [Warning] num_threads is set=1, n_jobs=-1 will be ignored. Current value: num_threads=1\n",
            "[LightGBM] [Warning] bagging_fraction is set=0.730781163891532, subsample=1.0 will be ignored. Current value: bagging_fraction=0.730781163891532\n",
            "[LightGBM] [Warning] lambda_l2 is set=3.447715545638716, reg_lambda=0.0 will be ignored. Current value: lambda_l2=3.447715545638716\n",
            "[LightGBM] [Warning] feature_fraction is set=0.6342580002788264, colsample_bytree=1.0 will be ignored. Current value: feature_fraction=0.6342580002788264\n",
            "[LightGBM] [Warning] bagging_freq is set=0, subsample_freq=0 will be ignored. Current value: bagging_freq=0\n"
          ]
        },
        {
          "output_type": "stream",
          "name": "stderr",
          "text": [
            "/usr/local/lib/python3.10/dist-packages/Seance/Forecaster.py:227: FutureWarning: Not prepending group keys to the result index of transform-like apply. In the future, the group keys will be included in the index, regardless of whether the applied function returns a like-indexed object.\n",
            "To preserve the previous behavior, use\n",
            "\n",
            "\t>>> .groupby(..., group_keys=False)\n",
            "\n",
            "To adopt the future behavior and silence this warning, use \n",
            "\n",
            "\t>>> .groupby(..., group_keys=True)\n",
            "  basis = pred_X.groupby('Seance ID').apply(self.future_linear_basis)\n"
          ]
        },
        {
          "output_type": "stream",
          "name": "stdout",
          "text": [
            "Predicted not the same size as test set\n"
          ]
        },
        {
          "output_type": "stream",
          "name": "stderr",
          "text": [
            "/usr/local/lib/python3.10/dist-packages/Seance/Optimizer.py:105: SettingWithCopyWarning: \n",
            "A value is trying to be set on a copy of a slice from a DataFrame.\n",
            "Try using .loc[row_indexer,col_indexer] = value instead\n",
            "\n",
            "See the caveats in the documentation: https://pandas.pydata.org/pandas-docs/stable/user_guide/indexing.html#returning-a-view-versus-a-copy\n",
            "  self.test_df[self.date_column] = self.test_df[self.date_column].dt.tz_localize(None)\n",
            "[I 2023-07-25 14:29:54,653] Trial 40 finished with value: 13.60648112102604 and parameters: {'n_estimators': 134, 'lambda_l1': 0.3964426996807782, 'lambda_l2': 3.447715545638716, 'num_leaves': 351, 'feature_fraction': 0.6342580002788264, 'bagging_fraction': 0.730781163891532, 'bagging_freq': 0, 'min_child_samples': 9, 'use_id': False, 'objective': 'regression_l1', 'n_basis': 1, 'differences': 1, 'decay': 0.75, 'scale_type': 'none', 'lags': [1, 2, 3]}. Best is trial 32 with value: 12.89743853385996.\n",
            "/usr/local/lib/python3.10/dist-packages/optuna/distributions.py:524: UserWarning: Choices for a categorical distribution should be a tuple of None, bool, int, float and str for persistent storage but contains [1, 2, 3] which is of type list.\n",
            "  warnings.warn(message)\n",
            "/usr/local/lib/python3.10/dist-packages/Seance/Forecaster.py:145: FutureWarning: Not prepending group keys to the result index of transform-like apply. In the future, the group keys will be included in the index, regardless of whether the applied function returns a like-indexed object.\n",
            "To preserve the previous behavior, use\n",
            "\n",
            "\t>>> .groupby(..., group_keys=False)\n",
            "\n",
            "To adopt the future behavior and silence this warning, use \n",
            "\n",
            "\t>>> .groupby(..., group_keys=True)\n",
            "  basis = self.processed_df.groupby('Seance ID')[target_column].apply(self.linear_basis)\n",
            "/usr/local/lib/python3.10/dist-packages/mlforecast/core.py:151: UserWarning: The differences argument is deprecated and will be removed in a future version.\n",
            "Please pass an `mlforecast.target_transforms.Differences` instance to the `target_transforms` argument instead.\n",
            "  warnings.warn(\n"
          ]
        },
        {
          "output_type": "stream",
          "name": "stdout",
          "text": [
            "[LightGBM] [Warning] feature_fraction is set=0.6649715793489165, colsample_bytree=1.0 will be ignored. Current value: feature_fraction=0.6649715793489165\n",
            "[LightGBM] [Warning] lambda_l1 is set=1.0593441261077392, reg_alpha=0.0 will be ignored. Current value: lambda_l1=1.0593441261077392\n",
            "[LightGBM] [Warning] num_threads is set=1, n_jobs=-1 will be ignored. Current value: num_threads=1\n",
            "[LightGBM] [Warning] bagging_fraction is set=0.6231360675710311, subsample=1.0 will be ignored. Current value: bagging_fraction=0.6231360675710311\n",
            "[LightGBM] [Warning] lambda_l2 is set=2.532332479745034, reg_lambda=0.0 will be ignored. Current value: lambda_l2=2.532332479745034\n",
            "[LightGBM] [Warning] bagging_freq is set=14, subsample_freq=0 will be ignored. Current value: bagging_freq=14\n"
          ]
        },
        {
          "output_type": "stream",
          "name": "stderr",
          "text": [
            "/usr/local/lib/python3.10/dist-packages/Seance/Forecaster.py:227: FutureWarning: Not prepending group keys to the result index of transform-like apply. In the future, the group keys will be included in the index, regardless of whether the applied function returns a like-indexed object.\n",
            "To preserve the previous behavior, use\n",
            "\n",
            "\t>>> .groupby(..., group_keys=False)\n",
            "\n",
            "To adopt the future behavior and silence this warning, use \n",
            "\n",
            "\t>>> .groupby(..., group_keys=True)\n",
            "  basis = pred_X.groupby('Seance ID').apply(self.future_linear_basis)\n"
          ]
        },
        {
          "output_type": "stream",
          "name": "stdout",
          "text": [
            "Predicted not the same size as test set\n"
          ]
        },
        {
          "output_type": "stream",
          "name": "stderr",
          "text": [
            "/usr/local/lib/python3.10/dist-packages/Seance/Optimizer.py:105: SettingWithCopyWarning: \n",
            "A value is trying to be set on a copy of a slice from a DataFrame.\n",
            "Try using .loc[row_indexer,col_indexer] = value instead\n",
            "\n",
            "See the caveats in the documentation: https://pandas.pydata.org/pandas-docs/stable/user_guide/indexing.html#returning-a-view-versus-a-copy\n",
            "  self.test_df[self.date_column] = self.test_df[self.date_column].dt.tz_localize(None)\n",
            "[I 2023-07-25 14:32:34,169] Trial 41 finished with value: 12.956279049814505 and parameters: {'n_estimators': 149, 'lambda_l1': 1.0593441261077392, 'lambda_l2': 2.532332479745034, 'num_leaves': 332, 'feature_fraction': 0.6649715793489165, 'bagging_fraction': 0.6231360675710311, 'bagging_freq': 14, 'min_child_samples': 30, 'use_id': True, 'objective': 'regression_l1', 'n_basis': 5, 'differences': 1, 'decay': 0.75, 'scale_type': 'none', 'lags': [1, 2, 3]}. Best is trial 32 with value: 12.89743853385996.\n",
            "/usr/local/lib/python3.10/dist-packages/optuna/distributions.py:524: UserWarning: Choices for a categorical distribution should be a tuple of None, bool, int, float and str for persistent storage but contains [1, 2, 3] which is of type list.\n",
            "  warnings.warn(message)\n",
            "/usr/local/lib/python3.10/dist-packages/Seance/Forecaster.py:145: FutureWarning: Not prepending group keys to the result index of transform-like apply. In the future, the group keys will be included in the index, regardless of whether the applied function returns a like-indexed object.\n",
            "To preserve the previous behavior, use\n",
            "\n",
            "\t>>> .groupby(..., group_keys=False)\n",
            "\n",
            "To adopt the future behavior and silence this warning, use \n",
            "\n",
            "\t>>> .groupby(..., group_keys=True)\n",
            "  basis = self.processed_df.groupby('Seance ID')[target_column].apply(self.linear_basis)\n",
            "/usr/local/lib/python3.10/dist-packages/mlforecast/core.py:151: UserWarning: The differences argument is deprecated and will be removed in a future version.\n",
            "Please pass an `mlforecast.target_transforms.Differences` instance to the `target_transforms` argument instead.\n",
            "  warnings.warn(\n"
          ]
        },
        {
          "output_type": "stream",
          "name": "stdout",
          "text": [
            "[LightGBM] [Warning] feature_fraction is set=0.656595987508868, colsample_bytree=1.0 will be ignored. Current value: feature_fraction=0.656595987508868\n",
            "[LightGBM] [Warning] lambda_l1 is set=0.0029627707075325915, reg_alpha=0.0 will be ignored. Current value: lambda_l1=0.0029627707075325915\n",
            "[LightGBM] [Warning] num_threads is set=1, n_jobs=-1 will be ignored. Current value: num_threads=1\n",
            "[LightGBM] [Warning] bagging_fraction is set=0.6895351705693902, subsample=1.0 will be ignored. Current value: bagging_fraction=0.6895351705693902\n",
            "[LightGBM] [Warning] lambda_l2 is set=3.4665698904470106, reg_lambda=0.0 will be ignored. Current value: lambda_l2=3.4665698904470106\n",
            "[LightGBM] [Warning] bagging_freq is set=14, subsample_freq=0 will be ignored. Current value: bagging_freq=14\n"
          ]
        },
        {
          "output_type": "stream",
          "name": "stderr",
          "text": [
            "/usr/local/lib/python3.10/dist-packages/Seance/Forecaster.py:227: FutureWarning: Not prepending group keys to the result index of transform-like apply. In the future, the group keys will be included in the index, regardless of whether the applied function returns a like-indexed object.\n",
            "To preserve the previous behavior, use\n",
            "\n",
            "\t>>> .groupby(..., group_keys=False)\n",
            "\n",
            "To adopt the future behavior and silence this warning, use \n",
            "\n",
            "\t>>> .groupby(..., group_keys=True)\n",
            "  basis = pred_X.groupby('Seance ID').apply(self.future_linear_basis)\n"
          ]
        },
        {
          "output_type": "stream",
          "name": "stdout",
          "text": [
            "Predicted not the same size as test set\n"
          ]
        },
        {
          "output_type": "stream",
          "name": "stderr",
          "text": [
            "/usr/local/lib/python3.10/dist-packages/Seance/Optimizer.py:105: SettingWithCopyWarning: \n",
            "A value is trying to be set on a copy of a slice from a DataFrame.\n",
            "Try using .loc[row_indexer,col_indexer] = value instead\n",
            "\n",
            "See the caveats in the documentation: https://pandas.pydata.org/pandas-docs/stable/user_guide/indexing.html#returning-a-view-versus-a-copy\n",
            "  self.test_df[self.date_column] = self.test_df[self.date_column].dt.tz_localize(None)\n",
            "[I 2023-07-25 14:34:16,079] Trial 42 finished with value: 12.848981070635833 and parameters: {'n_estimators': 95, 'lambda_l1': 0.0029627707075325915, 'lambda_l2': 3.4665698904470106, 'num_leaves': 335, 'feature_fraction': 0.656595987508868, 'bagging_fraction': 0.6895351705693902, 'bagging_freq': 14, 'min_child_samples': 19, 'use_id': True, 'objective': 'regression_l1', 'n_basis': 4, 'differences': 1, 'decay': 0.75, 'scale_type': 'none', 'lags': [1, 2, 3]}. Best is trial 42 with value: 12.848981070635833.\n",
            "/usr/local/lib/python3.10/dist-packages/optuna/distributions.py:524: UserWarning: Choices for a categorical distribution should be a tuple of None, bool, int, float and str for persistent storage but contains [1, 2, 3] which is of type list.\n",
            "  warnings.warn(message)\n",
            "/usr/local/lib/python3.10/dist-packages/Seance/Forecaster.py:145: FutureWarning: Not prepending group keys to the result index of transform-like apply. In the future, the group keys will be included in the index, regardless of whether the applied function returns a like-indexed object.\n",
            "To preserve the previous behavior, use\n",
            "\n",
            "\t>>> .groupby(..., group_keys=False)\n",
            "\n",
            "To adopt the future behavior and silence this warning, use \n",
            "\n",
            "\t>>> .groupby(..., group_keys=True)\n",
            "  basis = self.processed_df.groupby('Seance ID')[target_column].apply(self.linear_basis)\n",
            "/usr/local/lib/python3.10/dist-packages/mlforecast/core.py:151: UserWarning: The differences argument is deprecated and will be removed in a future version.\n",
            "Please pass an `mlforecast.target_transforms.Differences` instance to the `target_transforms` argument instead.\n",
            "  warnings.warn(\n"
          ]
        },
        {
          "output_type": "stream",
          "name": "stdout",
          "text": [
            "[LightGBM] [Warning] feature_fraction is set=0.6228379857489968, colsample_bytree=1.0 will be ignored. Current value: feature_fraction=0.6228379857489968\n",
            "[LightGBM] [Warning] lambda_l1 is set=0.15120377955059008, reg_alpha=0.0 will be ignored. Current value: lambda_l1=0.15120377955059008\n",
            "[LightGBM] [Warning] num_threads is set=1, n_jobs=-1 will be ignored. Current value: num_threads=1\n",
            "[LightGBM] [Warning] bagging_fraction is set=0.6982405896599954, subsample=1.0 will be ignored. Current value: bagging_fraction=0.6982405896599954\n",
            "[LightGBM] [Warning] lambda_l2 is set=3.454780315467945, reg_lambda=0.0 will be ignored. Current value: lambda_l2=3.454780315467945\n",
            "[LightGBM] [Warning] bagging_freq is set=14, subsample_freq=0 will be ignored. Current value: bagging_freq=14\n"
          ]
        },
        {
          "output_type": "stream",
          "name": "stderr",
          "text": [
            "/usr/local/lib/python3.10/dist-packages/Seance/Forecaster.py:227: FutureWarning: Not prepending group keys to the result index of transform-like apply. In the future, the group keys will be included in the index, regardless of whether the applied function returns a like-indexed object.\n",
            "To preserve the previous behavior, use\n",
            "\n",
            "\t>>> .groupby(..., group_keys=False)\n",
            "\n",
            "To adopt the future behavior and silence this warning, use \n",
            "\n",
            "\t>>> .groupby(..., group_keys=True)\n",
            "  basis = pred_X.groupby('Seance ID').apply(self.future_linear_basis)\n"
          ]
        },
        {
          "output_type": "stream",
          "name": "stdout",
          "text": [
            "Predicted not the same size as test set\n"
          ]
        },
        {
          "output_type": "stream",
          "name": "stderr",
          "text": [
            "/usr/local/lib/python3.10/dist-packages/Seance/Optimizer.py:105: SettingWithCopyWarning: \n",
            "A value is trying to be set on a copy of a slice from a DataFrame.\n",
            "Try using .loc[row_indexer,col_indexer] = value instead\n",
            "\n",
            "See the caveats in the documentation: https://pandas.pydata.org/pandas-docs/stable/user_guide/indexing.html#returning-a-view-versus-a-copy\n",
            "  self.test_df[self.date_column] = self.test_df[self.date_column].dt.tz_localize(None)\n",
            "[I 2023-07-25 14:35:48,068] Trial 43 finished with value: 12.868879733545063 and parameters: {'n_estimators': 86, 'lambda_l1': 0.15120377955059008, 'lambda_l2': 3.454780315467945, 'num_leaves': 401, 'feature_fraction': 0.6228379857489968, 'bagging_fraction': 0.6982405896599954, 'bagging_freq': 14, 'min_child_samples': 20, 'use_id': True, 'objective': 'regression_l1', 'n_basis': 3, 'differences': 1, 'decay': 0.75, 'scale_type': 'none', 'lags': [1, 2, 3]}. Best is trial 42 with value: 12.848981070635833.\n",
            "/usr/local/lib/python3.10/dist-packages/optuna/distributions.py:524: UserWarning: Choices for a categorical distribution should be a tuple of None, bool, int, float and str for persistent storage but contains [1, 2, 3] which is of type list.\n",
            "  warnings.warn(message)\n",
            "/usr/local/lib/python3.10/dist-packages/Seance/Forecaster.py:145: FutureWarning: Not prepending group keys to the result index of transform-like apply. In the future, the group keys will be included in the index, regardless of whether the applied function returns a like-indexed object.\n",
            "To preserve the previous behavior, use\n",
            "\n",
            "\t>>> .groupby(..., group_keys=False)\n",
            "\n",
            "To adopt the future behavior and silence this warning, use \n",
            "\n",
            "\t>>> .groupby(..., group_keys=True)\n",
            "  basis = self.processed_df.groupby('Seance ID')[target_column].apply(self.linear_basis)\n",
            "/usr/local/lib/python3.10/dist-packages/mlforecast/core.py:151: UserWarning: The differences argument is deprecated and will be removed in a future version.\n",
            "Please pass an `mlforecast.target_transforms.Differences` instance to the `target_transforms` argument instead.\n",
            "  warnings.warn(\n"
          ]
        },
        {
          "output_type": "stream",
          "name": "stdout",
          "text": [
            "[LightGBM] [Warning] feature_fraction is set=0.6168924852381056, colsample_bytree=1.0 will be ignored. Current value: feature_fraction=0.6168924852381056\n",
            "[LightGBM] [Warning] lambda_l1 is set=0.43930835234512866, reg_alpha=0.0 will be ignored. Current value: lambda_l1=0.43930835234512866\n",
            "[LightGBM] [Warning] num_threads is set=1, n_jobs=-1 will be ignored. Current value: num_threads=1\n",
            "[LightGBM] [Warning] bagging_fraction is set=0.6990277197551829, subsample=1.0 will be ignored. Current value: bagging_fraction=0.6990277197551829\n",
            "[LightGBM] [Warning] lambda_l2 is set=3.796537723649033, reg_lambda=0.0 will be ignored. Current value: lambda_l2=3.796537723649033\n",
            "[LightGBM] [Warning] bagging_freq is set=13, subsample_freq=0 will be ignored. Current value: bagging_freq=13\n"
          ]
        },
        {
          "output_type": "stream",
          "name": "stderr",
          "text": [
            "/usr/local/lib/python3.10/dist-packages/Seance/Forecaster.py:227: FutureWarning: Not prepending group keys to the result index of transform-like apply. In the future, the group keys will be included in the index, regardless of whether the applied function returns a like-indexed object.\n",
            "To preserve the previous behavior, use\n",
            "\n",
            "\t>>> .groupby(..., group_keys=False)\n",
            "\n",
            "To adopt the future behavior and silence this warning, use \n",
            "\n",
            "\t>>> .groupby(..., group_keys=True)\n",
            "  basis = pred_X.groupby('Seance ID').apply(self.future_linear_basis)\n"
          ]
        },
        {
          "output_type": "stream",
          "name": "stdout",
          "text": [
            "Predicted not the same size as test set\n"
          ]
        },
        {
          "output_type": "stream",
          "name": "stderr",
          "text": [
            "/usr/local/lib/python3.10/dist-packages/Seance/Optimizer.py:105: SettingWithCopyWarning: \n",
            "A value is trying to be set on a copy of a slice from a DataFrame.\n",
            "Try using .loc[row_indexer,col_indexer] = value instead\n",
            "\n",
            "See the caveats in the documentation: https://pandas.pydata.org/pandas-docs/stable/user_guide/indexing.html#returning-a-view-versus-a-copy\n",
            "  self.test_df[self.date_column] = self.test_df[self.date_column].dt.tz_localize(None)\n",
            "[I 2023-07-25 14:37:11,800] Trial 44 finished with value: 12.824735644765289 and parameters: {'n_estimators': 79, 'lambda_l1': 0.43930835234512866, 'lambda_l2': 3.796537723649033, 'num_leaves': 388, 'feature_fraction': 0.6168924852381056, 'bagging_fraction': 0.6990277197551829, 'bagging_freq': 13, 'min_child_samples': 11, 'use_id': True, 'objective': 'regression_l1', 'n_basis': 3, 'differences': 1, 'decay': 0.75, 'scale_type': 'none', 'lags': [1, 2, 3]}. Best is trial 44 with value: 12.824735644765289.\n",
            "/usr/local/lib/python3.10/dist-packages/optuna/distributions.py:524: UserWarning: Choices for a categorical distribution should be a tuple of None, bool, int, float and str for persistent storage but contains [1, 2, 3] which is of type list.\n",
            "  warnings.warn(message)\n",
            "/usr/local/lib/python3.10/dist-packages/Seance/Builder/PreProcess.py:81: FutureWarning: Not prepending group keys to the result index of transform-like apply. In the future, the group keys will be included in the index, regardless of whether the applied function returns a like-indexed object.\n",
            "To preserve the previous behavior, use\n",
            "\n",
            "\t>>> .groupby(..., group_keys=False)\n",
            "\n",
            "To adopt the future behavior and silence this warning, use \n",
            "\n",
            "\t>>> .groupby(..., group_keys=True)\n",
            "  df = df.groupby('Seance ID').apply(self.trans)\n",
            "/usr/local/lib/python3.10/dist-packages/Seance/Forecaster.py:145: FutureWarning: Not prepending group keys to the result index of transform-like apply. In the future, the group keys will be included in the index, regardless of whether the applied function returns a like-indexed object.\n",
            "To preserve the previous behavior, use\n",
            "\n",
            "\t>>> .groupby(..., group_keys=False)\n",
            "\n",
            "To adopt the future behavior and silence this warning, use \n",
            "\n",
            "\t>>> .groupby(..., group_keys=True)\n",
            "  basis = self.processed_df.groupby('Seance ID')[target_column].apply(self.linear_basis)\n",
            "/usr/local/lib/python3.10/dist-packages/mlforecast/core.py:151: UserWarning: The differences argument is deprecated and will be removed in a future version.\n",
            "Please pass an `mlforecast.target_transforms.Differences` instance to the `target_transforms` argument instead.\n",
            "  warnings.warn(\n"
          ]
        },
        {
          "output_type": "stream",
          "name": "stdout",
          "text": [
            "[LightGBM] [Warning] feature_fraction is set=0.6537554582664945, colsample_bytree=1.0 will be ignored. Current value: feature_fraction=0.6537554582664945\n",
            "[LightGBM] [Warning] lambda_l1 is set=0.5478210647846218, reg_alpha=0.0 will be ignored. Current value: lambda_l1=0.5478210647846218\n",
            "[LightGBM] [Warning] num_threads is set=1, n_jobs=-1 will be ignored. Current value: num_threads=1\n",
            "[LightGBM] [Warning] bagging_fraction is set=0.6991373944374034, subsample=1.0 will be ignored. Current value: bagging_fraction=0.6991373944374034\n",
            "[LightGBM] [Warning] lambda_l2 is set=3.603117395605788, reg_lambda=0.0 will be ignored. Current value: lambda_l2=3.603117395605788\n",
            "[LightGBM] [Warning] bagging_freq is set=13, subsample_freq=0 will be ignored. Current value: bagging_freq=13\n"
          ]
        },
        {
          "output_type": "stream",
          "name": "stderr",
          "text": [
            "/usr/local/lib/python3.10/dist-packages/Seance/Forecaster.py:227: FutureWarning: Not prepending group keys to the result index of transform-like apply. In the future, the group keys will be included in the index, regardless of whether the applied function returns a like-indexed object.\n",
            "To preserve the previous behavior, use\n",
            "\n",
            "\t>>> .groupby(..., group_keys=False)\n",
            "\n",
            "To adopt the future behavior and silence this warning, use \n",
            "\n",
            "\t>>> .groupby(..., group_keys=True)\n",
            "  basis = pred_X.groupby('Seance ID').apply(self.future_linear_basis)\n",
            "/usr/local/lib/python3.10/dist-packages/Seance/Forecaster.py:239: FutureWarning: Not prepending group keys to the result index of transform-like apply. In the future, the group keys will be included in the index, regardless of whether the applied function returns a like-indexed object.\n",
            "To preserve the previous behavior, use\n",
            "\n",
            "\t>>> .groupby(..., group_keys=False)\n",
            "\n",
            "To adopt the future behavior and silence this warning, use \n",
            "\n",
            "\t>>> .groupby(..., group_keys=True)\n",
            "  predicted = predicted.groupby('Seance ID').apply(self.inverse_transform)\n"
          ]
        },
        {
          "output_type": "stream",
          "name": "stdout",
          "text": [
            "Predicted not the same size as test set\n"
          ]
        },
        {
          "output_type": "stream",
          "name": "stderr",
          "text": [
            "/usr/local/lib/python3.10/dist-packages/Seance/Optimizer.py:105: SettingWithCopyWarning: \n",
            "A value is trying to be set on a copy of a slice from a DataFrame.\n",
            "Try using .loc[row_indexer,col_indexer] = value instead\n",
            "\n",
            "See the caveats in the documentation: https://pandas.pydata.org/pandas-docs/stable/user_guide/indexing.html#returning-a-view-versus-a-copy\n",
            "  self.test_df[self.date_column] = self.test_df[self.date_column].dt.tz_localize(None)\n",
            "[I 2023-07-25 14:39:31,908] Trial 45 finished with value: 13.843822103281356 and parameters: {'n_estimators': 79, 'lambda_l1': 0.5478210647846218, 'lambda_l2': 3.603117395605788, 'num_leaves': 401, 'feature_fraction': 0.6537554582664945, 'bagging_fraction': 0.6991373944374034, 'bagging_freq': 13, 'min_child_samples': 12, 'use_id': True, 'objective': 'regression_l1', 'n_basis': 3, 'differences': 1, 'decay': 0.75, 'scale_type': 'standard', 'lags': [1, 2, 3]}. Best is trial 44 with value: 12.824735644765289.\n",
            "/usr/local/lib/python3.10/dist-packages/optuna/distributions.py:524: UserWarning: Choices for a categorical distribution should be a tuple of None, bool, int, float and str for persistent storage but contains [1, 2, 3] which is of type list.\n",
            "  warnings.warn(message)\n",
            "/usr/local/lib/python3.10/dist-packages/Seance/Builder/PreProcess.py:81: FutureWarning: Not prepending group keys to the result index of transform-like apply. In the future, the group keys will be included in the index, regardless of whether the applied function returns a like-indexed object.\n",
            "To preserve the previous behavior, use\n",
            "\n",
            "\t>>> .groupby(..., group_keys=False)\n",
            "\n",
            "To adopt the future behavior and silence this warning, use \n",
            "\n",
            "\t>>> .groupby(..., group_keys=True)\n",
            "  df = df.groupby('Seance ID').apply(self.trans)\n"
          ]
        },
        {
          "output_type": "stream",
          "name": "stdout",
          "text": [
            "[LightGBM] [Warning] feature_fraction is set=0.6184510887320837, colsample_bytree=1.0 will be ignored. Current value: feature_fraction=0.6184510887320837\n",
            "[LightGBM] [Warning] lambda_l1 is set=2.1228639704175127, reg_alpha=0.0 will be ignored. Current value: lambda_l1=2.1228639704175127\n",
            "[LightGBM] [Warning] num_threads is set=1, n_jobs=-1 will be ignored. Current value: num_threads=1\n",
            "[LightGBM] [Warning] bagging_fraction is set=0.7523382996024329, subsample=1.0 will be ignored. Current value: bagging_fraction=0.7523382996024329\n",
            "[LightGBM] [Warning] lambda_l2 is set=4.725535754544596, reg_lambda=0.0 will be ignored. Current value: lambda_l2=4.725535754544596\n",
            "[LightGBM] [Warning] bagging_freq is set=14, subsample_freq=0 will be ignored. Current value: bagging_freq=14\n"
          ]
        },
        {
          "output_type": "stream",
          "name": "stderr",
          "text": [
            "/usr/local/lib/python3.10/dist-packages/Seance/Forecaster.py:239: FutureWarning: Not prepending group keys to the result index of transform-like apply. In the future, the group keys will be included in the index, regardless of whether the applied function returns a like-indexed object.\n",
            "To preserve the previous behavior, use\n",
            "\n",
            "\t>>> .groupby(..., group_keys=False)\n",
            "\n",
            "To adopt the future behavior and silence this warning, use \n",
            "\n",
            "\t>>> .groupby(..., group_keys=True)\n",
            "  predicted = predicted.groupby('Seance ID').apply(self.inverse_transform)\n"
          ]
        },
        {
          "output_type": "stream",
          "name": "stdout",
          "text": [
            "Predicted not the same size as test set\n"
          ]
        },
        {
          "output_type": "stream",
          "name": "stderr",
          "text": [
            "/usr/local/lib/python3.10/dist-packages/Seance/Optimizer.py:105: SettingWithCopyWarning: \n",
            "A value is trying to be set on a copy of a slice from a DataFrame.\n",
            "Try using .loc[row_indexer,col_indexer] = value instead\n",
            "\n",
            "See the caveats in the documentation: https://pandas.pydata.org/pandas-docs/stable/user_guide/indexing.html#returning-a-view-versus-a-copy\n",
            "  self.test_df[self.date_column] = self.test_df[self.date_column].dt.tz_localize(None)\n",
            "[I 2023-07-25 14:41:10,831] Trial 46 finished with value: 14.122724900990406 and parameters: {'n_estimators': 85, 'lambda_l1': 2.1228639704175127, 'lambda_l2': 4.725535754544596, 'num_leaves': 456, 'feature_fraction': 0.6184510887320837, 'bagging_fraction': 0.7523382996024329, 'bagging_freq': 14, 'min_child_samples': 1, 'use_id': True, 'objective': 'regression_l1', 'n_basis': 0, 'differences': None, 'decay': 0.75, 'scale_type': 'log', 'lags': [1, 2, 3]}. Best is trial 44 with value: 12.824735644765289.\n",
            "/usr/local/lib/python3.10/dist-packages/optuna/distributions.py:524: UserWarning: Choices for a categorical distribution should be a tuple of None, bool, int, float and str for persistent storage but contains [1, 2, 3] which is of type list.\n",
            "  warnings.warn(message)\n",
            "/usr/local/lib/python3.10/dist-packages/Seance/Forecaster.py:145: FutureWarning: Not prepending group keys to the result index of transform-like apply. In the future, the group keys will be included in the index, regardless of whether the applied function returns a like-indexed object.\n",
            "To preserve the previous behavior, use\n",
            "\n",
            "\t>>> .groupby(..., group_keys=False)\n",
            "\n",
            "To adopt the future behavior and silence this warning, use \n",
            "\n",
            "\t>>> .groupby(..., group_keys=True)\n",
            "  basis = self.processed_df.groupby('Seance ID')[target_column].apply(self.linear_basis)\n",
            "/usr/local/lib/python3.10/dist-packages/mlforecast/core.py:151: UserWarning: The differences argument is deprecated and will be removed in a future version.\n",
            "Please pass an `mlforecast.target_transforms.Differences` instance to the `target_transforms` argument instead.\n",
            "  warnings.warn(\n"
          ]
        },
        {
          "output_type": "stream",
          "name": "stdout",
          "text": [
            "[LightGBM] [Warning] feature_fraction is set=0.6873098841759036, colsample_bytree=1.0 will be ignored. Current value: feature_fraction=0.6873098841759036\n",
            "[LightGBM] [Warning] lambda_l1 is set=1.0861428535754547, reg_alpha=0.0 will be ignored. Current value: lambda_l1=1.0861428535754547\n",
            "[LightGBM] [Warning] num_threads is set=1, n_jobs=-1 will be ignored. Current value: num_threads=1\n",
            "[LightGBM] [Warning] bagging_fraction is set=0.6904377725487159, subsample=1.0 will be ignored. Current value: bagging_fraction=0.6904377725487159\n",
            "[LightGBM] [Warning] lambda_l2 is set=3.0051416258745003, reg_lambda=0.0 will be ignored. Current value: lambda_l2=3.0051416258745003\n",
            "[LightGBM] [Warning] bagging_freq is set=13, subsample_freq=0 will be ignored. Current value: bagging_freq=13\n"
          ]
        },
        {
          "output_type": "stream",
          "name": "stderr",
          "text": [
            "/usr/local/lib/python3.10/dist-packages/Seance/Forecaster.py:227: FutureWarning: Not prepending group keys to the result index of transform-like apply. In the future, the group keys will be included in the index, regardless of whether the applied function returns a like-indexed object.\n",
            "To preserve the previous behavior, use\n",
            "\n",
            "\t>>> .groupby(..., group_keys=False)\n",
            "\n",
            "To adopt the future behavior and silence this warning, use \n",
            "\n",
            "\t>>> .groupby(..., group_keys=True)\n",
            "  basis = pred_X.groupby('Seance ID').apply(self.future_linear_basis)\n"
          ]
        },
        {
          "output_type": "stream",
          "name": "stdout",
          "text": [
            "Predicted not the same size as test set\n"
          ]
        },
        {
          "output_type": "stream",
          "name": "stderr",
          "text": [
            "/usr/local/lib/python3.10/dist-packages/Seance/Optimizer.py:105: SettingWithCopyWarning: \n",
            "A value is trying to be set on a copy of a slice from a DataFrame.\n",
            "Try using .loc[row_indexer,col_indexer] = value instead\n",
            "\n",
            "See the caveats in the documentation: https://pandas.pydata.org/pandas-docs/stable/user_guide/indexing.html#returning-a-view-versus-a-copy\n",
            "  self.test_df[self.date_column] = self.test_df[self.date_column].dt.tz_localize(None)\n",
            "[I 2023-07-25 14:41:59,548] Trial 47 finished with value: 13.438556045198798 and parameters: {'n_estimators': 50, 'lambda_l1': 1.0861428535754547, 'lambda_l2': 3.0051416258745003, 'num_leaves': 404, 'feature_fraction': 0.6873098841759036, 'bagging_fraction': 0.6904377725487159, 'bagging_freq': 13, 'min_child_samples': 23, 'use_id': True, 'objective': 'regression', 'n_basis': 2, 'differences': 1, 'decay': 0.75, 'scale_type': 'none', 'lags': [1, 2, 3]}. Best is trial 44 with value: 12.824735644765289.\n",
            "/usr/local/lib/python3.10/dist-packages/optuna/distributions.py:524: UserWarning: Choices for a categorical distribution should be a tuple of None, bool, int, float and str for persistent storage but contains [1, 2, 3] which is of type list.\n",
            "  warnings.warn(message)\n",
            "[I 2023-07-25 14:42:45,126] Trial 48 finished with value: inf and parameters: {'n_estimators': 101, 'lambda_l1': 0.42961426103209527, 'lambda_l2': 3.8566584311918577, 'num_leaves': 371, 'feature_fraction': 0.6470642743505375, 'bagging_fraction': 0.7204900185056311, 'bagging_freq': 11, 'min_child_samples': 15, 'use_id': True, 'objective': 'regression_l1', 'n_basis': 4, 'differences': 1, 'decay': 0.25, 'scale_type': 'robust_boxcox', 'lags': [1, 2, 3]}. Best is trial 44 with value: 12.824735644765289.\n"
          ]
        },
        {
          "output_type": "stream",
          "name": "stdout",
          "text": [
            "ERROR WHILE TUNING: Data must not be constant.\n"
          ]
        },
        {
          "output_type": "stream",
          "name": "stderr",
          "text": [
            "/usr/local/lib/python3.10/dist-packages/optuna/distributions.py:524: UserWarning: Choices for a categorical distribution should be a tuple of None, bool, int, float and str for persistent storage but contains [1, 2, 3] which is of type list.\n",
            "  warnings.warn(message)\n",
            "/usr/local/lib/python3.10/dist-packages/Seance/Forecaster.py:145: FutureWarning: Not prepending group keys to the result index of transform-like apply. In the future, the group keys will be included in the index, regardless of whether the applied function returns a like-indexed object.\n",
            "To preserve the previous behavior, use\n",
            "\n",
            "\t>>> .groupby(..., group_keys=False)\n",
            "\n",
            "To adopt the future behavior and silence this warning, use \n",
            "\n",
            "\t>>> .groupby(..., group_keys=True)\n",
            "  basis = self.processed_df.groupby('Seance ID')[target_column].apply(self.linear_basis)\n",
            "/usr/local/lib/python3.10/dist-packages/mlforecast/core.py:151: UserWarning: The differences argument is deprecated and will be removed in a future version.\n",
            "Please pass an `mlforecast.target_transforms.Differences` instance to the `target_transforms` argument instead.\n",
            "  warnings.warn(\n"
          ]
        },
        {
          "output_type": "stream",
          "name": "stdout",
          "text": [
            "[LightGBM] [Warning] lambda_l1 is set=1.5955442892584042, reg_alpha=0.0 will be ignored. Current value: lambda_l1=1.5955442892584042\n",
            "[LightGBM] [Warning] num_threads is set=1, n_jobs=-1 will be ignored. Current value: num_threads=1\n",
            "[LightGBM] [Warning] bagging_fraction is set=0.6795300404460527, subsample=1.0 will be ignored. Current value: bagging_fraction=0.6795300404460527\n",
            "[LightGBM] [Warning] lambda_l2 is set=3.165341688144353, reg_lambda=0.0 will be ignored. Current value: lambda_l2=3.165341688144353\n",
            "[LightGBM] [Warning] feature_fraction is set=0.6202437727019778, colsample_bytree=1.0 will be ignored. Current value: feature_fraction=0.6202437727019778\n",
            "[LightGBM] [Warning] bagging_freq is set=14, subsample_freq=0 will be ignored. Current value: bagging_freq=14\n"
          ]
        },
        {
          "output_type": "stream",
          "name": "stderr",
          "text": [
            "/usr/local/lib/python3.10/dist-packages/Seance/Forecaster.py:227: FutureWarning: Not prepending group keys to the result index of transform-like apply. In the future, the group keys will be included in the index, regardless of whether the applied function returns a like-indexed object.\n",
            "To preserve the previous behavior, use\n",
            "\n",
            "\t>>> .groupby(..., group_keys=False)\n",
            "\n",
            "To adopt the future behavior and silence this warning, use \n",
            "\n",
            "\t>>> .groupby(..., group_keys=True)\n",
            "  basis = pred_X.groupby('Seance ID').apply(self.future_linear_basis)\n"
          ]
        },
        {
          "output_type": "stream",
          "name": "stdout",
          "text": [
            "Predicted not the same size as test set\n"
          ]
        },
        {
          "output_type": "stream",
          "name": "stderr",
          "text": [
            "/usr/local/lib/python3.10/dist-packages/Seance/Optimizer.py:105: SettingWithCopyWarning: \n",
            "A value is trying to be set on a copy of a slice from a DataFrame.\n",
            "Try using .loc[row_indexer,col_indexer] = value instead\n",
            "\n",
            "See the caveats in the documentation: https://pandas.pydata.org/pandas-docs/stable/user_guide/indexing.html#returning-a-view-versus-a-copy\n",
            "  self.test_df[self.date_column] = self.test_df[self.date_column].dt.tz_localize(None)\n",
            "[I 2023-07-25 14:43:29,555] Trial 49 finished with value: 16.993198358345616 and parameters: {'n_estimators': 106, 'lambda_l1': 1.5955442892584042, 'lambda_l2': 3.165341688144353, 'num_leaves': 441, 'feature_fraction': 0.6202437727019778, 'bagging_fraction': 0.6795300404460527, 'bagging_freq': 14, 'min_child_samples': 5, 'use_id': False, 'objective': 'regression_l1', 'n_basis': 2, 'differences': 1, 'decay': 0.75, 'scale_type': 'none', 'lags': [1, 2, 3]}. Best is trial 44 with value: 12.824735644765289.\n"
          ]
        },
        {
          "output_type": "stream",
          "name": "stdout",
          "text": [
            "8740.788847637\n"
          ]
        }
      ]
    },
    {
      "cell_type": "code",
      "source": [
        "seance = Forecaster(floor=0)\n",
        "seance.fit(yearly_train[['V', 'Datetime', 'ID']],\n",
        "           target_column='V',\n",
        "           date_column='Datetime',\n",
        "           id_column='ID',\n",
        "           freq='W',\n",
        "           **best_params\n",
        "           )\n",
        "\n",
        "predicted = seance.predict(6)"
      ],
      "metadata": {
        "colab": {
          "base_uri": "https://localhost:8080/"
        },
        "id": "CXzA6uok-p8W",
        "outputId": "582912f7-1613-4757-9a14-f1e6cdc55f2d"
      },
      "execution_count": 8,
      "outputs": [
        {
          "output_type": "stream",
          "name": "stderr",
          "text": [
            "/usr/local/lib/python3.10/dist-packages/Seance/Forecaster.py:145: FutureWarning: Not prepending group keys to the result index of transform-like apply. In the future, the group keys will be included in the index, regardless of whether the applied function returns a like-indexed object.\n",
            "To preserve the previous behavior, use\n",
            "\n",
            "\t>>> .groupby(..., group_keys=False)\n",
            "\n",
            "To adopt the future behavior and silence this warning, use \n",
            "\n",
            "\t>>> .groupby(..., group_keys=True)\n",
            "  basis = self.processed_df.groupby('Seance ID')[target_column].apply(self.linear_basis)\n",
            "/usr/local/lib/python3.10/dist-packages/mlforecast/core.py:151: UserWarning: The differences argument is deprecated and will be removed in a future version.\n",
            "Please pass an `mlforecast.target_transforms.Differences` instance to the `target_transforms` argument instead.\n",
            "  warnings.warn(\n"
          ]
        },
        {
          "output_type": "stream",
          "name": "stdout",
          "text": [
            "[LightGBM] [Warning] feature_fraction is set=0.6168924852381056, colsample_bytree=1.0 will be ignored. Current value: feature_fraction=0.6168924852381056\n",
            "[LightGBM] [Warning] lambda_l1 is set=0.43930835234512866, reg_alpha=0.0 will be ignored. Current value: lambda_l1=0.43930835234512866\n",
            "[LightGBM] [Warning] num_threads is set=1, n_jobs=-1 will be ignored. Current value: num_threads=1\n",
            "[LightGBM] [Warning] bagging_fraction is set=0.6990277197551829, subsample=1.0 will be ignored. Current value: bagging_fraction=0.6990277197551829\n",
            "[LightGBM] [Warning] lambda_l2 is set=3.796537723649033, reg_lambda=0.0 will be ignored. Current value: lambda_l2=3.796537723649033\n",
            "[LightGBM] [Warning] bagging_freq is set=13, subsample_freq=0 will be ignored. Current value: bagging_freq=13\n"
          ]
        },
        {
          "output_type": "stream",
          "name": "stderr",
          "text": [
            "/usr/local/lib/python3.10/dist-packages/Seance/Forecaster.py:227: FutureWarning: Not prepending group keys to the result index of transform-like apply. In the future, the group keys will be included in the index, regardless of whether the applied function returns a like-indexed object.\n",
            "To preserve the previous behavior, use\n",
            "\n",
            "\t>>> .groupby(..., group_keys=False)\n",
            "\n",
            "To adopt the future behavior and silence this warning, use \n",
            "\n",
            "\t>>> .groupby(..., group_keys=True)\n",
            "  basis = pred_X.groupby('Seance ID').apply(self.future_linear_basis)\n"
          ]
        }
      ]
    },
    {
      "cell_type": "code",
      "source": [
        "predicted['sort_id'] = predicted['ID'].str[1:].astype(int)\n",
        "predicted = predicted.sort_values(['sort_id', 'Datetime'])\n",
        "predicted = predicted.merge(yearly_test, on=['ID', 'Datetime'])\n",
        "import numpy as np\n",
        "def smape(A, F):\n",
        "    return 100/len(A) * np.sum(2 * np.abs(F - A) / (0.0001 + (np.abs(A) + np.abs(F))))\n",
        "def grouped_smape(df):\n",
        "    return smape(df['V'], df['LGBMRegressor'])\n",
        "test = predicted.groupby('ID').apply(grouped_smape)\n",
        "print(np.mean(test))"
      ],
      "metadata": {
        "colab": {
          "base_uri": "https://localhost:8080/"
        },
        "id": "9AX0ntUXElrD",
        "outputId": "758d7bf0-4844-469e-e0d7-a147d1e83129"
      },
      "execution_count": 9,
      "outputs": [
        {
          "output_type": "stream",
          "name": "stdout",
          "text": [
            "13.40759261635573\n"
          ]
        }
      ]
    },
    {
      "cell_type": "code",
      "source": [
        "print(best_params)"
      ],
      "metadata": {
        "colab": {
          "base_uri": "https://localhost:8080/"
        },
        "id": "jNVj_kcRFgAf",
        "outputId": "406e2d14-0e69-4b79-efc0-98ae8ca23c32"
      },
      "execution_count": 10,
      "outputs": [
        {
          "output_type": "stream",
          "name": "stdout",
          "text": [
            "{'n_estimators': 79, 'lambda_l1': 0.43930835234512866, 'lambda_l2': 3.796537723649033, 'num_leaves': 388, 'feature_fraction': 0.6168924852381056, 'bagging_fraction': 0.6990277197551829, 'bagging_freq': 13, 'min_child_samples': 11, 'use_id': True, 'objective': 'regression_l1', 'n_basis': 3, 'differences': 1, 'decay': 0.75, 'scale_type': 'none', 'lags': [1, 2, 3]}\n"
          ]
        }
      ]
    },
    {
      "cell_type": "code",
      "source": [],
      "metadata": {
        "id": "Ageh79HBMIcd"
      },
      "execution_count": null,
      "outputs": []
    }
  ]
}